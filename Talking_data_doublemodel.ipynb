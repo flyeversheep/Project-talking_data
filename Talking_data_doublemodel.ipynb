{
 "cells": [
  {
   "cell_type": "code",
   "execution_count": 2,
   "metadata": {
    "collapsed": false
   },
   "outputs": [
    {
     "name": "stderr",
     "output_type": "stream",
     "text": [
      "Using Theano backend.\n"
     ]
    }
   ],
   "source": [
    "import pandas as pd\n",
    "import numpy as np\n",
    "from sklearn.preprocessing import LabelEncoder,StandardScaler\n",
    "from sklearn.ensemble import RandomForestClassifier as rfc\n",
    "from sklearn import cross_validation as cv\n",
    "from sklearn.linear_model import LogisticRegression\n",
    "from sklearn.metrics import log_loss,accuracy_score\n",
    "from scipy.sparse import csr_matrix,hstack,vstack\n",
    "import time\n",
    "from keras.models import Sequential\n",
    "from keras.layers import Dense, Dropout, Activation\n",
    "from keras.utils import np_utils\n",
    "from keras.optimizers import SGD,RMSprop\n",
    "from sklearn.feature_selection import SelectPercentile, f_classif, chi2, SelectKBest\n",
    "from sklearn.cross_validation import StratifiedKFold,KFold\n",
    "from sklearn.naive_bayes import MultinomialNB\n",
    "from sklearn.grid_search import GridSearchCV\n",
    "import xgboost as xgb\n",
    "seed = 7\n",
    "np.random.seed(seed)"
   ]
  },
  {
   "cell_type": "code",
   "execution_count": 3,
   "metadata": {
    "collapsed": false
   },
   "outputs": [],
   "source": [
    "events = pd.read_csv('input/events.csv',index_col='event_id')\n",
    "label = pd.read_csv('input/label_categories.csv')\n",
    "app_event = pd.read_csv('input/app_events.csv')\n",
    "app_label = pd.read_csv('input/app_labels.csv')\n",
    "device = pd.read_csv('input/phone_brand_device_model.csv')\n",
    "device = device.drop_duplicates('device_id').set_index('device_id')\n",
    "gender_age_train = pd.read_csv('input/gender_age_train.csv',index_col = 'device_id')\n",
    "gender_age_test = pd.read_csv('input/gender_age_test.csv',index_col = 'device_id')"
   ]
  },
  {
   "cell_type": "markdown",
   "metadata": {},
   "source": [
    "For the convinience of creating sparse matrix, we create another integer index for the training and testing set."
   ]
  },
  {
   "cell_type": "code",
   "execution_count": 4,
   "metadata": {
    "collapsed": false
   },
   "outputs": [
    {
     "name": "stdout",
     "output_type": "stream",
     "text": [
      "gender_age_train\n",
      "                      gender  age   group\n",
      "device_id                               \n",
      "-8076087639492063270      M   35  M32-38\n",
      "\n",
      "gender_age_test\n",
      " Empty DataFrame\n",
      "Columns: []\n",
      "Index: [1002079943728939269]\n",
      "\n",
      "device\n",
      "                      phone_brand device_model\n",
      "device_id                                    \n",
      "-8890648629457979026          小米           红米\n",
      "\n",
      "events\n",
      "                   device_id            timestamp  longitude  latitude\n",
      "event_id                                                             \n",
      "1         29182687948017175  2016-05-01 00:55:25     121.38     31.24\n",
      "\n",
      "label\n",
      "    label_id category\n",
      "0         1      NaN\n",
      "\n",
      "app_event\n",
      "    event_id               app_id  is_installed  is_active\n",
      "0         2  5927333115845830913             1          1\n",
      "\n",
      "app_label\n",
      "                 app_id  label_id\n",
      "0  7324884708820027918       251\n"
     ]
    }
   ],
   "source": [
    "print('gender_age_train\\n',gender_age_train.head(1))\n",
    "print('\\ngender_age_test\\n',gender_age_test.head(1))\n",
    "print('\\ndevice\\n',device.head(1))\n",
    "print('\\nevents\\n',events.head(1))\n",
    "print('\\nlabel\\n',label.head(1))\n",
    "print('\\napp_event\\n',app_event.head(1))\n",
    "print('\\napp_label\\n',app_label.head(1))"
   ]
  },
  {
   "cell_type": "markdown",
   "metadata": {},
   "source": [
    "# Separation of two set of devices: with events and without events"
   ]
  },
  {
   "cell_type": "code",
   "execution_count": 5,
   "metadata": {
    "collapsed": false
   },
   "outputs": [
    {
     "name": "stdout",
     "output_type": "stream",
     "text": [
      "Size of training set without events:    51336\n",
      "Size of training set with events:       23309\n",
      "Total size of training set:             74645\n",
      "Size of testing set without events:     76877\n",
      "Size of training set with events:       35194\n",
      "Total size of training set:             112071\n"
     ]
    }
   ],
   "source": [
    "gender_age_train_with = gender_age_train.loc[gender_age_train.index.isin(events.device_id.unique())].copy()\n",
    "gender_age_train_without = gender_age_train.loc[~gender_age_train.index.isin(events.device_id.unique())].copy()\n",
    "gender_age_test_with = gender_age_test.loc[gender_age_test.index.isin(events.device_id.unique())].copy()\n",
    "gender_age_test_without = gender_age_test.loc[~gender_age_test.index.isin(events.device_id.unique())].copy()\n",
    "print('{0:<40.40}{1:5}'.format('Size of training set without events:',gender_age_train_without.shape[0]))\n",
    "print('{0:<40.40}{1:5}'.format('Size of training set with events:',gender_age_train_with.shape[0]))\n",
    "print('{0:<40.40}{1:5}'.format('Total size of training set:',gender_age_train.shape[0]))\n",
    "print('{0:<40.40}{1:5}'.format('Size of testing set without events:',gender_age_test_without.shape[0]))\n",
    "print('{0:<40.40}{1:5}'.format('Size of training set with events:',gender_age_test_with.shape[0]))\n",
    "print('{0:<40.40}{1:5}'.format('Total size of training set:',gender_age_test.shape[0]))"
   ]
  },
  {
   "cell_type": "code",
   "execution_count": 6,
   "metadata": {
    "collapsed": true
   },
   "outputs": [],
   "source": [
    "gender_age_train_with['int_index'] = np.arange(gender_age_train_with.shape[0])\n",
    "gender_age_test_with['int_index'] = np.arange(gender_age_test_with.shape[0])\n",
    "gender_age_train_without['int_index'] = np.arange(gender_age_train_without.shape[0])\n",
    "gender_age_test_without['int_index'] = np.arange(gender_age_test_without.shape[0])"
   ]
  },
  {
   "cell_type": "markdown",
   "metadata": {},
   "source": [
    "# Feature engineering I: phone brand"
   ]
  },
  {
   "cell_type": "markdown",
   "metadata": {},
   "source": [
    "Encoding the phone brand, and feed this as a feature into the training and testing test."
   ]
  },
  {
   "cell_type": "code",
   "execution_count": 7,
   "metadata": {
    "collapsed": false
   },
   "outputs": [],
   "source": [
    "encoder = LabelEncoder()\n",
    "encoder.fit(device.phone_brand)\n",
    "device['brand'] = encoder.transform(device.phone_brand)\n",
    "gender_age_train_with['brand'] = device['brand']\n",
    "gender_age_test_with['brand'] = device['brand']\n",
    "gender_age_train_without['brand'] = device['brand']\n",
    "gender_age_test_without['brand'] = device['brand']\n",
    "brandnumber = len(encoder.classes_)"
   ]
  },
  {
   "cell_type": "markdown",
   "metadata": {},
   "source": [
    "Create sparse matrix with each row representing one device and each column representing one brand"
   ]
  },
  {
   "cell_type": "code",
   "execution_count": 8,
   "metadata": {
    "collapsed": false
   },
   "outputs": [
    {
     "name": "stdout",
     "output_type": "stream",
     "text": [
      "X_train_brand_with shape: (23309, 131)\n",
      "X_test_brand_with shape: (35194, 131)\n",
      "X_train_brand_without shape: (51336, 131)\n",
      "X_test_brand_without shape: (76877, 131)\n"
     ]
    }
   ],
   "source": [
    "X_train_brand_with = csr_matrix((np.ones(gender_age_train_with.shape[0]),\n",
    "                            (gender_age_train_with.int_index,gender_age_train_with.brand)),\n",
    "                               shape = (gender_age_train_with.shape[0],brandnumber))\n",
    "X_test_brand_with = csr_matrix((np.ones(gender_age_test_with.shape[0]),\n",
    "                           (gender_age_test_with.int_index,gender_age_test_with.brand)),\n",
    "                              shape = (gender_age_test_with.shape[0],brandnumber))\n",
    "print('X_train_brand_with shape:',X_train_brand_with.shape)\n",
    "print('X_test_brand_with shape:',X_test_brand_with.shape)\n",
    "X_train_brand_without = csr_matrix((np.ones(gender_age_train_without.shape[0]),\n",
    "                            (gender_age_train_without.int_index,gender_age_train_without.brand)),\n",
    "                                  shape = (gender_age_train_without.shape[0],brandnumber))\n",
    "X_test_brand_without = csr_matrix((np.ones(gender_age_test_without.shape[0]),\n",
    "                           (gender_age_test_without.int_index,gender_age_test_without.brand)),\n",
    "                                 shape = (gender_age_test_without.shape[0],brandnumber))\n",
    "print('X_train_brand_without shape:',X_train_brand_without.shape)\n",
    "print('X_test_brand_without shape:',X_test_brand_without.shape)"
   ]
  },
  {
   "cell_type": "markdown",
   "metadata": {},
   "source": [
    "# Feature engineering II: phone device model"
   ]
  },
  {
   "cell_type": "code",
   "execution_count": 9,
   "metadata": {
    "collapsed": false
   },
   "outputs": [],
   "source": [
    "brand_model = device.phone_brand.str.cat(device.device_model)\n",
    "encoder3 = LabelEncoder()\n",
    "encoder3.fit(brand_model)\n",
    "device['model'] = encoder3.transform(brand_model)\n",
    "gender_age_train_with['model'] = device['model']\n",
    "gender_age_test_with['model'] = device['model']\n",
    "gender_age_train_without['model'] = device['model']\n",
    "gender_age_test_without['model'] = device['model']\n",
    "modelnumber = len(encoder3.classes_)"
   ]
  },
  {
   "cell_type": "code",
   "execution_count": 10,
   "metadata": {
    "collapsed": false
   },
   "outputs": [
    {
     "name": "stdout",
     "output_type": "stream",
     "text": [
      "X_train_brand_with shape: (23309, 1667)\n",
      "X_test_brand_with shape: (35194, 1667)\n",
      "X_train_brand_without shape: (51336, 1667)\n",
      "X_test_brand_without shape: (76877, 1667)\n"
     ]
    }
   ],
   "source": [
    "X_train_model_with = csr_matrix((np.ones(gender_age_train_with.shape[0]),\n",
    "                                 (gender_age_train_with.int_index,gender_age_train_with.model)),\n",
    "                               shape = (gender_age_train_with.shape[0],modelnumber))\n",
    "X_test_model_with = csr_matrix((np.ones(gender_age_test_with.shape[0]),\n",
    "                                (gender_age_test_with.int_index,gender_age_test_with.model)),\n",
    "                              shape = (gender_age_test_with.shape[0],modelnumber))\n",
    "X_train_model_without = csr_matrix((np.ones(gender_age_train_without.shape[0]),\n",
    "                                    (gender_age_train_without.int_index,gender_age_train_without.model)),\n",
    "                                  shape = (gender_age_train_without.shape[0],modelnumber))\n",
    "X_test_model_without = csr_matrix((np.ones(gender_age_test_without.shape[0]),\n",
    "                                   (gender_age_test_without.int_index,gender_age_test_without.model)),\n",
    "                                 shape = (gender_age_test_without.shape[0],modelnumber))\n",
    "\n",
    "print('X_train_brand_with shape:',X_train_model_with.shape)\n",
    "print('X_test_brand_with shape:',X_test_model_with.shape)\n",
    "print('X_train_brand_without shape:',X_train_model_without.shape)\n",
    "print('X_test_brand_without shape:',X_test_model_without.shape)\n",
    "del device,brand_model"
   ]
  },
  {
   "cell_type": "markdown",
   "metadata": {},
   "source": [
    "# Feature engineering III: Installed app"
   ]
  },
  {
   "cell_type": "markdown",
   "metadata": {},
   "source": [
    "Encoding the app_id and store it into app column, and feed this as a feature into the training and testing test."
   ]
  },
  {
   "cell_type": "code",
   "execution_count": 11,
   "metadata": {
    "collapsed": true
   },
   "outputs": [],
   "source": [
    "encoder2 = LabelEncoder()\n",
    "encoder2.fit(app_event.app_id)\n",
    "app_event['app'] = encoder2.transform(app_event.app_id)"
   ]
  },
  {
   "cell_type": "code",
   "execution_count": 12,
   "metadata": {
    "collapsed": false
   },
   "outputs": [
    {
     "data": {
      "text/plain": [
       "array([    0,     1,     2, ..., 19234, 19235, 19236])"
      ]
     },
     "execution_count": 12,
     "metadata": {},
     "output_type": "execute_result"
    }
   ],
   "source": [
    "np.sort(app_event.app.unique())"
   ]
  },
  {
   "cell_type": "code",
   "execution_count": 13,
   "metadata": {
    "collapsed": false
   },
   "outputs": [
    {
     "name": "stdout",
     "output_type": "stream",
     "text": [
      "   event_id               app_id  is_installed  is_active    app\n",
      "0         2  5927333115845830913             1          1  15408\n",
      "                  device_id            timestamp  longitude  latitude\n",
      "event_id                                                             \n",
      "1         29182687948017175  2016-05-01 00:55:25     121.38     31.24\n"
     ]
    }
   ],
   "source": [
    "print(app_event.head(1))\n",
    "print(events.head(1))"
   ]
  },
  {
   "cell_type": "code",
   "execution_count": 14,
   "metadata": {
    "collapsed": false
   },
   "outputs": [
    {
     "name": "stdout",
     "output_type": "stream",
     "text": [
      "             device_id  event_id    app  is_installed\n",
      "0 -6401643145415154744         2  15408             1\n",
      "1 -6401643145415154744         2   3384             1\n",
      "2 -6401643145415154744         2   7620             1\n",
      "3 -6401643145415154744         2   8902             1\n",
      "4 -6401643145415154744         2  18686             1\n"
     ]
    }
   ],
   "source": [
    "installed_app = pd.merge(events[['device_id']],app_event[['event_id','app','is_installed']],\n",
    "                         how='right',right_on = 'event_id',left_index = True)\n",
    "print(installed_app.head())"
   ]
  },
  {
   "cell_type": "code",
   "execution_count": 15,
   "metadata": {
    "collapsed": false
   },
   "outputs": [
    {
     "name": "stdout",
     "output_type": "stream",
     "text": [
      "installed_app_grouped:\n",
      "                           size\n",
      "device_id            app       \n",
      "-9222956879900151005 548     18\n",
      "                     1096    18\n",
      "                     1248    26\n",
      "                     1545    12\n",
      "                     1664    18\n",
      "installed_app_train:\n",
      "                           size  int_index\n",
      "device_id            app                  \n",
      "-9222956879900151005 548     18       5145\n",
      "                     1096    18       5145\n",
      "                     1248    26       5145\n",
      "                     1545    12       5145\n",
      "                     1664    18       5145\n"
     ]
    }
   ],
   "source": [
    "installed_app_grouped = installed_app.groupby(['device_id','app'])['app'].agg(['size'])\n",
    "print('installed_app_grouped:')\n",
    "print(installed_app_grouped.head())\n",
    "installed_app_train_with = pd.merge(installed_app_grouped,gender_age_train_with[['int_index']],\n",
    "                               how = 'right',right_index=True,left_index=True)\n",
    "installed_app_test_with = pd.merge(installed_app_grouped,gender_age_test_with[['int_index']],\n",
    "                              how = 'right',right_index=True,left_index=True)\n",
    "print('installed_app_train:')\n",
    "print(installed_app_train_with.head())"
   ]
  },
  {
   "cell_type": "code",
   "execution_count": 16,
   "metadata": {
    "collapsed": false
   },
   "outputs": [
    {
     "name": "stdout",
     "output_type": "stream",
     "text": [
      "             device_id   app  size  int_index\n",
      "0 -9222956879900151005   548    18       5145\n",
      "1 -9222956879900151005  1096    18       5145\n",
      "2 -9222956879900151005  1248    26       5145\n",
      "3 -9222956879900151005  1545    12       5145\n",
      "4 -9222956879900151005  1664    18       5145\n",
      "             device_id    app  size  int_index\n",
      "0 -9222661944218806987   1867     3       2851\n",
      "1 -9222661944218806987   7519     8       2851\n",
      "2 -9222661944218806987   7843     1       2851\n",
      "3 -9222661944218806987   8704     4       2851\n",
      "4 -9222661944218806987  10000     1       2851\n"
     ]
    }
   ],
   "source": [
    "installed_app_train_with = installed_app_train_with.reset_index()\n",
    "installed_app_test_with = installed_app_test_with.reset_index()\n",
    "installed_app_train_with = installed_app_train_with.dropna(subset=['int_index'])\n",
    "installed_app_test_with = installed_app_test_with.dropna(subset=['int_index'])\n",
    "print(installed_app_train_with.head())\n",
    "print(installed_app_test_with.head())"
   ]
  },
  {
   "cell_type": "markdown",
   "metadata": {},
   "source": [
    "Calculate the number of unique app:"
   ]
  },
  {
   "cell_type": "code",
   "execution_count": 17,
   "metadata": {
    "collapsed": false
   },
   "outputs": [
    {
     "name": "stdout",
     "output_type": "stream",
     "text": [
      "35194\n",
      "915632\n"
     ]
    }
   ],
   "source": [
    "print(gender_age_test_with.shape[0])\n",
    "print(installed_app_train_with.shape[0])"
   ]
  },
  {
   "cell_type": "code",
   "execution_count": 18,
   "metadata": {
    "collapsed": false
   },
   "outputs": [
    {
     "name": "stdout",
     "output_type": "stream",
     "text": [
      "The number of unique apps:\n",
      "19237\n"
     ]
    }
   ],
   "source": [
    "print('The number of unique apps:')\n",
    "print(np.size(installed_app.app.unique()))\n",
    "appnumber = np.size(installed_app.app.unique())"
   ]
  },
  {
   "cell_type": "code",
   "execution_count": 19,
   "metadata": {
    "collapsed": false
   },
   "outputs": [
    {
     "name": "stdout",
     "output_type": "stream",
     "text": [
      "[    0     1     2 ..., 19234 19235 19236]\n",
      "1387337\n"
     ]
    }
   ],
   "source": [
    "print(np.sort(installed_app_train_with.app.unique()))\n",
    "print(installed_app_test_with.shape[0])"
   ]
  },
  {
   "cell_type": "code",
   "execution_count": 20,
   "metadata": {
    "collapsed": false
   },
   "outputs": [
    {
     "name": "stdout",
     "output_type": "stream",
     "text": [
      "X_train_installed shape: (23309, 19237)\n",
      "X_test_installed shape: (35194, 19237)\n"
     ]
    }
   ],
   "source": [
    "X_train_installed_with = csr_matrix((np.ones(installed_app_train_with.shape[0]),\n",
    "                                (installed_app_train_with.int_index,installed_app_train_with.app)), \n",
    "                               shape = (gender_age_train_with.shape[0],appnumber))\n",
    "X_test_installed_with = csr_matrix((np.ones(installed_app_test_with.shape[0]),\n",
    "                               (installed_app_test_with.int_index,installed_app_test_with.app)),\n",
    "                               shape = (gender_age_test_with.shape[0],appnumber))\n",
    "print('X_train_installed shape:',X_train_installed_with.shape)\n",
    "print('X_test_installed shape:',X_test_installed_with.shape)\n",
    "del installed_app_test_with,installed_app_train_with"
   ]
  },
  {
   "cell_type": "markdown",
   "metadata": {},
   "source": [
    "# Feature engineering IV: app label"
   ]
  },
  {
   "cell_type": "code",
   "execution_count": 21,
   "metadata": {
    "collapsed": false
   },
   "outputs": [
    {
     "name": "stdout",
     "output_type": "stream",
     "text": [
      "                app_id  event_id\n",
      "0  5927333115845830913         2\n",
      "                app_id  label_id\n",
      "0  7324884708820027918       251\n"
     ]
    }
   ],
   "source": [
    "print(app_event[['app_id','event_id']].head(1))\n",
    "print(app_label[['app_id','label_id']].head(1))"
   ]
  },
  {
   "cell_type": "code",
   "execution_count": 22,
   "metadata": {
    "collapsed": false
   },
   "outputs": [
    {
     "name": "stdout",
     "output_type": "stream",
     "text": [
      "app_label_new:\n",
      "                app_id  label_id    app  label\n",
      "0  7324884708820027918       251  17355    207\n",
      "1 -4494216993218550286       251   4618    207\n",
      "2  6058196446775239644       406  15548    247\n",
      "3  6058196446775239644       407  15548    248\n",
      "4  8694625920731541625       406  18689    247\n"
     ]
    }
   ],
   "source": [
    "app_label_new = app_label.loc[app_label.app_id.isin(app_event.app_id.unique())].copy()\n",
    "app_label_new['app'] = encoder2.transform(app_label_new.app_id)\n",
    "encoder4 = LabelEncoder().fit(app_label_new.label_id)\n",
    "app_label_new['label'] = encoder4.transform(app_label_new.label_id)\n",
    "labelnumber = len(encoder4.classes_)\n",
    "print('app_label_new:')\n",
    "print(app_label_new.head())"
   ]
  },
  {
   "cell_type": "code",
   "execution_count": 23,
   "metadata": {
    "collapsed": false
   },
   "outputs": [
    {
     "name": "stdout",
     "output_type": "stream",
     "text": [
      "919886\n",
      "129892268\n",
      "installed_app_grouped:\n",
      "                           size\n",
      "device_id            app       \n",
      "-9222956879900151005 548     18\n",
      "                     1096    18\n",
      "                     1248    26\n",
      "                     1545    12\n",
      "                     1664    18\n",
      "installed_label_grouped:\n",
      "             device_id  label  size\n",
      "0 -9222956879900151005    117     1\n",
      "1 -9222956879900151005    120     1\n",
      "2 -9222956879900151005    126     1\n",
      "3 -9222956879900151005    138     2\n",
      "4 -9222956879900151005    147     2\n"
     ]
    }
   ],
   "source": [
    "print(app_label.size)\n",
    "print(installed_app.size)\n",
    "print('installed_app_grouped:')\n",
    "print(installed_app_grouped.head())\n",
    "installed_label_grouped = (installed_app_grouped.reset_index()[['device_id','app']]\n",
    "                          .merge(app_label_new[['app','label']])\n",
    "                          .groupby(['device_id','label']))['app'].agg(['size']).reset_index()\n",
    "                          \n",
    "print('installed_label_grouped:')\n",
    "print(installed_label_grouped.head())"
   ]
  },
  {
   "cell_type": "code",
   "execution_count": 24,
   "metadata": {
    "collapsed": false
   },
   "outputs": [],
   "source": [
    "label_app_train_with = pd.merge(installed_label_grouped,gender_age_train_with[['int_index']],\n",
    "                               how = 'right',right_index=True,left_on='device_id')\n",
    "label_app_test_with = pd.merge(installed_label_grouped,gender_age_test_with[['int_index']],\n",
    "                              how = 'right',right_index=True,left_on ='device_id' )\n",
    "label_app_train_with = label_app_train_with.dropna(subset= ['int_index','label'])\n",
    "label_app_test_with = label_app_test_with.dropna(subset= ['int_index','label'])"
   ]
  },
  {
   "cell_type": "code",
   "execution_count": 25,
   "metadata": {
    "collapsed": false
   },
   "outputs": [
    {
     "name": "stdout",
     "output_type": "stream",
     "text": [
      "X_train_installed_with shape: (23309, 492)\n",
      "X_test_installed_with shape: (35194, 492)\n"
     ]
    }
   ],
   "source": [
    "#binary\n",
    "X_train_label_with = csr_matrix((np.ones(label_app_train_with.shape[0]),\n",
    "                                 (label_app_train_with.int_index,label_app_train_with.label)),\n",
    "                              shape = (gender_age_train_with.shape[0],labelnumber))\n",
    "X_test_label_with = csr_matrix((np.ones(label_app_test_with.shape[0]),(label_app_test_with.int_index,label_app_test_with.label)),\n",
    "                              shape = (gender_age_test_with.shape[0],labelnumber))\n",
    "#count\n",
    "'''X_train_label_with = csr_matrix((label_app_train_with['size'],\n",
    "                                 (label_app_train_with.int_index,label_app_train_with.label)),\n",
    "                              shape = (gender_age_train_with.shape[0],labelnumber))\n",
    "X_test_label_with = csr_matrix((label_app_test_with['size'],\n",
    "                                (label_app_test_with.int_index,label_app_test_with.label)),\n",
    "                              shape = (gender_age_test_with.shape[0],labelnumber))'''\n",
    "print('X_train_installed_with shape:',X_train_label_with.shape)\n",
    "print('X_test_installed_with shape:',X_test_label_with.shape)\n",
    "del installed_app_grouped,label,app_label,app_label_new,label_app_test_with,label_app_train_with,encoder4,installed_app"
   ]
  },
  {
   "cell_type": "markdown",
   "metadata": {},
   "source": [
    "# Feature engineering V: active app"
   ]
  },
  {
   "cell_type": "code",
   "execution_count": null,
   "metadata": {
    "collapsed": false
   },
   "outputs": [],
   "source": [
    "active_app = pd.merge(events[['device_id']],app_event[['event_id','app','is_active']],\n",
    "                         how='right',right_on = 'event_id',left_index = True)\n",
    "active_app = active_app.loc[active_app.is_active==1]\n",
    "print(active_app.head())"
   ]
  },
  {
   "cell_type": "code",
   "execution_count": null,
   "metadata": {
    "collapsed": false
   },
   "outputs": [],
   "source": [
    "active_app_grouped = active_app.groupby(['device_id','app'])['app'].agg(['size'])\n",
    "print('active_app_grouped:')\n",
    "print(active_app_grouped.head())"
   ]
  },
  {
   "cell_type": "code",
   "execution_count": null,
   "metadata": {
    "collapsed": false
   },
   "outputs": [],
   "source": [
    "active_app_train_with = pd.merge(active_app_grouped,gender_age_train_with[['int_index']],\n",
    "                               how = 'left',right_index=True,left_index=True)\n",
    "active_app_test_with = pd.merge(active_app_grouped,gender_age_test_with[['int_index']],\n",
    "                              how = 'left',right_index=True,left_index=True)\n",
    "print('active_app_train_with:')\n",
    "print(active_app_train_with.head())"
   ]
  },
  {
   "cell_type": "code",
   "execution_count": null,
   "metadata": {
    "collapsed": false
   },
   "outputs": [],
   "source": [
    "active_app_train_with = active_app_train_with.reset_index()\n",
    "active_app_test_with = active_app_test_with.reset_index()\n",
    "active_app_train_with = active_app_train_with.dropna(subset=['int_index'])\n",
    "active_app_test_with = active_app_test_with.dropna(subset=['int_index'])\n",
    "print(active_app_train_with.head())\n",
    "print(active_app_test_with.head())"
   ]
  },
  {
   "cell_type": "code",
   "execution_count": null,
   "metadata": {
    "collapsed": false
   },
   "outputs": [],
   "source": [
    "# binary active map\n",
    "#X_train_active_with = csr_matrix((np.ones(active_app_train_with.shape[0]),\n",
    "#                            (active_app_train_with.int_index,active_app_train_with.app)), \n",
    "#                            shape = (gender_age_train_with.shape[0],appnumber))\n",
    "#X_test_active = csr_matrix((np.ones(active_app_test_with.shape[0]),\n",
    "#                            (active_app_test.int_index,active_app_test_with.app)),\n",
    "#                            shape = (gender_age_test_with.shape[0],appnumber))\n",
    "# count the number of active app\n",
    "X_train_active_with = csr_matrix((active_app_train_with['size'],\n",
    "                            (active_app_train_with.int_index,active_app_train_with.app)), \n",
    "                            shape = (gender_age_train_with.shape[0],appnumber))\n",
    "X_test_active_with = csr_matrix((active_app_test_with['size'],\n",
    "                            (active_app_test_with.int_index,active_app_test_with.app)),\n",
    "                            shape = (gender_age_test_with.shape[0],appnumber))\n",
    "print('X_train_active shape:',X_train_active_with.shape)\n",
    "print('X_test_active shape:',X_test_active_with.shape)"
   ]
  },
  {
   "cell_type": "code",
   "execution_count": null,
   "metadata": {
    "collapsed": false
   },
   "outputs": [],
   "source": [
    "'''scaler = StandardScaler(with_mean=False)\n",
    "X_train_active_with = scaler.fit_transform(X_train_active_with)\n",
    "X_test_active_with = scaler.transform(X_test_active_with)'''"
   ]
  },
  {
   "cell_type": "markdown",
   "metadata": {},
   "source": [
    "# Feature engineering VI: active time period"
   ]
  },
  {
   "cell_type": "code",
   "execution_count": 27,
   "metadata": {
    "collapsed": false
   },
   "outputs": [
    {
     "name": "stdout",
     "output_type": "stream",
     "text": [
      "             device_id  time  times\n",
      "0 -9222956879900151005     7      2\n",
      "1 -9222956879900151005    11      7\n",
      "2 -9222956879900151005    12     13\n",
      "3 -9222956879900151005    13      3\n",
      "4 -9222956879900151005    14      5\n"
     ]
    }
   ],
   "source": [
    "events_time = events[['device_id','timestamp']].copy()\n",
    "events_time['time']  = events_time['timestamp'].str[11:13].astype(int)\n",
    "events_time.drop(['timestamp'],axis=1,inplace=True)\n",
    "events_time = events_time.groupby(['device_id','time'])['time'].agg({'times':'count'}).reset_index()\n",
    "print(events_time.head())\n",
    "timenumber= events_time.time.unique().shape[0]"
   ]
  },
  {
   "cell_type": "code",
   "execution_count": 28,
   "metadata": {
    "collapsed": false
   },
   "outputs": [
    {
     "name": "stdout",
     "output_type": "stream",
     "text": [
      "X_train_time_with shape: (23309, 24)\n",
      "X_test_time_with shape: (35194, 24)\n"
     ]
    }
   ],
   "source": [
    "time_train_with = pd.merge(events_time,gender_age_train_with[['int_index']],\n",
    "                               right_index=True,left_on='device_id')\n",
    "time_test_with = pd.merge(events_time,gender_age_test_with[['int_index']],\n",
    "                               right_index=True,left_on ='device_id' )\n",
    "#binary\n",
    "X_train_time_with = csr_matrix((np.ones(time_train_with.shape[0]),\n",
    "                            (time_train_with.int_index,time_train_with.time)), \n",
    "                            shape = (gender_age_train_with.shape[0],timenumber))\n",
    "X_test_time_with = csr_matrix((np.ones(time_test_with.shape[0]),\n",
    "                            (time_test_with.int_index,time_test_with.time)),\n",
    "                            shape = (gender_age_test_with.shape[0],timenumber))\n",
    "\n",
    "#number\n",
    "#X_train_time_with = csr_matrix((time_train_with['times'],\n",
    "#                            (time_train_with.int_index,time_train_with.time)), \n",
    "#                            shape = (gender_age_train_with.shape[0],timenumber))\n",
    "#X_test_time_with = csr_matrix((time_test_with['times'],\n",
    "#                            (time_test_with.int_index,time_test_with.time)),\n",
    "#                            shape = (gender_age_test_with.shape[0],timenumber))\n",
    "print('X_train_time_with shape:',X_train_time_with.shape)\n",
    "print('X_test_time_with shape:',X_test_time_with.shape)"
   ]
  },
  {
   "cell_type": "markdown",
   "metadata": {},
   "source": [
    "Normalization of the time period count."
   ]
  },
  {
   "cell_type": "code",
   "execution_count": null,
   "metadata": {
    "collapsed": false
   },
   "outputs": [],
   "source": [
    "'''scaler = StandardScaler(with_mean=False)\n",
    "X_train_time_with = scaler.fit_transform(X_train_time_with)\n",
    "X_test_time_with = scaler.transform(X_test_time_with)'''"
   ]
  },
  {
   "cell_type": "markdown",
   "metadata": {},
   "source": [
    "# feature join and selection"
   ]
  },
  {
   "cell_type": "markdown",
   "metadata": {},
   "source": [
    "## Device without events"
   ]
  },
  {
   "cell_type": "code",
   "execution_count": 26,
   "metadata": {
    "collapsed": false
   },
   "outputs": [
    {
     "name": "stdout",
     "output_type": "stream",
     "text": [
      "Training shape:\n",
      "(74645, 1798)\n",
      "Testing shape:\n",
      "(76877, 1798)\n",
      "y shape:\n",
      "(74645, 6)\n"
     ]
    }
   ],
   "source": [
    "X_train_total_without = hstack((X_train_brand_without,X_train_model_without),format='csr')\n",
    "temp_train = hstack((X_train_brand_with,X_train_model_with),format='csr')\n",
    "X_test_total_without = hstack((X_test_brand_without,X_test_model_without),format='csr')\n",
    "\n",
    "X_train_total_without= vstack((X_train_total_without,temp_train),format = 'csr')\n",
    "gender_age_train_without_temp = pd.concat((gender_age_train_without,gender_age_train_with))\n",
    "\n",
    "print('Training shape:')\n",
    "print(X_train_total_without.shape)\n",
    "print('Testing shape:')\n",
    "print(X_test_total_without.shape)\n",
    "print('y shape:')\n",
    "print(gender_age_train_without_temp.shape)"
   ]
  },
  {
   "cell_type": "markdown",
   "metadata": {},
   "source": [
    "## Device with events"
   ]
  },
  {
   "cell_type": "code",
   "execution_count": 28,
   "metadata": {
    "collapsed": false
   },
   "outputs": [
    {
     "name": "stdout",
     "output_type": "stream",
     "text": [
      "Training shape:\n",
      "(23309, 21527)\n",
      "Testing shape:\n",
      "(35194, 21527)\n"
     ]
    }
   ],
   "source": [
    "X_train_total_with = hstack((X_train_brand_with,X_train_model_with,\n",
    "                             #X_train_active_with,\n",
    "                             #X_train_time_with,\n",
    "                             X_train_installed_with,X_train_label_with),format='csr')\n",
    "X_test_total_with = hstack((X_test_brand_with,X_test_model_with,\n",
    "                            #X_test_active_with,\n",
    "                            #X_test_time_with,\n",
    "                           X_test_installed_with,X_test_label_with),format='csr')\n",
    "print('Training shape:')\n",
    "print(X_train_total_with.shape)\n",
    "print('Testing shape:')\n",
    "print(X_test_total_with.shape)"
   ]
  },
  {
   "cell_type": "code",
   "execution_count": 29,
   "metadata": {
    "collapsed": false
   },
   "outputs": [],
   "source": [
    "#percentile selction\n",
    "#selector = SelectPercentile(f_classif, percentile=80)\n",
    "#selector.fit(X_train_total, y_train_total)\n",
    "#X_train_total = selector.transform(X_train_total)\n",
    "#X_test_total = selector.transform(X_test_total)\n",
    "#X_val.shape\n",
    "\n",
    "# Selection using chi-square\n",
    "#selector = SelectKBest(chi2, k=15155).fit(X_train_total, y_train_total)\n",
    "#X_train_total = selector.transform(X_train_total)\n",
    "#X_test_total = selector.transform(X_test_total)\n",
    "#print('Training shape:')\n",
    "#print(X_train_total.shape)\n",
    "#print('Testing shape:')\n",
    "#print(X_test_total.shape)"
   ]
  },
  {
   "cell_type": "markdown",
   "metadata": {},
   "source": [
    "# Clear the memory before we do the learning"
   ]
  },
  {
   "cell_type": "code",
   "execution_count": 30,
   "metadata": {
    "collapsed": false
   },
   "outputs": [],
   "source": [
    "del app_event"
   ]
  },
  {
   "cell_type": "markdown",
   "metadata": {
    "collapsed": true
   },
   "source": [
    "# Start training model"
   ]
  },
  {
   "cell_type": "markdown",
   "metadata": {},
   "source": [
    "encode the target"
   ]
  },
  {
   "cell_type": "code",
   "execution_count": 31,
   "metadata": {
    "collapsed": true
   },
   "outputs": [],
   "source": [
    "targetencoder = LabelEncoder().fit(gender_age_train_with.group)\n",
    "nclasses = len(targetencoder.classes_)\n",
    "y_train_total_with = targetencoder.transform(gender_age_train_with.group)"
   ]
  },
  {
   "cell_type": "markdown",
   "metadata": {},
   "source": [
    "# Subset I: device with events"
   ]
  },
  {
   "cell_type": "markdown",
   "metadata": {},
   "source": [
    "## Neural network"
   ]
  },
  {
   "cell_type": "markdown",
   "metadata": {},
   "source": [
    "Defining functions:"
   ]
  },
  {
   "cell_type": "code",
   "execution_count": 39,
   "metadata": {
    "collapsed": true
   },
   "outputs": [],
   "source": [
    "def batch_generator(X, y, batch_size, shuffle):\n",
    "    #chenglong code for fiting from generator \n",
    "    #(https://www.kaggle.com/c/talkingdata-mobile-user-demographics/forums/t/22567/neural-network-for-sparse-matrices)\n",
    "    number_of_batches = np.ceil(X.shape[0]/batch_size)\n",
    "    counter = 0\n",
    "    sample_index = np.arange(X.shape[0])\n",
    "    if shuffle:\n",
    "        np.random.shuffle(sample_index)\n",
    "    while True:\n",
    "        batch_index = sample_index[batch_size*counter:batch_size*(counter+1)]\n",
    "        X_batch = X[batch_index,:].toarray()\n",
    "        y_batch = y[batch_index]\n",
    "        counter += 1\n",
    "        yield X_batch, y_batch\n",
    "        if (counter == number_of_batches):\n",
    "            if shuffle:\n",
    "                np.random.shuffle(sample_index)\n",
    "            counter = 0\n",
    "def batch_generatorp(X, batch_size, shuffle):\n",
    "    number_of_batches = X.shape[0] / np.ceil(X.shape[0]/batch_size)\n",
    "    counter = 0\n",
    "    sample_index = np.arange(X.shape[0])\n",
    "    while True:\n",
    "        batch_index = sample_index[batch_size * counter:batch_size * (counter + 1)]\n",
    "        X_batch = X[batch_index, :].toarray()\n",
    "        counter += 1\n",
    "        yield X_batch\n",
    "        if (counter == number_of_batches):\n",
    "            counter = 0\n",
    "\n"
   ]
  },
  {
   "cell_type": "code",
   "execution_count": null,
   "metadata": {
    "collapsed": true
   },
   "outputs": [
    {
     "name": "stdout",
     "output_type": "stream",
     "text": [
      "*****************************************************\n",
      "0_fold\n",
      "Epoch 1/20\n"
     ]
    },
    {
     "name": "stderr",
     "output_type": "stream",
     "text": [
      "/opt/conda/lib/python3.5/site-packages/keras/engine/training.py:1460: UserWarning: Epoch comprised more than `samples_per_epoch` samples, which might affect learning results. Set `samples_per_epoch` correctly to avoid this warning.\n",
      "  warnings.warn('Epoch comprised more than '\n"
     ]
    },
    {
     "name": "stdout",
     "output_type": "stream",
     "text": [
      "11s - loss: 2.4084 - acc: 0.1427 - val_loss: 2.3477 - val_acc: 0.1627\n",
      "Epoch 2/20\n",
      "11s - loss: 2.2397 - acc: 0.2160 - val_loss: 2.2432 - val_acc: 0.1973\n",
      "Epoch 3/20\n",
      "12s - loss: 2.1262 - acc: 0.2479 - val_loss: 2.2271 - val_acc: 0.2145\n",
      "Epoch 4/20\n",
      "11s - loss: 2.0607 - acc: 0.2724 - val_loss: 2.1842 - val_acc: 0.2295\n",
      "Epoch 5/20\n",
      "11s - loss: 2.0194 - acc: 0.2851 - val_loss: 2.1608 - val_acc: 0.2504\n",
      "Epoch 6/20\n",
      "11s - loss: 1.9814 - acc: 0.2982 - val_loss: 2.2211 - val_acc: 0.2230\n",
      "Epoch 7/20\n",
      "11s - loss: 1.9610 - acc: 0.3092 - val_loss: 2.1383 - val_acc: 0.2539\n",
      "Epoch 8/20\n",
      "11s - loss: 1.9338 - acc: 0.3167 - val_loss: 2.1167 - val_acc: 0.2551\n",
      "Epoch 9/20\n",
      "11s - loss: 1.9031 - acc: 0.3271 - val_loss: 2.1202 - val_acc: 0.2628\n",
      "Epoch 10/20\n",
      "11s - loss: 1.8904 - acc: 0.3308 - val_loss: 2.1307 - val_acc: 0.2586\n",
      "Epoch 11/20\n",
      "11s - loss: 1.8791 - acc: 0.3373 - val_loss: 2.1143 - val_acc: 0.2594\n",
      "Epoch 12/20\n",
      "11s - loss: 1.8607 - acc: 0.3396 - val_loss: 2.1657 - val_acc: 0.2513\n",
      "Epoch 13/20\n",
      "11s - loss: 1.8418 - acc: 0.3485 - val_loss: 2.1616 - val_acc: 0.2543\n",
      "Epoch 14/20\n",
      "11s - loss: 1.8230 - acc: 0.3551 - val_loss: 2.1104 - val_acc: 0.2564\n",
      "Epoch 15/20\n",
      "11s - loss: 1.8089 - acc: 0.3585 - val_loss: 2.1105 - val_acc: 0.2568\n",
      "Epoch 16/20\n",
      "11s - loss: 1.7941 - acc: 0.3646 - val_loss: 2.1153 - val_acc: 0.2616\n",
      "Epoch 17/20\n",
      "11s - loss: 1.7798 - acc: 0.3672 - val_loss: 2.1158 - val_acc: 0.2620\n",
      "Epoch 18/20\n",
      "11s - loss: 1.7762 - acc: 0.3707 - val_loss: 2.1279 - val_acc: 0.2581\n",
      "Epoch 19/20\n",
      "11s - loss: 1.7589 - acc: 0.3796 - val_loss: 2.1443 - val_acc: 0.2509\n",
      "Epoch 20/20\n",
      "11s - loss: 1.7417 - acc: 0.3824 - val_loss: 2.1725 - val_acc: 0.2509\n",
      "logloss val 2.1724923770358044\n",
      "*****************************************************\n",
      "1_fold\n",
      "Epoch 1/20\n",
      "13s - loss: 2.4153 - acc: 0.1359 - val_loss: 2.3576 - val_acc: 0.1509\n",
      "Epoch 2/20\n",
      "14s - loss: 2.2756 - acc: 0.1989 - val_loss: 2.2126 - val_acc: 0.2302\n",
      "Epoch 3/20\n",
      "14s - loss: 2.1333 - acc: 0.2454 - val_loss: 2.1155 - val_acc: 0.2486\n",
      "Epoch 4/20\n",
      "14s - loss: 2.0623 - acc: 0.2733 - val_loss: 2.1096 - val_acc: 0.2610\n",
      "Epoch 5/20\n",
      "14s - loss: 2.0140 - acc: 0.2890 - val_loss: 2.0448 - val_acc: 0.2846\n",
      "Epoch 6/20\n",
      "14s - loss: 1.9837 - acc: 0.2996 - val_loss: 2.0203 - val_acc: 0.2902\n",
      "Epoch 7/20\n",
      "15s - loss: 1.9569 - acc: 0.3086 - val_loss: 2.0586 - val_acc: 0.2795\n",
      "Epoch 8/20\n",
      "14s - loss: 1.9288 - acc: 0.3182 - val_loss: 2.0425 - val_acc: 0.2838\n",
      "Epoch 9/20\n",
      "16s - loss: 1.9178 - acc: 0.3233 - val_loss: 2.0034 - val_acc: 0.2936\n",
      "Epoch 10/20\n",
      "14s - loss: 1.8846 - acc: 0.3365 - val_loss: 2.0248 - val_acc: 0.2842\n",
      "Epoch 11/20\n",
      "14s - loss: 1.8772 - acc: 0.3356 - val_loss: 1.9898 - val_acc: 0.2988\n",
      "Epoch 12/20\n",
      "14s - loss: 1.8675 - acc: 0.3409 - val_loss: 1.9838 - val_acc: 0.3000\n",
      "Epoch 13/20\n",
      "14s - loss: 1.8479 - acc: 0.3456 - val_loss: 2.0526 - val_acc: 0.2885\n",
      "Epoch 14/20\n",
      "15s - loss: 1.8291 - acc: 0.3550 - val_loss: 1.9806 - val_acc: 0.3026\n",
      "Epoch 15/20\n",
      "212s - loss: 1.8204 - acc: 0.3566 - val_loss: 1.9978 - val_acc: 0.3052\n",
      "Epoch 16/20\n"
     ]
    }
   ],
   "source": [
    "def with_model(X_dim_input):\n",
    "    # create model\n",
    "    model = Sequential()\n",
    "    #model.add(Dense(10, input_dim=X_train_total.shape[1], init='normal', activation='relu'))\n",
    "    #model.add(Dropout(0.2))\n",
    "    model.add(Dense(50, input_dim=X_dim_input, init='normal', activation='tanh'))\n",
    "    model.add(Dropout(0.2))\n",
    "    model.add(Dense(150, input_dim=X_dim_input, init='normal', activation='tanh'))\n",
    "    model.add(Dropout(0.4))\n",
    "    model.add(Dense(100, input_dim=X_dim_input, init='normal', activation='relu'))\n",
    "    model.add(Dropout(0.1))\n",
    "    #model.add(Dropout(0.1))\n",
    "    model.add(Dense(12, init='normal', activation='softmax'))\n",
    "    # Compile model\n",
    "    model.compile(loss='categorical_crossentropy', optimizer='adadelta', metrics=['accuracy'])  #logloss\n",
    "    return model\n",
    "\n",
    "\n",
    "dummy_y_with = np_utils.to_categorical(y_train_total_with)\n",
    "for i in range(8):\n",
    "    kf = StratifiedKFold(y_train_total_with,n_folds = 10,random_state = i)\n",
    "    score_list_with=[]\n",
    "    val_loss_list_with = []\n",
    "    for index,(train, test) in enumerate(kf):\n",
    "        X_train_with = X_train_total_with[train]\n",
    "        y_train_with = dummy_y_with[train]\n",
    "        X_val_with = X_train_total_with[test]\n",
    "        y_val_with = dummy_y_with[test]\n",
    "        #print(X_val.shape)\n",
    "        print('*****************************************************')\n",
    "        print('{}_fold'.format(index))\n",
    "        model=with_model(X_train_total_with.shape[1])\n",
    "        fit= model.fit_generator(generator=batch_generator(X_train_with, y_train_with, 1024, True),\n",
    "                             nb_epoch=20,\n",
    "                             samples_per_epoch=40000,\n",
    "                             validation_data=(X_val_with.todense(), y_val_with), verbose=2\n",
    "                             )\n",
    "        scores_val_with = model.predict_generator(generator=batch_generatorp(X_val_with, 512, False), \n",
    "                                             val_samples=X_val_with.shape[0])\n",
    "        scores_with = model.predict_generator(generator=batch_generatorp(X_test_total_with, 512, False), \n",
    "                                         val_samples=X_test_total_with.shape[0])\n",
    "        score_list_with.append(scores_with)\n",
    "        val_loss = log_loss(y_val_with, scores_val_with)\n",
    "        val_loss_list_with.append(val_loss)\n",
    "        print('logloss val {}'.format(val_loss))\n",
    "\n",
    "    for index,i in enumerate(val_loss_list_with):\n",
    "        if(index==0):\n",
    "            sumi = i\n",
    "        else:\n",
    "            sumi = i+sumi\n",
    "    val_loss_ave_with = sumi/len(val_loss_list_with)\n",
    "    print('average logloss val {}'.format(val_loss_ave_with))\n",
    "    for index,i in enumerate(score_list_with):\n",
    "        if(index==0):\n",
    "            sumi = i\n",
    "        else:\n",
    "            sumi = i+sumi\n",
    "    score_ave_with = sumi/len(score_list_with)\n",
    "    pred_with = pd.DataFrame(score_ave_with, index = gender_age_test_with.index, columns=targetencoder.classes_)\n",
    "    pred_with.to_csv('nnet_with_50tanh_150tanh_100relu_softmax{}.csv'.format(val_loss_ave_with))"
   ]
  },
  {
   "cell_type": "markdown",
   "metadata": {},
   "source": [
    "## XGboost"
   ]
  },
  {
   "cell_type": "code",
   "execution_count": 32,
   "metadata": {
    "collapsed": false
   },
   "outputs": [
    {
     "name": "stdout",
     "output_type": "stream",
     "text": [
      "[0]\ttrain-mlogloss:2.43511\ttest-mlogloss:2.46524\n",
      "[1]\ttrain-mlogloss:2.38744\ttest-mlogloss:2.4473\n",
      "[2]\ttrain-mlogloss:2.34223\ttest-mlogloss:2.43129\n",
      "[3]\ttrain-mlogloss:2.29861\ttest-mlogloss:2.41536\n",
      "[4]\ttrain-mlogloss:2.25617\ttest-mlogloss:2.40103\n",
      "[5]\ttrain-mlogloss:2.21544\ttest-mlogloss:2.3872\n",
      "[6]\ttrain-mlogloss:2.17581\ttest-mlogloss:2.37492\n",
      "[7]\ttrain-mlogloss:2.13781\ttest-mlogloss:2.36293\n",
      "[8]\ttrain-mlogloss:2.10104\ttest-mlogloss:2.3511\n",
      "[9]\ttrain-mlogloss:2.06506\ttest-mlogloss:2.34079\n",
      "[10]\ttrain-mlogloss:2.03024\ttest-mlogloss:2.33037\n",
      "[11]\ttrain-mlogloss:1.99595\ttest-mlogloss:2.32055\n",
      "[12]\ttrain-mlogloss:1.96324\ttest-mlogloss:2.31174\n",
      "[13]\ttrain-mlogloss:1.93135\ttest-mlogloss:2.30254\n",
      "[14]\ttrain-mlogloss:1.9004\ttest-mlogloss:2.29434\n",
      "[15]\ttrain-mlogloss:1.87004\ttest-mlogloss:2.28647\n",
      "[16]\ttrain-mlogloss:1.84064\ttest-mlogloss:2.27927\n",
      "[17]\ttrain-mlogloss:1.81241\ttest-mlogloss:2.27213\n",
      "[18]\ttrain-mlogloss:1.78478\ttest-mlogloss:2.26535\n",
      "[19]\ttrain-mlogloss:1.75778\ttest-mlogloss:2.25913\n",
      "[20]\ttrain-mlogloss:1.73108\ttest-mlogloss:2.25308\n",
      "[21]\ttrain-mlogloss:1.70533\ttest-mlogloss:2.24791\n",
      "[22]\ttrain-mlogloss:1.6797\ttest-mlogloss:2.24175\n",
      "[23]\ttrain-mlogloss:1.65434\ttest-mlogloss:2.23624\n",
      "[24]\ttrain-mlogloss:1.62966\ttest-mlogloss:2.23075\n",
      "[25]\ttrain-mlogloss:1.60532\ttest-mlogloss:2.2255\n",
      "[26]\ttrain-mlogloss:1.58155\ttest-mlogloss:2.22052\n",
      "[27]\ttrain-mlogloss:1.55892\ttest-mlogloss:2.21589\n",
      "[28]\ttrain-mlogloss:1.53624\ttest-mlogloss:2.21164\n",
      "[29]\ttrain-mlogloss:1.51413\ttest-mlogloss:2.20776\n",
      "[30]\ttrain-mlogloss:1.49201\ttest-mlogloss:2.2038\n",
      "[31]\ttrain-mlogloss:1.4707\ttest-mlogloss:2.19939\n",
      "[32]\ttrain-mlogloss:1.4496\ttest-mlogloss:2.19587\n",
      "[33]\ttrain-mlogloss:1.42891\ttest-mlogloss:2.19196\n",
      "[34]\ttrain-mlogloss:1.40879\ttest-mlogloss:2.18814\n",
      "[35]\ttrain-mlogloss:1.389\ttest-mlogloss:2.18476\n",
      "[36]\ttrain-mlogloss:1.36958\ttest-mlogloss:2.18126\n",
      "[37]\ttrain-mlogloss:1.35077\ttest-mlogloss:2.17789\n",
      "[38]\ttrain-mlogloss:1.33208\ttest-mlogloss:2.17405\n",
      "[39]\ttrain-mlogloss:1.31368\ttest-mlogloss:2.17092\n",
      "[40]\ttrain-mlogloss:1.29565\ttest-mlogloss:2.16822\n",
      "[41]\ttrain-mlogloss:1.27816\ttest-mlogloss:2.16556\n",
      "[42]\ttrain-mlogloss:1.26071\ttest-mlogloss:2.16251\n",
      "[43]\ttrain-mlogloss:1.24369\ttest-mlogloss:2.15977\n",
      "[44]\ttrain-mlogloss:1.22699\ttest-mlogloss:2.15674\n",
      "[45]\ttrain-mlogloss:1.21069\ttest-mlogloss:2.15429\n",
      "[46]\ttrain-mlogloss:1.19466\ttest-mlogloss:2.15182\n",
      "[47]\ttrain-mlogloss:1.17889\ttest-mlogloss:2.14959\n",
      "[48]\ttrain-mlogloss:1.16344\ttest-mlogloss:2.14707\n",
      "[49]\ttrain-mlogloss:1.14806\ttest-mlogloss:2.14504\n",
      "[50]\ttrain-mlogloss:1.13297\ttest-mlogloss:2.14269\n",
      "[51]\ttrain-mlogloss:1.11824\ttest-mlogloss:2.14052\n",
      "[52]\ttrain-mlogloss:1.10364\ttest-mlogloss:2.13816\n",
      "[53]\ttrain-mlogloss:1.08929\ttest-mlogloss:2.13594\n",
      "[54]\ttrain-mlogloss:1.07517\ttest-mlogloss:2.13328\n",
      "[55]\ttrain-mlogloss:1.06132\ttest-mlogloss:2.13126\n",
      "[56]\ttrain-mlogloss:1.04784\ttest-mlogloss:2.12925\n",
      "[57]\ttrain-mlogloss:1.03459\ttest-mlogloss:2.12741\n",
      "[58]\ttrain-mlogloss:1.0216\ttest-mlogloss:2.12533\n",
      "[59]\ttrain-mlogloss:1.00873\ttest-mlogloss:2.1232\n",
      "[60]\ttrain-mlogloss:0.996062\ttest-mlogloss:2.12135\n",
      "[61]\ttrain-mlogloss:0.983506\ttest-mlogloss:2.11944\n",
      "[62]\ttrain-mlogloss:0.971322\ttest-mlogloss:2.11755\n",
      "[63]\ttrain-mlogloss:0.959385\ttest-mlogloss:2.11566\n",
      "[64]\ttrain-mlogloss:0.947654\ttest-mlogloss:2.1139\n",
      "[65]\ttrain-mlogloss:0.936007\ttest-mlogloss:2.11226\n",
      "[66]\ttrain-mlogloss:0.924598\ttest-mlogloss:2.11096\n",
      "[67]\ttrain-mlogloss:0.913344\ttest-mlogloss:2.10968\n",
      "[68]\ttrain-mlogloss:0.902314\ttest-mlogloss:2.10832\n",
      "[69]\ttrain-mlogloss:0.89148\ttest-mlogloss:2.10713\n",
      "[70]\ttrain-mlogloss:0.880862\ttest-mlogloss:2.10569\n",
      "[71]\ttrain-mlogloss:0.870356\ttest-mlogloss:2.10468\n",
      "[72]\ttrain-mlogloss:0.859957\ttest-mlogloss:2.10343\n",
      "[73]\ttrain-mlogloss:0.849751\ttest-mlogloss:2.10225\n",
      "[74]\ttrain-mlogloss:0.839915\ttest-mlogloss:2.10107\n",
      "[75]\ttrain-mlogloss:0.83008\ttest-mlogloss:2.09986\n",
      "[76]\ttrain-mlogloss:0.820503\ttest-mlogloss:2.0989\n",
      "[77]\ttrain-mlogloss:0.811026\ttest-mlogloss:2.09771\n",
      "[78]\ttrain-mlogloss:0.801644\ttest-mlogloss:2.09691\n",
      "[79]\ttrain-mlogloss:0.792538\ttest-mlogloss:2.09571\n",
      "[80]\ttrain-mlogloss:0.783436\ttest-mlogloss:2.09474\n",
      "[81]\ttrain-mlogloss:0.774661\ttest-mlogloss:2.09401\n",
      "[82]\ttrain-mlogloss:0.765768\ttest-mlogloss:2.09343\n",
      "[83]\ttrain-mlogloss:0.757154\ttest-mlogloss:2.09273\n",
      "[84]\ttrain-mlogloss:0.748573\ttest-mlogloss:2.09163\n",
      "[85]\ttrain-mlogloss:0.740215\ttest-mlogloss:2.09094\n",
      "[86]\ttrain-mlogloss:0.731976\ttest-mlogloss:2.08981\n",
      "[87]\ttrain-mlogloss:0.723917\ttest-mlogloss:2.08906\n",
      "[88]\ttrain-mlogloss:0.715946\ttest-mlogloss:2.08862\n",
      "[89]\ttrain-mlogloss:0.708122\ttest-mlogloss:2.08796\n",
      "[90]\ttrain-mlogloss:0.700491\ttest-mlogloss:2.0872\n",
      "[91]\ttrain-mlogloss:0.693068\ttest-mlogloss:2.08663\n",
      "[92]\ttrain-mlogloss:0.68554\ttest-mlogloss:2.08555\n",
      "[93]\ttrain-mlogloss:0.678245\ttest-mlogloss:2.08493\n",
      "[94]\ttrain-mlogloss:0.671086\ttest-mlogloss:2.08406\n",
      "[95]\ttrain-mlogloss:0.66412\ttest-mlogloss:2.08355\n",
      "[96]\ttrain-mlogloss:0.657142\ttest-mlogloss:2.08289\n",
      "[97]\ttrain-mlogloss:0.650303\ttest-mlogloss:2.08213\n",
      "[98]\ttrain-mlogloss:0.643509\ttest-mlogloss:2.08162\n",
      "[99]\ttrain-mlogloss:0.636988\ttest-mlogloss:2.08132\n",
      "[100]\ttrain-mlogloss:0.63036\ttest-mlogloss:2.08074\n",
      "[101]\ttrain-mlogloss:0.623903\ttest-mlogloss:2.08002\n",
      "[102]\ttrain-mlogloss:0.617596\ttest-mlogloss:2.07941\n",
      "[103]\ttrain-mlogloss:0.611301\ttest-mlogloss:2.07886\n",
      "[104]\ttrain-mlogloss:0.605231\ttest-mlogloss:2.07834\n",
      "[105]\ttrain-mlogloss:0.599177\ttest-mlogloss:2.07815\n",
      "[106]\ttrain-mlogloss:0.593173\ttest-mlogloss:2.07758\n",
      "[107]\ttrain-mlogloss:0.587293\ttest-mlogloss:2.07737\n",
      "[108]\ttrain-mlogloss:0.581583\ttest-mlogloss:2.07691\n",
      "[109]\ttrain-mlogloss:0.575812\ttest-mlogloss:2.07679\n",
      "[110]\ttrain-mlogloss:0.570135\ttest-mlogloss:2.07615\n",
      "[111]\ttrain-mlogloss:0.564522\ttest-mlogloss:2.07569\n",
      "[112]\ttrain-mlogloss:0.559034\ttest-mlogloss:2.0752\n",
      "[113]\ttrain-mlogloss:0.553595\ttest-mlogloss:2.0748\n",
      "[114]\ttrain-mlogloss:0.548302\ttest-mlogloss:2.07445\n",
      "[115]\ttrain-mlogloss:0.54304\ttest-mlogloss:2.07411\n",
      "[116]\ttrain-mlogloss:0.537746\ttest-mlogloss:2.07379\n",
      "[117]\ttrain-mlogloss:0.532788\ttest-mlogloss:2.07324\n",
      "[118]\ttrain-mlogloss:0.527749\ttest-mlogloss:2.07321\n",
      "[119]\ttrain-mlogloss:0.522754\ttest-mlogloss:2.07285\n",
      "[120]\ttrain-mlogloss:0.517839\ttest-mlogloss:2.07267\n",
      "[121]\ttrain-mlogloss:0.512996\ttest-mlogloss:2.0724\n",
      "[122]\ttrain-mlogloss:0.508289\ttest-mlogloss:2.07218\n",
      "[123]\ttrain-mlogloss:0.503652\ttest-mlogloss:2.07171\n",
      "[124]\ttrain-mlogloss:0.499233\ttest-mlogloss:2.07166\n",
      "[125]\ttrain-mlogloss:0.494742\ttest-mlogloss:2.07119\n",
      "[126]\ttrain-mlogloss:0.490252\ttest-mlogloss:2.07095\n",
      "[127]\ttrain-mlogloss:0.485903\ttest-mlogloss:2.07086\n",
      "[128]\ttrain-mlogloss:0.48167\ttest-mlogloss:2.07081\n",
      "[129]\ttrain-mlogloss:0.477436\ttest-mlogloss:2.0705\n",
      "[130]\ttrain-mlogloss:0.473183\ttest-mlogloss:2.07022\n",
      "[131]\ttrain-mlogloss:0.469056\ttest-mlogloss:2.06989\n",
      "[132]\ttrain-mlogloss:0.464965\ttest-mlogloss:2.0698\n",
      "[133]\ttrain-mlogloss:0.460918\ttest-mlogloss:2.06968\n",
      "[134]\ttrain-mlogloss:0.457041\ttest-mlogloss:2.06958\n",
      "[135]\ttrain-mlogloss:0.45304\ttest-mlogloss:2.06929\n",
      "[136]\ttrain-mlogloss:0.449234\ttest-mlogloss:2.06901\n",
      "[137]\ttrain-mlogloss:0.445431\ttest-mlogloss:2.06889\n",
      "[138]\ttrain-mlogloss:0.441674\ttest-mlogloss:2.06879\n",
      "[139]\ttrain-mlogloss:0.437961\ttest-mlogloss:2.06867\n",
      "[140]\ttrain-mlogloss:0.434275\ttest-mlogloss:2.06869\n",
      "[141]\ttrain-mlogloss:0.430746\ttest-mlogloss:2.06863\n",
      "[142]\ttrain-mlogloss:0.42724\ttest-mlogloss:2.06837\n",
      "[143]\ttrain-mlogloss:0.423689\ttest-mlogloss:2.06818\n",
      "[144]\ttrain-mlogloss:0.420212\ttest-mlogloss:2.06805\n",
      "[145]\ttrain-mlogloss:0.416749\ttest-mlogloss:2.06801\n",
      "[146]\ttrain-mlogloss:0.413342\ttest-mlogloss:2.068\n",
      "[147]\ttrain-mlogloss:0.409983\ttest-mlogloss:2.06767\n",
      "[148]\ttrain-mlogloss:0.406713\ttest-mlogloss:2.06749\n",
      "[149]\ttrain-mlogloss:0.403541\ttest-mlogloss:2.06722\n",
      "[150]\ttrain-mlogloss:0.400436\ttest-mlogloss:2.06699\n",
      "[151]\ttrain-mlogloss:0.397277\ttest-mlogloss:2.0669\n",
      "[152]\ttrain-mlogloss:0.394179\ttest-mlogloss:2.06689\n",
      "[153]\ttrain-mlogloss:0.391124\ttest-mlogloss:2.06693\n",
      "[154]\ttrain-mlogloss:0.388236\ttest-mlogloss:2.06694\n",
      "[155]\ttrain-mlogloss:0.385276\ttest-mlogloss:2.06691\n",
      "[156]\ttrain-mlogloss:0.382338\ttest-mlogloss:2.06673\n",
      "[157]\ttrain-mlogloss:0.379455\ttest-mlogloss:2.06655\n",
      "[158]\ttrain-mlogloss:0.376584\ttest-mlogloss:2.06663\n",
      "[159]\ttrain-mlogloss:0.373742\ttest-mlogloss:2.06657\n",
      "[160]\ttrain-mlogloss:0.370984\ttest-mlogloss:2.06676\n",
      "[161]\ttrain-mlogloss:0.368221\ttest-mlogloss:2.06683\n",
      "[162]\ttrain-mlogloss:0.3655\ttest-mlogloss:2.06677\n",
      "[163]\ttrain-mlogloss:0.362829\ttest-mlogloss:2.06681\n",
      "[164]\ttrain-mlogloss:0.360165\ttest-mlogloss:2.06678\n",
      "[165]\ttrain-mlogloss:0.357536\ttest-mlogloss:2.06675\n",
      "[166]\ttrain-mlogloss:0.354931\ttest-mlogloss:2.06662\n",
      "[167]\ttrain-mlogloss:0.352325\ttest-mlogloss:2.06649\n",
      "[168]\ttrain-mlogloss:0.349783\ttest-mlogloss:2.06646\n",
      "[169]\ttrain-mlogloss:0.347341\ttest-mlogloss:2.06642\n",
      "[170]\ttrain-mlogloss:0.344871\ttest-mlogloss:2.06642\n",
      "[171]\ttrain-mlogloss:0.342446\ttest-mlogloss:2.0664\n",
      "[172]\ttrain-mlogloss:0.34003\ttest-mlogloss:2.06638\n",
      "[173]\ttrain-mlogloss:0.337626\ttest-mlogloss:2.06642\n",
      "[174]\ttrain-mlogloss:0.335327\ttest-mlogloss:2.06644\n",
      "[175]\ttrain-mlogloss:0.333016\ttest-mlogloss:2.06644\n",
      "[176]\ttrain-mlogloss:0.330723\ttest-mlogloss:2.06628\n",
      "[177]\ttrain-mlogloss:0.328461\ttest-mlogloss:2.0663\n",
      "[178]\ttrain-mlogloss:0.326287\ttest-mlogloss:2.06654\n",
      "[179]\ttrain-mlogloss:0.32402\ttest-mlogloss:2.06654\n",
      "[180]\ttrain-mlogloss:0.32187\ttest-mlogloss:2.06655\n",
      "[181]\ttrain-mlogloss:0.319791\ttest-mlogloss:2.06638\n",
      "[182]\ttrain-mlogloss:0.31767\ttest-mlogloss:2.06665\n",
      "[183]\ttrain-mlogloss:0.31559\ttest-mlogloss:2.06681\n",
      "[184]\ttrain-mlogloss:0.313464\ttest-mlogloss:2.06697\n",
      "[185]\ttrain-mlogloss:0.311432\ttest-mlogloss:2.06684\n",
      "[186]\ttrain-mlogloss:0.309406\ttest-mlogloss:2.0669\n",
      "[187]\ttrain-mlogloss:0.307441\ttest-mlogloss:2.06689\n",
      "[188]\ttrain-mlogloss:0.305454\ttest-mlogloss:2.0668\n",
      "[189]\ttrain-mlogloss:0.303502\ttest-mlogloss:2.06694\n",
      "[190]\ttrain-mlogloss:0.301563\ttest-mlogloss:2.06705\n",
      "[191]\ttrain-mlogloss:0.299636\ttest-mlogloss:2.06706\n",
      "[192]\ttrain-mlogloss:0.297743\ttest-mlogloss:2.06711\n",
      "[193]\ttrain-mlogloss:0.295844\ttest-mlogloss:2.06721\n",
      "[194]\ttrain-mlogloss:0.29397\ttest-mlogloss:2.06729\n",
      "[195]\ttrain-mlogloss:0.292184\ttest-mlogloss:2.06742\n",
      "[196]\ttrain-mlogloss:0.290404\ttest-mlogloss:2.06728\n",
      "[197]\ttrain-mlogloss:0.288617\ttest-mlogloss:2.06745\n",
      "[198]\ttrain-mlogloss:0.286892\ttest-mlogloss:2.0676\n",
      "[199]\ttrain-mlogloss:0.285163\ttest-mlogloss:2.06756\n",
      "logloss val 2.0675610253097534\n"
     ]
    }
   ],
   "source": [
    "(X_train,X_val,y_train,y_val) = cv.train_test_split(X_train_total_with,y_train_total_with,test_size=0.2,\n",
    "                                                    stratify=y_train_total_with)\n",
    "xg_train = xgb.DMatrix(X_train,label = y_train)\n",
    "xg_test = xgb.DMatrix(X_val,label = y_val)\n",
    "param = {'max_depth':50,\n",
    "         'eta':0.05,\n",
    "         'silent':0,\n",
    "         'objective':'multi:softprob',\n",
    "         'nthread':2,\n",
    "         'num_class':12,\n",
    "         'eval_metric':'mlogloss',\n",
    "        'lambda':5,\n",
    "        'lambda_bias':0,\n",
    "        'alpha':2}\n",
    "num_round = 200\n",
    "watchlist = [(xg_train,'train'),(xg_test,'test')]\n",
    "bst = xgb.train(param,xg_train,num_round,watchlist)\n",
    "yprob = bst.predict(xg_test).reshape(y_val.shape[0],12)\n",
    "val_loss = log_loss(y_val, yprob)\n",
    "print('logloss val {}'.format(val_loss))\n",
    "del X_train,X_val,y_train,y_val"
   ]
  },
  {
   "cell_type": "markdown",
   "metadata": {},
   "source": [
    "# training with all data set"
   ]
  },
  {
   "cell_type": "code",
   "execution_count": 33,
   "metadata": {
    "collapsed": false
   },
   "outputs": [
    {
     "ename": "AttributeError",
     "evalue": "feature_names not found",
     "output_type": "error",
     "traceback": [
      "\u001b[0;31m---------------------------------------------------------------------------\u001b[0m",
      "\u001b[0;31mAttributeError\u001b[0m                            Traceback (most recent call last)",
      "\u001b[0;32m<ipython-input-33-a9208e786a76>\u001b[0m in \u001b[0;36m<module>\u001b[0;34m()\u001b[0m\n\u001b[1;32m      1\u001b[0m \u001b[0mxg_train\u001b[0m \u001b[0;34m=\u001b[0m \u001b[0mxgb\u001b[0m\u001b[0;34m.\u001b[0m\u001b[0mDMatrix\u001b[0m\u001b[0;34m(\u001b[0m\u001b[0mX_train_total_with\u001b[0m\u001b[0;34m,\u001b[0m\u001b[0mlabel\u001b[0m \u001b[0;34m=\u001b[0m \u001b[0my_train_total_with\u001b[0m\u001b[0;34m)\u001b[0m\u001b[0;34m\u001b[0m\u001b[0m\n\u001b[1;32m      2\u001b[0m \u001b[0mbst\u001b[0m \u001b[0;34m=\u001b[0m \u001b[0mxgb\u001b[0m\u001b[0;34m.\u001b[0m\u001b[0mtrain\u001b[0m\u001b[0;34m(\u001b[0m\u001b[0mparam\u001b[0m\u001b[0;34m,\u001b[0m\u001b[0mxg_train\u001b[0m\u001b[0;34m,\u001b[0m\u001b[0mnum_round\u001b[0m\u001b[0;34m)\u001b[0m\u001b[0;34m\u001b[0m\u001b[0m\n\u001b[0;32m----> 3\u001b[0;31m \u001b[0myprob\u001b[0m \u001b[0;34m=\u001b[0m \u001b[0mbst\u001b[0m\u001b[0;34m.\u001b[0m\u001b[0mpredict\u001b[0m\u001b[0;34m(\u001b[0m\u001b[0mX_test_total_with\u001b[0m\u001b[0;34m)\u001b[0m\u001b[0;34m.\u001b[0m\u001b[0mreshape\u001b[0m\u001b[0;34m(\u001b[0m\u001b[0mX_test_total_with\u001b[0m\u001b[0;34m.\u001b[0m\u001b[0mshape\u001b[0m\u001b[0;34m[\u001b[0m\u001b[0;36m0\u001b[0m\u001b[0;34m]\u001b[0m\u001b[0;34m,\u001b[0m\u001b[0;36m12\u001b[0m\u001b[0;34m)\u001b[0m\u001b[0;34m\u001b[0m\u001b[0m\n\u001b[0m\u001b[1;32m      4\u001b[0m pred_with_xgb = pd.DataFrame(yprob, \n\u001b[1;32m      5\u001b[0m                             \u001b[0mindex\u001b[0m \u001b[0;34m=\u001b[0m \u001b[0mgender_age_test_with\u001b[0m\u001b[0;34m.\u001b[0m\u001b[0mindex\u001b[0m\u001b[0;34m,\u001b[0m\u001b[0;34m\u001b[0m\u001b[0m\n",
      "\u001b[0;32m/opt/conda/lib/python3.5/site-packages/xgboost/core.py\u001b[0m in \u001b[0;36mpredict\u001b[0;34m(self, data, output_margin, ntree_limit, pred_leaf)\u001b[0m\n\u001b[1;32m    937\u001b[0m             \u001b[0moption_mask\u001b[0m \u001b[0;34m|=\u001b[0m \u001b[0;36m0x02\u001b[0m\u001b[0;34m\u001b[0m\u001b[0m\n\u001b[1;32m    938\u001b[0m \u001b[0;34m\u001b[0m\u001b[0m\n\u001b[0;32m--> 939\u001b[0;31m         \u001b[0mself\u001b[0m\u001b[0;34m.\u001b[0m\u001b[0m_validate_features\u001b[0m\u001b[0;34m(\u001b[0m\u001b[0mdata\u001b[0m\u001b[0;34m)\u001b[0m\u001b[0;34m\u001b[0m\u001b[0m\n\u001b[0m\u001b[1;32m    940\u001b[0m \u001b[0;34m\u001b[0m\u001b[0m\n\u001b[1;32m    941\u001b[0m         \u001b[0mlength\u001b[0m \u001b[0;34m=\u001b[0m \u001b[0mctypes\u001b[0m\u001b[0;34m.\u001b[0m\u001b[0mc_ulong\u001b[0m\u001b[0;34m(\u001b[0m\u001b[0;34m)\u001b[0m\u001b[0;34m\u001b[0m\u001b[0m\n",
      "\u001b[0;32m/opt/conda/lib/python3.5/site-packages/xgboost/core.py\u001b[0m in \u001b[0;36m_validate_features\u001b[0;34m(self, data)\u001b[0m\n\u001b[1;32m   1162\u001b[0m         \u001b[0;32melse\u001b[0m\u001b[0;34m:\u001b[0m\u001b[0;34m\u001b[0m\u001b[0m\n\u001b[1;32m   1163\u001b[0m             \u001b[0;31m# Booster can't accept data with different feature names\u001b[0m\u001b[0;34m\u001b[0m\u001b[0;34m\u001b[0m\u001b[0m\n\u001b[0;32m-> 1164\u001b[0;31m             \u001b[0;32mif\u001b[0m \u001b[0mself\u001b[0m\u001b[0;34m.\u001b[0m\u001b[0mfeature_names\u001b[0m \u001b[0;34m!=\u001b[0m \u001b[0mdata\u001b[0m\u001b[0;34m.\u001b[0m\u001b[0mfeature_names\u001b[0m\u001b[0;34m:\u001b[0m\u001b[0;34m\u001b[0m\u001b[0m\n\u001b[0m\u001b[1;32m   1165\u001b[0m                 \u001b[0mdat_missing\u001b[0m \u001b[0;34m=\u001b[0m \u001b[0mset\u001b[0m\u001b[0;34m(\u001b[0m\u001b[0mself\u001b[0m\u001b[0;34m.\u001b[0m\u001b[0mfeature_names\u001b[0m\u001b[0;34m)\u001b[0m \u001b[0;34m-\u001b[0m \u001b[0mset\u001b[0m\u001b[0;34m(\u001b[0m\u001b[0mdata\u001b[0m\u001b[0;34m.\u001b[0m\u001b[0mfeature_names\u001b[0m\u001b[0;34m)\u001b[0m\u001b[0;34m\u001b[0m\u001b[0m\n\u001b[1;32m   1166\u001b[0m                 \u001b[0mmy_missing\u001b[0m \u001b[0;34m=\u001b[0m \u001b[0mset\u001b[0m\u001b[0;34m(\u001b[0m\u001b[0mdata\u001b[0m\u001b[0;34m.\u001b[0m\u001b[0mfeature_names\u001b[0m\u001b[0;34m)\u001b[0m \u001b[0;34m-\u001b[0m \u001b[0mset\u001b[0m\u001b[0;34m(\u001b[0m\u001b[0mself\u001b[0m\u001b[0;34m.\u001b[0m\u001b[0mfeature_names\u001b[0m\u001b[0;34m)\u001b[0m\u001b[0;34m\u001b[0m\u001b[0m\n",
      "\u001b[0;32m/opt/conda/lib/python3.5/site-packages/scipy/sparse/base.py\u001b[0m in \u001b[0;36m__getattr__\u001b[0;34m(self, attr)\u001b[0m\n\u001b[1;32m    523\u001b[0m             \u001b[0;32mreturn\u001b[0m \u001b[0mself\u001b[0m\u001b[0;34m.\u001b[0m\u001b[0mgetnnz\u001b[0m\u001b[0;34m(\u001b[0m\u001b[0;34m)\u001b[0m\u001b[0;34m\u001b[0m\u001b[0m\n\u001b[1;32m    524\u001b[0m         \u001b[0;32melse\u001b[0m\u001b[0;34m:\u001b[0m\u001b[0;34m\u001b[0m\u001b[0m\n\u001b[0;32m--> 525\u001b[0;31m             \u001b[0;32mraise\u001b[0m \u001b[0mAttributeError\u001b[0m\u001b[0;34m(\u001b[0m\u001b[0mattr\u001b[0m \u001b[0;34m+\u001b[0m \u001b[0;34m\" not found\"\u001b[0m\u001b[0;34m)\u001b[0m\u001b[0;34m\u001b[0m\u001b[0m\n\u001b[0m\u001b[1;32m    526\u001b[0m \u001b[0;34m\u001b[0m\u001b[0m\n\u001b[1;32m    527\u001b[0m     \u001b[0;32mdef\u001b[0m \u001b[0mtranspose\u001b[0m\u001b[0;34m(\u001b[0m\u001b[0mself\u001b[0m\u001b[0;34m)\u001b[0m\u001b[0;34m:\u001b[0m\u001b[0;34m\u001b[0m\u001b[0m\n",
      "\u001b[0;31mAttributeError\u001b[0m: feature_names not found"
     ]
    }
   ],
   "source": [
    "xg_train = xgb.DMatrix(X_train_total_with,label = y_train_total_with)\n",
    "xg_test = xgb.DMatrix(X_val)\n",
    "bst = xgb.train(param,xg_train,num_round)\n",
    "yprob = bst.predict(xg_test).reshape(X_test_total_with.shape[0],12)\n",
    "pred_with_xgb = pd.DataFrame(yprob, \n",
    "                            index = gender_age_test_with.index, \n",
    "                            columns=targetencoder.classes_)\n",
    "pred_with_xgb.to_csv('xgb_with_result{}.csv'.format(val_loss))"
   ]
  },
  {
   "cell_type": "markdown",
   "metadata": {
    "collapsed": false
   },
   "source": [
    "## Logistic regression"
   ]
  },
  {
   "cell_type": "code",
   "execution_count": 67,
   "metadata": {
    "collapsed": false
   },
   "outputs": [
    {
     "name": "stdout",
     "output_type": "stream",
     "text": [
      "0.0180472176683\n",
      "newton-cg\n",
      "1.99455721395\n"
     ]
    },
    {
     "name": "stderr",
     "output_type": "stream",
     "text": [
      "/opt/conda/lib/python3.5/site-packages/sklearn/grid_search.py:418: ChangedBehaviorWarning: The long-standing behavior to use the estimator's score function in GridSearchCV.score has changed. The scoring parameter is now used.\n",
      "  ChangedBehaviorWarning)\n"
     ]
    }
   ],
   "source": [
    "(X_train,X_val,y_train,y_val) = cv.train_test_split(X_train_total_with,y_train_total_with,test_size=0.2,\n",
    "                                                    stratify=y_train_total_with)\n",
    "#lr grid search\n",
    "lr = LogisticRegression(multi_class='multinomial')\n",
    "solver_value = ['newton-cg']\n",
    "C_value = np.logspace(-2,0,40)\n",
    "clf = GridSearchCV(estimator=lr,param_grid = dict(C=C_value,solver=solver_value),\n",
    "                   scoring='log_loss')\n",
    "clf.fit(X_train,y_train)\n",
    "print(clf.best_estimator_.C)\n",
    "print(clf.best_estimator_.solver)\n",
    "val_loss_ave_without= -clf.score(X_val,y_val)\n",
    "print(val_loss_ave_without)"
   ]
  },
  {
   "cell_type": "code",
   "execution_count": 68,
   "metadata": {
    "collapsed": false
   },
   "outputs": [],
   "source": [
    "lr = LogisticRegression(C=0.0180472176683,multi_class='multinomial',solver='newton-cg')\n",
    "lr.fit(X_train_total_with,y_train_total_with)\n",
    "score_ave_with_lr = lr.predict_proba(X_test_total_with)\n",
    "pred_with_lr = pd.DataFrame(score_ave_with_lr, \n",
    "                            index = gender_age_test_with.index, \n",
    "                            columns=targetencoder.classes_)\n",
    "pred_with_lr.to_csv('lr_with_result{}.csv'.format(val_loss_ave_with))"
   ]
  },
  {
   "cell_type": "markdown",
   "metadata": {},
   "source": [
    "# Subset II: device without events"
   ]
  },
  {
   "cell_type": "code",
   "execution_count": 43,
   "metadata": {
    "collapsed": false
   },
   "outputs": [],
   "source": [
    "y_train_total_without = targetencoder.transform(gender_age_train_without_temp.group)"
   ]
  },
  {
   "cell_type": "markdown",
   "metadata": {},
   "source": [
    "##  Device without eventsI: Naive Bayes, Logistic Regression"
   ]
  },
  {
   "cell_type": "markdown",
   "metadata": {},
   "source": [
    "Grid search of parameters."
   ]
  },
  {
   "cell_type": "code",
   "execution_count": 61,
   "metadata": {
    "collapsed": false
   },
   "outputs": [
    {
     "name": "stdout",
     "output_type": "stream",
     "text": [
      "1204.50354026\n",
      "2.42330723892\n"
     ]
    },
    {
     "name": "stderr",
     "output_type": "stream",
     "text": [
      "/opt/conda/lib/python3.5/site-packages/sklearn/grid_search.py:418: ChangedBehaviorWarning: The long-standing behavior to use the estimator's score function in GridSearchCV.score has changed. The scoring parameter is now used.\n",
      "  ChangedBehaviorWarning)\n"
     ]
    }
   ],
   "source": [
    "#NB grid search\n",
    "nbc = MultinomialNB()\n",
    "alpha_value = np.logspace(-3,4,100)\n",
    "clf = GridSearchCV(estimator=nbc,param_grid = dict(alpha=alpha_value),scoring='log_loss')\n",
    "clf.fit(X_train,y_train)\n",
    "print(clf.best_estimator_.alpha)\n",
    "print(-clf.score(X_val,y_val))"
   ]
  },
  {
   "cell_type": "code",
   "execution_count": 55,
   "metadata": {
    "collapsed": false
   },
   "outputs": [
    {
     "name": "stdout",
     "output_type": "stream",
     "text": [
      "0.0744380301325\n",
      "lbfgs\n",
      "2.39019928895\n"
     ]
    },
    {
     "name": "stderr",
     "output_type": "stream",
     "text": [
      "/opt/conda/lib/python3.5/site-packages/sklearn/grid_search.py:418: ChangedBehaviorWarning: The long-standing behavior to use the estimator's score function in GridSearchCV.score has changed. The scoring parameter is now used.\n",
      "  ChangedBehaviorWarning)\n"
     ]
    }
   ],
   "source": [
    "#lr grid search\n",
    "(X_train,X_val,y_train,y_val) = cv.train_test_split(X_train_total_with,y_train_total_with,test_size=0.2,\n",
    "                                                    stratify=y_train_total_without)\n",
    "lr = LogisticRegression(multi_class='multinomial')\n",
    "solver_value = ['lbfgs']\n",
    "C_value = np.logspace(-2,0,40)\n",
    "clf = GridSearchCV(estimator=lr,param_grid = dict(C=C_value,solver=solver_value),\n",
    "                   scoring='log_loss')\n",
    "clf.fit(X_train,y_train)\n",
    "print(clf.best_estimator_.C)\n",
    "print(clf.best_estimator_.solver)\n",
    "val_loss_ave_without= -clf.score(X_val,y_val)\n",
    "print(val_loss_ave_without)\n",
    "del X_train,X_val,y_train,y_val"
   ]
  },
  {
   "cell_type": "markdown",
   "metadata": {},
   "source": [
    "Actual training"
   ]
  },
  {
   "cell_type": "code",
   "execution_count": 56,
   "metadata": {
    "collapsed": true
   },
   "outputs": [],
   "source": [
    "#lr = LogisticRegression(C=0.02,multi_class='multinomial',solver='newton-cg')\n",
    "lr = LogisticRegression(C=0.0744380301325,multi_class='multinomial',solver='lbfgs')\n",
    "lr.fit(X_train_total_without,y_train_total_without)\n",
    "score_ave_without_lr = lr.predict_proba(X_test_total_without)\n",
    "pred_without_lr = pd.DataFrame(score_ave_without_lr, \n",
    "                            index = gender_age_test_without.index, \n",
    "                            columns=targetencoder.classes_)\n",
    "pred_without_lr.to_csv('lr_without_result{}.csv'.format(val_loss_ave_without))"
   ]
  },
  {
   "cell_type": "code",
   "execution_count": 40,
   "metadata": {
    "collapsed": false
   },
   "outputs": [
    {
     "data": {
      "text/plain": [
       "\"kf = StratifiedKFold(y_train_total_without,n_folds = 10,random_state = 1)\\nscore_list_without=[]\\nval_loss_list_without = []\\nfor index,(train, test) in enumerate(kf):\\n    X_train_without = X_train_total_without[train]\\n    y_train_without = y_train_total_without[train]\\n    X_val_without = X_train_total_without[test]\\n    y_val_without = y_train_total_without[test]\\n    print('*****************************************************')\\n    print('{}_fold'.format(index))\\n    lr = LogisticRegression(C=0.0774263682681,multi_class='multinomial',solver='newton-cg')\\n    lr.fit(X_train_without,y_train_without)\\n    scores_val_without = lr.predict_proba(X_val_without)\\n    val_loss = log_loss(y_val_without, scores_val_without)\\n    val_loss_list_without.append(val_loss)\\n    print('logloss val {}'.format(val_loss))\\n    \\n    scores_without = lr.predict_proba(X_test_total_without)\\n    score_list_without.append(scores_without)\\n    \\nfor index,i in enumerate(val_loss_list_without):\\n    if(index==0):\\n        sumi = i\\n    else:\\n        sumi = i+sumi\\nval_loss_ave_without = sumi/len(score_list_without)\\nprint('average logloss val {}'.format(val_loss_ave_without))\\nfor index,i in enumerate(score_list_without):\\n    if(index==0):\\n        sumi = i\\n    else:\\n        sumi = i+sumi\\nscore_ave_without = sumi/len(score_list_without)\\npred_without = pd.DataFrame(score_ave_without, index = gender_age_test_without.index, columns=targetencoder.classes_)\""
      ]
     },
     "execution_count": 40,
     "metadata": {},
     "output_type": "execute_result"
    }
   ],
   "source": [
    "'''kf = StratifiedKFold(y_train_total_without,n_folds = 10,random_state = 1)\n",
    "score_list_without=[]\n",
    "val_loss_list_without = []\n",
    "for index,(train, test) in enumerate(kf):\n",
    "    X_train_without = X_train_total_without[train]\n",
    "    y_train_without = y_train_total_without[train]\n",
    "    X_val_without = X_train_total_without[test]\n",
    "    y_val_without = y_train_total_without[test]\n",
    "    print('*****************************************************')\n",
    "    print('{}_fold'.format(index))\n",
    "    lr = LogisticRegression(C=0.0774263682681,multi_class='multinomial',solver='newton-cg')\n",
    "    lr.fit(X_train_without,y_train_without)\n",
    "    scores_val_without = lr.predict_proba(X_val_without)\n",
    "    val_loss = log_loss(y_val_without, scores_val_without)\n",
    "    val_loss_list_without.append(val_loss)\n",
    "    print('logloss val {}'.format(val_loss))\n",
    "    \n",
    "    scores_without = lr.predict_proba(X_test_total_without)\n",
    "    score_list_without.append(scores_without)\n",
    "    \n",
    "for index,i in enumerate(val_loss_list_without):\n",
    "    if(index==0):\n",
    "        sumi = i\n",
    "    else:\n",
    "        sumi = i+sumi\n",
    "val_loss_ave_without = sumi/len(score_list_without)\n",
    "print('average logloss val {}'.format(val_loss_ave_without))\n",
    "for index,i in enumerate(score_list_without):\n",
    "    if(index==0):\n",
    "        sumi = i\n",
    "    else:\n",
    "        sumi = i+sumi\n",
    "score_ave_without = sumi/len(score_list_without)\n",
    "pred_without = pd.DataFrame(score_ave_without, index = gender_age_test_without.index, columns=targetencoder.classes_)'''"
   ]
  },
  {
   "cell_type": "markdown",
   "metadata": {},
   "source": [
    "## Device without eventsII: Deep learning"
   ]
  },
  {
   "cell_type": "code",
   "execution_count": 57,
   "metadata": {
    "collapsed": false,
    "scrolled": true
   },
   "outputs": [
    {
     "name": "stdout",
     "output_type": "stream",
     "text": [
      "*****************************************************\n",
      "0_fold\n",
      "Epoch 1/20\n"
     ]
    },
    {
     "name": "stderr",
     "output_type": "stream",
     "text": [
      "/opt/conda/lib/python3.5/site-packages/keras/engine/training.py:1460: UserWarning: Epoch comprised more than `samples_per_epoch` samples, which might affect learning results. Set `samples_per_epoch` correctly to avoid this warning.\n",
      "  warnings.warn('Epoch comprised more than '\n"
     ]
    },
    {
     "name": "stdout",
     "output_type": "stream",
     "text": [
      "1s - loss: 2.4629 - acc: 0.1261 - val_loss: 2.4279 - val_acc: 0.1287\n",
      "Epoch 2/20\n",
      "1s - loss: 2.4256 - acc: 0.1298 - val_loss: 2.4264 - val_acc: 0.1287\n",
      "Epoch 3/20\n",
      "1s - loss: 2.4268 - acc: 0.1271 - val_loss: 2.4253 - val_acc: 0.1287\n",
      "Epoch 4/20\n",
      "1s - loss: 2.4219 - acc: 0.1285 - val_loss: 2.4250 - val_acc: 0.1287\n",
      "Epoch 5/20\n",
      "1s - loss: 2.4209 - acc: 0.1289 - val_loss: 2.4248 - val_acc: 0.1287\n",
      "Epoch 6/20\n",
      "1s - loss: 2.4194 - acc: 0.1308 - val_loss: 2.4247 - val_acc: 0.1293\n",
      "Epoch 7/20\n",
      "1s - loss: 2.4163 - acc: 0.1341 - val_loss: 2.4246 - val_acc: 0.1342\n",
      "Epoch 8/20\n",
      "1s - loss: 2.4120 - acc: 0.1401 - val_loss: 2.4236 - val_acc: 0.1407\n",
      "Epoch 9/20\n",
      "1s - loss: 2.4066 - acc: 0.1465 - val_loss: 2.4183 - val_acc: 0.1399\n",
      "Epoch 10/20\n",
      "1s - loss: 2.4017 - acc: 0.1440 - val_loss: 2.4161 - val_acc: 0.1390\n",
      "Epoch 11/20\n",
      "1s - loss: 2.3980 - acc: 0.1443 - val_loss: 2.4128 - val_acc: 0.1402\n",
      "Epoch 12/20\n",
      "1s - loss: 2.3968 - acc: 0.1431 - val_loss: 2.4130 - val_acc: 0.1431\n",
      "Epoch 13/20\n",
      "1s - loss: 2.3945 - acc: 0.1450 - val_loss: 2.4107 - val_acc: 0.1453\n",
      "Epoch 14/20\n",
      "1s - loss: 2.3915 - acc: 0.1491 - val_loss: 2.4097 - val_acc: 0.1513\n",
      "Epoch 15/20\n",
      "1s - loss: 2.3920 - acc: 0.1489 - val_loss: 2.4081 - val_acc: 0.1512\n",
      "Epoch 16/20\n",
      "1s - loss: 2.3887 - acc: 0.1519 - val_loss: 2.4084 - val_acc: 0.1494\n",
      "Epoch 17/20\n",
      "1s - loss: 2.3877 - acc: 0.1501 - val_loss: 2.4071 - val_acc: 0.1504\n",
      "Epoch 18/20\n",
      "1s - loss: 2.3863 - acc: 0.1521 - val_loss: 2.4079 - val_acc: 0.1512\n",
      "Epoch 19/20\n",
      "1s - loss: 2.3848 - acc: 0.1529 - val_loss: 2.4072 - val_acc: 0.1474\n",
      "Epoch 20/20\n",
      "1s - loss: 2.3841 - acc: 0.1529 - val_loss: 2.4065 - val_acc: 0.1505\n",
      "logloss val 2.406513364236188\n",
      "*****************************************************\n",
      "1_fold\n",
      "Epoch 1/20\n",
      "2s - loss: 2.4639 - acc: 0.1261 - val_loss: 2.4276 - val_acc: 0.1287\n",
      "Epoch 2/20\n",
      "2s - loss: 2.4269 - acc: 0.1280 - val_loss: 2.4253 - val_acc: 0.1287\n",
      "Epoch 3/20\n",
      "2s - loss: 2.4235 - acc: 0.1282 - val_loss: 2.4235 - val_acc: 0.1294\n",
      "Epoch 4/20\n",
      "2s - loss: 2.4233 - acc: 0.1288 - val_loss: 2.4219 - val_acc: 0.1287\n",
      "Epoch 5/20\n",
      "2s - loss: 2.4215 - acc: 0.1292 - val_loss: 2.4213 - val_acc: 0.1284\n",
      "Epoch 6/20\n",
      "2s - loss: 2.4191 - acc: 0.1310 - val_loss: 2.4207 - val_acc: 0.1307\n",
      "Epoch 7/20\n",
      "2s - loss: 2.4194 - acc: 0.1319 - val_loss: 2.4199 - val_acc: 0.1291\n",
      "Epoch 8/20\n",
      "2s - loss: 2.4168 - acc: 0.1325 - val_loss: 2.4193 - val_acc: 0.1288\n",
      "Epoch 9/20\n",
      "2s - loss: 2.4157 - acc: 0.1368 - val_loss: 2.4172 - val_acc: 0.1390\n",
      "Epoch 10/20\n",
      "2s - loss: 2.4109 - acc: 0.1394 - val_loss: 2.4134 - val_acc: 0.1433\n",
      "Epoch 11/20\n",
      "2s - loss: 2.4066 - acc: 0.1433 - val_loss: 2.4080 - val_acc: 0.1409\n",
      "Epoch 12/20\n",
      "2s - loss: 2.4021 - acc: 0.1423 - val_loss: 2.4046 - val_acc: 0.1404\n",
      "Epoch 13/20\n",
      "2s - loss: 2.3983 - acc: 0.1427 - val_loss: 2.4025 - val_acc: 0.1430\n",
      "Epoch 14/20\n",
      "2s - loss: 2.3971 - acc: 0.1440 - val_loss: 2.4006 - val_acc: 0.1422\n",
      "Epoch 15/20\n",
      "2s - loss: 2.3950 - acc: 0.1449 - val_loss: 2.3994 - val_acc: 0.1450\n",
      "Epoch 16/20\n",
      "2s - loss: 2.3940 - acc: 0.1443 - val_loss: 2.3985 - val_acc: 0.1466\n",
      "Epoch 17/20\n",
      "2s - loss: 2.3909 - acc: 0.1476 - val_loss: 2.3975 - val_acc: 0.1476\n",
      "Epoch 18/20\n",
      "2s - loss: 2.3900 - acc: 0.1493 - val_loss: 2.3972 - val_acc: 0.1466\n",
      "Epoch 19/20\n",
      "2s - loss: 2.3893 - acc: 0.1504 - val_loss: 2.3964 - val_acc: 0.1487\n",
      "Epoch 20/20\n",
      "1s - loss: 2.3877 - acc: 0.1511 - val_loss: 2.3967 - val_acc: 0.1503\n",
      "logloss val 2.39665597203874\n",
      "*****************************************************\n",
      "2_fold\n",
      "Epoch 1/20\n",
      "1s - loss: 2.4605 - acc: 0.1268 - val_loss: 2.4274 - val_acc: 0.1288\n",
      "Epoch 2/20\n",
      "1s - loss: 2.4270 - acc: 0.1277 - val_loss: 2.4252 - val_acc: 0.1287\n",
      "Epoch 3/20\n",
      "1s - loss: 2.4254 - acc: 0.1285 - val_loss: 2.4232 - val_acc: 0.1287\n",
      "Epoch 4/20\n",
      "1s - loss: 2.4227 - acc: 0.1284 - val_loss: 2.4213 - val_acc: 0.1287\n",
      "Epoch 5/20\n",
      "1s - loss: 2.4207 - acc: 0.1298 - val_loss: 2.4198 - val_acc: 0.1287\n",
      "Epoch 6/20\n",
      "1s - loss: 2.4200 - acc: 0.1318 - val_loss: 2.4190 - val_acc: 0.1303\n",
      "Epoch 7/20\n",
      "1s - loss: 2.4186 - acc: 0.1370 - val_loss: 2.4176 - val_acc: 0.1375\n",
      "Epoch 8/20\n",
      "1s - loss: 2.4135 - acc: 0.1423 - val_loss: 2.4145 - val_acc: 0.1420\n",
      "Epoch 9/20\n",
      "1s - loss: 2.4095 - acc: 0.1416 - val_loss: 2.4083 - val_acc: 0.1405\n",
      "Epoch 10/20\n",
      "1s - loss: 2.4025 - acc: 0.1427 - val_loss: 2.4046 - val_acc: 0.1442\n",
      "Epoch 11/20\n",
      "1s - loss: 2.3983 - acc: 0.1449 - val_loss: 2.4027 - val_acc: 0.1428\n",
      "Epoch 12/20\n",
      "1s - loss: 2.3971 - acc: 0.1445 - val_loss: 2.4010 - val_acc: 0.1445\n",
      "Epoch 13/20\n",
      "1s - loss: 2.3941 - acc: 0.1463 - val_loss: 2.3999 - val_acc: 0.1469\n",
      "Epoch 14/20\n",
      "1s - loss: 2.3943 - acc: 0.1479 - val_loss: 2.3990 - val_acc: 0.1493\n",
      "Epoch 15/20\n",
      "1s - loss: 2.3914 - acc: 0.1476 - val_loss: 2.3987 - val_acc: 0.1537\n",
      "Epoch 16/20\n",
      "1s - loss: 2.3908 - acc: 0.1482 - val_loss: 2.3983 - val_acc: 0.1568\n",
      "Epoch 17/20\n",
      "1s - loss: 2.3881 - acc: 0.1507 - val_loss: 2.3975 - val_acc: 0.1578\n",
      "Epoch 18/20\n",
      "1s - loss: 2.3862 - acc: 0.1529 - val_loss: 2.3976 - val_acc: 0.1578\n",
      "Epoch 19/20\n",
      "1s - loss: 2.3870 - acc: 0.1520 - val_loss: 2.3976 - val_acc: 0.1537\n",
      "Epoch 20/20\n",
      "1s - loss: 2.3850 - acc: 0.1533 - val_loss: 2.3979 - val_acc: 0.1543\n",
      "logloss val 2.3978786770719847\n",
      "*****************************************************\n",
      "3_fold\n",
      "Epoch 1/20\n",
      "3s - loss: 2.4695 - acc: 0.1253 - val_loss: 2.4306 - val_acc: 0.1298\n",
      "Epoch 2/20\n",
      "2s - loss: 2.4272 - acc: 0.1294 - val_loss: 2.4265 - val_acc: 0.1287\n",
      "Epoch 3/20\n",
      "2s - loss: 2.4256 - acc: 0.1278 - val_loss: 2.4249 - val_acc: 0.1287\n",
      "Epoch 4/20\n",
      "2s - loss: 2.4236 - acc: 0.1291 - val_loss: 2.4235 - val_acc: 0.1287\n",
      "Epoch 5/20\n",
      "2s - loss: 2.4209 - acc: 0.1278 - val_loss: 2.4225 - val_acc: 0.1354\n",
      "Epoch 6/20\n",
      "2s - loss: 2.4202 - acc: 0.1300 - val_loss: 2.4214 - val_acc: 0.1302\n",
      "Epoch 7/20\n",
      "2s - loss: 2.4191 - acc: 0.1320 - val_loss: 2.4209 - val_acc: 0.1302\n",
      "Epoch 8/20\n",
      "2s - loss: 2.4157 - acc: 0.1355 - val_loss: 2.4198 - val_acc: 0.1343\n",
      "Epoch 9/20\n",
      "2s - loss: 2.4154 - acc: 0.1396 - val_loss: 2.4179 - val_acc: 0.1382\n",
      "Epoch 10/20\n",
      "2s - loss: 2.4121 - acc: 0.1412 - val_loss: 2.4136 - val_acc: 0.1433\n",
      "Epoch 11/20\n",
      "2s - loss: 2.4045 - acc: 0.1431 - val_loss: 2.4093 - val_acc: 0.1370\n",
      "Epoch 12/20\n",
      "2s - loss: 2.3978 - acc: 0.1443 - val_loss: 2.4081 - val_acc: 0.1323\n",
      "Epoch 13/20\n",
      "2s - loss: 2.3973 - acc: 0.1463 - val_loss: 2.4082 - val_acc: 0.1275\n",
      "Epoch 14/20\n",
      "2s - loss: 2.3944 - acc: 0.1471 - val_loss: 2.4067 - val_acc: 0.1342\n",
      "Epoch 15/20\n",
      "2s - loss: 2.3922 - acc: 0.1485 - val_loss: 2.4059 - val_acc: 0.1347\n",
      "Epoch 16/20\n",
      "2s - loss: 2.3910 - acc: 0.1495 - val_loss: 2.4057 - val_acc: 0.1355\n",
      "Epoch 17/20\n",
      "2s - loss: 2.3887 - acc: 0.1518 - val_loss: 2.4058 - val_acc: 0.1382\n",
      "Epoch 18/20\n",
      "2s - loss: 2.3887 - acc: 0.1526 - val_loss: 2.4057 - val_acc: 0.1397\n",
      "Epoch 19/20\n",
      "2s - loss: 2.3845 - acc: 0.1545 - val_loss: 2.4056 - val_acc: 0.1383\n",
      "Epoch 20/20\n",
      "2s - loss: 2.3865 - acc: 0.1538 - val_loss: 2.4058 - val_acc: 0.1410\n",
      "logloss val 2.405777173219826\n",
      "*****************************************************\n",
      "4_fold\n",
      "Epoch 1/20\n",
      "1s - loss: 2.4660 - acc: 0.1281 - val_loss: 2.4280 - val_acc: 0.1287\n",
      "Epoch 2/20\n",
      "1s - loss: 2.4262 - acc: 0.1278 - val_loss: 2.4261 - val_acc: 0.1270\n",
      "Epoch 3/20\n",
      "1s - loss: 2.4251 - acc: 0.1281 - val_loss: 2.4245 - val_acc: 0.1287\n",
      "Epoch 4/20\n",
      "1s - loss: 2.4228 - acc: 0.1299 - val_loss: 2.4232 - val_acc: 0.1287\n",
      "Epoch 5/20\n",
      "1s - loss: 2.4211 - acc: 0.1281 - val_loss: 2.4222 - val_acc: 0.1287\n",
      "Epoch 6/20\n",
      "1s - loss: 2.4194 - acc: 0.1286 - val_loss: 2.4213 - val_acc: 0.1364\n",
      "Epoch 7/20\n",
      "1s - loss: 2.4178 - acc: 0.1333 - val_loss: 2.4198 - val_acc: 0.1369\n",
      "Epoch 8/20\n",
      "1s - loss: 2.4164 - acc: 0.1384 - val_loss: 2.4167 - val_acc: 0.1406\n",
      "Epoch 9/20\n",
      "1s - loss: 2.4099 - acc: 0.1414 - val_loss: 2.4104 - val_acc: 0.1424\n",
      "Epoch 10/20\n",
      "1s - loss: 2.4027 - acc: 0.1438 - val_loss: 2.4057 - val_acc: 0.1467\n",
      "Epoch 11/20\n",
      "1s - loss: 2.3989 - acc: 0.1431 - val_loss: 2.4043 - val_acc: 0.1501\n",
      "Epoch 12/20\n",
      "1s - loss: 2.3962 - acc: 0.1471 - val_loss: 2.4031 - val_acc: 0.1477\n",
      "Epoch 13/20\n",
      "1s - loss: 2.3942 - acc: 0.1477 - val_loss: 2.4019 - val_acc: 0.1460\n",
      "Epoch 14/20\n",
      "1s - loss: 2.3923 - acc: 0.1501 - val_loss: 2.4016 - val_acc: 0.1449\n",
      "Epoch 15/20\n",
      "1s - loss: 2.3907 - acc: 0.1509 - val_loss: 2.4010 - val_acc: 0.1408\n",
      "Epoch 16/20\n",
      "1s - loss: 2.3876 - acc: 0.1527 - val_loss: 2.4011 - val_acc: 0.1436\n",
      "Epoch 17/20\n",
      "1s - loss: 2.3891 - acc: 0.1512 - val_loss: 2.4011 - val_acc: 0.1447\n",
      "Epoch 18/20\n",
      "1s - loss: 2.3846 - acc: 0.1537 - val_loss: 2.4009 - val_acc: 0.1428\n",
      "Epoch 19/20\n",
      "1s - loss: 2.3855 - acc: 0.1526 - val_loss: 2.4004 - val_acc: 0.1426\n",
      "Epoch 20/20\n",
      "1s - loss: 2.3835 - acc: 0.1537 - val_loss: 2.4002 - val_acc: 0.1449\n",
      "logloss val 2.400220066269058\n",
      "*****************************************************\n",
      "5_fold\n",
      "Epoch 1/20\n",
      "2s - loss: 2.4627 - acc: 0.1263 - val_loss: 2.4280 - val_acc: 0.1286\n",
      "Epoch 2/20\n",
      "2s - loss: 2.4262 - acc: 0.1278 - val_loss: 2.4265 - val_acc: 0.1330\n",
      "Epoch 3/20\n",
      "2s - loss: 2.4259 - acc: 0.1300 - val_loss: 2.4254 - val_acc: 0.1286\n",
      "Epoch 4/20\n",
      "2s - loss: 2.4224 - acc: 0.1282 - val_loss: 2.4244 - val_acc: 0.1286\n",
      "Epoch 5/20\n",
      "2s - loss: 2.4203 - acc: 0.1295 - val_loss: 2.4234 - val_acc: 0.1286\n",
      "Epoch 6/20\n",
      "2s - loss: 2.4202 - acc: 0.1296 - val_loss: 2.4226 - val_acc: 0.1326\n",
      "Epoch 7/20\n",
      "2s - loss: 2.4182 - acc: 0.1319 - val_loss: 2.4216 - val_acc: 0.1316\n",
      "Epoch 8/20\n",
      "2s - loss: 2.4166 - acc: 0.1331 - val_loss: 2.4200 - val_acc: 0.1332\n",
      "Epoch 9/20\n",
      "2s - loss: 2.4145 - acc: 0.1366 - val_loss: 2.4177 - val_acc: 0.1353\n",
      "Epoch 10/20\n",
      "2s - loss: 2.4126 - acc: 0.1401 - val_loss: 2.4124 - val_acc: 0.1416\n",
      "Epoch 11/20\n",
      "2s - loss: 2.4049 - acc: 0.1425 - val_loss: 2.4045 - val_acc: 0.1462\n",
      "Epoch 12/20\n",
      "2s - loss: 2.4004 - acc: 0.1436 - val_loss: 2.4011 - val_acc: 0.1454\n",
      "Epoch 13/20\n",
      "2s - loss: 2.3983 - acc: 0.1440 - val_loss: 2.4000 - val_acc: 0.1448\n",
      "Epoch 14/20\n",
      "2s - loss: 2.3951 - acc: 0.1456 - val_loss: 2.3995 - val_acc: 0.1456\n",
      "Epoch 15/20\n",
      "2s - loss: 2.3935 - acc: 0.1477 - val_loss: 2.3990 - val_acc: 0.1459\n",
      "Epoch 16/20\n",
      "2s - loss: 2.3922 - acc: 0.1485 - val_loss: 2.3986 - val_acc: 0.1509\n",
      "Epoch 17/20\n",
      "2s - loss: 2.3908 - acc: 0.1492 - val_loss: 2.3987 - val_acc: 0.1515\n",
      "Epoch 18/20\n",
      "2s - loss: 2.3884 - acc: 0.1523 - val_loss: 2.3984 - val_acc: 0.1521\n",
      "Epoch 19/20\n",
      "2s - loss: 2.3886 - acc: 0.1518 - val_loss: 2.3983 - val_acc: 0.1530\n",
      "Epoch 20/20\n",
      "2s - loss: 2.3856 - acc: 0.1518 - val_loss: 2.3984 - val_acc: 0.1530\n",
      "logloss val 2.398418695389394\n",
      "*****************************************************\n",
      "6_fold\n",
      "Epoch 1/20\n",
      "1s - loss: 2.4667 - acc: 0.1260 - val_loss: 2.4284 - val_acc: 0.1269\n",
      "Epoch 2/20\n",
      "1s - loss: 2.4274 - acc: 0.1279 - val_loss: 2.4257 - val_acc: 0.1286\n",
      "Epoch 3/20\n",
      "1s - loss: 2.4252 - acc: 0.1268 - val_loss: 2.4237 - val_acc: 0.1306\n",
      "Epoch 4/20\n",
      "1s - loss: 2.4236 - acc: 0.1300 - val_loss: 2.4215 - val_acc: 0.1286\n",
      "Epoch 5/20\n",
      "1s - loss: 2.4221 - acc: 0.1296 - val_loss: 2.4205 - val_acc: 0.1286\n",
      "Epoch 6/20\n",
      "1s - loss: 2.4199 - acc: 0.1297 - val_loss: 2.4180 - val_acc: 0.1316\n",
      "Epoch 7/20\n",
      "1s - loss: 2.4187 - acc: 0.1373 - val_loss: 2.4152 - val_acc: 0.1428\n",
      "Epoch 8/20\n",
      "1s - loss: 2.4139 - acc: 0.1413 - val_loss: 2.4084 - val_acc: 0.1411\n",
      "Epoch 9/20\n",
      "1s - loss: 2.4050 - acc: 0.1428 - val_loss: 2.4012 - val_acc: 0.1439\n",
      "Epoch 10/20\n",
      "1s - loss: 2.4014 - acc: 0.1430 - val_loss: 2.3986 - val_acc: 0.1444\n",
      "Epoch 11/20\n",
      "1s - loss: 2.3983 - acc: 0.1446 - val_loss: 2.3979 - val_acc: 0.1451\n",
      "Epoch 12/20\n",
      "1s - loss: 2.3944 - acc: 0.1460 - val_loss: 2.3972 - val_acc: 0.1473\n",
      "Epoch 13/20\n",
      "1s - loss: 2.3931 - acc: 0.1475 - val_loss: 2.3967 - val_acc: 0.1490\n",
      "Epoch 14/20\n",
      "1s - loss: 2.3922 - acc: 0.1478 - val_loss: 2.3970 - val_acc: 0.1502\n",
      "Epoch 15/20\n",
      "1s - loss: 2.3903 - acc: 0.1515 - val_loss: 2.3964 - val_acc: 0.1487\n",
      "Epoch 16/20\n",
      "1s - loss: 2.3884 - acc: 0.1521 - val_loss: 2.3967 - val_acc: 0.1501\n",
      "Epoch 17/20\n",
      "1s - loss: 2.3868 - acc: 0.1529 - val_loss: 2.3961 - val_acc: 0.1473\n",
      "Epoch 18/20\n",
      "1s - loss: 2.3853 - acc: 0.1533 - val_loss: 2.3963 - val_acc: 0.1485\n",
      "Epoch 19/20\n",
      "1s - loss: 2.3850 - acc: 0.1534 - val_loss: 2.3960 - val_acc: 0.1481\n",
      "Epoch 20/20\n",
      "1s - loss: 2.3846 - acc: 0.1529 - val_loss: 2.3963 - val_acc: 0.1491\n",
      "logloss val 2.3963135852101947\n",
      "*****************************************************\n",
      "7_fold\n",
      "Epoch 1/20\n",
      "2s - loss: 2.4646 - acc: 0.1268 - val_loss: 2.4273 - val_acc: 0.1269\n",
      "Epoch 2/20\n",
      "2s - loss: 2.4274 - acc: 0.1288 - val_loss: 2.4244 - val_acc: 0.1286\n",
      "Epoch 3/20\n",
      "2s - loss: 2.4250 - acc: 0.1272 - val_loss: 2.4221 - val_acc: 0.1286\n",
      "Epoch 4/20\n",
      "2s - loss: 2.4218 - acc: 0.1303 - val_loss: 2.4198 - val_acc: 0.1286\n",
      "Epoch 5/20\n",
      "2s - loss: 2.4205 - acc: 0.1352 - val_loss: 2.4166 - val_acc: 0.1372\n",
      "Epoch 6/20\n",
      "2s - loss: 2.4164 - acc: 0.1422 - val_loss: 2.4102 - val_acc: 0.1359\n",
      "Epoch 7/20\n",
      "2s - loss: 2.4077 - acc: 0.1419 - val_loss: 2.4014 - val_acc: 0.1367\n",
      "Epoch 8/20\n",
      "2s - loss: 2.4040 - acc: 0.1425 - val_loss: 2.3988 - val_acc: 0.1403\n",
      "Epoch 9/20\n",
      "2s - loss: 2.3994 - acc: 0.1455 - val_loss: 2.3967 - val_acc: 0.1406\n",
      "Epoch 10/20\n",
      "2s - loss: 2.3976 - acc: 0.1469 - val_loss: 2.3962 - val_acc: 0.1431\n",
      "Epoch 11/20\n",
      "2s - loss: 2.3957 - acc: 0.1463 - val_loss: 2.3952 - val_acc: 0.1404\n",
      "Epoch 12/20\n",
      "2s - loss: 2.3943 - acc: 0.1479 - val_loss: 2.3951 - val_acc: 0.1446\n",
      "Epoch 13/20\n",
      "2s - loss: 2.3921 - acc: 0.1511 - val_loss: 2.3952 - val_acc: 0.1448\n",
      "Epoch 14/20\n",
      "2s - loss: 2.3904 - acc: 0.1505 - val_loss: 2.3947 - val_acc: 0.1442\n",
      "Epoch 15/20\n",
      "2s - loss: 2.3895 - acc: 0.1510 - val_loss: 2.3943 - val_acc: 0.1446\n",
      "Epoch 16/20\n",
      "2s - loss: 2.3883 - acc: 0.1522 - val_loss: 2.3943 - val_acc: 0.1463\n",
      "Epoch 17/20\n",
      "2s - loss: 2.3858 - acc: 0.1547 - val_loss: 2.3939 - val_acc: 0.1467\n",
      "Epoch 18/20\n",
      "2s - loss: 2.3852 - acc: 0.1534 - val_loss: 2.3948 - val_acc: 0.1481\n",
      "Epoch 19/20\n",
      "2s - loss: 2.3830 - acc: 0.1559 - val_loss: 2.3949 - val_acc: 0.1471\n",
      "Epoch 20/20\n",
      "2s - loss: 2.3830 - acc: 0.1543 - val_loss: 2.3949 - val_acc: 0.1475\n",
      "logloss val 2.3949207724634225\n",
      "*****************************************************\n",
      "8_fold\n",
      "Epoch 1/20\n",
      "1s - loss: 2.4654 - acc: 0.1257 - val_loss: 2.4283 - val_acc: 0.1269\n",
      "Epoch 2/20\n",
      "1s - loss: 2.4258 - acc: 0.1290 - val_loss: 2.4266 - val_acc: 0.1287\n",
      "Epoch 3/20\n",
      "1s - loss: 2.4268 - acc: 0.1284 - val_loss: 2.4251 - val_acc: 0.1287\n",
      "Epoch 4/20\n",
      "1s - loss: 2.4225 - acc: 0.1292 - val_loss: 2.4240 - val_acc: 0.1287\n",
      "Epoch 5/20\n",
      "1s - loss: 2.4223 - acc: 0.1281 - val_loss: 2.4225 - val_acc: 0.1287\n",
      "Epoch 6/20\n",
      "1s - loss: 2.4212 - acc: 0.1283 - val_loss: 2.4218 - val_acc: 0.1287\n",
      "Epoch 7/20\n",
      "1s - loss: 2.4190 - acc: 0.1306 - val_loss: 2.4202 - val_acc: 0.1308\n",
      "Epoch 8/20\n",
      "1s - loss: 2.4178 - acc: 0.1309 - val_loss: 2.4186 - val_acc: 0.1304\n",
      "Epoch 9/20\n",
      "1s - loss: 2.4170 - acc: 0.1327 - val_loss: 2.4160 - val_acc: 0.1371\n",
      "Epoch 10/20\n",
      "1s - loss: 2.4110 - acc: 0.1419 - val_loss: 2.4107 - val_acc: 0.1446\n",
      "Epoch 11/20\n",
      "1s - loss: 2.4054 - acc: 0.1434 - val_loss: 2.4059 - val_acc: 0.1414\n",
      "Epoch 12/20\n",
      "1s - loss: 2.4018 - acc: 0.1428 - val_loss: 2.4030 - val_acc: 0.1416\n",
      "Epoch 13/20\n",
      "1s - loss: 2.3993 - acc: 0.1439 - val_loss: 2.4019 - val_acc: 0.1405\n",
      "Epoch 14/20\n",
      "1s - loss: 2.3954 - acc: 0.1453 - val_loss: 2.4019 - val_acc: 0.1410\n",
      "Epoch 15/20\n",
      "1s - loss: 2.3956 - acc: 0.1453 - val_loss: 2.4006 - val_acc: 0.1420\n",
      "Epoch 16/20\n",
      "1s - loss: 2.3932 - acc: 0.1473 - val_loss: 2.4004 - val_acc: 0.1424\n",
      "Epoch 17/20\n",
      "1s - loss: 2.3913 - acc: 0.1480 - val_loss: 2.4000 - val_acc: 0.1436\n",
      "Epoch 18/20\n",
      "1s - loss: 2.3889 - acc: 0.1502 - val_loss: 2.3986 - val_acc: 0.1445\n",
      "Epoch 19/20\n",
      "1s - loss: 2.3893 - acc: 0.1502 - val_loss: 2.3987 - val_acc: 0.1444\n",
      "Epoch 20/20\n",
      "1s - loss: 2.3866 - acc: 0.1522 - val_loss: 2.3976 - val_acc: 0.1424\n",
      "logloss val 2.397624038275701\n",
      "*****************************************************\n",
      "9_fold\n",
      "Epoch 1/20\n",
      "2s - loss: 2.4651 - acc: 0.1247 - val_loss: 2.4280 - val_acc: 0.1270\n",
      "Epoch 2/20\n",
      "2s - loss: 2.4280 - acc: 0.1284 - val_loss: 2.4263 - val_acc: 0.1287\n",
      "Epoch 3/20\n",
      "2s - loss: 2.4248 - acc: 0.1292 - val_loss: 2.4249 - val_acc: 0.1287\n",
      "Epoch 4/20\n",
      "2s - loss: 2.4241 - acc: 0.1270 - val_loss: 2.4235 - val_acc: 0.1287\n",
      "Epoch 5/20\n",
      "2s - loss: 2.4218 - acc: 0.1293 - val_loss: 2.4223 - val_acc: 0.1287\n",
      "Epoch 6/20\n",
      "2s - loss: 2.4205 - acc: 0.1286 - val_loss: 2.4211 - val_acc: 0.1287\n",
      "Epoch 7/20\n",
      "1s - loss: 2.4206 - acc: 0.1272 - val_loss: 2.4201 - val_acc: 0.1278\n",
      "Epoch 8/20\n",
      "2s - loss: 2.4179 - acc: 0.1278 - val_loss: 2.4190 - val_acc: 0.1287\n",
      "Epoch 9/20\n",
      "1s - loss: 2.4178 - acc: 0.1280 - val_loss: 2.4176 - val_acc: 0.1327\n",
      "Epoch 10/20\n",
      "3s - loss: 2.4161 - acc: 0.1289 - val_loss: 2.4160 - val_acc: 0.1358\n",
      "Epoch 11/20\n",
      "1s - loss: 2.4132 - acc: 0.1364 - val_loss: 2.4123 - val_acc: 0.1468\n",
      "Epoch 12/20\n",
      "2s - loss: 2.4085 - acc: 0.1420 - val_loss: 2.4044 - val_acc: 0.1476\n",
      "Epoch 13/20\n",
      "2s - loss: 2.4018 - acc: 0.1433 - val_loss: 2.3984 - val_acc: 0.1471\n",
      "Epoch 14/20\n",
      "2s - loss: 2.3971 - acc: 0.1451 - val_loss: 2.3963 - val_acc: 0.1471\n",
      "Epoch 15/20\n",
      "2s - loss: 2.3946 - acc: 0.1455 - val_loss: 2.3953 - val_acc: 0.1473\n",
      "Epoch 16/20\n",
      "2s - loss: 2.3926 - acc: 0.1484 - val_loss: 2.3941 - val_acc: 0.1499\n",
      "Epoch 17/20\n",
      "2s - loss: 2.3913 - acc: 0.1501 - val_loss: 2.3935 - val_acc: 0.1460\n",
      "Epoch 18/20\n",
      "2s - loss: 2.3894 - acc: 0.1513 - val_loss: 2.3930 - val_acc: 0.1496\n",
      "Epoch 19/20\n",
      "2s - loss: 2.3878 - acc: 0.1528 - val_loss: 2.3932 - val_acc: 0.1489\n",
      "Epoch 20/20\n",
      "2s - loss: 2.3862 - acc: 0.1520 - val_loss: 2.3923 - val_acc: 0.1493\n",
      "logloss val 2.392325430377301\n",
      "average logloss val 2.3986647774551813\n"
     ]
    }
   ],
   "source": [
    "# define baseline model\n",
    "def without_model(X_dim_input):\n",
    "    # create model\n",
    "    model = Sequential()\n",
    "    #model.add(Dense(10, input_dim=X_train_total.shape[1], init='normal', activation='relu'))\n",
    "    #model.add(Dropout(0.2))\n",
    "    model.add(Dense(100, input_dim=X_dim_input, init='normal', activation='relu'))\n",
    "    #model.add(Dropout(0.1))\n",
    "    model.add(Dense(40, input_dim=X_dim_input, init='normal', activation='relu'))\n",
    "    model.add(Dense(40, input_dim=X_dim_input, init='normal', activation='relu'))\n",
    "    #model.add(Dropout(0.1))\n",
    "    model.add(Dense(12, init='normal', activation='sigmoid'))\n",
    "    # Compile model\n",
    "    model.compile(loss='categorical_crossentropy', optimizer='adadelta', metrics=['accuracy'])  #logloss\n",
    "    return model\n",
    "\n",
    "dummy_y_without = np_utils.to_categorical(y_train_total_without)\n",
    "kf = StratifiedKFold(y_train_total_without,n_folds = 10,random_state = 1)\n",
    "score_list_without=[]\n",
    "val_loss_list_without = []\n",
    "for index,(train, test) in enumerate(kf):\n",
    "    X_train_without = X_train_total_without[train]\n",
    "    y_train_without = dummy_y_without[train]\n",
    "    X_val_without = X_train_total_without[test]\n",
    "    y_val_without = dummy_y_without[test]\n",
    "    print('*****************************************************')\n",
    "    print('{}_fold'.format(index))\n",
    "    model=without_model(X_train_total_without.shape[1])\n",
    "    fit= model.fit_generator(generator=batch_generator(X_train_without, y_train_without, 512, True),\n",
    "                         nb_epoch=20,\n",
    "                         samples_per_epoch=80000,\n",
    "                         validation_data=(X_val_without.todense(), y_val_without), verbose=2\n",
    "                         )\n",
    "    scores_val_without = model.predict_generator(generator=batch_generatorp(X_val_without, 512, False), \n",
    "                                         val_samples=X_val_without.shape[0])\n",
    "    scores_without = model.predict_generator(generator=batch_generatorp(X_test_total_without, 512, False), \n",
    "                                     val_samples=X_test_total_without.shape[0])\n",
    "    score_list_without.append(scores_without)\n",
    "    \n",
    "    val_loss = log_loss(y_val_without, scores_val_without)\n",
    "    val_loss_list_without.append(val_loss)\n",
    "    print('logloss val {}'.format(val_loss))\n",
    "\n",
    "for index,i in enumerate(val_loss_list_without):\n",
    "    if(index==0):\n",
    "        sumi = i\n",
    "    else:\n",
    "        sumi = i+sumi\n",
    "val_loss_ave_without = sumi/len(score_list_without)\n",
    "print('average logloss val {}'.format(val_loss_ave_without))\n",
    "for index,i in enumerate(score_list_without):\n",
    "    if(index==0):\n",
    "        sumi = i\n",
    "    else:\n",
    "        sumi = i+sumi\n",
    "score_ave_without = sumi/len(score_list_without)\n",
    "pred_without = pd.DataFrame(score_ave_without, index = gender_age_test_without.index, columns=targetencoder.classes_)"
   ]
  },
  {
   "cell_type": "code",
   "execution_count": 58,
   "metadata": {
    "collapsed": true
   },
   "outputs": [],
   "source": [
    "pred_without.to_csv('nnt_without_result{}.csv'.format(val_loss_ave_without))"
   ]
  },
  {
   "cell_type": "code",
   "execution_count": null,
   "metadata": {
    "collapsed": true
   },
   "outputs": [],
   "source": [
    "score_ensemble = (score_ave_without+score_ave_without_lr)/2"
   ]
  },
  {
   "cell_type": "markdown",
   "metadata": {},
   "source": [
    "## Device without eventsIII: XGBoost"
   ]
  },
  {
   "cell_type": "code",
   "execution_count": null,
   "metadata": {
    "collapsed": false,
    "scrolled": true
   },
   "outputs": [],
   "source": [
    "(X_train,X_val,y_train,y_val) = cv.train_test_split(X_train_total_without,y_train_total_without,test_size=0.02,\n",
    "                                                    stratify=y_train_total_without)\n",
    "xg_train = xgb.DMatrix(X_train,label = y_train)\n",
    "xg_test = xgb.DMatrix(X_val,label = y_val)\n",
    "param = {'max_depth':50,\n",
    "         'eta':0.03,\n",
    "         'silent':0,\n",
    "         'objective':'multi:softprob',\n",
    "         'nthread':2,\n",
    "         'num_class':12,\n",
    "         'eval_metric':'mlogloss',\n",
    "        'lambda':4,\n",
    "        'lambda_bias':0,\n",
    "        'alpha':2}\n",
    "num_round = 200\n",
    "watchlist = [(xg_train,'train'),(xg_test,'test')]\n",
    "bst = xgb.train(param,xg_train,num_round,watchlist)\n",
    "yprob = bst.predict(xg_test).reshape(y_val.shape[0],12)\n",
    "val_loss = log_loss(y_val, yprob)\n",
    "print('logloss val {}'.format(val_loss))\n",
    "del X_train,X_val,y_train,y_val"
   ]
  },
  {
   "cell_type": "markdown",
   "metadata": {},
   "source": [
    "## training with all data"
   ]
  },
  {
   "cell_type": "code",
   "execution_count": null,
   "metadata": {
    "collapsed": true
   },
   "outputs": [],
   "source": [
    "xg_train = xgb.DMatrix(X_train_total_without,label = y_train_total_without)\n",
    "xg_test = xgb.DMatrix(X_val)\n",
    "bst = xgb.train(param,xg_train,num_round)\n",
    "yprob = bst.predict(xg_test).reshape(X_test_total_without.shape[0],12)\n",
    "pred_without_xgb = pd.DataFrame(yprob, \n",
    "                            index = gender_age_test_without.index, \n",
    "                            columns=targetencoder.classes_)\n",
    "pred_without_xgb.to_csv('xgb_without_result{}.csv'.format(val_loss))"
   ]
  },
  {
   "cell_type": "markdown",
   "metadata": {},
   "source": [
    "# putting together and save into final file"
   ]
  },
  {
   "cell_type": "markdown",
   "metadata": {},
   "source": [
    "Final score based on the percentage of testing set"
   ]
  },
  {
   "cell_type": "code",
   "execution_count": 87,
   "metadata": {
    "collapsed": false
   },
   "outputs": [
    {
     "name": "stdout",
     "output_type": "stream",
     "text": [
      "with score:1.9392115926279074\n",
      "without score:2.3931157227003554\n",
      "final validation score:2.2505748160093315\n"
     ]
    }
   ],
   "source": [
    "#val_score_final = val_loss_ave_without*76877/112071+val_loss_ave_with*35194/112071\n",
    "val_score_final = (val_loss_ave_without*X_test_total_without.shape[0]+\n",
    "                   val_loss_ave_with*X_test_total_with.shape[0])/(X_test_total_without.shape[0]+X_test_total_with.shape[0])\n",
    "print('with score:{}'.format(val_loss_ave_with))\n",
    "print('without score:{}'.format(val_loss_ave_without))\n",
    "print('final validation score:{}'.format(val_score_final))"
   ]
  },
  {
   "cell_type": "code",
   "execution_count": 88,
   "metadata": {
    "collapsed": false
   },
   "outputs": [],
   "source": [
    "pred = pd.concat((pred_with,pred_without))\n",
    "pred.to_csv('doublemodel_v6.csv',index=True)"
   ]
  },
  {
   "cell_type": "code",
   "execution_count": null,
   "metadata": {
    "collapsed": true
   },
   "outputs": [],
   "source": []
  }
 ],
 "metadata": {
  "kernelspec": {
   "display_name": "Python 3",
   "language": "python",
   "name": "python3"
  },
  "language_info": {
   "codemirror_mode": {
    "name": "ipython",
    "version": 3
   },
   "file_extension": ".py",
   "mimetype": "text/x-python",
   "name": "python",
   "nbconvert_exporter": "python",
   "pygments_lexer": "ipython3",
   "version": "3.5.2"
  }
 },
 "nbformat": 4,
 "nbformat_minor": 0
}
