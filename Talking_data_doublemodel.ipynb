{
 "cells": [
  {
   "cell_type": "code",
   "execution_count": 1,
   "metadata": {
    "collapsed": false
   },
   "outputs": [
    {
     "name": "stderr",
     "output_type": "stream",
     "text": [
      "/Users/Yuyang/anaconda/lib/python3.5/site-packages/pandas/computation/__init__.py:19: UserWarning: The installed version of numexpr 2.4.4 is not supported in pandas and will be not be used\n",
      "\n",
      "  UserWarning)\n",
      "Using TensorFlow backend.\n"
     ]
    }
   ],
   "source": [
    "import pandas as pd\n",
    "import numpy as np\n",
    "from sklearn.preprocessing import LabelEncoder,StandardScaler\n",
    "from sklearn.ensemble import RandomForestClassifier as rfc\n",
    "from sklearn import cross_validation as cv\n",
    "from sklearn.linear_model import LogisticRegression\n",
    "from sklearn.metrics import log_loss,accuracy_score\n",
    "from scipy.sparse import csr_matrix,hstack,vstack\n",
    "import time\n",
    "from keras.models import Sequential\n",
    "from keras.layers import Dense, Dropout, Activation\n",
    "from keras.utils import np_utils\n",
    "from keras.optimizers import SGD,RMSprop\n",
    "from sklearn.feature_selection import SelectPercentile, f_classif, chi2, SelectKBest\n",
    "from sklearn.cross_validation import StratifiedKFold,KFold\n",
    "from sklearn.naive_bayes import MultinomialNB\n",
    "from sklearn.grid_search import GridSearchCV\n",
    "import xgboost as xgb\n",
    "import os\n",
    "seed = 7\n",
    "np.random.seed(seed)"
   ]
  },
  {
   "cell_type": "code",
   "execution_count": 2,
   "metadata": {
    "collapsed": false
   },
   "outputs": [],
   "source": [
    "events = pd.read_csv('input/events.csv',index_col='event_id')\n",
    "label = pd.read_csv('input/label_categories.csv')\n",
    "app_event = pd.read_csv('input/app_events.csv')\n",
    "app_label = pd.read_csv('input/app_labels.csv')\n",
    "device = pd.read_csv('input/phone_brand_device_model.csv')\n",
    "device = device.drop_duplicates('device_id').set_index('device_id')\n",
    "gender_age_train = pd.read_csv('input/gender_age_train.csv',index_col = 'device_id')\n",
    "gender_age_test = pd.read_csv('input/gender_age_test.csv',index_col = 'device_id')"
   ]
  },
  {
   "cell_type": "markdown",
   "metadata": {},
   "source": [
    "For the convinience of creating sparse matrix, we create another integer index for the training and testing set."
   ]
  },
  {
   "cell_type": "code",
   "execution_count": 3,
   "metadata": {
    "collapsed": false
   },
   "outputs": [
    {
     "name": "stdout",
     "output_type": "stream",
     "text": [
      "gender_age_train\n",
      "                      gender  age   group\n",
      "device_id                               \n",
      "-8076087639492063270      M   35  M32-38\n",
      "\n",
      "gender_age_test\n",
      " Empty DataFrame\n",
      "Columns: []\n",
      "Index: [1002079943728939269]\n",
      "\n",
      "device\n",
      "                      phone_brand device_model\n",
      "device_id                                    \n",
      "-8890648629457979026          小米           红米\n",
      "\n",
      "events\n",
      "                   device_id            timestamp  longitude  latitude\n",
      "event_id                                                             \n",
      "1         29182687948017175  2016-05-01 00:55:25     121.38     31.24\n",
      "\n",
      "label\n",
      "    label_id category\n",
      "0         1      NaN\n",
      "\n",
      "app_event\n",
      "    event_id               app_id  is_installed  is_active\n",
      "0         2  5927333115845830913             1          1\n",
      "\n",
      "app_label\n",
      "                 app_id  label_id\n",
      "0  7324884708820027918       251\n"
     ]
    }
   ],
   "source": [
    "print('gender_age_train\\n',gender_age_train.head(1))\n",
    "print('\\ngender_age_test\\n',gender_age_test.head(1))\n",
    "print('\\ndevice\\n',device.head(1))\n",
    "print('\\nevents\\n',events.head(1))\n",
    "print('\\nlabel\\n',label.head(1))\n",
    "print('\\napp_event\\n',app_event.head(1))\n",
    "print('\\napp_label\\n',app_label.head(1))"
   ]
  },
  {
   "cell_type": "markdown",
   "metadata": {},
   "source": [
    "# Separation of two set of devices: with events and without events"
   ]
  },
  {
   "cell_type": "code",
   "execution_count": 4,
   "metadata": {
    "collapsed": false
   },
   "outputs": [
    {
     "name": "stdout",
     "output_type": "stream",
     "text": [
      "Size of training set without events:    51336\n",
      "Size of training set with events:       23309\n",
      "Total size of training set:             74645\n",
      "Size of testing set without events:     76877\n",
      "Size of training set with events:       35194\n",
      "Total size of training set:             112071\n"
     ]
    }
   ],
   "source": [
    "gender_age_train_with = gender_age_train.loc[gender_age_train.index.isin(events.device_id.unique())].copy()\n",
    "gender_age_train_without = gender_age_train.loc[~gender_age_train.index.isin(events.device_id.unique())].copy()\n",
    "gender_age_test_with = gender_age_test.loc[gender_age_test.index.isin(events.device_id.unique())].copy()\n",
    "gender_age_test_without = gender_age_test.loc[~gender_age_test.index.isin(events.device_id.unique())].copy()\n",
    "print('{0:<40.40}{1:5}'.format('Size of training set without events:',gender_age_train_without.shape[0]))\n",
    "print('{0:<40.40}{1:5}'.format('Size of training set with events:',gender_age_train_with.shape[0]))\n",
    "print('{0:<40.40}{1:5}'.format('Total size of training set:',gender_age_train.shape[0]))\n",
    "print('{0:<40.40}{1:5}'.format('Size of testing set without events:',gender_age_test_without.shape[0]))\n",
    "print('{0:<40.40}{1:5}'.format('Size of training set with events:',gender_age_test_with.shape[0]))\n",
    "print('{0:<40.40}{1:5}'.format('Total size of training set:',gender_age_test.shape[0]))"
   ]
  },
  {
   "cell_type": "code",
   "execution_count": 5,
   "metadata": {
    "collapsed": true
   },
   "outputs": [],
   "source": [
    "gender_age_train_with['int_index'] = np.arange(gender_age_train_with.shape[0])\n",
    "gender_age_test_with['int_index'] = np.arange(gender_age_test_with.shape[0])\n",
    "gender_age_train_without['int_index'] = np.arange(gender_age_train_without.shape[0])\n",
    "gender_age_test_without['int_index'] = np.arange(gender_age_test_without.shape[0])"
   ]
  },
  {
   "cell_type": "markdown",
   "metadata": {},
   "source": [
    "# Feature engineering I: phone brand"
   ]
  },
  {
   "cell_type": "markdown",
   "metadata": {},
   "source": [
    "Encoding the phone brand, and feed this as a feature into the training and testing test."
   ]
  },
  {
   "cell_type": "code",
   "execution_count": 6,
   "metadata": {
    "collapsed": false
   },
   "outputs": [],
   "source": [
    "encoder = LabelEncoder()\n",
    "encoder.fit(device.phone_brand)\n",
    "device['brand'] = encoder.transform(device.phone_brand)\n",
    "gender_age_train_with['brand'] = device['brand']\n",
    "gender_age_test_with['brand'] = device['brand']\n",
    "gender_age_train_without['brand'] = device['brand']\n",
    "gender_age_test_without['brand'] = device['brand']\n",
    "brandnumber = len(encoder.classes_)"
   ]
  },
  {
   "cell_type": "markdown",
   "metadata": {},
   "source": [
    "Create sparse matrix with each row representing one device and each column representing one brand"
   ]
  },
  {
   "cell_type": "code",
   "execution_count": 7,
   "metadata": {
    "collapsed": false
   },
   "outputs": [
    {
     "name": "stdout",
     "output_type": "stream",
     "text": [
      "X_train_brand_with shape: (23309, 131)\n",
      "X_test_brand_with shape: (35194, 131)\n",
      "X_train_brand_without shape: (51336, 131)\n",
      "X_test_brand_without shape: (76877, 131)\n"
     ]
    }
   ],
   "source": [
    "X_train_brand_with = csr_matrix((np.ones(gender_age_train_with.shape[0]),\n",
    "                            (gender_age_train_with.int_index,gender_age_train_with.brand)),\n",
    "                               shape = (gender_age_train_with.shape[0],brandnumber))\n",
    "X_test_brand_with = csr_matrix((np.ones(gender_age_test_with.shape[0]),\n",
    "                           (gender_age_test_with.int_index,gender_age_test_with.brand)),\n",
    "                              shape = (gender_age_test_with.shape[0],brandnumber))\n",
    "print('X_train_brand_with shape:',X_train_brand_with.shape)\n",
    "print('X_test_brand_with shape:',X_test_brand_with.shape)\n",
    "X_train_brand_without = csr_matrix((np.ones(gender_age_train_without.shape[0]),\n",
    "                            (gender_age_train_without.int_index,gender_age_train_without.brand)),\n",
    "                                  shape = (gender_age_train_without.shape[0],brandnumber))\n",
    "X_test_brand_without = csr_matrix((np.ones(gender_age_test_without.shape[0]),\n",
    "                           (gender_age_test_without.int_index,gender_age_test_without.brand)),\n",
    "                                 shape = (gender_age_test_without.shape[0],brandnumber))\n",
    "print('X_train_brand_without shape:',X_train_brand_without.shape)\n",
    "print('X_test_brand_without shape:',X_test_brand_without.shape)"
   ]
  },
  {
   "cell_type": "markdown",
   "metadata": {},
   "source": [
    "# Feature engineering II: phone device model"
   ]
  },
  {
   "cell_type": "code",
   "execution_count": 8,
   "metadata": {
    "collapsed": false
   },
   "outputs": [],
   "source": [
    "brand_model = device.phone_brand.str.cat(device.device_model)\n",
    "encoder3 = LabelEncoder()\n",
    "encoder3.fit(brand_model)\n",
    "device['model'] = encoder3.transform(brand_model)\n",
    "gender_age_train_with['model'] = device['model']\n",
    "gender_age_test_with['model'] = device['model']\n",
    "gender_age_train_without['model'] = device['model']\n",
    "gender_age_test_without['model'] = device['model']\n",
    "modelnumber = len(encoder3.classes_)"
   ]
  },
  {
   "cell_type": "code",
   "execution_count": 9,
   "metadata": {
    "collapsed": false
   },
   "outputs": [
    {
     "name": "stdout",
     "output_type": "stream",
     "text": [
      "X_train_brand_with shape: (23309, 1667)\n",
      "X_test_brand_with shape: (35194, 1667)\n",
      "X_train_brand_without shape: (51336, 1667)\n",
      "X_test_brand_without shape: (76877, 1667)\n"
     ]
    }
   ],
   "source": [
    "X_train_model_with = csr_matrix((np.ones(gender_age_train_with.shape[0]),\n",
    "                                 (gender_age_train_with.int_index,gender_age_train_with.model)),\n",
    "                               shape = (gender_age_train_with.shape[0],modelnumber))\n",
    "X_test_model_with = csr_matrix((np.ones(gender_age_test_with.shape[0]),\n",
    "                                (gender_age_test_with.int_index,gender_age_test_with.model)),\n",
    "                              shape = (gender_age_test_with.shape[0],modelnumber))\n",
    "X_train_model_without = csr_matrix((np.ones(gender_age_train_without.shape[0]),\n",
    "                                    (gender_age_train_without.int_index,gender_age_train_without.model)),\n",
    "                                  shape = (gender_age_train_without.shape[0],modelnumber))\n",
    "X_test_model_without = csr_matrix((np.ones(gender_age_test_without.shape[0]),\n",
    "                                   (gender_age_test_without.int_index,gender_age_test_without.model)),\n",
    "                                 shape = (gender_age_test_without.shape[0],modelnumber))\n",
    "\n",
    "print('X_train_brand_with shape:',X_train_model_with.shape)\n",
    "print('X_test_brand_with shape:',X_test_model_with.shape)\n",
    "print('X_train_brand_without shape:',X_train_model_without.shape)\n",
    "print('X_test_brand_without shape:',X_test_model_without.shape)\n",
    "del device,brand_model"
   ]
  },
  {
   "cell_type": "markdown",
   "metadata": {},
   "source": [
    "# Feature engineering III: Installed app"
   ]
  },
  {
   "cell_type": "markdown",
   "metadata": {},
   "source": [
    "Encoding the app_id and store it into app column, and feed this as a feature into the training and testing test."
   ]
  },
  {
   "cell_type": "code",
   "execution_count": 10,
   "metadata": {
    "collapsed": true
   },
   "outputs": [],
   "source": [
    "encoder2 = LabelEncoder()\n",
    "encoder2.fit(app_event.app_id)\n",
    "app_event['app'] = encoder2.transform(app_event.app_id)"
   ]
  },
  {
   "cell_type": "code",
   "execution_count": 11,
   "metadata": {
    "collapsed": false
   },
   "outputs": [
    {
     "data": {
      "text/plain": [
       "array([    0,     1,     2, ..., 19234, 19235, 19236])"
      ]
     },
     "execution_count": 11,
     "metadata": {},
     "output_type": "execute_result"
    }
   ],
   "source": [
    "np.sort(app_event.app.unique())"
   ]
  },
  {
   "cell_type": "code",
   "execution_count": 12,
   "metadata": {
    "collapsed": false
   },
   "outputs": [
    {
     "name": "stdout",
     "output_type": "stream",
     "text": [
      "   event_id               app_id  is_installed  is_active    app\n",
      "0         2  5927333115845830913             1          1  15408\n",
      "                  device_id            timestamp  longitude  latitude\n",
      "event_id                                                             \n",
      "1         29182687948017175  2016-05-01 00:55:25     121.38     31.24\n"
     ]
    }
   ],
   "source": [
    "print(app_event.head(1))\n",
    "print(events.head(1))"
   ]
  },
  {
   "cell_type": "code",
   "execution_count": 13,
   "metadata": {
    "collapsed": false
   },
   "outputs": [
    {
     "name": "stdout",
     "output_type": "stream",
     "text": [
      "             device_id  event_id    app  is_installed\n",
      "0 -6401643145415154744         2  15408             1\n",
      "1 -6401643145415154744         2   3384             1\n",
      "2 -6401643145415154744         2   7620             1\n",
      "3 -6401643145415154744         2   8902             1\n",
      "4 -6401643145415154744         2  18686             1\n"
     ]
    }
   ],
   "source": [
    "installed_app = pd.merge(events[['device_id']],app_event[['event_id','app','is_installed']],\n",
    "                         how='right',right_on = 'event_id',left_index = True)\n",
    "print(installed_app.head())"
   ]
  },
  {
   "cell_type": "code",
   "execution_count": 14,
   "metadata": {
    "collapsed": false
   },
   "outputs": [
    {
     "name": "stdout",
     "output_type": "stream",
     "text": [
      "installed_app_grouped:\n",
      "                           size\n",
      "device_id            app       \n",
      "-9222956879900151005 548     18\n",
      "                     1096    18\n",
      "                     1248    26\n",
      "                     1545    12\n",
      "                     1664    18\n",
      "installed_app_train:\n",
      "                           size  int_index\n",
      "device_id            app                  \n",
      "-9222956879900151005 548     18       5145\n",
      "                     1096    18       5145\n",
      "                     1248    26       5145\n",
      "                     1545    12       5145\n",
      "                     1664    18       5145\n"
     ]
    }
   ],
   "source": [
    "installed_app_grouped = installed_app.groupby(['device_id','app'])['app'].agg(['size'])\n",
    "print('installed_app_grouped:')\n",
    "print(installed_app_grouped.head())\n",
    "installed_app_train_with = pd.merge(installed_app_grouped,gender_age_train_with[['int_index']],\n",
    "                               how = 'right',right_index=True,left_index=True)\n",
    "installed_app_test_with = pd.merge(installed_app_grouped,gender_age_test_with[['int_index']],\n",
    "                              how = 'right',right_index=True,left_index=True)\n",
    "print('installed_app_train:')\n",
    "print(installed_app_train_with.head())"
   ]
  },
  {
   "cell_type": "code",
   "execution_count": 15,
   "metadata": {
    "collapsed": false
   },
   "outputs": [
    {
     "name": "stdout",
     "output_type": "stream",
     "text": [
      "             device_id   app  size  int_index\n",
      "0 -9222956879900151005   548    18       5145\n",
      "1 -9222956879900151005  1096    18       5145\n",
      "2 -9222956879900151005  1248    26       5145\n",
      "3 -9222956879900151005  1545    12       5145\n",
      "4 -9222956879900151005  1664    18       5145\n",
      "             device_id    app  size  int_index\n",
      "0 -9222661944218806987   1867     3       2851\n",
      "1 -9222661944218806987   7519     8       2851\n",
      "2 -9222661944218806987   7843     1       2851\n",
      "3 -9222661944218806987   8704     4       2851\n",
      "4 -9222661944218806987  10000     1       2851\n"
     ]
    }
   ],
   "source": [
    "installed_app_train_with = installed_app_train_with.reset_index()\n",
    "installed_app_test_with = installed_app_test_with.reset_index()\n",
    "installed_app_train_with = installed_app_train_with.dropna(subset=['int_index'])\n",
    "installed_app_test_with = installed_app_test_with.dropna(subset=['int_index'])\n",
    "print(installed_app_train_with.head())\n",
    "print(installed_app_test_with.head())"
   ]
  },
  {
   "cell_type": "markdown",
   "metadata": {},
   "source": [
    "Calculate the number of unique app:"
   ]
  },
  {
   "cell_type": "code",
   "execution_count": 16,
   "metadata": {
    "collapsed": false
   },
   "outputs": [
    {
     "name": "stdout",
     "output_type": "stream",
     "text": [
      "35194\n",
      "915632\n"
     ]
    }
   ],
   "source": [
    "print(gender_age_test_with.shape[0])\n",
    "print(installed_app_train_with.shape[0])"
   ]
  },
  {
   "cell_type": "code",
   "execution_count": 17,
   "metadata": {
    "collapsed": false
   },
   "outputs": [
    {
     "name": "stdout",
     "output_type": "stream",
     "text": [
      "The number of unique apps:\n",
      "19237\n"
     ]
    }
   ],
   "source": [
    "print('The number of unique apps:')\n",
    "print(np.size(installed_app.app.unique()))\n",
    "appnumber = np.size(installed_app.app.unique())"
   ]
  },
  {
   "cell_type": "code",
   "execution_count": 18,
   "metadata": {
    "collapsed": false
   },
   "outputs": [
    {
     "name": "stdout",
     "output_type": "stream",
     "text": [
      "[    0     1     2 ..., 19234 19235 19236]\n",
      "1387337\n"
     ]
    }
   ],
   "source": [
    "print(np.sort(installed_app_train_with.app.unique()))\n",
    "print(installed_app_test_with.shape[0])"
   ]
  },
  {
   "cell_type": "code",
   "execution_count": 19,
   "metadata": {
    "collapsed": false
   },
   "outputs": [
    {
     "name": "stdout",
     "output_type": "stream",
     "text": [
      "X_train_installed shape: (23309, 19237)\n",
      "X_test_installed shape: (35194, 19237)\n"
     ]
    }
   ],
   "source": [
    "X_train_installed_with = csr_matrix((np.ones(installed_app_train_with.shape[0]),\n",
    "                                (installed_app_train_with.int_index,installed_app_train_with.app)), \n",
    "                               shape = (gender_age_train_with.shape[0],appnumber))\n",
    "X_test_installed_with = csr_matrix((np.ones(installed_app_test_with.shape[0]),\n",
    "                               (installed_app_test_with.int_index,installed_app_test_with.app)),\n",
    "                               shape = (gender_age_test_with.shape[0],appnumber))\n",
    "print('X_train_installed shape:',X_train_installed_with.shape)\n",
    "print('X_test_installed shape:',X_test_installed_with.shape)\n",
    "del installed_app_test_with,installed_app_train_with"
   ]
  },
  {
   "cell_type": "markdown",
   "metadata": {},
   "source": [
    "# Feature engineering IV: app label"
   ]
  },
  {
   "cell_type": "code",
   "execution_count": 20,
   "metadata": {
    "collapsed": false
   },
   "outputs": [
    {
     "name": "stdout",
     "output_type": "stream",
     "text": [
      "                app_id  event_id\n",
      "0  5927333115845830913         2\n",
      "                app_id  label_id\n",
      "0  7324884708820027918       251\n"
     ]
    }
   ],
   "source": [
    "print(app_event[['app_id','event_id']].head(1))\n",
    "print(app_label[['app_id','label_id']].head(1))"
   ]
  },
  {
   "cell_type": "code",
   "execution_count": 21,
   "metadata": {
    "collapsed": false
   },
   "outputs": [
    {
     "name": "stdout",
     "output_type": "stream",
     "text": [
      "app_label_new:\n",
      "                app_id  label_id    app  label\n",
      "0  7324884708820027918       251  17355    207\n",
      "1 -4494216993218550286       251   4618    207\n",
      "2  6058196446775239644       406  15548    247\n",
      "3  6058196446775239644       407  15548    248\n",
      "4  8694625920731541625       406  18689    247\n"
     ]
    }
   ],
   "source": [
    "app_label_new = app_label.loc[app_label.app_id.isin(app_event.app_id.unique())].copy()\n",
    "app_label_new['app'] = encoder2.transform(app_label_new.app_id)\n",
    "encoder4 = LabelEncoder().fit(app_label_new.label_id)\n",
    "app_label_new['label'] = encoder4.transform(app_label_new.label_id)\n",
    "labelnumber = len(encoder4.classes_)\n",
    "print('app_label_new:')\n",
    "print(app_label_new.head())"
   ]
  },
  {
   "cell_type": "code",
   "execution_count": 22,
   "metadata": {
    "collapsed": false
   },
   "outputs": [
    {
     "name": "stdout",
     "output_type": "stream",
     "text": [
      "919886\n",
      "129892268\n",
      "installed_app_grouped:\n",
      "                           size\n",
      "device_id            app       \n",
      "-9222956879900151005 548     18\n",
      "                     1096    18\n",
      "                     1248    26\n",
      "                     1545    12\n",
      "                     1664    18\n",
      "installed_label_grouped:\n",
      "             device_id  label  size\n",
      "0 -9222956879900151005    117     1\n",
      "1 -9222956879900151005    120     1\n",
      "2 -9222956879900151005    126     1\n",
      "3 -9222956879900151005    138     2\n",
      "4 -9222956879900151005    147     2\n"
     ]
    }
   ],
   "source": [
    "print(app_label.size)\n",
    "print(installed_app.size)\n",
    "print('installed_app_grouped:')\n",
    "print(installed_app_grouped.head())\n",
    "installed_label_grouped = (installed_app_grouped.reset_index()[['device_id','app']]\n",
    "                          .merge(app_label_new[['app','label']])\n",
    "                          .groupby(['device_id','label']))['app'].agg(['size']).reset_index()\n",
    "                          \n",
    "print('installed_label_grouped:')\n",
    "print(installed_label_grouped.head())"
   ]
  },
  {
   "cell_type": "code",
   "execution_count": 23,
   "metadata": {
    "collapsed": false
   },
   "outputs": [],
   "source": [
    "label_app_train_with = pd.merge(installed_label_grouped,gender_age_train_with[['int_index']],\n",
    "                               how = 'right',right_index=True,left_on='device_id')\n",
    "label_app_test_with = pd.merge(installed_label_grouped,gender_age_test_with[['int_index']],\n",
    "                              how = 'right',right_index=True,left_on ='device_id' )\n",
    "label_app_train_with = label_app_train_with.dropna(subset= ['int_index','label'])\n",
    "label_app_test_with = label_app_test_with.dropna(subset= ['int_index','label'])"
   ]
  },
  {
   "cell_type": "code",
   "execution_count": 24,
   "metadata": {
    "collapsed": false
   },
   "outputs": [
    {
     "name": "stdout",
     "output_type": "stream",
     "text": [
      "X_train_installed_with shape: (23309, 492)\n",
      "X_test_installed_with shape: (35194, 492)\n"
     ]
    }
   ],
   "source": [
    "#binary\n",
    "X_train_label_with = csr_matrix((np.ones(label_app_train_with.shape[0]),\n",
    "                                 (label_app_train_with.int_index,label_app_train_with.label)),\n",
    "                              shape = (gender_age_train_with.shape[0],labelnumber))\n",
    "X_test_label_with = csr_matrix((np.ones(label_app_test_with.shape[0]),(label_app_test_with.int_index,label_app_test_with.label)),\n",
    "                              shape = (gender_age_test_with.shape[0],labelnumber))\n",
    "#count\n",
    "'''X_train_label_with = csr_matrix((label_app_train_with['size'],\n",
    "                                 (label_app_train_with.int_index,label_app_train_with.label)),\n",
    "                              shape = (gender_age_train_with.shape[0],labelnumber))\n",
    "X_test_label_with = csr_matrix((label_app_test_with['size'],\n",
    "                                (label_app_test_with.int_index,label_app_test_with.label)),\n",
    "                              shape = (gender_age_test_with.shape[0],labelnumber))'''\n",
    "print('X_train_installed_with shape:',X_train_label_with.shape)\n",
    "print('X_test_installed_with shape:',X_test_label_with.shape)\n",
    "del installed_app_grouped,label,app_label,app_label_new,label_app_test_with,label_app_train_with,encoder4,installed_app"
   ]
  },
  {
   "cell_type": "markdown",
   "metadata": {},
   "source": [
    "# Feature engineering V: active app"
   ]
  },
  {
   "cell_type": "code",
   "execution_count": 25,
   "metadata": {
    "collapsed": false
   },
   "outputs": [
    {
     "name": "stdout",
     "output_type": "stream",
     "text": [
      "             device_id  event_id    app  is_active\n",
      "0 -6401643145415154744         2  15408          1\n",
      "3 -6401643145415154744         2   8902          1\n",
      "4 -6401643145415154744         2  18686          1\n",
      "5 -6401643145415154744         2  14346          1\n",
      "9 -6401643145415154744         2  16908          1\n"
     ]
    }
   ],
   "source": [
    "active_app = pd.merge(events[['device_id']],app_event[['event_id','app','is_active']],\n",
    "                         how='right',right_on = 'event_id',left_index = True)\n",
    "active_app = active_app.loc[active_app.is_active==1]\n",
    "print(active_app.head())"
   ]
  },
  {
   "cell_type": "code",
   "execution_count": 26,
   "metadata": {
    "collapsed": false
   },
   "outputs": [
    {
     "name": "stdout",
     "output_type": "stream",
     "text": [
      "active_app_grouped:\n",
      "                           size\n",
      "device_id            app       \n",
      "-9222956879900151005 548      4\n",
      "                     1248    15\n",
      "                     1545     2\n",
      "                     1848    31\n",
      "                     2236    17\n"
     ]
    }
   ],
   "source": [
    "active_app_grouped = active_app.groupby(['device_id','app'])['app'].agg(['size'])\n",
    "print('active_app_grouped:')\n",
    "print(active_app_grouped.head())"
   ]
  },
  {
   "cell_type": "code",
   "execution_count": 27,
   "metadata": {
    "collapsed": false
   },
   "outputs": [
    {
     "name": "stdout",
     "output_type": "stream",
     "text": [
      "active_app_train_with:\n",
      "                           size  int_index\n",
      "device_id            app                  \n",
      "-9222956879900151005 548      4     5145.0\n",
      "                     1248    15     5145.0\n",
      "                     1545     2     5145.0\n",
      "                     1848    31     5145.0\n",
      "                     2236    17     5145.0\n"
     ]
    }
   ],
   "source": [
    "active_app_train_with = pd.merge(active_app_grouped,gender_age_train_with[['int_index']],\n",
    "                               how = 'left',right_index=True,left_index=True)\n",
    "active_app_test_with = pd.merge(active_app_grouped,gender_age_test_with[['int_index']],\n",
    "                              how = 'left',right_index=True,left_index=True)\n",
    "print('active_app_train_with:')\n",
    "print(active_app_train_with.head())"
   ]
  },
  {
   "cell_type": "code",
   "execution_count": 28,
   "metadata": {
    "collapsed": false
   },
   "outputs": [
    {
     "name": "stdout",
     "output_type": "stream",
     "text": [
      "             device_id   app  size  int_index\n",
      "0 -9222956879900151005   548     4     5145.0\n",
      "1 -9222956879900151005  1248    15     5145.0\n",
      "2 -9222956879900151005  1545     2     5145.0\n",
      "3 -9222956879900151005  1848    31     5145.0\n",
      "4 -9222956879900151005  2236    17     5145.0\n",
      "              device_id    app  size  int_index\n",
      "55 -9222661944218806987   1867     3     2851.0\n",
      "56 -9222661944218806987   7519     7     2851.0\n",
      "57 -9222661944218806987   7843     1     2851.0\n",
      "58 -9222661944218806987   8704     3     2851.0\n",
      "59 -9222661944218806987  10000     1     2851.0\n"
     ]
    }
   ],
   "source": [
    "active_app_train_with = active_app_train_with.reset_index()\n",
    "active_app_test_with = active_app_test_with.reset_index()\n",
    "active_app_train_with = active_app_train_with.dropna(subset=['int_index'])\n",
    "active_app_test_with = active_app_test_with.dropna(subset=['int_index'])\n",
    "print(active_app_train_with.head())\n",
    "print(active_app_test_with.head())"
   ]
  },
  {
   "cell_type": "code",
   "execution_count": 29,
   "metadata": {
    "collapsed": false
   },
   "outputs": [
    {
     "name": "stdout",
     "output_type": "stream",
     "text": [
      "X_train_active shape: (23309, 19237)\n",
      "X_test_active shape: (35194, 19237)\n"
     ]
    }
   ],
   "source": [
    "# binary active map\n",
    "#X_train_active_with = csr_matrix((np.ones(active_app_train_with.shape[0]),\n",
    "#                            (active_app_train_with.int_index,active_app_train_with.app)), \n",
    "#                            shape = (gender_age_train_with.shape[0],appnumber))\n",
    "#X_test_active = csr_matrix((np.ones(active_app_test_with.shape[0]),\n",
    "#                            (active_app_test.int_index,active_app_test_with.app)),\n",
    "#                            shape = (gender_age_test_with.shape[0],appnumber))\n",
    "# count the number of active app\n",
    "X_train_active_with = csr_matrix((active_app_train_with['size'],\n",
    "                            (active_app_train_with.int_index,active_app_train_with.app)), \n",
    "                            shape = (gender_age_train_with.shape[0],appnumber))\n",
    "X_test_active_with = csr_matrix((active_app_test_with['size'],\n",
    "                            (active_app_test_with.int_index,active_app_test_with.app)),\n",
    "                            shape = (gender_age_test_with.shape[0],appnumber))\n",
    "print('X_train_active shape:',X_train_active_with.shape)\n",
    "print('X_test_active shape:',X_test_active_with.shape)"
   ]
  },
  {
   "cell_type": "code",
   "execution_count": 30,
   "metadata": {
    "collapsed": false
   },
   "outputs": [
    {
     "data": {
      "text/plain": [
       "'scaler = StandardScaler(with_mean=False)\\nX_train_active_with = scaler.fit_transform(X_train_active_with)\\nX_test_active_with = scaler.transform(X_test_active_with)'"
      ]
     },
     "execution_count": 30,
     "metadata": {},
     "output_type": "execute_result"
    }
   ],
   "source": [
    "'''scaler = StandardScaler(with_mean=False)\n",
    "X_train_active_with = scaler.fit_transform(X_train_active_with)\n",
    "X_test_active_with = scaler.transform(X_test_active_with)'''"
   ]
  },
  {
   "cell_type": "markdown",
   "metadata": {},
   "source": [
    "# Feature engineering VI: active time period"
   ]
  },
  {
   "cell_type": "code",
   "execution_count": 31,
   "metadata": {
    "collapsed": false
   },
   "outputs": [
    {
     "name": "stdout",
     "output_type": "stream",
     "text": [
      "             device_id  time  times\n",
      "0 -9222956879900151005     7      2\n",
      "1 -9222956879900151005    11      7\n",
      "2 -9222956879900151005    12     13\n",
      "3 -9222956879900151005    13      3\n",
      "4 -9222956879900151005    14      5\n"
     ]
    }
   ],
   "source": [
    "events_time = events[['device_id','timestamp']].copy()\n",
    "events_time['time']  = events_time['timestamp'].str[11:13].astype(int)\n",
    "events_time.drop(['timestamp'],axis=1,inplace=True)\n",
    "events_time = events_time.groupby(['device_id','time'])['time'].agg({'times':'count'}).reset_index()\n",
    "print(events_time.head())\n",
    "timenumber= events_time.time.unique().shape[0]"
   ]
  },
  {
   "cell_type": "code",
   "execution_count": 32,
   "metadata": {
    "collapsed": false
   },
   "outputs": [
    {
     "name": "stdout",
     "output_type": "stream",
     "text": [
      "X_train_time_with shape: (23309, 24)\n",
      "X_test_time_with shape: (35194, 24)\n"
     ]
    }
   ],
   "source": [
    "time_train_with = pd.merge(events_time,gender_age_train_with[['int_index']],\n",
    "                               right_index=True,left_on='device_id')\n",
    "time_test_with = pd.merge(events_time,gender_age_test_with[['int_index']],\n",
    "                               right_index=True,left_on ='device_id' )\n",
    "#binary\n",
    "X_train_time_with = csr_matrix((np.ones(time_train_with.shape[0]),\n",
    "                            (time_train_with.int_index,time_train_with.time)), \n",
    "                            shape = (gender_age_train_with.shape[0],timenumber))\n",
    "X_test_time_with = csr_matrix((np.ones(time_test_with.shape[0]),\n",
    "                            (time_test_with.int_index,time_test_with.time)),\n",
    "                            shape = (gender_age_test_with.shape[0],timenumber))\n",
    "\n",
    "#number\n",
    "#X_train_time_with = csr_matrix((time_train_with['times'],\n",
    "#                            (time_train_with.int_index,time_train_with.time)), \n",
    "#                            shape = (gender_age_train_with.shape[0],timenumber))\n",
    "#X_test_time_with = csr_matrix((time_test_with['times'],\n",
    "#                            (time_test_with.int_index,time_test_with.time)),\n",
    "#                            shape = (gender_age_test_with.shape[0],timenumber))\n",
    "print('X_train_time_with shape:',X_train_time_with.shape)\n",
    "print('X_test_time_with shape:',X_test_time_with.shape)"
   ]
  },
  {
   "cell_type": "markdown",
   "metadata": {},
   "source": [
    "Normalization of the time period count."
   ]
  },
  {
   "cell_type": "code",
   "execution_count": 33,
   "metadata": {
    "collapsed": false
   },
   "outputs": [
    {
     "data": {
      "text/plain": [
       "'scaler = StandardScaler(with_mean=False)\\nX_train_time_with = scaler.fit_transform(X_train_time_with)\\nX_test_time_with = scaler.transform(X_test_time_with)'"
      ]
     },
     "execution_count": 33,
     "metadata": {},
     "output_type": "execute_result"
    }
   ],
   "source": [
    "'''scaler = StandardScaler(with_mean=False)\n",
    "X_train_time_with = scaler.fit_transform(X_train_time_with)\n",
    "X_test_time_with = scaler.transform(X_test_time_with)'''"
   ]
  },
  {
   "cell_type": "markdown",
   "metadata": {},
   "source": [
    "# feature join and selection"
   ]
  },
  {
   "cell_type": "markdown",
   "metadata": {},
   "source": [
    "## Device without events"
   ]
  },
  {
   "cell_type": "code",
   "execution_count": 34,
   "metadata": {
    "collapsed": false
   },
   "outputs": [
    {
     "name": "stdout",
     "output_type": "stream",
     "text": [
      "Training shape:\n",
      "(74645, 1798)\n",
      "Testing shape:\n",
      "(76877, 1798)\n",
      "y shape:\n",
      "(74645, 6)\n"
     ]
    }
   ],
   "source": [
    "X_train_total_without = hstack((X_train_brand_without,X_train_model_without),format='csr')\n",
    "temp_train = hstack((X_train_brand_with,X_train_model_with),format='csr')\n",
    "X_test_total_without = hstack((X_test_brand_without,X_test_model_without),format='csr')\n",
    "\n",
    "X_train_total_without= vstack((X_train_total_without,temp_train),format = 'csr')\n",
    "gender_age_train_without_temp = pd.concat((gender_age_train_without,gender_age_train_with))\n",
    "\n",
    "print('Training shape:')\n",
    "print(X_train_total_without.shape)\n",
    "print('Testing shape:')\n",
    "print(X_test_total_without.shape)\n",
    "print('y shape:')\n",
    "print(gender_age_train_without_temp.shape)"
   ]
  },
  {
   "cell_type": "markdown",
   "metadata": {},
   "source": [
    "## Device with events"
   ]
  },
  {
   "cell_type": "code",
   "execution_count": 35,
   "metadata": {
    "collapsed": false
   },
   "outputs": [
    {
     "name": "stdout",
     "output_type": "stream",
     "text": [
      "Training shape:\n",
      "(23309, 21527)\n",
      "Testing shape:\n",
      "(35194, 21527)\n"
     ]
    }
   ],
   "source": [
    "X_train_total_with = hstack((X_train_brand_with,X_train_model_with,\n",
    "                             #X_train_active_with,\n",
    "                             #X_train_time_with,\n",
    "                             X_train_installed_with,X_train_label_with),format='csr')\n",
    "X_test_total_with = hstack((X_test_brand_with,X_test_model_with,\n",
    "                            #X_test_active_with,\n",
    "                            #X_test_time_with,\n",
    "                           X_test_installed_with,X_test_label_with),format='csr')\n",
    "print('Training shape:')\n",
    "print(X_train_total_with.shape)\n",
    "print('Testing shape:')\n",
    "print(X_test_total_with.shape)"
   ]
  },
  {
   "cell_type": "code",
   "execution_count": 36,
   "metadata": {
    "collapsed": false
   },
   "outputs": [],
   "source": [
    "#percentile selction\n",
    "#selector = SelectPercentile(f_classif, percentile=80)\n",
    "#selector.fit(X_train_total, y_train_total)\n",
    "#X_train_total = selector.transform(X_train_total)\n",
    "#X_test_total = selector.transform(X_test_total)\n",
    "#X_val.shape\n",
    "\n",
    "# Selection using chi-square\n",
    "#selector = SelectKBest(chi2, k=15155).fit(X_train_total, y_train_total)\n",
    "#X_train_total = selector.transform(X_train_total)\n",
    "#X_test_total = selector.transform(X_test_total)\n",
    "#print('Training shape:')\n",
    "#print(X_train_total.shape)\n",
    "#print('Testing shape:')\n",
    "#print(X_test_total.shape)"
   ]
  },
  {
   "cell_type": "markdown",
   "metadata": {},
   "source": [
    "# Clear the memory before we do the learning"
   ]
  },
  {
   "cell_type": "code",
   "execution_count": 37,
   "metadata": {
    "collapsed": false
   },
   "outputs": [],
   "source": [
    "del app_event"
   ]
  },
  {
   "cell_type": "markdown",
   "metadata": {
    "collapsed": true
   },
   "source": [
    "# Start training model"
   ]
  },
  {
   "cell_type": "markdown",
   "metadata": {},
   "source": [
    "encode the target"
   ]
  },
  {
   "cell_type": "code",
   "execution_count": 38,
   "metadata": {
    "collapsed": true
   },
   "outputs": [],
   "source": [
    "targetencoder = LabelEncoder().fit(gender_age_train_with.group)\n",
    "nclasses = len(targetencoder.classes_)\n",
    "y_train_total_with = targetencoder.transform(gender_age_train_with.group)"
   ]
  },
  {
   "cell_type": "markdown",
   "metadata": {},
   "source": [
    "# Subset I: device with events"
   ]
  },
  {
   "cell_type": "markdown",
   "metadata": {},
   "source": [
    "## Neural network"
   ]
  },
  {
   "cell_type": "markdown",
   "metadata": {},
   "source": [
    "Defining functions:"
   ]
  },
  {
   "cell_type": "code",
   "execution_count": 39,
   "metadata": {
    "collapsed": true
   },
   "outputs": [],
   "source": [
    "def batch_generator(X, y, batch_size, shuffle):\n",
    "    #chenglong code for fiting from generator \n",
    "    #(https://www.kaggle.com/c/talkingdata-mobile-user-demographics/forums/t/22567/neural-network-for-sparse-matrices)\n",
    "    number_of_batches = np.ceil(X.shape[0]/batch_size)\n",
    "    counter = 0\n",
    "    sample_index = np.arange(X.shape[0])\n",
    "    if shuffle:\n",
    "        np.random.shuffle(sample_index)\n",
    "    while True:\n",
    "        batch_index = sample_index[batch_size*counter:batch_size*(counter+1)]\n",
    "        X_batch = X[batch_index,:].toarray()\n",
    "        y_batch = y[batch_index]\n",
    "        counter += 1\n",
    "        yield X_batch, y_batch\n",
    "        if (counter == number_of_batches):\n",
    "            if shuffle:\n",
    "                np.random.shuffle(sample_index)\n",
    "            counter = 0\n",
    "def batch_generatorp(X, batch_size, shuffle):\n",
    "    number_of_batches = X.shape[0] / np.ceil(X.shape[0]/batch_size)\n",
    "    counter = 0\n",
    "    sample_index = np.arange(X.shape[0])\n",
    "    while True:\n",
    "        batch_index = sample_index[batch_size * counter:batch_size * (counter + 1)]\n",
    "        X_batch = X[batch_index, :].toarray()\n",
    "        counter += 1\n",
    "        yield X_batch\n",
    "        if (counter == number_of_batches):\n",
    "            counter = 0\n",
    "\n"
   ]
  },
  {
   "cell_type": "code",
   "execution_count": 44,
   "metadata": {
    "collapsed": false
   },
   "outputs": [
    {
     "name": "stdout",
     "output_type": "stream",
     "text": [
      "*****************************************************\n",
      "0_fold\n",
      "Epoch 1/15\n",
      "61s - loss: 2.3530 - acc: 0.1659 - val_loss: 2.3042 - val_acc: 0.1789\n",
      "Epoch 2/15\n",
      "65s - loss: 2.2277 - acc: 0.2143 - val_loss: 2.2308 - val_acc: 0.2200\n",
      "Epoch 3/15\n",
      "63s - loss: 2.1548 - acc: 0.2385 - val_loss: 2.1900 - val_acc: 0.2320\n",
      "Epoch 4/15\n",
      "63s - loss: 2.1083 - acc: 0.2593 - val_loss: 2.1622 - val_acc: 0.2453\n",
      "Epoch 5/15\n",
      "64s - loss: 2.0842 - acc: 0.2660 - val_loss: 2.1533 - val_acc: 0.2517\n",
      "Epoch 6/15\n",
      "63s - loss: 2.0493 - acc: 0.2782 - val_loss: 2.1430 - val_acc: 0.2526\n",
      "Epoch 7/15\n",
      "64s - loss: 2.0408 - acc: 0.2859 - val_loss: 2.1326 - val_acc: 0.2564\n",
      "Epoch 8/15\n",
      "63s - loss: 2.0195 - acc: 0.2935 - val_loss: 2.1297 - val_acc: 0.2611\n",
      "Epoch 9/15\n",
      "64s - loss: 2.0075 - acc: 0.2928 - val_loss: 2.1235 - val_acc: 0.2573\n",
      "Epoch 10/15\n",
      "64s - loss: 1.9973 - acc: 0.2994 - val_loss: 2.1267 - val_acc: 0.2633\n",
      "Epoch 11/15\n",
      "64s - loss: 1.9945 - acc: 0.3010 - val_loss: 2.1190 - val_acc: 0.2517\n",
      "Epoch 12/15\n",
      "64s - loss: 1.9844 - acc: 0.3020 - val_loss: 2.1210 - val_acc: 0.2521\n",
      "Epoch 13/15\n",
      "62s - loss: 1.9718 - acc: 0.3123 - val_loss: 2.1198 - val_acc: 0.2526\n",
      "Epoch 14/15\n",
      "62s - loss: 1.9636 - acc: 0.3108 - val_loss: 2.1251 - val_acc: 0.2607\n",
      "Epoch 15/15\n",
      "62s - loss: 1.9593 - acc: 0.3187 - val_loss: 2.1235 - val_acc: 0.2517\n",
      "logloss val 2.6660416554490913\n",
      "*****************************************************\n",
      "1_fold\n",
      "Epoch 1/15\n",
      "59s - loss: 2.3653 - acc: 0.1601 - val_loss: 2.2781 - val_acc: 0.1882\n",
      "Epoch 2/15\n",
      "63s - loss: 2.2445 - acc: 0.2058 - val_loss: 2.1882 - val_acc: 0.2246\n",
      "Epoch 3/15\n",
      "62s - loss: 2.1727 - acc: 0.2343 - val_loss: 2.1329 - val_acc: 0.2542\n",
      "Epoch 4/15\n",
      "63s - loss: 2.1318 - acc: 0.2512 - val_loss: 2.0929 - val_acc: 0.2679\n",
      "Epoch 5/15\n",
      "63s - loss: 2.0917 - acc: 0.2647 - val_loss: 2.0727 - val_acc: 0.2863\n",
      "Epoch 6/15\n",
      "63s - loss: 2.0814 - acc: 0.2698 - val_loss: 2.0593 - val_acc: 0.2876\n",
      "Epoch 7/15\n",
      "62s - loss: 2.0574 - acc: 0.2776 - val_loss: 2.0438 - val_acc: 0.2936\n",
      "Epoch 8/15\n",
      "63s - loss: 2.0462 - acc: 0.2771 - val_loss: 2.0396 - val_acc: 0.2906\n",
      "Epoch 9/15\n",
      "62s - loss: 2.0318 - acc: 0.2840 - val_loss: 2.0352 - val_acc: 0.2936\n",
      "Epoch 10/15\n",
      "62s - loss: 2.0228 - acc: 0.2874 - val_loss: 2.0321 - val_acc: 0.2906\n",
      "Epoch 11/15\n",
      "61s - loss: 2.0160 - acc: 0.2929 - val_loss: 2.0235 - val_acc: 0.3000\n",
      "Epoch 12/15\n",
      "61s - loss: 2.0043 - acc: 0.2960 - val_loss: 2.0165 - val_acc: 0.2945\n",
      "Epoch 13/15\n",
      "61s - loss: 1.9955 - acc: 0.2951 - val_loss: 2.0162 - val_acc: 0.2949\n",
      "Epoch 14/15\n",
      "63s - loss: 1.9969 - acc: 0.3020 - val_loss: 2.0142 - val_acc: 0.3030\n",
      "Epoch 15/15\n",
      "63s - loss: 1.9838 - acc: 0.3060 - val_loss: 2.0072 - val_acc: 0.3065\n",
      "logloss val 2.0072402107642744\n",
      "*****************************************************\n",
      "2_fold\n",
      "Epoch 1/15\n",
      "68s - loss: 2.3594 - acc: 0.1605 - val_loss: 2.2723 - val_acc: 0.2027\n",
      "Epoch 2/15\n",
      "66s - loss: 2.2289 - acc: 0.2138 - val_loss: 2.1879 - val_acc: 0.2349\n",
      "Epoch 3/15\n",
      "62s - loss: 2.1645 - acc: 0.2375 - val_loss: 2.1332 - val_acc: 0.2525\n",
      "Epoch 4/15\n",
      "62s - loss: 2.1183 - acc: 0.2538 - val_loss: 2.1067 - val_acc: 0.2610\n",
      "Epoch 5/15\n",
      "62s - loss: 2.0899 - acc: 0.2659 - val_loss: 2.0904 - val_acc: 0.2696\n",
      "Epoch 6/15\n",
      "62s - loss: 2.0707 - acc: 0.2735 - val_loss: 2.0851 - val_acc: 0.2679\n",
      "Epoch 7/15\n",
      "68s - loss: 2.0452 - acc: 0.2818 - val_loss: 2.0712 - val_acc: 0.2752\n",
      "Epoch 8/15\n",
      "61s - loss: 2.0413 - acc: 0.2821 - val_loss: 2.0655 - val_acc: 0.2795\n",
      "Epoch 9/15\n",
      "62s - loss: 2.0258 - acc: 0.2859 - val_loss: 2.0663 - val_acc: 0.2825\n",
      "Epoch 10/15\n",
      "62s - loss: 2.0104 - acc: 0.2903 - val_loss: 2.0623 - val_acc: 0.2833\n",
      "Epoch 11/15\n",
      "62s - loss: 2.0112 - acc: 0.2954 - val_loss: 2.0594 - val_acc: 0.2846\n",
      "Epoch 12/15\n",
      "62s - loss: 1.9925 - acc: 0.3009 - val_loss: 2.0574 - val_acc: 0.2859\n",
      "Epoch 13/15\n",
      "62s - loss: 1.9823 - acc: 0.3021 - val_loss: 2.0616 - val_acc: 0.2820\n",
      "Epoch 14/15\n",
      "62s - loss: 1.9745 - acc: 0.3081 - val_loss: 2.0571 - val_acc: 0.2838\n",
      "Epoch 15/15\n",
      "62s - loss: 1.9712 - acc: 0.3033 - val_loss: 2.0543 - val_acc: 0.2850\n",
      "logloss val 2.0542612577123043\n",
      "*****************************************************\n",
      "3_fold\n",
      "Epoch 1/15\n",
      "65s - loss: 2.3512 - acc: 0.1637 - val_loss: 2.2388 - val_acc: 0.2277\n",
      "Epoch 2/15\n",
      "64s - loss: 2.2377 - acc: 0.2104 - val_loss: 2.1486 - val_acc: 0.2526\n",
      "Epoch 3/15\n",
      "64s - loss: 2.1680 - acc: 0.2371 - val_loss: 2.0952 - val_acc: 0.2702\n",
      "Epoch 4/15\n",
      "63s - loss: 2.1227 - acc: 0.2497 - val_loss: 2.0599 - val_acc: 0.2852\n",
      "Epoch 5/15\n",
      "62s - loss: 2.0961 - acc: 0.2600 - val_loss: 2.0378 - val_acc: 0.2856\n",
      "Epoch 6/15\n",
      "62s - loss: 2.0712 - acc: 0.2683 - val_loss: 2.0242 - val_acc: 0.2886\n",
      "Epoch 7/15\n",
      "62s - loss: 2.0568 - acc: 0.2789 - val_loss: 2.0149 - val_acc: 0.2877\n",
      "Epoch 8/15\n",
      "62s - loss: 2.0388 - acc: 0.2829 - val_loss: 2.0137 - val_acc: 0.2929\n",
      "Epoch 9/15\n",
      "61s - loss: 2.0277 - acc: 0.2883 - val_loss: 2.0042 - val_acc: 0.2963\n",
      "Epoch 10/15\n",
      "61s - loss: 2.0158 - acc: 0.2907 - val_loss: 2.0000 - val_acc: 0.2997\n",
      "Epoch 11/15\n",
      "61s - loss: 2.0006 - acc: 0.2995 - val_loss: 1.9991 - val_acc: 0.2997\n",
      "Epoch 12/15\n",
      "61s - loss: 2.0049 - acc: 0.3005 - val_loss: 1.9973 - val_acc: 0.2976\n",
      "Epoch 13/15\n",
      "61s - loss: 1.9836 - acc: 0.3009 - val_loss: 1.9967 - val_acc: 0.3049\n",
      "Epoch 14/15\n",
      "60s - loss: 1.9787 - acc: 0.3060 - val_loss: 1.9966 - val_acc: 0.3066\n",
      "Epoch 15/15\n",
      "60s - loss: 1.9761 - acc: 0.3121 - val_loss: 1.9987 - val_acc: 0.3023\n",
      "logloss val 1.9986644269148184\n",
      "*****************************************************\n",
      "4_fold\n",
      "Epoch 1/15\n",
      "63s - loss: 2.3650 - acc: 0.1546 - val_loss: 2.2573 - val_acc: 0.2268\n",
      "Epoch 2/15\n",
      "62s - loss: 2.2571 - acc: 0.2006 - val_loss: 2.1455 - val_acc: 0.2573\n",
      "Epoch 3/15\n",
      "63s - loss: 2.1854 - acc: 0.2266 - val_loss: 2.0839 - val_acc: 0.2864\n",
      "Epoch 4/15\n",
      "62s - loss: 2.1450 - acc: 0.2426 - val_loss: 2.0419 - val_acc: 0.2929\n",
      "Epoch 5/15\n",
      "62s - loss: 2.1104 - acc: 0.2549 - val_loss: 2.0188 - val_acc: 0.2929\n",
      "Epoch 6/15\n",
      "62s - loss: 2.0889 - acc: 0.2648 - val_loss: 2.0025 - val_acc: 0.3032\n",
      "Epoch 7/15\n",
      "62s - loss: 2.0710 - acc: 0.2701 - val_loss: 1.9873 - val_acc: 0.3066\n",
      "Epoch 8/15\n",
      "62s - loss: 2.0544 - acc: 0.2770 - val_loss: 1.9795 - val_acc: 0.3057\n",
      "Epoch 9/15\n",
      "61s - loss: 2.0533 - acc: 0.2767 - val_loss: 1.9738 - val_acc: 0.3100\n",
      "Epoch 10/15\n",
      "62s - loss: 2.0372 - acc: 0.2839 - val_loss: 1.9677 - val_acc: 0.3045\n",
      "Epoch 11/15\n",
      "62s - loss: 2.0223 - acc: 0.2910 - val_loss: 1.9575 - val_acc: 0.3113\n",
      "Epoch 12/15\n",
      "64s - loss: 2.0137 - acc: 0.2946 - val_loss: 1.9542 - val_acc: 0.3096\n",
      "Epoch 13/15\n",
      "60s - loss: 1.9969 - acc: 0.3007 - val_loss: 1.9529 - val_acc: 0.3199\n",
      "Epoch 14/15\n",
      "60s - loss: 2.0004 - acc: 0.3012 - val_loss: 1.9469 - val_acc: 0.3212\n",
      "Epoch 15/15\n",
      "60s - loss: 1.9882 - acc: 0.3025 - val_loss: 1.9503 - val_acc: 0.3208\n",
      "logloss val 1.95029562912199\n",
      "*****************************************************\n",
      "5_fold\n",
      "Epoch 1/15\n",
      "62s - loss: 2.3543 - acc: 0.1630 - val_loss: 2.2258 - val_acc: 0.2128\n",
      "Epoch 2/15\n",
      "61s - loss: 2.2288 - acc: 0.2075 - val_loss: 2.1274 - val_acc: 0.2544\n",
      "Epoch 3/15\n",
      "61s - loss: 2.1594 - acc: 0.2385 - val_loss: 2.0727 - val_acc: 0.2716\n",
      "Epoch 4/15\n",
      "61s - loss: 2.1269 - acc: 0.2533 - val_loss: 2.0456 - val_acc: 0.2943\n",
      "Epoch 5/15\n",
      "62s - loss: 2.0960 - acc: 0.2621 - val_loss: 2.0202 - val_acc: 0.3046\n",
      "Epoch 6/15\n",
      "61s - loss: 2.0796 - acc: 0.2698 - val_loss: 2.0056 - val_acc: 0.3037\n",
      "Epoch 7/15\n",
      "61s - loss: 2.0638 - acc: 0.2712 - val_loss: 1.9979 - val_acc: 0.3063\n",
      "Epoch 8/15\n",
      "61s - loss: 2.0467 - acc: 0.2829 - val_loss: 1.9954 - val_acc: 0.3110\n",
      "Epoch 9/15\n",
      "60s - loss: 2.0411 - acc: 0.2860 - val_loss: 1.9837 - val_acc: 0.3140\n",
      "Epoch 10/15\n",
      "61s - loss: 2.0217 - acc: 0.2892 - val_loss: 1.9789 - val_acc: 0.3072\n",
      "Epoch 11/15\n",
      "60s - loss: 2.0168 - acc: 0.2916 - val_loss: 1.9734 - val_acc: 0.3089\n",
      "Epoch 12/15\n",
      "60s - loss: 2.0009 - acc: 0.3026 - val_loss: 1.9730 - val_acc: 0.3089\n",
      "Epoch 13/15\n",
      "59s - loss: 2.0000 - acc: 0.2974 - val_loss: 1.9736 - val_acc: 0.3106\n",
      "Epoch 14/15\n",
      "59s - loss: 1.9888 - acc: 0.3035 - val_loss: 1.9696 - val_acc: 0.3097\n",
      "Epoch 15/15\n",
      "60s - loss: 1.9920 - acc: 0.3053 - val_loss: 1.9709 - val_acc: 0.3140\n",
      "logloss val 1.972287068791998\n",
      "*****************************************************\n",
      "6_fold\n",
      "Epoch 1/15\n",
      "62s - loss: 2.3486 - acc: 0.1614 - val_loss: 2.2182 - val_acc: 0.2258\n",
      "Epoch 2/15\n",
      "62s - loss: 2.2284 - acc: 0.2101 - val_loss: 2.1126 - val_acc: 0.2714\n",
      "Epoch 3/15\n",
      "62s - loss: 2.1651 - acc: 0.2406 - val_loss: 2.0511 - val_acc: 0.2997\n",
      "Epoch 4/15\n",
      "61s - loss: 2.1328 - acc: 0.2487 - val_loss: 2.0110 - val_acc: 0.3134\n",
      "Epoch 5/15\n",
      "62s - loss: 2.1053 - acc: 0.2610 - val_loss: 1.9808 - val_acc: 0.3199\n",
      "Epoch 6/15\n",
      "62s - loss: 2.0736 - acc: 0.2731 - val_loss: 1.9611 - val_acc: 0.3302\n",
      "Epoch 7/15\n",
      "62s - loss: 2.0657 - acc: 0.2775 - val_loss: 1.9417 - val_acc: 0.3310\n",
      "Epoch 8/15\n",
      "62s - loss: 2.0474 - acc: 0.2840 - val_loss: 1.9244 - val_acc: 0.3328\n",
      "Epoch 9/15\n",
      "61s - loss: 2.0352 - acc: 0.2874 - val_loss: 1.9200 - val_acc: 0.3315\n",
      "Epoch 10/15\n",
      "62s - loss: 2.0200 - acc: 0.2914 - val_loss: 1.9119 - val_acc: 0.3263\n",
      "Epoch 11/15\n",
      "62s - loss: 2.0110 - acc: 0.2946 - val_loss: 1.9072 - val_acc: 0.3323\n",
      "Epoch 12/15\n",
      "61s - loss: 2.0074 - acc: 0.2983 - val_loss: 1.9053 - val_acc: 0.3349\n",
      "Epoch 13/15\n",
      "62s - loss: 1.9935 - acc: 0.3029 - val_loss: 1.8986 - val_acc: 0.3345\n",
      "Epoch 14/15\n",
      "61s - loss: 1.9876 - acc: 0.3039 - val_loss: 1.8931 - val_acc: 0.3345\n",
      "Epoch 15/15\n",
      "61s - loss: 1.9824 - acc: 0.3070 - val_loss: 1.8979 - val_acc: 0.3358\n",
      "logloss val 1.89791912061985\n",
      "*****************************************************\n",
      "7_fold\n",
      "Epoch 1/15\n",
      "62s - loss: 2.3702 - acc: 0.1558 - val_loss: 2.2305 - val_acc: 0.2374\n",
      "Epoch 2/15\n",
      "60s - loss: 2.2507 - acc: 0.2045 - val_loss: 2.1149 - val_acc: 0.2645\n",
      "Epoch 3/15\n",
      "61s - loss: 2.1842 - acc: 0.2271 - val_loss: 2.0550 - val_acc: 0.2864\n",
      "Epoch 4/15\n",
      "61s - loss: 2.1402 - acc: 0.2445 - val_loss: 2.0102 - val_acc: 0.3006\n",
      "Epoch 5/15\n",
      "61s - loss: 2.1107 - acc: 0.2572 - val_loss: 1.9843 - val_acc: 0.3117\n",
      "Epoch 6/15\n",
      "62s - loss: 2.0940 - acc: 0.2632 - val_loss: 1.9645 - val_acc: 0.3122\n",
      "Epoch 7/15\n",
      "61s - loss: 2.0693 - acc: 0.2744 - val_loss: 1.9522 - val_acc: 0.3156\n",
      "Epoch 8/15\n",
      "60s - loss: 2.0590 - acc: 0.2770 - val_loss: 1.9409 - val_acc: 0.3216\n",
      "Epoch 9/15\n",
      "61s - loss: 2.0448 - acc: 0.2810 - val_loss: 1.9369 - val_acc: 0.3182\n",
      "Epoch 10/15\n",
      "60s - loss: 2.0327 - acc: 0.2913 - val_loss: 1.9295 - val_acc: 0.3272\n",
      "Epoch 11/15\n",
      "61s - loss: 2.0245 - acc: 0.2927 - val_loss: 1.9247 - val_acc: 0.3220\n",
      "Epoch 12/15\n",
      "61s - loss: 2.0137 - acc: 0.2933 - val_loss: 1.9240 - val_acc: 0.3225\n",
      "Epoch 13/15\n",
      "60s - loss: 2.0004 - acc: 0.3011 - val_loss: 1.9178 - val_acc: 0.3293\n",
      "Epoch 14/15\n",
      "60s - loss: 1.9922 - acc: 0.3017 - val_loss: 1.9159 - val_acc: 0.3285\n",
      "Epoch 15/15\n",
      "61s - loss: 1.9895 - acc: 0.3043 - val_loss: 1.9220 - val_acc: 0.3250\n",
      "logloss val 1.9219949260832283\n",
      "*****************************************************\n",
      "8_fold\n",
      "Epoch 1/15\n",
      "61s - loss: 2.3558 - acc: 0.1616 - val_loss: 2.2214 - val_acc: 0.2341\n",
      "Epoch 2/15\n",
      "60s - loss: 2.2370 - acc: 0.2065 - val_loss: 2.1187 - val_acc: 0.2612\n",
      "Epoch 3/15\n",
      "59s - loss: 2.1729 - acc: 0.2328 - val_loss: 2.0596 - val_acc: 0.2891\n",
      "Epoch 4/15\n",
      "59s - loss: 2.1291 - acc: 0.2486 - val_loss: 2.0215 - val_acc: 0.3050\n",
      "Epoch 5/15\n",
      "60s - loss: 2.0999 - acc: 0.2630 - val_loss: 1.9908 - val_acc: 0.3046\n",
      "Epoch 6/15\n",
      "59s - loss: 2.0796 - acc: 0.2679 - val_loss: 1.9798 - val_acc: 0.3127\n",
      "Epoch 7/15\n",
      "59s - loss: 2.0614 - acc: 0.2766 - val_loss: 1.9665 - val_acc: 0.3149\n",
      "Epoch 8/15\n",
      "60s - loss: 2.0510 - acc: 0.2816 - val_loss: 1.9585 - val_acc: 0.3200\n",
      "Epoch 9/15\n",
      "59s - loss: 2.0338 - acc: 0.2880 - val_loss: 1.9501 - val_acc: 0.3230\n",
      "Epoch 10/15\n",
      "60s - loss: 2.0277 - acc: 0.2889 - val_loss: 1.9472 - val_acc: 0.3166\n",
      "Epoch 11/15\n",
      "60s - loss: 2.0221 - acc: 0.2967 - val_loss: 1.9421 - val_acc: 0.3222\n",
      "Epoch 12/15\n",
      "60s - loss: 2.0076 - acc: 0.3003 - val_loss: 1.9313 - val_acc: 0.3269\n",
      "Epoch 13/15\n",
      "60s - loss: 2.0013 - acc: 0.3018 - val_loss: 1.9378 - val_acc: 0.3235\n",
      "Epoch 14/15\n",
      "60s - loss: 1.9934 - acc: 0.3002 - val_loss: 1.9312 - val_acc: 0.3282\n",
      "Epoch 15/15\n",
      "60s - loss: 1.9888 - acc: 0.3010 - val_loss: 1.9297 - val_acc: 0.3260\n",
      "logloss val 1.9297176631301218\n",
      "*****************************************************\n",
      "9_fold\n",
      "Epoch 1/15\n",
      "62s - loss: 2.3530 - acc: 0.1603 - val_loss: 2.2389 - val_acc: 0.2244\n",
      "Epoch 2/15\n",
      "58s - loss: 2.2338 - acc: 0.2077 - val_loss: 2.1487 - val_acc: 0.2605\n",
      "Epoch 3/15\n",
      "57s - loss: 2.1668 - acc: 0.2316 - val_loss: 2.0916 - val_acc: 0.2807\n",
      "Epoch 4/15\n",
      "58s - loss: 2.1300 - acc: 0.2486 - val_loss: 2.0653 - val_acc: 0.2794\n",
      "Epoch 5/15\n",
      "58s - loss: 2.0976 - acc: 0.2612 - val_loss: 2.0423 - val_acc: 0.2906\n",
      "Epoch 6/15\n",
      "57s - loss: 2.0814 - acc: 0.2700 - val_loss: 2.0337 - val_acc: 0.2876\n",
      "Epoch 7/15\n",
      "57s - loss: 2.0649 - acc: 0.2740 - val_loss: 2.0322 - val_acc: 0.2906\n",
      "Epoch 8/15\n",
      "58s - loss: 2.0496 - acc: 0.2808 - val_loss: 2.0249 - val_acc: 0.2863\n",
      "Epoch 9/15\n",
      "58s - loss: 2.0405 - acc: 0.2840 - val_loss: 2.0017 - val_acc: 0.2962\n",
      "Epoch 10/15\n",
      "56s - loss: 2.0231 - acc: 0.2898 - val_loss: 2.0032 - val_acc: 0.2979\n",
      "Epoch 11/15\n",
      "56s - loss: 2.0209 - acc: 0.2921 - val_loss: 1.9923 - val_acc: 0.3031\n",
      "Epoch 12/15\n",
      "57s - loss: 2.0000 - acc: 0.3020 - val_loss: 2.0025 - val_acc: 0.3001\n",
      "Epoch 13/15\n",
      "57s - loss: 2.0058 - acc: 0.3012 - val_loss: 1.9931 - val_acc: 0.3022\n",
      "Epoch 14/15\n",
      "57s - loss: 1.9864 - acc: 0.3047 - val_loss: 2.0017 - val_acc: 0.3009\n",
      "Epoch 15/15\n",
      "57s - loss: 1.9847 - acc: 0.3048 - val_loss: 1.9914 - val_acc: 0.2979\n",
      "logloss val 1.9913534492259046\n",
      "average logloss val 2.0389775407813584\n",
      "*****************************************************\n",
      "0_fold\n",
      "Epoch 1/15\n",
      "58s - loss: 2.3541 - acc: 0.1660 - val_loss: 2.3057 - val_acc: 0.1819\n",
      "Epoch 2/15\n",
      "58s - loss: 2.2269 - acc: 0.2122 - val_loss: 2.2380 - val_acc: 0.2042\n",
      "Epoch 3/15\n",
      "58s - loss: 2.1610 - acc: 0.2390 - val_loss: 2.1916 - val_acc: 0.2299\n",
      "Epoch 4/15\n",
      "60s - loss: 2.1172 - acc: 0.2537 - val_loss: 2.1680 - val_acc: 0.2406\n",
      "Epoch 5/15\n",
      "58s - loss: 2.0938 - acc: 0.2620 - val_loss: 2.1534 - val_acc: 0.2470\n",
      "Epoch 6/15\n",
      "59s - loss: 2.0646 - acc: 0.2754 - val_loss: 2.1417 - val_acc: 0.2530\n",
      "Epoch 7/15\n",
      "59s - loss: 2.0470 - acc: 0.2851 - val_loss: 2.1360 - val_acc: 0.2581\n",
      "Epoch 8/15\n",
      "59s - loss: 2.0284 - acc: 0.2863 - val_loss: 2.1303 - val_acc: 0.2564\n",
      "Epoch 9/15\n",
      "58s - loss: 2.0211 - acc: 0.2946 - val_loss: 2.1271 - val_acc: 0.2586\n",
      "Epoch 10/15\n",
      "58s - loss: 2.0048 - acc: 0.2976 - val_loss: 2.1191 - val_acc: 0.2616\n",
      "Epoch 11/15\n",
      "58s - loss: 1.9927 - acc: 0.3029 - val_loss: 2.1186 - val_acc: 0.2646\n",
      "Epoch 12/15\n",
      "58s - loss: 1.9881 - acc: 0.3017 - val_loss: 2.1192 - val_acc: 0.2598\n",
      "Epoch 13/15\n",
      "59s - loss: 1.9807 - acc: 0.3087 - val_loss: 2.1140 - val_acc: 0.2607\n",
      "Epoch 14/15\n",
      "59s - loss: 1.9675 - acc: 0.3113 - val_loss: 2.1184 - val_acc: 0.2607\n",
      "Epoch 15/15\n",
      "58s - loss: 1.9664 - acc: 0.3117 - val_loss: 2.1180 - val_acc: 0.2633\n",
      "logloss val 2.6617119804735054\n",
      "*****************************************************\n",
      "1_fold\n",
      "Epoch 1/15\n",
      "61s - loss: 2.3511 - acc: 0.1606 - val_loss: 2.2713 - val_acc: 0.1963\n",
      "Epoch 2/15\n",
      "54s - loss: 2.2307 - acc: 0.2121 - val_loss: 2.1756 - val_acc: 0.2375\n",
      "Epoch 3/15\n",
      "57s - loss: 2.1608 - acc: 0.2371 - val_loss: 2.1214 - val_acc: 0.2533\n",
      "Epoch 4/15\n",
      "61s - loss: 2.1137 - acc: 0.2595 - val_loss: 2.0901 - val_acc: 0.2679\n",
      "Epoch 5/15\n",
      "55s - loss: 2.0856 - acc: 0.2662 - val_loss: 2.0648 - val_acc: 0.2782\n",
      "Epoch 6/15\n",
      "54s - loss: 2.0587 - acc: 0.2775 - val_loss: 2.0541 - val_acc: 0.2855\n",
      "Epoch 7/15\n",
      "54s - loss: 2.0442 - acc: 0.2809 - val_loss: 2.0447 - val_acc: 0.2889\n",
      "Epoch 8/15\n",
      "54s - loss: 2.0290 - acc: 0.2855 - val_loss: 2.0343 - val_acc: 0.2919\n",
      "Epoch 9/15\n",
      "54s - loss: 2.0161 - acc: 0.2953 - val_loss: 2.0276 - val_acc: 0.2962\n",
      "Epoch 10/15\n",
      "55s - loss: 2.0048 - acc: 0.2930 - val_loss: 2.0247 - val_acc: 0.2936\n",
      "Epoch 11/15\n",
      "54s - loss: 1.9991 - acc: 0.3024 - val_loss: 2.0185 - val_acc: 0.2962\n",
      "Epoch 12/15\n",
      "54s - loss: 1.9846 - acc: 0.3053 - val_loss: 2.0209 - val_acc: 0.2983\n",
      "Epoch 13/15\n",
      "55s - loss: 1.9804 - acc: 0.3066 - val_loss: 2.0099 - val_acc: 0.3026\n",
      "Epoch 14/15\n",
      "54s - loss: 1.9714 - acc: 0.3075 - val_loss: 2.0129 - val_acc: 0.3026\n",
      "Epoch 15/15\n"
     ]
    },
    {
     "name": "stderr",
     "output_type": "stream",
     "text": [
      "/Users/Yuyang/anaconda/lib/python3.5/site-packages/keras/engine/training.py:1403: UserWarning: Epoch comprised more than `samples_per_epoch` samples, which might affect learning results. Set `samples_per_epoch` correctly to avoid this warning.\n",
      "  warnings.warn('Epoch comprised more than '\n"
     ]
    },
    {
     "ename": "KeyboardInterrupt",
     "evalue": "",
     "output_type": "error",
     "traceback": [
      "\u001b[0;31m---------------------------------------------------------------------------\u001b[0m",
      "\u001b[0;31mKeyboardInterrupt\u001b[0m                         Traceback (most recent call last)",
      "\u001b[0;32m<ipython-input-44-0efcf726e162>\u001b[0m in \u001b[0;36m<module>\u001b[0;34m()\u001b[0m\n\u001b[1;32m     34\u001b[0m                              \u001b[0mnb_epoch\u001b[0m\u001b[0;34m=\u001b[0m\u001b[0;36m15\u001b[0m\u001b[0;34m,\u001b[0m\u001b[0;34m\u001b[0m\u001b[0m\n\u001b[1;32m     35\u001b[0m                              \u001b[0msamples_per_epoch\u001b[0m\u001b[0;34m=\u001b[0m\u001b[0;36m30000\u001b[0m\u001b[0;34m,\u001b[0m\u001b[0;34m\u001b[0m\u001b[0m\n\u001b[0;32m---> 36\u001b[0;31m                              \u001b[0mvalidation_data\u001b[0m\u001b[0;34m=\u001b[0m\u001b[0;34m(\u001b[0m\u001b[0mX_val_with\u001b[0m\u001b[0;34m.\u001b[0m\u001b[0mtodense\u001b[0m\u001b[0;34m(\u001b[0m\u001b[0;34m)\u001b[0m\u001b[0;34m,\u001b[0m \u001b[0my_val_with\u001b[0m\u001b[0;34m)\u001b[0m\u001b[0;34m,\u001b[0m \u001b[0mverbose\u001b[0m\u001b[0;34m=\u001b[0m\u001b[0;36m2\u001b[0m\u001b[0;34m\u001b[0m\u001b[0m\n\u001b[0m\u001b[1;32m     37\u001b[0m                              )\n\u001b[1;32m     38\u001b[0m         scores_val_with = model.predict_generator(generator=batch_generatorp(X_val_with, 32, False), \n",
      "\u001b[0;32m/Users/Yuyang/anaconda/lib/python3.5/site-packages/keras/models.py\u001b[0m in \u001b[0;36mfit_generator\u001b[0;34m(self, generator, samples_per_epoch, nb_epoch, verbose, callbacks, validation_data, nb_val_samples, class_weight, max_q_size, **kwargs)\u001b[0m\n\u001b[1;32m    654\u001b[0m                                         \u001b[0mnb_val_samples\u001b[0m\u001b[0;34m=\u001b[0m\u001b[0mnb_val_samples\u001b[0m\u001b[0;34m,\u001b[0m\u001b[0;34m\u001b[0m\u001b[0m\n\u001b[1;32m    655\u001b[0m                                         \u001b[0mclass_weight\u001b[0m\u001b[0;34m=\u001b[0m\u001b[0mclass_weight\u001b[0m\u001b[0;34m,\u001b[0m\u001b[0;34m\u001b[0m\u001b[0m\n\u001b[0;32m--> 656\u001b[0;31m                                         max_q_size=max_q_size)\n\u001b[0m\u001b[1;32m    657\u001b[0m \u001b[0;34m\u001b[0m\u001b[0m\n\u001b[1;32m    658\u001b[0m     \u001b[0;32mdef\u001b[0m \u001b[0mevaluate_generator\u001b[0m\u001b[0;34m(\u001b[0m\u001b[0mself\u001b[0m\u001b[0;34m,\u001b[0m \u001b[0mgenerator\u001b[0m\u001b[0;34m,\u001b[0m \u001b[0mval_samples\u001b[0m\u001b[0;34m,\u001b[0m \u001b[0mmax_q_size\u001b[0m\u001b[0;34m=\u001b[0m\u001b[0;36m10\u001b[0m\u001b[0;34m,\u001b[0m \u001b[0;34m**\u001b[0m\u001b[0mkwargs\u001b[0m\u001b[0;34m)\u001b[0m\u001b[0;34m:\u001b[0m\u001b[0;34m\u001b[0m\u001b[0m\n",
      "\u001b[0;32m/Users/Yuyang/anaconda/lib/python3.5/site-packages/keras/engine/training.py\u001b[0m in \u001b[0;36mfit_generator\u001b[0;34m(self, generator, samples_per_epoch, nb_epoch, verbose, callbacks, validation_data, nb_val_samples, class_weight, max_q_size)\u001b[0m\n\u001b[1;32m   1382\u001b[0m                     outs = self.train_on_batch(x, y,\n\u001b[1;32m   1383\u001b[0m                                                \u001b[0msample_weight\u001b[0m\u001b[0;34m=\u001b[0m\u001b[0msample_weight\u001b[0m\u001b[0;34m,\u001b[0m\u001b[0;34m\u001b[0m\u001b[0m\n\u001b[0;32m-> 1384\u001b[0;31m                                                class_weight=class_weight)\n\u001b[0m\u001b[1;32m   1385\u001b[0m                 \u001b[0;32mexcept\u001b[0m \u001b[0mException\u001b[0m \u001b[0;32mas\u001b[0m \u001b[0me\u001b[0m\u001b[0;34m:\u001b[0m\u001b[0;34m\u001b[0m\u001b[0m\n\u001b[1;32m   1386\u001b[0m                     \u001b[0m_stop\u001b[0m\u001b[0;34m.\u001b[0m\u001b[0mset\u001b[0m\u001b[0;34m(\u001b[0m\u001b[0;34m)\u001b[0m\u001b[0;34m\u001b[0m\u001b[0m\n",
      "\u001b[0;32m/Users/Yuyang/anaconda/lib/python3.5/site-packages/keras/engine/training.py\u001b[0m in \u001b[0;36mtrain_on_batch\u001b[0;34m(self, x, y, sample_weight, class_weight)\u001b[0m\n\u001b[1;32m   1166\u001b[0m             \u001b[0mins\u001b[0m \u001b[0;34m=\u001b[0m \u001b[0mx\u001b[0m \u001b[0;34m+\u001b[0m \u001b[0my\u001b[0m \u001b[0;34m+\u001b[0m \u001b[0msample_weights\u001b[0m\u001b[0;34m\u001b[0m\u001b[0m\n\u001b[1;32m   1167\u001b[0m         \u001b[0mself\u001b[0m\u001b[0;34m.\u001b[0m\u001b[0m_make_train_function\u001b[0m\u001b[0;34m(\u001b[0m\u001b[0;34m)\u001b[0m\u001b[0;34m\u001b[0m\u001b[0m\n\u001b[0;32m-> 1168\u001b[0;31m         \u001b[0moutputs\u001b[0m \u001b[0;34m=\u001b[0m \u001b[0mself\u001b[0m\u001b[0;34m.\u001b[0m\u001b[0mtrain_function\u001b[0m\u001b[0;34m(\u001b[0m\u001b[0mins\u001b[0m\u001b[0;34m)\u001b[0m\u001b[0;34m\u001b[0m\u001b[0m\n\u001b[0m\u001b[1;32m   1169\u001b[0m         \u001b[0;32mif\u001b[0m \u001b[0mlen\u001b[0m\u001b[0;34m(\u001b[0m\u001b[0moutputs\u001b[0m\u001b[0;34m)\u001b[0m \u001b[0;34m==\u001b[0m \u001b[0;36m1\u001b[0m\u001b[0;34m:\u001b[0m\u001b[0;34m\u001b[0m\u001b[0m\n\u001b[1;32m   1170\u001b[0m             \u001b[0;32mreturn\u001b[0m \u001b[0moutputs\u001b[0m\u001b[0;34m[\u001b[0m\u001b[0;36m0\u001b[0m\u001b[0;34m]\u001b[0m\u001b[0;34m\u001b[0m\u001b[0m\n",
      "\u001b[0;32m/Users/Yuyang/anaconda/lib/python3.5/site-packages/keras/backend/tensorflow_backend.py\u001b[0m in \u001b[0;36m__call__\u001b[0;34m(self, inputs)\u001b[0m\n\u001b[1;32m    657\u001b[0m         \u001b[0mfeed_dict\u001b[0m \u001b[0;34m=\u001b[0m \u001b[0mdict\u001b[0m\u001b[0;34m(\u001b[0m\u001b[0mzip\u001b[0m\u001b[0;34m(\u001b[0m\u001b[0mnames\u001b[0m\u001b[0;34m,\u001b[0m \u001b[0minputs\u001b[0m\u001b[0;34m)\u001b[0m\u001b[0;34m)\u001b[0m\u001b[0;34m\u001b[0m\u001b[0m\n\u001b[1;32m    658\u001b[0m         \u001b[0msession\u001b[0m \u001b[0;34m=\u001b[0m \u001b[0mget_session\u001b[0m\u001b[0;34m(\u001b[0m\u001b[0;34m)\u001b[0m\u001b[0;34m\u001b[0m\u001b[0m\n\u001b[0;32m--> 659\u001b[0;31m         \u001b[0mupdated\u001b[0m \u001b[0;34m=\u001b[0m \u001b[0msession\u001b[0m\u001b[0;34m.\u001b[0m\u001b[0mrun\u001b[0m\u001b[0;34m(\u001b[0m\u001b[0mself\u001b[0m\u001b[0;34m.\u001b[0m\u001b[0moutputs\u001b[0m \u001b[0;34m+\u001b[0m \u001b[0mself\u001b[0m\u001b[0;34m.\u001b[0m\u001b[0mupdates\u001b[0m\u001b[0;34m,\u001b[0m \u001b[0mfeed_dict\u001b[0m\u001b[0;34m=\u001b[0m\u001b[0mfeed_dict\u001b[0m\u001b[0;34m)\u001b[0m\u001b[0;34m\u001b[0m\u001b[0m\n\u001b[0m\u001b[1;32m    660\u001b[0m         \u001b[0;32mreturn\u001b[0m \u001b[0mupdated\u001b[0m\u001b[0;34m[\u001b[0m\u001b[0;34m:\u001b[0m\u001b[0mlen\u001b[0m\u001b[0;34m(\u001b[0m\u001b[0mself\u001b[0m\u001b[0;34m.\u001b[0m\u001b[0moutputs\u001b[0m\u001b[0;34m)\u001b[0m\u001b[0;34m]\u001b[0m\u001b[0;34m\u001b[0m\u001b[0m\n\u001b[1;32m    661\u001b[0m \u001b[0;34m\u001b[0m\u001b[0m\n",
      "\u001b[0;32m/Users/Yuyang/anaconda/lib/python3.5/site-packages/tensorflow/python/client/session.py\u001b[0m in \u001b[0;36mrun\u001b[0;34m(self, fetches, feed_dict, options, run_metadata)\u001b[0m\n\u001b[1;32m    338\u001b[0m     \u001b[0;32mtry\u001b[0m\u001b[0;34m:\u001b[0m\u001b[0;34m\u001b[0m\u001b[0m\n\u001b[1;32m    339\u001b[0m       result = self._run(None, fetches, feed_dict, options_ptr,\n\u001b[0;32m--> 340\u001b[0;31m                          run_metadata_ptr)\n\u001b[0m\u001b[1;32m    341\u001b[0m       \u001b[0;32mif\u001b[0m \u001b[0mrun_metadata\u001b[0m\u001b[0;34m:\u001b[0m\u001b[0;34m\u001b[0m\u001b[0m\n\u001b[1;32m    342\u001b[0m         \u001b[0mproto_data\u001b[0m \u001b[0;34m=\u001b[0m \u001b[0mtf_session\u001b[0m\u001b[0;34m.\u001b[0m\u001b[0mTF_GetBuffer\u001b[0m\u001b[0;34m(\u001b[0m\u001b[0mrun_metadata_ptr\u001b[0m\u001b[0;34m)\u001b[0m\u001b[0;34m\u001b[0m\u001b[0m\n",
      "\u001b[0;32m/Users/Yuyang/anaconda/lib/python3.5/site-packages/tensorflow/python/client/session.py\u001b[0m in \u001b[0;36m_run\u001b[0;34m(self, handle, fetches, feed_dict, options, run_metadata)\u001b[0m\n\u001b[1;32m    562\u001b[0m     \u001b[0;32mtry\u001b[0m\u001b[0;34m:\u001b[0m\u001b[0;34m\u001b[0m\u001b[0m\n\u001b[1;32m    563\u001b[0m       results = self._do_run(handle, target_list, unique_fetches,\n\u001b[0;32m--> 564\u001b[0;31m                              feed_dict_string, options, run_metadata)\n\u001b[0m\u001b[1;32m    565\u001b[0m     \u001b[0;32mfinally\u001b[0m\u001b[0;34m:\u001b[0m\u001b[0;34m\u001b[0m\u001b[0m\n\u001b[1;32m    566\u001b[0m       \u001b[0;31m# The movers are no longer used. Delete them.\u001b[0m\u001b[0;34m\u001b[0m\u001b[0;34m\u001b[0m\u001b[0m\n",
      "\u001b[0;32m/Users/Yuyang/anaconda/lib/python3.5/site-packages/tensorflow/python/client/session.py\u001b[0m in \u001b[0;36m_do_run\u001b[0;34m(self, handle, target_list, fetch_list, feed_dict, options, run_metadata)\u001b[0m\n\u001b[1;32m    635\u001b[0m     \u001b[0;32mif\u001b[0m \u001b[0mhandle\u001b[0m \u001b[0;32mis\u001b[0m \u001b[0;32mNone\u001b[0m\u001b[0;34m:\u001b[0m\u001b[0;34m\u001b[0m\u001b[0m\n\u001b[1;32m    636\u001b[0m       return self._do_call(_run_fn, self._session, feed_dict, fetch_list,\n\u001b[0;32m--> 637\u001b[0;31m                            target_list, options, run_metadata)\n\u001b[0m\u001b[1;32m    638\u001b[0m     \u001b[0;32melse\u001b[0m\u001b[0;34m:\u001b[0m\u001b[0;34m\u001b[0m\u001b[0m\n\u001b[1;32m    639\u001b[0m       return self._do_call(_prun_fn, self._session, handle, feed_dict,\n",
      "\u001b[0;32m/Users/Yuyang/anaconda/lib/python3.5/site-packages/tensorflow/python/client/session.py\u001b[0m in \u001b[0;36m_do_call\u001b[0;34m(self, fn, *args)\u001b[0m\n\u001b[1;32m    642\u001b[0m   \u001b[0;32mdef\u001b[0m \u001b[0m_do_call\u001b[0m\u001b[0;34m(\u001b[0m\u001b[0mself\u001b[0m\u001b[0;34m,\u001b[0m \u001b[0mfn\u001b[0m\u001b[0;34m,\u001b[0m \u001b[0;34m*\u001b[0m\u001b[0margs\u001b[0m\u001b[0;34m)\u001b[0m\u001b[0;34m:\u001b[0m\u001b[0;34m\u001b[0m\u001b[0m\n\u001b[1;32m    643\u001b[0m     \u001b[0;32mtry\u001b[0m\u001b[0;34m:\u001b[0m\u001b[0;34m\u001b[0m\u001b[0m\n\u001b[0;32m--> 644\u001b[0;31m       \u001b[0;32mreturn\u001b[0m \u001b[0mfn\u001b[0m\u001b[0;34m(\u001b[0m\u001b[0;34m*\u001b[0m\u001b[0margs\u001b[0m\u001b[0;34m)\u001b[0m\u001b[0;34m\u001b[0m\u001b[0m\n\u001b[0m\u001b[1;32m    645\u001b[0m     \u001b[0;32mexcept\u001b[0m \u001b[0mtf_session\u001b[0m\u001b[0;34m.\u001b[0m\u001b[0mStatusNotOK\u001b[0m \u001b[0;32mas\u001b[0m \u001b[0me\u001b[0m\u001b[0;34m:\u001b[0m\u001b[0;34m\u001b[0m\u001b[0m\n\u001b[1;32m    646\u001b[0m       \u001b[0merror_message\u001b[0m \u001b[0;34m=\u001b[0m \u001b[0mcompat\u001b[0m\u001b[0;34m.\u001b[0m\u001b[0mas_text\u001b[0m\u001b[0;34m(\u001b[0m\u001b[0me\u001b[0m\u001b[0;34m.\u001b[0m\u001b[0merror_message\u001b[0m\u001b[0;34m)\u001b[0m\u001b[0;34m\u001b[0m\u001b[0m\n",
      "\u001b[0;32m/Users/Yuyang/anaconda/lib/python3.5/site-packages/tensorflow/python/client/session.py\u001b[0m in \u001b[0;36m_run_fn\u001b[0;34m(session, feed_dict, fetch_list, target_list, options, run_metadata)\u001b[0m\n\u001b[1;32m    626\u001b[0m       \u001b[0;32melse\u001b[0m\u001b[0;34m:\u001b[0m\u001b[0;34m\u001b[0m\u001b[0m\n\u001b[1;32m    627\u001b[0m         return tf_session.TF_Run(\n\u001b[0;32m--> 628\u001b[0;31m             session, None, feed_dict, fetch_list, target_list, None)\n\u001b[0m\u001b[1;32m    629\u001b[0m \u001b[0;34m\u001b[0m\u001b[0m\n\u001b[1;32m    630\u001b[0m     \u001b[0;32mdef\u001b[0m \u001b[0m_prun_fn\u001b[0m\u001b[0;34m(\u001b[0m\u001b[0msession\u001b[0m\u001b[0;34m,\u001b[0m \u001b[0mhandle\u001b[0m\u001b[0;34m,\u001b[0m \u001b[0mfeed_dict\u001b[0m\u001b[0;34m,\u001b[0m \u001b[0mfetch_list\u001b[0m\u001b[0;34m)\u001b[0m\u001b[0;34m:\u001b[0m\u001b[0;34m\u001b[0m\u001b[0m\n",
      "\u001b[0;31mKeyboardInterrupt\u001b[0m: "
     ]
    }
   ],
   "source": [
    "def with_model(X_dim_input):\n",
    "    # create model\n",
    "    model = Sequential()\n",
    "    #model.add(Dense(10, input_dim=X_train_total.shape[1], init='normal', activation='relu'))\n",
    "    #model.add(Dropout(0.2))\n",
    "    #model.add(Dense(50, input_dim=X_dim_input, init='normal', activation='tanh'))\n",
    "    #model.add(Dropout(0.4))\n",
    "    model.add(Dense(50, input_dim=X_dim_input, init='normal', activation='relu'))\n",
    "    model.add(Dropout(0.7))\n",
    "    #model.add(Dense(100, input_dim=X_dim_input, init='normal', activation='relu'))\n",
    "    #model.add(Dropout(0.4))\n",
    "    #model.add(Dropout(0.1))\n",
    "    model.add(Dense(12, init='normal', activation='softmax'))\n",
    "    # Compile model\n",
    "    model.compile(loss='categorical_crossentropy', optimizer='adadelta', metrics=['accuracy'])  #logloss\n",
    "    return model\n",
    "\n",
    "\n",
    "dummy_y_with = np_utils.to_categorical(y_train_total_with)\n",
    "for i in range(8):\n",
    "    kf = StratifiedKFold(y_train_total_with,n_folds = 10,random_state = i)\n",
    "    score_list_with=[]\n",
    "    val_loss_list_with = []\n",
    "    for index,(train, test) in enumerate(kf):\n",
    "        X_train_with = X_train_total_with[train]\n",
    "        y_train_with = dummy_y_with[train]\n",
    "        X_val_with = X_train_total_with[test]\n",
    "        y_val_with = dummy_y_with[test]\n",
    "        #print(X_val.shape)\n",
    "        print('*****************************************************')\n",
    "        print('{}_fold'.format(index))\n",
    "        model=with_model(X_train_total_with.shape[1])\n",
    "        fit= model.fit_generator(generator=batch_generator(X_train_with, y_train_with, 32, True),\n",
    "                             nb_epoch=15,\n",
    "                             samples_per_epoch=30000,\n",
    "                             validation_data=(X_val_with.todense(), y_val_with), verbose=2\n",
    "                             )\n",
    "        scores_val_with = model.predict_generator(generator=batch_generatorp(X_val_with, 32, False), \n",
    "                                             val_samples=X_val_with.shape[0])\n",
    "        scores_with = model.predict_generator(generator=batch_generatorp(X_test_total_with, 32, False), \n",
    "                                         val_samples=X_test_total_with.shape[0])\n",
    "        score_list_with.append(scores_with)\n",
    "        val_loss = log_loss(y_val_with, scores_val_with)\n",
    "        val_loss_list_with.append(val_loss)\n",
    "        print('logloss val {}'.format(val_loss))\n",
    "\n",
    "    for index,i in enumerate(val_loss_list_with):\n",
    "        if(index==0):\n",
    "            sumi = i\n",
    "        else:\n",
    "            sumi = i+sumi\n",
    "    val_loss_ave_with = sumi/len(val_loss_list_with)\n",
    "    print('average logloss val {}'.format(val_loss_ave_with))\n",
    "    for index,i in enumerate(score_list_with):\n",
    "        if(index==0):\n",
    "            sumi = i\n",
    "        else:\n",
    "            sumi = i+sumi\n",
    "    score_ave_with = sumi/len(score_list_with)\n",
    "    pred_with = pd.DataFrame(score_ave_with, index = gender_age_test_with.index, columns=targetencoder.classes_)\n",
    "    pred_with.to_csv('nnet_with_100relu_softmax{}.csv'.format(val_loss_ave_with))"
   ]
  },
  {
   "cell_type": "markdown",
   "metadata": {},
   "source": [
    "## XGboost"
   ]
  },
  {
   "cell_type": "code",
   "execution_count": 68,
   "metadata": {
    "collapsed": true
   },
   "outputs": [
    {
     "name": "stdout",
     "output_type": "stream",
     "text": [
      "Fitting 3 folds for each of 5 candidates, totalling 15 fits\n",
      "[CV] learning_rate=0.2, max_depth=7, reg_lambda=1 ....................\n",
      "[CV]  learning_rate=0.2, max_depth=7, reg_lambda=1, score=-2.064379 - 1.6min\n",
      "[CV] learning_rate=0.2, max_depth=7, reg_lambda=1 ....................\n",
      "[CV]  learning_rate=0.2, max_depth=7, reg_lambda=1, score=-2.065589 - 1.7min\n",
      "[CV] learning_rate=0.2, max_depth=7, reg_lambda=1 ....................\n",
      "[CV]  learning_rate=0.2, max_depth=7, reg_lambda=1, score=-2.061330 - 1.7min\n",
      "[CV] learning_rate=0.2, max_depth=7, reg_lambda=2 ....................\n",
      "[CV]  learning_rate=0.2, max_depth=7, reg_lambda=2, score=-2.054633 - 1.6min"
     ]
    },
    {
     "name": "stderr",
     "output_type": "stream",
     "text": [
      "[Parallel(n_jobs=1)]: Done   1 tasks       | elapsed:  1.6min\n",
      "[Parallel(n_jobs=1)]: Done   4 tasks       | elapsed:  6.6min\n"
     ]
    },
    {
     "name": "stdout",
     "output_type": "stream",
     "text": [
      "\n",
      "[CV] learning_rate=0.2, max_depth=7, reg_lambda=2 ....................\n",
      "[CV]  learning_rate=0.2, max_depth=7, reg_lambda=2, score=-2.054962 - 1.7min\n",
      "[CV] learning_rate=0.2, max_depth=7, reg_lambda=2 ....................\n",
      "[CV]  learning_rate=0.2, max_depth=7, reg_lambda=2, score=-2.060082 - 1.5min\n",
      "[CV] learning_rate=0.2, max_depth=7, reg_lambda=3 ....................\n",
      "[CV]  learning_rate=0.2, max_depth=7, reg_lambda=3, score=-2.049457 - 1.6min\n",
      "[CV] learning_rate=0.2, max_depth=7, reg_lambda=3 ....................\n",
      "[CV]  learning_rate=0.2, max_depth=7, reg_lambda=3, score=-2.050009 - 1.6min\n",
      "[CV] learning_rate=0.2, max_depth=7, reg_lambda=3 ....................\n",
      "[CV]  learning_rate=0.2, max_depth=7, reg_lambda=3, score=-2.049425 - 1.5min\n",
      "[CV] learning_rate=0.2, max_depth=7, reg_lambda=4 ....................\n",
      "[CV]  learning_rate=0.2, max_depth=7, reg_lambda=4, score=-2.046652 - 1.9min\n",
      "[CV] learning_rate=0.2, max_depth=7, reg_lambda=4 ....................\n",
      "[CV]  learning_rate=0.2, max_depth=7, reg_lambda=4, score=-2.052939 - 1.7min\n",
      "[CV] learning_rate=0.2, max_depth=7, reg_lambda=4 ....................\n",
      "[CV]  learning_rate=0.2, max_depth=7, reg_lambda=4, score=-2.049513 - 1.6min"
     ]
    },
    {
     "name": "stderr",
     "output_type": "stream",
     "text": [
      "[Parallel(n_jobs=1)]: Done   7 tasks       | elapsed: 11.4min\n",
      "[Parallel(n_jobs=1)]: Done  12 tasks       | elapsed: 19.7min\n"
     ]
    },
    {
     "name": "stdout",
     "output_type": "stream",
     "text": [
      "\n",
      "[CV] learning_rate=0.2, max_depth=7, reg_lambda=5 ....................\n",
      "[CV]  learning_rate=0.2, max_depth=7, reg_lambda=5, score=-2.039756 - 1.8min\n",
      "[CV] learning_rate=0.2, max_depth=7, reg_lambda=5 ....................\n",
      "[CV]  learning_rate=0.2, max_depth=7, reg_lambda=5, score=-2.045774 - 1.6min\n",
      "[CV] learning_rate=0.2, max_depth=7, reg_lambda=5 ....................\n",
      "[CV]  learning_rate=0.2, max_depth=7, reg_lambda=5, score=-2.047903 - 1.7min\n",
      "max_depth7\n",
      "n_estimators100\n"
     ]
    },
    {
     "name": "stderr",
     "output_type": "stream",
     "text": [
      "[Parallel(n_jobs=1)]: Done  15 out of  15 | elapsed: 24.7min finished\n"
     ]
    },
    {
     "ename": "AttributeError",
     "evalue": "'XGBClassifier' object has no attribute 'eta'",
     "output_type": "error",
     "traceback": [
      "\u001b[0;31m---------------------------------------------------------------------------\u001b[0m",
      "\u001b[0;31mAttributeError\u001b[0m                            Traceback (most recent call last)",
      "\u001b[0;32m<ipython-input-68-251e5c1908d6>\u001b[0m in \u001b[0;36m<module>\u001b[0;34m()\u001b[0m\n\u001b[1;32m     12\u001b[0m \u001b[0mprint\u001b[0m\u001b[0;34m(\u001b[0m\u001b[0;34m'max_depth{}'\u001b[0m\u001b[0;34m.\u001b[0m\u001b[0mformat\u001b[0m\u001b[0;34m(\u001b[0m\u001b[0mclf\u001b[0m\u001b[0;34m.\u001b[0m\u001b[0mbest_estimator_\u001b[0m\u001b[0;34m.\u001b[0m\u001b[0mmax_depth\u001b[0m\u001b[0;34m)\u001b[0m\u001b[0;34m)\u001b[0m\u001b[0;34m\u001b[0m\u001b[0m\n\u001b[1;32m     13\u001b[0m \u001b[0mprint\u001b[0m\u001b[0;34m(\u001b[0m\u001b[0;34m'n_estimators{}'\u001b[0m\u001b[0;34m.\u001b[0m\u001b[0mformat\u001b[0m\u001b[0;34m(\u001b[0m\u001b[0mclf\u001b[0m\u001b[0;34m.\u001b[0m\u001b[0mbest_estimator_\u001b[0m\u001b[0;34m.\u001b[0m\u001b[0mn_estimators\u001b[0m\u001b[0;34m)\u001b[0m\u001b[0;34m)\u001b[0m\u001b[0;34m\u001b[0m\u001b[0m\n\u001b[0;32m---> 14\u001b[0;31m \u001b[0mprint\u001b[0m\u001b[0;34m(\u001b[0m\u001b[0;34m'eta{}'\u001b[0m\u001b[0;34m.\u001b[0m\u001b[0mformat\u001b[0m\u001b[0;34m(\u001b[0m\u001b[0mclf\u001b[0m\u001b[0;34m.\u001b[0m\u001b[0mbest_estimator_\u001b[0m\u001b[0;34m.\u001b[0m\u001b[0meta\u001b[0m\u001b[0;34m)\u001b[0m\u001b[0;34m)\u001b[0m\u001b[0;34m\u001b[0m\u001b[0m\n\u001b[0m\u001b[1;32m     15\u001b[0m \u001b[0mval_loss_ave_with\u001b[0m\u001b[0;34m=\u001b[0m \u001b[0;34m-\u001b[0m\u001b[0mclf\u001b[0m\u001b[0;34m.\u001b[0m\u001b[0mscore\u001b[0m\u001b[0;34m(\u001b[0m\u001b[0mX_val\u001b[0m\u001b[0;34m,\u001b[0m\u001b[0my_val\u001b[0m\u001b[0;34m)\u001b[0m\u001b[0;34m\u001b[0m\u001b[0m\n\u001b[1;32m     16\u001b[0m \u001b[0mprint\u001b[0m\u001b[0;34m(\u001b[0m\u001b[0mval_loss_ave_with\u001b[0m\u001b[0;34m)\u001b[0m\u001b[0;34m\u001b[0m\u001b[0m\n",
      "\u001b[0;31mAttributeError\u001b[0m: 'XGBClassifier' object has no attribute 'eta'"
     ]
    }
   ],
   "source": [
    "(X_train,X_val,y_train,y_val) = cv.train_test_split(X_train_total_with,y_train_total_with,test_size=0.02,\n",
    "                                                    stratify=y_train_total_with)\n",
    "#grid search cv\n",
    "xgbclassifier = xgb.XGBClassifier(objective=\"multi:softprob\", nthread=1)\n",
    "\n",
    "clf = GridSearchCV(estimator=xgbclassifier,param_grid={\n",
    "        'max_depth': [ 6,7,8],\n",
    "        'learning_rate': [0.15,0.2,0.25],\n",
    "        'reg_lambda':[4,5],\n",
    "        'reg_alpha':[2,3,4]\n",
    "    },verbose=10,scoring='log_loss')\n",
    "clf.fit(X_train,y_train)\n",
    "clf.best_estimator_\n",
    "val_loss_ave_with= -clf.score(X_val,y_val)\n",
    "print(val_loss_ave_with)\n",
    "del X_train,X_val,y_train,y_val\n",
    "os.system(\"printf '\\a'\")"
   ]
  },
  {
   "cell_type": "code",
   "execution_count": 69,
   "metadata": {
    "collapsed": false
   },
   "outputs": [
    {
     "data": {
      "text/plain": [
       "XGBClassifier(base_score=0.5, colsample_bylevel=1, colsample_bytree=1,\n",
       "       gamma=0, learning_rate=0.2, max_delta_step=0, max_depth=7,\n",
       "       min_child_weight=1, missing=None, n_estimators=100, nthread=1,\n",
       "       objective='multi:softprob', reg_alpha=0, reg_lambda=5,\n",
       "       scale_pos_weight=1, seed=0, silent=True, subsample=1)"
      ]
     },
     "execution_count": 69,
     "metadata": {},
     "output_type": "execute_result"
    }
   ],
   "source": [
    "clf.best_estimator_"
   ]
  },
  {
   "cell_type": "code",
   "execution_count": null,
   "metadata": {
    "collapsed": false,
    "scrolled": true
   },
   "outputs": [
    {
     "name": "stdout",
     "output_type": "stream",
     "text": [
      "[0]\ttrain-mlogloss:2.41275\ttest-mlogloss:2.42684\n",
      "[1]\ttrain-mlogloss:2.35579\ttest-mlogloss:2.38346\n",
      "[2]\ttrain-mlogloss:2.31053\ttest-mlogloss:2.34893\n",
      "[3]\ttrain-mlogloss:2.27157\ttest-mlogloss:2.32148\n",
      "[4]\ttrain-mlogloss:2.23793\ttest-mlogloss:2.29995\n",
      "[5]\ttrain-mlogloss:2.2085\ttest-mlogloss:2.28022\n",
      "[6]\ttrain-mlogloss:2.18234\ttest-mlogloss:2.2634\n",
      "[7]\ttrain-mlogloss:2.1587\ttest-mlogloss:2.24922\n",
      "[8]\ttrain-mlogloss:2.13735\ttest-mlogloss:2.23676\n",
      "[9]\ttrain-mlogloss:2.11735\ttest-mlogloss:2.22647\n",
      "[10]\ttrain-mlogloss:2.09875\ttest-mlogloss:2.21425\n",
      "[11]\ttrain-mlogloss:2.08162\ttest-mlogloss:2.20557\n",
      "[12]\ttrain-mlogloss:2.06588\ttest-mlogloss:2.19663\n",
      "[13]\ttrain-mlogloss:2.05102\ttest-mlogloss:2.18864\n",
      "[14]\ttrain-mlogloss:2.03597\ttest-mlogloss:2.18153\n",
      "[15]\ttrain-mlogloss:2.02253\ttest-mlogloss:2.17409\n",
      "[16]\ttrain-mlogloss:2.00978\ttest-mlogloss:2.17019\n",
      "[17]\ttrain-mlogloss:1.99758\ttest-mlogloss:2.16458\n",
      "[18]\ttrain-mlogloss:1.98657\ttest-mlogloss:2.16223\n",
      "[19]\ttrain-mlogloss:1.97557\ttest-mlogloss:2.16002\n",
      "[20]\ttrain-mlogloss:1.96549\ttest-mlogloss:2.15661\n",
      "[21]\ttrain-mlogloss:1.95507\ttest-mlogloss:2.15325\n",
      "[22]\ttrain-mlogloss:1.94529\ttest-mlogloss:2.14889\n",
      "[23]\ttrain-mlogloss:1.93601\ttest-mlogloss:2.14361\n",
      "[24]\ttrain-mlogloss:1.92718\ttest-mlogloss:2.13914\n",
      "[25]\ttrain-mlogloss:1.91799\ttest-mlogloss:2.13583\n",
      "[26]\ttrain-mlogloss:1.91011\ttest-mlogloss:2.13338\n",
      "[27]\ttrain-mlogloss:1.90221\ttest-mlogloss:2.12924\n",
      "[28]\ttrain-mlogloss:1.89405\ttest-mlogloss:2.12709\n",
      "[29]\ttrain-mlogloss:1.88606\ttest-mlogloss:2.1252\n",
      "[30]\ttrain-mlogloss:1.87889\ttest-mlogloss:2.12294\n",
      "[31]\ttrain-mlogloss:1.87186\ttest-mlogloss:2.1207\n",
      "[32]\ttrain-mlogloss:1.86506\ttest-mlogloss:2.11796\n",
      "[33]\ttrain-mlogloss:1.85798\ttest-mlogloss:2.11555\n",
      "[34]\ttrain-mlogloss:1.85053\ttest-mlogloss:2.11462\n",
      "[35]\ttrain-mlogloss:1.8438\ttest-mlogloss:2.11307\n",
      "[36]\ttrain-mlogloss:1.8377\ttest-mlogloss:2.11254\n",
      "[37]\ttrain-mlogloss:1.83116\ttest-mlogloss:2.11117\n",
      "[38]\ttrain-mlogloss:1.82497\ttest-mlogloss:2.10891\n",
      "[39]\ttrain-mlogloss:1.81896\ttest-mlogloss:2.10744\n",
      "[40]\ttrain-mlogloss:1.81279\ttest-mlogloss:2.10451\n",
      "[41]\ttrain-mlogloss:1.80692\ttest-mlogloss:2.10407\n",
      "[42]\ttrain-mlogloss:1.80086\ttest-mlogloss:2.10296\n",
      "[43]\ttrain-mlogloss:1.79491\ttest-mlogloss:2.10211\n",
      "[44]\ttrain-mlogloss:1.78919\ttest-mlogloss:2.10094\n",
      "[45]\ttrain-mlogloss:1.78408\ttest-mlogloss:2.09903\n",
      "[46]\ttrain-mlogloss:1.77779\ttest-mlogloss:2.09812\n",
      "[47]\ttrain-mlogloss:1.77286\ttest-mlogloss:2.09913\n",
      "[48]\ttrain-mlogloss:1.76785\ttest-mlogloss:2.09794\n",
      "[49]\ttrain-mlogloss:1.76231\ttest-mlogloss:2.09572\n",
      "[50]\ttrain-mlogloss:1.75752\ttest-mlogloss:2.09515\n",
      "[51]\ttrain-mlogloss:1.75297\ttest-mlogloss:2.09268\n",
      "[52]\ttrain-mlogloss:1.74846\ttest-mlogloss:2.09138\n",
      "[53]\ttrain-mlogloss:1.7442\ttest-mlogloss:2.09045\n",
      "[54]\ttrain-mlogloss:1.73889\ttest-mlogloss:2.08896\n",
      "[55]\ttrain-mlogloss:1.73433\ttest-mlogloss:2.08886\n",
      "[56]\ttrain-mlogloss:1.72964\ttest-mlogloss:2.08978\n",
      "[57]\ttrain-mlogloss:1.72534\ttest-mlogloss:2.088\n",
      "[58]\ttrain-mlogloss:1.72095\ttest-mlogloss:2.08772\n",
      "[59]\ttrain-mlogloss:1.71656\ttest-mlogloss:2.08605\n",
      "[60]\ttrain-mlogloss:1.7121\ttest-mlogloss:2.08555\n",
      "[61]\ttrain-mlogloss:1.70786\ttest-mlogloss:2.08386\n",
      "[62]\ttrain-mlogloss:1.70341\ttest-mlogloss:2.08249\n",
      "[63]\ttrain-mlogloss:1.69934\ttest-mlogloss:2.0816\n",
      "[64]\ttrain-mlogloss:1.69552\ttest-mlogloss:2.08255\n",
      "[65]\ttrain-mlogloss:1.6912\ttest-mlogloss:2.08165\n",
      "[66]\ttrain-mlogloss:1.6872\ttest-mlogloss:2.08078\n",
      "[67]\ttrain-mlogloss:1.68286\ttest-mlogloss:2.08109\n",
      "[68]\ttrain-mlogloss:1.67892\ttest-mlogloss:2.07947\n",
      "[69]\ttrain-mlogloss:1.67492\ttest-mlogloss:2.07877\n",
      "[70]\ttrain-mlogloss:1.67079\ttest-mlogloss:2.07786\n",
      "[71]\ttrain-mlogloss:1.66727\ttest-mlogloss:2.07754\n",
      "[72]\ttrain-mlogloss:1.66354\ttest-mlogloss:2.07738\n",
      "[73]\ttrain-mlogloss:1.65953\ttest-mlogloss:2.07687\n",
      "[74]\ttrain-mlogloss:1.65601\ttest-mlogloss:2.07599\n",
      "[75]\ttrain-mlogloss:1.65278\ttest-mlogloss:2.07566\n",
      "[76]\ttrain-mlogloss:1.64948\ttest-mlogloss:2.07562\n",
      "[77]\ttrain-mlogloss:1.64626\ttest-mlogloss:2.07592\n",
      "[78]\ttrain-mlogloss:1.64273\ttest-mlogloss:2.07574\n",
      "[79]\ttrain-mlogloss:1.63946\ttest-mlogloss:2.0766\n",
      "[80]\ttrain-mlogloss:1.63634\ttest-mlogloss:2.07542\n"
     ]
    }
   ],
   "source": [
    "(X_train,X_val,y_train,y_val) = cv.train_test_split(X_train_total_with,y_train_total_with,test_size=0.02,\n",
    "                                                    stratify=y_train_total_with,random_state=1)\n",
    "xg_train = xgb.DMatrix(X_train,label = y_train)\n",
    "xg_test = xgb.DMatrix(X_val,label = y_val)\n",
    "param = {'max_depth':5,\n",
    "         'eta':0.2,\n",
    "         'silent':0,\n",
    "         'objective':'multi:softprob',\n",
    "         'nthread':2,\n",
    "         'num_class':12,\n",
    "         'eval_metric':'mlogloss',\n",
    "        'lambda':5,\n",
    "        'lambda_bias':0,\n",
    "        'alpha':2}\n",
    "num_round = 200\n",
    "watchlist = [(xg_train,'train'),(xg_test,'test')]\n",
    "bst = xgb.train(param,xg_train,num_round,watchlist)\n",
    "yprob = bst.predict(xg_test).reshape(y_val.shape[0],12)\n",
    "val_loss = log_loss(y_val, yprob)\n",
    "print('logloss val {}'.format(val_loss))\n",
    "del X_train,X_val,y_train,y_val\n",
    "os.system(\"printf '\\a'\")"
   ]
  },
  {
   "cell_type": "markdown",
   "metadata": {},
   "source": [
    "# training with all data set"
   ]
  },
  {
   "cell_type": "code",
   "execution_count": 125,
   "metadata": {
    "collapsed": false
   },
   "outputs": [
    {
     "data": {
      "text/plain": [
       "0"
      ]
     },
     "execution_count": 125,
     "metadata": {},
     "output_type": "execute_result"
    }
   ],
   "source": [
    "xg_train = xgb.DMatrix(X_train_total_with,label = y_train_total_with)\n",
    "xg_test = xgb.DMatrix(X_test_total_with)\n",
    "bst = xgb.train(param,xg_train,num_round)\n",
    "yprob = bst.predict(xg_test).reshape(X_test_total_with.shape[0],12)\n",
    "pred_with_xgb = pd.DataFrame(yprob, \n",
    "                            index = gender_age_test_with.index, \n",
    "                            columns=targetencoder.classes_)\n",
    "pred_with_xgb.to_csv('xgb_with_result{}.csv'.format(val_loss))\n",
    "os.system(\"printf '\\a'\")"
   ]
  },
  {
   "cell_type": "markdown",
   "metadata": {
    "collapsed": false
   },
   "source": [
    "## Logistic regression"
   ]
  },
  {
   "cell_type": "code",
   "execution_count": 49,
   "metadata": {
    "collapsed": false
   },
   "outputs": [
    {
     "name": "stdout",
     "output_type": "stream",
     "text": [
      "0.0180472176683\n",
      "lbfgs\n",
      "1.98424599635\n"
     ]
    },
    {
     "name": "stderr",
     "output_type": "stream",
     "text": [
      "/Users/Yuyang/anaconda/lib/python3.5/site-packages/sklearn/grid_search.py:418: ChangedBehaviorWarning: The long-standing behavior to use the estimator's score function in GridSearchCV.score has changed. The scoring parameter is now used.\n",
      "  ChangedBehaviorWarning)\n"
     ]
    },
    {
     "data": {
      "text/plain": [
       "0"
      ]
     },
     "execution_count": 49,
     "metadata": {},
     "output_type": "execute_result"
    }
   ],
   "source": [
    "(X_train,X_val,y_train,y_val) = cv.train_test_split(X_train_total_with,y_train_total_with,test_size=0.2,\n",
    "                                                    stratify=y_train_total_with)\n",
    "#lr grid search\n",
    "lr = LogisticRegression(multi_class='multinomial')\n",
    "solver_value = ['lbfgs']\n",
    "C_value = np.logspace(-2,0,40)\n",
    "clf = GridSearchCV(estimator=lr,param_grid = dict(C=C_value,solver=solver_value),\n",
    "                   scoring='log_loss')\n",
    "clf.fit(X_train,y_train)\n",
    "print(clf.best_estimator_.C)\n",
    "print(clf.best_estimator_.solver)\n",
    "val_loss_ave_with= -clf.score(X_val,y_val)\n",
    "print(val_loss_ave_with)\n",
    "os.system(\"printf '\\a'\")"
   ]
  },
  {
   "cell_type": "code",
   "execution_count": 50,
   "metadata": {
    "collapsed": false
   },
   "outputs": [
    {
     "data": {
      "text/plain": [
       "0"
      ]
     },
     "execution_count": 50,
     "metadata": {},
     "output_type": "execute_result"
    }
   ],
   "source": [
    "lr = LogisticRegression(C=0.0180472176683,multi_class='multinomial',solver='lbfgs')\n",
    "lr.fit(X_train_total_with,y_train_total_with)\n",
    "score_ave_with_lr = lr.predict_proba(X_test_total_with)\n",
    "pred_with_lr = pd.DataFrame(score_ave_with_lr, \n",
    "                            index = gender_age_test_with.index, \n",
    "                            columns=targetencoder.classes_)\n",
    "pred_with_lr.to_csv('lr_with_result{}.csv'.format(val_loss_ave_with))\n",
    "os.system(\"printf '\\a'\")"
   ]
  },
  {
   "cell_type": "markdown",
   "metadata": {},
   "source": [
    "# Subset II: device without events"
   ]
  },
  {
   "cell_type": "code",
   "execution_count": 79,
   "metadata": {
    "collapsed": false
   },
   "outputs": [],
   "source": [
    "y_train_total_without = targetencoder.transform(gender_age_train_without_temp.group)"
   ]
  },
  {
   "cell_type": "markdown",
   "metadata": {},
   "source": [
    "##  Device without eventsI: Naive Bayes, Logistic Regression"
   ]
  },
  {
   "cell_type": "markdown",
   "metadata": {},
   "source": [
    "Grid search of parameters."
   ]
  },
  {
   "cell_type": "code",
   "execution_count": 61,
   "metadata": {
    "collapsed": false
   },
   "outputs": [
    {
     "name": "stdout",
     "output_type": "stream",
     "text": [
      "1204.50354026\n",
      "2.42330723892\n"
     ]
    },
    {
     "name": "stderr",
     "output_type": "stream",
     "text": [
      "/opt/conda/lib/python3.5/site-packages/sklearn/grid_search.py:418: ChangedBehaviorWarning: The long-standing behavior to use the estimator's score function in GridSearchCV.score has changed. The scoring parameter is now used.\n",
      "  ChangedBehaviorWarning)\n"
     ]
    }
   ],
   "source": [
    "#NB grid search\n",
    "nbc = MultinomialNB()\n",
    "alpha_value = np.logspace(-3,4,100)\n",
    "clf = GridSearchCV(estimator=nbc,param_grid = dict(alpha=alpha_value),scoring='log_loss')\n",
    "clf.fit(X_train,y_train)\n",
    "print(clf.best_estimator_.alpha)\n",
    "print(-clf.score(X_val,y_val))"
   ]
  },
  {
   "cell_type": "code",
   "execution_count": 55,
   "metadata": {
    "collapsed": false
   },
   "outputs": [
    {
     "name": "stdout",
     "output_type": "stream",
     "text": [
      "0.0744380301325\n",
      "lbfgs\n",
      "2.39019928895\n"
     ]
    },
    {
     "name": "stderr",
     "output_type": "stream",
     "text": [
      "/opt/conda/lib/python3.5/site-packages/sklearn/grid_search.py:418: ChangedBehaviorWarning: The long-standing behavior to use the estimator's score function in GridSearchCV.score has changed. The scoring parameter is now used.\n",
      "  ChangedBehaviorWarning)\n"
     ]
    }
   ],
   "source": [
    "#lr grid search\n",
    "(X_train,X_val,y_train,y_val) = cv.train_test_split(X_train_total_with,y_train_total_with,test_size=0.2,\n",
    "                                                    stratify=y_train_total_without)\n",
    "lr = LogisticRegression(multi_class='multinomial')\n",
    "solver_value = ['lbfgs']\n",
    "C_value = np.logspace(-2,0,40)\n",
    "clf = GridSearchCV(estimator=lr,param_grid = dict(C=C_value,solver=solver_value),\n",
    "                   scoring='log_loss')\n",
    "clf.fit(X_train,y_train)\n",
    "print(clf.best_estimator_.C)\n",
    "print(clf.best_estimator_.solver)\n",
    "val_loss_ave_without= -clf.score(X_val,y_val)\n",
    "print(val_loss_ave_without)\n",
    "del X_train,X_val,y_train,y_val"
   ]
  },
  {
   "cell_type": "markdown",
   "metadata": {},
   "source": [
    "Actual training"
   ]
  },
  {
   "cell_type": "code",
   "execution_count": 56,
   "metadata": {
    "collapsed": true
   },
   "outputs": [],
   "source": [
    "#lr = LogisticRegression(C=0.02,multi_class='multinomial',solver='newton-cg')\n",
    "lr = LogisticRegression(C=0.0744380301325,multi_class='multinomial',solver='lbfgs')\n",
    "lr.fit(X_train_total_without,y_train_total_without)\n",
    "score_ave_without_lr = lr.predict_proba(X_test_total_without)\n",
    "pred_without_lr = pd.DataFrame(score_ave_without_lr, \n",
    "                            index = gender_age_test_without.index, \n",
    "                            columns=targetencoder.classes_)\n",
    "pred_without_lr.to_csv('lr_without_result{}.csv'.format(val_loss_ave_without))"
   ]
  },
  {
   "cell_type": "code",
   "execution_count": 40,
   "metadata": {
    "collapsed": false
   },
   "outputs": [
    {
     "data": {
      "text/plain": [
       "\"kf = StratifiedKFold(y_train_total_without,n_folds = 10,random_state = 1)\\nscore_list_without=[]\\nval_loss_list_without = []\\nfor index,(train, test) in enumerate(kf):\\n    X_train_without = X_train_total_without[train]\\n    y_train_without = y_train_total_without[train]\\n    X_val_without = X_train_total_without[test]\\n    y_val_without = y_train_total_without[test]\\n    print('*****************************************************')\\n    print('{}_fold'.format(index))\\n    lr = LogisticRegression(C=0.0774263682681,multi_class='multinomial',solver='newton-cg')\\n    lr.fit(X_train_without,y_train_without)\\n    scores_val_without = lr.predict_proba(X_val_without)\\n    val_loss = log_loss(y_val_without, scores_val_without)\\n    val_loss_list_without.append(val_loss)\\n    print('logloss val {}'.format(val_loss))\\n    \\n    scores_without = lr.predict_proba(X_test_total_without)\\n    score_list_without.append(scores_without)\\n    \\nfor index,i in enumerate(val_loss_list_without):\\n    if(index==0):\\n        sumi = i\\n    else:\\n        sumi = i+sumi\\nval_loss_ave_without = sumi/len(score_list_without)\\nprint('average logloss val {}'.format(val_loss_ave_without))\\nfor index,i in enumerate(score_list_without):\\n    if(index==0):\\n        sumi = i\\n    else:\\n        sumi = i+sumi\\nscore_ave_without = sumi/len(score_list_without)\\npred_without = pd.DataFrame(score_ave_without, index = gender_age_test_without.index, columns=targetencoder.classes_)\""
      ]
     },
     "execution_count": 40,
     "metadata": {},
     "output_type": "execute_result"
    }
   ],
   "source": [
    "'''kf = StratifiedKFold(y_train_total_without,n_folds = 10,random_state = 1)\n",
    "score_list_without=[]\n",
    "val_loss_list_without = []\n",
    "for index,(train, test) in enumerate(kf):\n",
    "    X_train_without = X_train_total_without[train]\n",
    "    y_train_without = y_train_total_without[train]\n",
    "    X_val_without = X_train_total_without[test]\n",
    "    y_val_without = y_train_total_without[test]\n",
    "    print('*****************************************************')\n",
    "    print('{}_fold'.format(index))\n",
    "    lr = LogisticRegression(C=0.0774263682681,multi_class='multinomial',solver='newton-cg')\n",
    "    lr.fit(X_train_without,y_train_without)\n",
    "    scores_val_without = lr.predict_proba(X_val_without)\n",
    "    val_loss = log_loss(y_val_without, scores_val_without)\n",
    "    val_loss_list_without.append(val_loss)\n",
    "    print('logloss val {}'.format(val_loss))\n",
    "    \n",
    "    scores_without = lr.predict_proba(X_test_total_without)\n",
    "    score_list_without.append(scores_without)\n",
    "    \n",
    "for index,i in enumerate(val_loss_list_without):\n",
    "    if(index==0):\n",
    "        sumi = i\n",
    "    else:\n",
    "        sumi = i+sumi\n",
    "val_loss_ave_without = sumi/len(score_list_without)\n",
    "print('average logloss val {}'.format(val_loss_ave_without))\n",
    "for index,i in enumerate(score_list_without):\n",
    "    if(index==0):\n",
    "        sumi = i\n",
    "    else:\n",
    "        sumi = i+sumi\n",
    "score_ave_without = sumi/len(score_list_without)\n",
    "pred_without = pd.DataFrame(score_ave_without, index = gender_age_test_without.index, columns=targetencoder.classes_)'''"
   ]
  },
  {
   "cell_type": "markdown",
   "metadata": {},
   "source": [
    "## Device without eventsII: Deep learning"
   ]
  },
  {
   "cell_type": "code",
   "execution_count": 57,
   "metadata": {
    "collapsed": true
   },
   "outputs": [
    {
     "name": "stdout",
     "output_type": "stream",
     "text": [
      "*****************************************************\n",
      "0_fold\n",
      "Epoch 1/20\n"
     ]
    },
    {
     "name": "stderr",
     "output_type": "stream",
     "text": [
      "/opt/conda/lib/python3.5/site-packages/keras/engine/training.py:1460: UserWarning: Epoch comprised more than `samples_per_epoch` samples, which might affect learning results. Set `samples_per_epoch` correctly to avoid this warning.\n",
      "  warnings.warn('Epoch comprised more than '\n"
     ]
    },
    {
     "name": "stdout",
     "output_type": "stream",
     "text": [
      "1s - loss: 2.4629 - acc: 0.1261 - val_loss: 2.4279 - val_acc: 0.1287\n",
      "Epoch 2/20\n",
      "1s - loss: 2.4256 - acc: 0.1298 - val_loss: 2.4264 - val_acc: 0.1287\n",
      "Epoch 3/20\n",
      "1s - loss: 2.4268 - acc: 0.1271 - val_loss: 2.4253 - val_acc: 0.1287\n",
      "Epoch 4/20\n",
      "1s - loss: 2.4219 - acc: 0.1285 - val_loss: 2.4250 - val_acc: 0.1287\n",
      "Epoch 5/20\n",
      "1s - loss: 2.4209 - acc: 0.1289 - val_loss: 2.4248 - val_acc: 0.1287\n",
      "Epoch 6/20\n",
      "1s - loss: 2.4194 - acc: 0.1308 - val_loss: 2.4247 - val_acc: 0.1293\n",
      "Epoch 7/20\n",
      "1s - loss: 2.4163 - acc: 0.1341 - val_loss: 2.4246 - val_acc: 0.1342\n",
      "Epoch 8/20\n",
      "1s - loss: 2.4120 - acc: 0.1401 - val_loss: 2.4236 - val_acc: 0.1407\n",
      "Epoch 9/20\n",
      "1s - loss: 2.4066 - acc: 0.1465 - val_loss: 2.4183 - val_acc: 0.1399\n",
      "Epoch 10/20\n",
      "1s - loss: 2.4017 - acc: 0.1440 - val_loss: 2.4161 - val_acc: 0.1390\n",
      "Epoch 11/20\n",
      "1s - loss: 2.3980 - acc: 0.1443 - val_loss: 2.4128 - val_acc: 0.1402\n",
      "Epoch 12/20\n",
      "1s - loss: 2.3968 - acc: 0.1431 - val_loss: 2.4130 - val_acc: 0.1431\n",
      "Epoch 13/20\n",
      "1s - loss: 2.3945 - acc: 0.1450 - val_loss: 2.4107 - val_acc: 0.1453\n",
      "Epoch 14/20\n",
      "1s - loss: 2.3915 - acc: 0.1491 - val_loss: 2.4097 - val_acc: 0.1513\n",
      "Epoch 15/20\n",
      "1s - loss: 2.3920 - acc: 0.1489 - val_loss: 2.4081 - val_acc: 0.1512\n",
      "Epoch 16/20\n",
      "1s - loss: 2.3887 - acc: 0.1519 - val_loss: 2.4084 - val_acc: 0.1494\n",
      "Epoch 17/20\n",
      "1s - loss: 2.3877 - acc: 0.1501 - val_loss: 2.4071 - val_acc: 0.1504\n",
      "Epoch 18/20\n",
      "1s - loss: 2.3863 - acc: 0.1521 - val_loss: 2.4079 - val_acc: 0.1512\n",
      "Epoch 19/20\n",
      "1s - loss: 2.3848 - acc: 0.1529 - val_loss: 2.4072 - val_acc: 0.1474\n",
      "Epoch 20/20\n",
      "1s - loss: 2.3841 - acc: 0.1529 - val_loss: 2.4065 - val_acc: 0.1505\n",
      "logloss val 2.406513364236188\n",
      "*****************************************************\n",
      "1_fold\n",
      "Epoch 1/20\n",
      "2s - loss: 2.4639 - acc: 0.1261 - val_loss: 2.4276 - val_acc: 0.1287\n",
      "Epoch 2/20\n",
      "2s - loss: 2.4269 - acc: 0.1280 - val_loss: 2.4253 - val_acc: 0.1287\n",
      "Epoch 3/20\n",
      "2s - loss: 2.4235 - acc: 0.1282 - val_loss: 2.4235 - val_acc: 0.1294\n",
      "Epoch 4/20\n",
      "2s - loss: 2.4233 - acc: 0.1288 - val_loss: 2.4219 - val_acc: 0.1287\n",
      "Epoch 5/20\n",
      "2s - loss: 2.4215 - acc: 0.1292 - val_loss: 2.4213 - val_acc: 0.1284\n",
      "Epoch 6/20\n",
      "2s - loss: 2.4191 - acc: 0.1310 - val_loss: 2.4207 - val_acc: 0.1307\n",
      "Epoch 7/20\n",
      "2s - loss: 2.4194 - acc: 0.1319 - val_loss: 2.4199 - val_acc: 0.1291\n",
      "Epoch 8/20\n",
      "2s - loss: 2.4168 - acc: 0.1325 - val_loss: 2.4193 - val_acc: 0.1288\n",
      "Epoch 9/20\n",
      "2s - loss: 2.4157 - acc: 0.1368 - val_loss: 2.4172 - val_acc: 0.1390\n",
      "Epoch 10/20\n",
      "2s - loss: 2.4109 - acc: 0.1394 - val_loss: 2.4134 - val_acc: 0.1433\n",
      "Epoch 11/20\n",
      "2s - loss: 2.4066 - acc: 0.1433 - val_loss: 2.4080 - val_acc: 0.1409\n",
      "Epoch 12/20\n",
      "2s - loss: 2.4021 - acc: 0.1423 - val_loss: 2.4046 - val_acc: 0.1404\n",
      "Epoch 13/20\n",
      "2s - loss: 2.3983 - acc: 0.1427 - val_loss: 2.4025 - val_acc: 0.1430\n",
      "Epoch 14/20\n",
      "2s - loss: 2.3971 - acc: 0.1440 - val_loss: 2.4006 - val_acc: 0.1422\n",
      "Epoch 15/20\n",
      "2s - loss: 2.3950 - acc: 0.1449 - val_loss: 2.3994 - val_acc: 0.1450\n",
      "Epoch 16/20\n",
      "2s - loss: 2.3940 - acc: 0.1443 - val_loss: 2.3985 - val_acc: 0.1466\n",
      "Epoch 17/20\n",
      "2s - loss: 2.3909 - acc: 0.1476 - val_loss: 2.3975 - val_acc: 0.1476\n",
      "Epoch 18/20\n",
      "2s - loss: 2.3900 - acc: 0.1493 - val_loss: 2.3972 - val_acc: 0.1466\n",
      "Epoch 19/20\n",
      "2s - loss: 2.3893 - acc: 0.1504 - val_loss: 2.3964 - val_acc: 0.1487\n",
      "Epoch 20/20\n",
      "1s - loss: 2.3877 - acc: 0.1511 - val_loss: 2.3967 - val_acc: 0.1503\n",
      "logloss val 2.39665597203874\n",
      "*****************************************************\n",
      "2_fold\n",
      "Epoch 1/20\n",
      "1s - loss: 2.4605 - acc: 0.1268 - val_loss: 2.4274 - val_acc: 0.1288\n",
      "Epoch 2/20\n",
      "1s - loss: 2.4270 - acc: 0.1277 - val_loss: 2.4252 - val_acc: 0.1287\n",
      "Epoch 3/20\n",
      "1s - loss: 2.4254 - acc: 0.1285 - val_loss: 2.4232 - val_acc: 0.1287\n",
      "Epoch 4/20\n",
      "1s - loss: 2.4227 - acc: 0.1284 - val_loss: 2.4213 - val_acc: 0.1287\n",
      "Epoch 5/20\n",
      "1s - loss: 2.4207 - acc: 0.1298 - val_loss: 2.4198 - val_acc: 0.1287\n",
      "Epoch 6/20\n",
      "1s - loss: 2.4200 - acc: 0.1318 - val_loss: 2.4190 - val_acc: 0.1303\n",
      "Epoch 7/20\n",
      "1s - loss: 2.4186 - acc: 0.1370 - val_loss: 2.4176 - val_acc: 0.1375\n",
      "Epoch 8/20\n",
      "1s - loss: 2.4135 - acc: 0.1423 - val_loss: 2.4145 - val_acc: 0.1420\n",
      "Epoch 9/20\n",
      "1s - loss: 2.4095 - acc: 0.1416 - val_loss: 2.4083 - val_acc: 0.1405\n",
      "Epoch 10/20\n",
      "1s - loss: 2.4025 - acc: 0.1427 - val_loss: 2.4046 - val_acc: 0.1442\n",
      "Epoch 11/20\n",
      "1s - loss: 2.3983 - acc: 0.1449 - val_loss: 2.4027 - val_acc: 0.1428\n",
      "Epoch 12/20\n",
      "1s - loss: 2.3971 - acc: 0.1445 - val_loss: 2.4010 - val_acc: 0.1445\n",
      "Epoch 13/20\n",
      "1s - loss: 2.3941 - acc: 0.1463 - val_loss: 2.3999 - val_acc: 0.1469\n",
      "Epoch 14/20\n",
      "1s - loss: 2.3943 - acc: 0.1479 - val_loss: 2.3990 - val_acc: 0.1493\n",
      "Epoch 15/20\n",
      "1s - loss: 2.3914 - acc: 0.1476 - val_loss: 2.3987 - val_acc: 0.1537\n",
      "Epoch 16/20\n",
      "1s - loss: 2.3908 - acc: 0.1482 - val_loss: 2.3983 - val_acc: 0.1568\n",
      "Epoch 17/20\n",
      "1s - loss: 2.3881 - acc: 0.1507 - val_loss: 2.3975 - val_acc: 0.1578\n",
      "Epoch 18/20\n",
      "1s - loss: 2.3862 - acc: 0.1529 - val_loss: 2.3976 - val_acc: 0.1578\n",
      "Epoch 19/20\n",
      "1s - loss: 2.3870 - acc: 0.1520 - val_loss: 2.3976 - val_acc: 0.1537\n",
      "Epoch 20/20\n",
      "1s - loss: 2.3850 - acc: 0.1533 - val_loss: 2.3979 - val_acc: 0.1543\n",
      "logloss val 2.3978786770719847\n",
      "*****************************************************\n",
      "3_fold\n",
      "Epoch 1/20\n",
      "3s - loss: 2.4695 - acc: 0.1253 - val_loss: 2.4306 - val_acc: 0.1298\n",
      "Epoch 2/20\n",
      "2s - loss: 2.4272 - acc: 0.1294 - val_loss: 2.4265 - val_acc: 0.1287\n",
      "Epoch 3/20\n",
      "2s - loss: 2.4256 - acc: 0.1278 - val_loss: 2.4249 - val_acc: 0.1287\n",
      "Epoch 4/20\n",
      "2s - loss: 2.4236 - acc: 0.1291 - val_loss: 2.4235 - val_acc: 0.1287\n",
      "Epoch 5/20\n",
      "2s - loss: 2.4209 - acc: 0.1278 - val_loss: 2.4225 - val_acc: 0.1354\n",
      "Epoch 6/20\n",
      "2s - loss: 2.4202 - acc: 0.1300 - val_loss: 2.4214 - val_acc: 0.1302\n",
      "Epoch 7/20\n",
      "2s - loss: 2.4191 - acc: 0.1320 - val_loss: 2.4209 - val_acc: 0.1302\n",
      "Epoch 8/20\n",
      "2s - loss: 2.4157 - acc: 0.1355 - val_loss: 2.4198 - val_acc: 0.1343\n",
      "Epoch 9/20\n",
      "2s - loss: 2.4154 - acc: 0.1396 - val_loss: 2.4179 - val_acc: 0.1382\n",
      "Epoch 10/20\n",
      "2s - loss: 2.4121 - acc: 0.1412 - val_loss: 2.4136 - val_acc: 0.1433\n",
      "Epoch 11/20\n",
      "2s - loss: 2.4045 - acc: 0.1431 - val_loss: 2.4093 - val_acc: 0.1370\n",
      "Epoch 12/20\n",
      "2s - loss: 2.3978 - acc: 0.1443 - val_loss: 2.4081 - val_acc: 0.1323\n",
      "Epoch 13/20\n",
      "2s - loss: 2.3973 - acc: 0.1463 - val_loss: 2.4082 - val_acc: 0.1275\n",
      "Epoch 14/20\n",
      "2s - loss: 2.3944 - acc: 0.1471 - val_loss: 2.4067 - val_acc: 0.1342\n",
      "Epoch 15/20\n",
      "2s - loss: 2.3922 - acc: 0.1485 - val_loss: 2.4059 - val_acc: 0.1347\n",
      "Epoch 16/20\n",
      "2s - loss: 2.3910 - acc: 0.1495 - val_loss: 2.4057 - val_acc: 0.1355\n",
      "Epoch 17/20\n",
      "2s - loss: 2.3887 - acc: 0.1518 - val_loss: 2.4058 - val_acc: 0.1382\n",
      "Epoch 18/20\n",
      "2s - loss: 2.3887 - acc: 0.1526 - val_loss: 2.4057 - val_acc: 0.1397\n",
      "Epoch 19/20\n",
      "2s - loss: 2.3845 - acc: 0.1545 - val_loss: 2.4056 - val_acc: 0.1383\n",
      "Epoch 20/20\n",
      "2s - loss: 2.3865 - acc: 0.1538 - val_loss: 2.4058 - val_acc: 0.1410\n",
      "logloss val 2.405777173219826\n",
      "*****************************************************\n",
      "4_fold\n",
      "Epoch 1/20\n",
      "1s - loss: 2.4660 - acc: 0.1281 - val_loss: 2.4280 - val_acc: 0.1287\n",
      "Epoch 2/20\n",
      "1s - loss: 2.4262 - acc: 0.1278 - val_loss: 2.4261 - val_acc: 0.1270\n",
      "Epoch 3/20\n",
      "1s - loss: 2.4251 - acc: 0.1281 - val_loss: 2.4245 - val_acc: 0.1287\n",
      "Epoch 4/20\n",
      "1s - loss: 2.4228 - acc: 0.1299 - val_loss: 2.4232 - val_acc: 0.1287\n",
      "Epoch 5/20\n",
      "1s - loss: 2.4211 - acc: 0.1281 - val_loss: 2.4222 - val_acc: 0.1287\n",
      "Epoch 6/20\n",
      "1s - loss: 2.4194 - acc: 0.1286 - val_loss: 2.4213 - val_acc: 0.1364\n",
      "Epoch 7/20\n",
      "1s - loss: 2.4178 - acc: 0.1333 - val_loss: 2.4198 - val_acc: 0.1369\n",
      "Epoch 8/20\n",
      "1s - loss: 2.4164 - acc: 0.1384 - val_loss: 2.4167 - val_acc: 0.1406\n",
      "Epoch 9/20\n",
      "1s - loss: 2.4099 - acc: 0.1414 - val_loss: 2.4104 - val_acc: 0.1424\n",
      "Epoch 10/20\n",
      "1s - loss: 2.4027 - acc: 0.1438 - val_loss: 2.4057 - val_acc: 0.1467\n",
      "Epoch 11/20\n",
      "1s - loss: 2.3989 - acc: 0.1431 - val_loss: 2.4043 - val_acc: 0.1501\n",
      "Epoch 12/20\n",
      "1s - loss: 2.3962 - acc: 0.1471 - val_loss: 2.4031 - val_acc: 0.1477\n",
      "Epoch 13/20\n",
      "1s - loss: 2.3942 - acc: 0.1477 - val_loss: 2.4019 - val_acc: 0.1460\n",
      "Epoch 14/20\n",
      "1s - loss: 2.3923 - acc: 0.1501 - val_loss: 2.4016 - val_acc: 0.1449\n",
      "Epoch 15/20\n",
      "1s - loss: 2.3907 - acc: 0.1509 - val_loss: 2.4010 - val_acc: 0.1408\n",
      "Epoch 16/20\n",
      "1s - loss: 2.3876 - acc: 0.1527 - val_loss: 2.4011 - val_acc: 0.1436\n",
      "Epoch 17/20\n",
      "1s - loss: 2.3891 - acc: 0.1512 - val_loss: 2.4011 - val_acc: 0.1447\n",
      "Epoch 18/20\n",
      "1s - loss: 2.3846 - acc: 0.1537 - val_loss: 2.4009 - val_acc: 0.1428\n",
      "Epoch 19/20\n",
      "1s - loss: 2.3855 - acc: 0.1526 - val_loss: 2.4004 - val_acc: 0.1426\n",
      "Epoch 20/20\n",
      "1s - loss: 2.3835 - acc: 0.1537 - val_loss: 2.4002 - val_acc: 0.1449\n",
      "logloss val 2.400220066269058\n",
      "*****************************************************\n",
      "5_fold\n",
      "Epoch 1/20\n",
      "2s - loss: 2.4627 - acc: 0.1263 - val_loss: 2.4280 - val_acc: 0.1286\n",
      "Epoch 2/20\n",
      "2s - loss: 2.4262 - acc: 0.1278 - val_loss: 2.4265 - val_acc: 0.1330\n",
      "Epoch 3/20\n",
      "2s - loss: 2.4259 - acc: 0.1300 - val_loss: 2.4254 - val_acc: 0.1286\n",
      "Epoch 4/20\n",
      "2s - loss: 2.4224 - acc: 0.1282 - val_loss: 2.4244 - val_acc: 0.1286\n",
      "Epoch 5/20\n",
      "2s - loss: 2.4203 - acc: 0.1295 - val_loss: 2.4234 - val_acc: 0.1286\n",
      "Epoch 6/20\n",
      "2s - loss: 2.4202 - acc: 0.1296 - val_loss: 2.4226 - val_acc: 0.1326\n",
      "Epoch 7/20\n",
      "2s - loss: 2.4182 - acc: 0.1319 - val_loss: 2.4216 - val_acc: 0.1316\n",
      "Epoch 8/20\n",
      "2s - loss: 2.4166 - acc: 0.1331 - val_loss: 2.4200 - val_acc: 0.1332\n",
      "Epoch 9/20\n",
      "2s - loss: 2.4145 - acc: 0.1366 - val_loss: 2.4177 - val_acc: 0.1353\n",
      "Epoch 10/20\n",
      "2s - loss: 2.4126 - acc: 0.1401 - val_loss: 2.4124 - val_acc: 0.1416\n",
      "Epoch 11/20\n",
      "2s - loss: 2.4049 - acc: 0.1425 - val_loss: 2.4045 - val_acc: 0.1462\n",
      "Epoch 12/20\n",
      "2s - loss: 2.4004 - acc: 0.1436 - val_loss: 2.4011 - val_acc: 0.1454\n",
      "Epoch 13/20\n",
      "2s - loss: 2.3983 - acc: 0.1440 - val_loss: 2.4000 - val_acc: 0.1448\n",
      "Epoch 14/20\n",
      "2s - loss: 2.3951 - acc: 0.1456 - val_loss: 2.3995 - val_acc: 0.1456\n",
      "Epoch 15/20\n",
      "2s - loss: 2.3935 - acc: 0.1477 - val_loss: 2.3990 - val_acc: 0.1459\n",
      "Epoch 16/20\n",
      "2s - loss: 2.3922 - acc: 0.1485 - val_loss: 2.3986 - val_acc: 0.1509\n",
      "Epoch 17/20\n",
      "2s - loss: 2.3908 - acc: 0.1492 - val_loss: 2.3987 - val_acc: 0.1515\n",
      "Epoch 18/20\n",
      "2s - loss: 2.3884 - acc: 0.1523 - val_loss: 2.3984 - val_acc: 0.1521\n",
      "Epoch 19/20\n",
      "2s - loss: 2.3886 - acc: 0.1518 - val_loss: 2.3983 - val_acc: 0.1530\n",
      "Epoch 20/20\n",
      "2s - loss: 2.3856 - acc: 0.1518 - val_loss: 2.3984 - val_acc: 0.1530\n",
      "logloss val 2.398418695389394\n",
      "*****************************************************\n",
      "6_fold\n",
      "Epoch 1/20\n",
      "1s - loss: 2.4667 - acc: 0.1260 - val_loss: 2.4284 - val_acc: 0.1269\n",
      "Epoch 2/20\n",
      "1s - loss: 2.4274 - acc: 0.1279 - val_loss: 2.4257 - val_acc: 0.1286\n",
      "Epoch 3/20\n",
      "1s - loss: 2.4252 - acc: 0.1268 - val_loss: 2.4237 - val_acc: 0.1306\n",
      "Epoch 4/20\n",
      "1s - loss: 2.4236 - acc: 0.1300 - val_loss: 2.4215 - val_acc: 0.1286\n",
      "Epoch 5/20\n",
      "1s - loss: 2.4221 - acc: 0.1296 - val_loss: 2.4205 - val_acc: 0.1286\n",
      "Epoch 6/20\n",
      "1s - loss: 2.4199 - acc: 0.1297 - val_loss: 2.4180 - val_acc: 0.1316\n",
      "Epoch 7/20\n",
      "1s - loss: 2.4187 - acc: 0.1373 - val_loss: 2.4152 - val_acc: 0.1428\n",
      "Epoch 8/20\n",
      "1s - loss: 2.4139 - acc: 0.1413 - val_loss: 2.4084 - val_acc: 0.1411\n",
      "Epoch 9/20\n",
      "1s - loss: 2.4050 - acc: 0.1428 - val_loss: 2.4012 - val_acc: 0.1439\n",
      "Epoch 10/20\n",
      "1s - loss: 2.4014 - acc: 0.1430 - val_loss: 2.3986 - val_acc: 0.1444\n",
      "Epoch 11/20\n",
      "1s - loss: 2.3983 - acc: 0.1446 - val_loss: 2.3979 - val_acc: 0.1451\n",
      "Epoch 12/20\n",
      "1s - loss: 2.3944 - acc: 0.1460 - val_loss: 2.3972 - val_acc: 0.1473\n",
      "Epoch 13/20\n",
      "1s - loss: 2.3931 - acc: 0.1475 - val_loss: 2.3967 - val_acc: 0.1490\n",
      "Epoch 14/20\n",
      "1s - loss: 2.3922 - acc: 0.1478 - val_loss: 2.3970 - val_acc: 0.1502\n",
      "Epoch 15/20\n",
      "1s - loss: 2.3903 - acc: 0.1515 - val_loss: 2.3964 - val_acc: 0.1487\n",
      "Epoch 16/20\n",
      "1s - loss: 2.3884 - acc: 0.1521 - val_loss: 2.3967 - val_acc: 0.1501\n",
      "Epoch 17/20\n",
      "1s - loss: 2.3868 - acc: 0.1529 - val_loss: 2.3961 - val_acc: 0.1473\n",
      "Epoch 18/20\n",
      "1s - loss: 2.3853 - acc: 0.1533 - val_loss: 2.3963 - val_acc: 0.1485\n",
      "Epoch 19/20\n",
      "1s - loss: 2.3850 - acc: 0.1534 - val_loss: 2.3960 - val_acc: 0.1481\n",
      "Epoch 20/20\n",
      "1s - loss: 2.3846 - acc: 0.1529 - val_loss: 2.3963 - val_acc: 0.1491\n",
      "logloss val 2.3963135852101947\n",
      "*****************************************************\n",
      "7_fold\n",
      "Epoch 1/20\n",
      "2s - loss: 2.4646 - acc: 0.1268 - val_loss: 2.4273 - val_acc: 0.1269\n",
      "Epoch 2/20\n",
      "2s - loss: 2.4274 - acc: 0.1288 - val_loss: 2.4244 - val_acc: 0.1286\n",
      "Epoch 3/20\n",
      "2s - loss: 2.4250 - acc: 0.1272 - val_loss: 2.4221 - val_acc: 0.1286\n",
      "Epoch 4/20\n",
      "2s - loss: 2.4218 - acc: 0.1303 - val_loss: 2.4198 - val_acc: 0.1286\n",
      "Epoch 5/20\n",
      "2s - loss: 2.4205 - acc: 0.1352 - val_loss: 2.4166 - val_acc: 0.1372\n",
      "Epoch 6/20\n",
      "2s - loss: 2.4164 - acc: 0.1422 - val_loss: 2.4102 - val_acc: 0.1359\n",
      "Epoch 7/20\n",
      "2s - loss: 2.4077 - acc: 0.1419 - val_loss: 2.4014 - val_acc: 0.1367\n",
      "Epoch 8/20\n",
      "2s - loss: 2.4040 - acc: 0.1425 - val_loss: 2.3988 - val_acc: 0.1403\n",
      "Epoch 9/20\n",
      "2s - loss: 2.3994 - acc: 0.1455 - val_loss: 2.3967 - val_acc: 0.1406\n",
      "Epoch 10/20\n",
      "2s - loss: 2.3976 - acc: 0.1469 - val_loss: 2.3962 - val_acc: 0.1431\n",
      "Epoch 11/20\n",
      "2s - loss: 2.3957 - acc: 0.1463 - val_loss: 2.3952 - val_acc: 0.1404\n",
      "Epoch 12/20\n",
      "2s - loss: 2.3943 - acc: 0.1479 - val_loss: 2.3951 - val_acc: 0.1446\n",
      "Epoch 13/20\n",
      "2s - loss: 2.3921 - acc: 0.1511 - val_loss: 2.3952 - val_acc: 0.1448\n",
      "Epoch 14/20\n",
      "2s - loss: 2.3904 - acc: 0.1505 - val_loss: 2.3947 - val_acc: 0.1442\n",
      "Epoch 15/20\n",
      "2s - loss: 2.3895 - acc: 0.1510 - val_loss: 2.3943 - val_acc: 0.1446\n",
      "Epoch 16/20\n",
      "2s - loss: 2.3883 - acc: 0.1522 - val_loss: 2.3943 - val_acc: 0.1463\n",
      "Epoch 17/20\n",
      "2s - loss: 2.3858 - acc: 0.1547 - val_loss: 2.3939 - val_acc: 0.1467\n",
      "Epoch 18/20\n",
      "2s - loss: 2.3852 - acc: 0.1534 - val_loss: 2.3948 - val_acc: 0.1481\n",
      "Epoch 19/20\n",
      "2s - loss: 2.3830 - acc: 0.1559 - val_loss: 2.3949 - val_acc: 0.1471\n",
      "Epoch 20/20\n",
      "2s - loss: 2.3830 - acc: 0.1543 - val_loss: 2.3949 - val_acc: 0.1475\n",
      "logloss val 2.3949207724634225\n",
      "*****************************************************\n",
      "8_fold\n",
      "Epoch 1/20\n",
      "1s - loss: 2.4654 - acc: 0.1257 - val_loss: 2.4283 - val_acc: 0.1269\n",
      "Epoch 2/20\n",
      "1s - loss: 2.4258 - acc: 0.1290 - val_loss: 2.4266 - val_acc: 0.1287\n",
      "Epoch 3/20\n",
      "1s - loss: 2.4268 - acc: 0.1284 - val_loss: 2.4251 - val_acc: 0.1287\n",
      "Epoch 4/20\n",
      "1s - loss: 2.4225 - acc: 0.1292 - val_loss: 2.4240 - val_acc: 0.1287\n",
      "Epoch 5/20\n",
      "1s - loss: 2.4223 - acc: 0.1281 - val_loss: 2.4225 - val_acc: 0.1287\n",
      "Epoch 6/20\n",
      "1s - loss: 2.4212 - acc: 0.1283 - val_loss: 2.4218 - val_acc: 0.1287\n",
      "Epoch 7/20\n",
      "1s - loss: 2.4190 - acc: 0.1306 - val_loss: 2.4202 - val_acc: 0.1308\n",
      "Epoch 8/20\n",
      "1s - loss: 2.4178 - acc: 0.1309 - val_loss: 2.4186 - val_acc: 0.1304\n",
      "Epoch 9/20\n",
      "1s - loss: 2.4170 - acc: 0.1327 - val_loss: 2.4160 - val_acc: 0.1371\n",
      "Epoch 10/20\n",
      "1s - loss: 2.4110 - acc: 0.1419 - val_loss: 2.4107 - val_acc: 0.1446\n",
      "Epoch 11/20\n",
      "1s - loss: 2.4054 - acc: 0.1434 - val_loss: 2.4059 - val_acc: 0.1414\n",
      "Epoch 12/20\n",
      "1s - loss: 2.4018 - acc: 0.1428 - val_loss: 2.4030 - val_acc: 0.1416\n",
      "Epoch 13/20\n",
      "1s - loss: 2.3993 - acc: 0.1439 - val_loss: 2.4019 - val_acc: 0.1405\n",
      "Epoch 14/20\n",
      "1s - loss: 2.3954 - acc: 0.1453 - val_loss: 2.4019 - val_acc: 0.1410\n",
      "Epoch 15/20\n",
      "1s - loss: 2.3956 - acc: 0.1453 - val_loss: 2.4006 - val_acc: 0.1420\n",
      "Epoch 16/20\n",
      "1s - loss: 2.3932 - acc: 0.1473 - val_loss: 2.4004 - val_acc: 0.1424\n",
      "Epoch 17/20\n",
      "1s - loss: 2.3913 - acc: 0.1480 - val_loss: 2.4000 - val_acc: 0.1436\n",
      "Epoch 18/20\n",
      "1s - loss: 2.3889 - acc: 0.1502 - val_loss: 2.3986 - val_acc: 0.1445\n",
      "Epoch 19/20\n",
      "1s - loss: 2.3893 - acc: 0.1502 - val_loss: 2.3987 - val_acc: 0.1444\n",
      "Epoch 20/20\n",
      "1s - loss: 2.3866 - acc: 0.1522 - val_loss: 2.3976 - val_acc: 0.1424\n",
      "logloss val 2.397624038275701\n",
      "*****************************************************\n",
      "9_fold\n",
      "Epoch 1/20\n",
      "2s - loss: 2.4651 - acc: 0.1247 - val_loss: 2.4280 - val_acc: 0.1270\n",
      "Epoch 2/20\n",
      "2s - loss: 2.4280 - acc: 0.1284 - val_loss: 2.4263 - val_acc: 0.1287\n",
      "Epoch 3/20\n",
      "2s - loss: 2.4248 - acc: 0.1292 - val_loss: 2.4249 - val_acc: 0.1287\n",
      "Epoch 4/20\n",
      "2s - loss: 2.4241 - acc: 0.1270 - val_loss: 2.4235 - val_acc: 0.1287\n",
      "Epoch 5/20\n",
      "2s - loss: 2.4218 - acc: 0.1293 - val_loss: 2.4223 - val_acc: 0.1287\n",
      "Epoch 6/20\n",
      "2s - loss: 2.4205 - acc: 0.1286 - val_loss: 2.4211 - val_acc: 0.1287\n",
      "Epoch 7/20\n",
      "1s - loss: 2.4206 - acc: 0.1272 - val_loss: 2.4201 - val_acc: 0.1278\n",
      "Epoch 8/20\n",
      "2s - loss: 2.4179 - acc: 0.1278 - val_loss: 2.4190 - val_acc: 0.1287\n",
      "Epoch 9/20\n",
      "1s - loss: 2.4178 - acc: 0.1280 - val_loss: 2.4176 - val_acc: 0.1327\n",
      "Epoch 10/20\n",
      "3s - loss: 2.4161 - acc: 0.1289 - val_loss: 2.4160 - val_acc: 0.1358\n",
      "Epoch 11/20\n",
      "1s - loss: 2.4132 - acc: 0.1364 - val_loss: 2.4123 - val_acc: 0.1468\n",
      "Epoch 12/20\n",
      "2s - loss: 2.4085 - acc: 0.1420 - val_loss: 2.4044 - val_acc: 0.1476\n",
      "Epoch 13/20\n",
      "2s - loss: 2.4018 - acc: 0.1433 - val_loss: 2.3984 - val_acc: 0.1471\n",
      "Epoch 14/20\n",
      "2s - loss: 2.3971 - acc: 0.1451 - val_loss: 2.3963 - val_acc: 0.1471\n",
      "Epoch 15/20\n",
      "2s - loss: 2.3946 - acc: 0.1455 - val_loss: 2.3953 - val_acc: 0.1473\n",
      "Epoch 16/20\n",
      "2s - loss: 2.3926 - acc: 0.1484 - val_loss: 2.3941 - val_acc: 0.1499\n",
      "Epoch 17/20\n",
      "2s - loss: 2.3913 - acc: 0.1501 - val_loss: 2.3935 - val_acc: 0.1460\n",
      "Epoch 18/20\n",
      "2s - loss: 2.3894 - acc: 0.1513 - val_loss: 2.3930 - val_acc: 0.1496\n",
      "Epoch 19/20\n",
      "2s - loss: 2.3878 - acc: 0.1528 - val_loss: 2.3932 - val_acc: 0.1489\n",
      "Epoch 20/20\n",
      "2s - loss: 2.3862 - acc: 0.1520 - val_loss: 2.3923 - val_acc: 0.1493\n",
      "logloss val 2.392325430377301\n",
      "average logloss val 2.3986647774551813\n"
     ]
    }
   ],
   "source": [
    "# define baseline model\n",
    "def without_model(X_dim_input):\n",
    "    # create model\n",
    "    model = Sequential()\n",
    "    #model.add(Dense(10, input_dim=X_train_total.shape[1], init='normal', activation='relu'))\n",
    "    #model.add(Dropout(0.2))\n",
    "    model.add(Dense(100, input_dim=X_dim_input, init='normal', activation='relu'))\n",
    "    #model.add(Dropout(0.1))\n",
    "    model.add(Dense(40, input_dim=X_dim_input, init='normal', activation='relu'))\n",
    "    model.add(Dense(40, input_dim=X_dim_input, init='normal', activation='relu'))\n",
    "    #model.add(Dropout(0.1))\n",
    "    model.add(Dense(12, init='normal', activation='sigmoid'))\n",
    "    # Compile model\n",
    "    model.compile(loss='categorical_crossentropy', optimizer='adadelta', metrics=['accuracy'])  #logloss\n",
    "    return model\n",
    "\n",
    "dummy_y_without = np_utils.to_categorical(y_train_total_without)\n",
    "kf = StratifiedKFold(y_train_total_without,n_folds = 10,random_state = 1)\n",
    "score_list_without=[]\n",
    "val_loss_list_without = []\n",
    "for index,(train, test) in enumerate(kf):\n",
    "    X_train_without = X_train_total_without[train]\n",
    "    y_train_without = dummy_y_without[train]\n",
    "    X_val_without = X_train_total_without[test]\n",
    "    y_val_without = dummy_y_without[test]\n",
    "    print('*****************************************************')\n",
    "    print('{}_fold'.format(index))\n",
    "    model=without_model(X_train_total_without.shape[1])\n",
    "    fit= model.fit_generator(generator=batch_generator(X_train_without, y_train_without, 512, True),\n",
    "                         nb_epoch=20,\n",
    "                         samples_per_epoch=80000,\n",
    "                         validation_data=(X_val_without.todense(), y_val_without), verbose=2\n",
    "                         )\n",
    "    scores_val_without = model.predict_generator(generator=batch_generatorp(X_val_without, 512, False), \n",
    "                                         val_samples=X_val_without.shape[0])\n",
    "    scores_without = model.predict_generator(generator=batch_generatorp(X_test_total_without, 512, False), \n",
    "                                     val_samples=X_test_total_without.shape[0])\n",
    "    score_list_without.append(scores_without)\n",
    "    \n",
    "    val_loss = log_loss(y_val_without, scores_val_without)\n",
    "    val_loss_list_without.append(val_loss)\n",
    "    print('logloss val {}'.format(val_loss))\n",
    "\n",
    "for index,i in enumerate(val_loss_list_without):\n",
    "    if(index==0):\n",
    "        sumi = i\n",
    "    else:\n",
    "        sumi = i+sumi\n",
    "val_loss_ave_without = sumi/len(score_list_without)\n",
    "print('average logloss val {}'.format(val_loss_ave_without))\n",
    "for index,i in enumerate(score_list_without):\n",
    "    if(index==0):\n",
    "        sumi = i\n",
    "    else:\n",
    "        sumi = i+sumi\n",
    "score_ave_without = sumi/len(score_list_without)\n",
    "pred_without = pd.DataFrame(score_ave_without, index = gender_age_test_without.index, columns=targetencoder.classes_)"
   ]
  },
  {
   "cell_type": "code",
   "execution_count": 58,
   "metadata": {
    "collapsed": true
   },
   "outputs": [],
   "source": [
    "pred_without.to_csv('nnt_without_result{}.csv'.format(val_loss_ave_without))"
   ]
  },
  {
   "cell_type": "code",
   "execution_count": null,
   "metadata": {
    "collapsed": true
   },
   "outputs": [],
   "source": [
    "score_ensemble = (score_ave_without+score_ave_without_lr)/2"
   ]
  },
  {
   "cell_type": "markdown",
   "metadata": {},
   "source": [
    "## Device without eventsIII: XGBoost"
   ]
  },
  {
   "cell_type": "code",
   "execution_count": null,
   "metadata": {
    "collapsed": true
   },
   "outputs": [],
   "source": [
    "(X_train,X_val,y_train,y_val) = cv.train_test_split(X_train_total_without,y_train_total_without,test_size=0.02,\n",
    "                                                    stratify=y_train_total_without)\n",
    "#grid search cv\n",
    "xgbclassifier = xgb.XGBClassifier(objective=\"multi:softprob\", nthread=1)\n",
    "\n",
    "clf = GridSearchCV(estimator=xgbclassifier,param_grid={\n",
    "        'max_depth': [ 4,5,6,7,8,9,10],\n",
    "        'learning_rate': [0.01,0.02, 0.1, 0.2],\n",
    "    },verbose=10,scoring='log_loss')\n",
    "clf.fit(X_train,y_train)\n",
    "print('max_depth{}'.format(clf.best_estimator_.max_depth))\n",
    "print('n_estimators{}'.format(clf.best_estimator_.n_estimators))\n",
    "print('eta{}'.format(clf.best_estimator_.eta))\n",
    "val_loss_ave_with= -clf.score(X_val,y_val)\n",
    "print(val_loss_ave_with)\n",
    "del X_train,X_val,y_train,y_val"
   ]
  },
  {
   "cell_type": "code",
   "execution_count": 113,
   "metadata": {
    "collapsed": false,
    "scrolled": true
   },
   "outputs": [
    {
     "name": "stdout",
     "output_type": "stream",
     "text": [
      "[0]\ttrain-mlogloss:2.48238\ttest-mlogloss:2.48264\n",
      "[1]\ttrain-mlogloss:2.47991\ttest-mlogloss:2.48043\n",
      "[2]\ttrain-mlogloss:2.4775\ttest-mlogloss:2.47829\n",
      "[3]\ttrain-mlogloss:2.47515\ttest-mlogloss:2.47621\n",
      "[4]\ttrain-mlogloss:2.47286\ttest-mlogloss:2.47417\n",
      "[5]\ttrain-mlogloss:2.47063\ttest-mlogloss:2.47218\n",
      "[6]\ttrain-mlogloss:2.46844\ttest-mlogloss:2.47024\n",
      "[7]\ttrain-mlogloss:2.46631\ttest-mlogloss:2.46836\n",
      "[8]\ttrain-mlogloss:2.46423\ttest-mlogloss:2.46652\n",
      "[9]\ttrain-mlogloss:2.46219\ttest-mlogloss:2.46473\n",
      "[10]\ttrain-mlogloss:2.4602\ttest-mlogloss:2.46298\n",
      "[11]\ttrain-mlogloss:2.45826\ttest-mlogloss:2.46127\n",
      "[12]\ttrain-mlogloss:2.45636\ttest-mlogloss:2.4596\n",
      "[13]\ttrain-mlogloss:2.4545\ttest-mlogloss:2.45797\n",
      "[14]\ttrain-mlogloss:2.45268\ttest-mlogloss:2.45636\n",
      "[15]\ttrain-mlogloss:2.45091\ttest-mlogloss:2.45481\n",
      "[16]\ttrain-mlogloss:2.44918\ttest-mlogloss:2.45328\n",
      "[17]\ttrain-mlogloss:2.44747\ttest-mlogloss:2.45183\n",
      "[18]\ttrain-mlogloss:2.44582\ttest-mlogloss:2.45041\n",
      "[19]\ttrain-mlogloss:2.44419\ttest-mlogloss:2.449\n",
      "[20]\ttrain-mlogloss:2.44259\ttest-mlogloss:2.44764\n",
      "[21]\ttrain-mlogloss:2.44104\ttest-mlogloss:2.44628\n",
      "[22]\ttrain-mlogloss:2.43953\ttest-mlogloss:2.44497\n",
      "[23]\ttrain-mlogloss:2.43806\ttest-mlogloss:2.44368\n",
      "[24]\ttrain-mlogloss:2.43661\ttest-mlogloss:2.44241\n",
      "[25]\ttrain-mlogloss:2.4352\ttest-mlogloss:2.4412\n",
      "[26]\ttrain-mlogloss:2.43381\ttest-mlogloss:2.44\n",
      "[27]\ttrain-mlogloss:2.43245\ttest-mlogloss:2.43882\n",
      "[28]\ttrain-mlogloss:2.43112\ttest-mlogloss:2.43768\n",
      "[29]\ttrain-mlogloss:2.42982\ttest-mlogloss:2.43657\n",
      "[30]\ttrain-mlogloss:2.42853\ttest-mlogloss:2.43547\n",
      "[31]\ttrain-mlogloss:2.42728\ttest-mlogloss:2.4344\n",
      "[32]\ttrain-mlogloss:2.42605\ttest-mlogloss:2.43335\n",
      "[33]\ttrain-mlogloss:2.42486\ttest-mlogloss:2.43236\n",
      "[34]\ttrain-mlogloss:2.42368\ttest-mlogloss:2.43137\n",
      "[35]\ttrain-mlogloss:2.42253\ttest-mlogloss:2.43038\n",
      "[36]\ttrain-mlogloss:2.42141\ttest-mlogloss:2.42947\n",
      "[37]\ttrain-mlogloss:2.4203\ttest-mlogloss:2.42853\n",
      "[38]\ttrain-mlogloss:2.41921\ttest-mlogloss:2.4276\n",
      "[39]\ttrain-mlogloss:2.41815\ttest-mlogloss:2.42673\n",
      "[40]\ttrain-mlogloss:2.41711\ttest-mlogloss:2.42585\n",
      "[41]\ttrain-mlogloss:2.41608\ttest-mlogloss:2.42499\n",
      "[42]\ttrain-mlogloss:2.41508\ttest-mlogloss:2.42417\n",
      "[43]\ttrain-mlogloss:2.4141\ttest-mlogloss:2.42335\n",
      "[44]\ttrain-mlogloss:2.41313\ttest-mlogloss:2.42257\n",
      "[45]\ttrain-mlogloss:2.41217\ttest-mlogloss:2.42179\n",
      "[46]\ttrain-mlogloss:2.41125\ttest-mlogloss:2.42105\n",
      "[47]\ttrain-mlogloss:2.41033\ttest-mlogloss:2.42028\n",
      "[48]\ttrain-mlogloss:2.40943\ttest-mlogloss:2.41952\n",
      "[49]\ttrain-mlogloss:2.40855\ttest-mlogloss:2.41884\n",
      "[50]\ttrain-mlogloss:2.4077\ttest-mlogloss:2.41816\n",
      "[51]\ttrain-mlogloss:2.40687\ttest-mlogloss:2.4175\n",
      "[52]\ttrain-mlogloss:2.40604\ttest-mlogloss:2.41682\n",
      "[53]\ttrain-mlogloss:2.40523\ttest-mlogloss:2.41616\n",
      "[54]\ttrain-mlogloss:2.40443\ttest-mlogloss:2.41553\n",
      "[55]\ttrain-mlogloss:2.40364\ttest-mlogloss:2.41491\n",
      "[56]\ttrain-mlogloss:2.40287\ttest-mlogloss:2.41431\n",
      "[57]\ttrain-mlogloss:2.40212\ttest-mlogloss:2.41372\n",
      "[58]\ttrain-mlogloss:2.40137\ttest-mlogloss:2.41313\n",
      "[59]\ttrain-mlogloss:2.40064\ttest-mlogloss:2.41256\n",
      "[60]\ttrain-mlogloss:2.39993\ttest-mlogloss:2.41196\n",
      "[61]\ttrain-mlogloss:2.39923\ttest-mlogloss:2.41146\n",
      "[62]\ttrain-mlogloss:2.39854\ttest-mlogloss:2.4109\n",
      "[63]\ttrain-mlogloss:2.39786\ttest-mlogloss:2.4104\n",
      "[64]\ttrain-mlogloss:2.39721\ttest-mlogloss:2.40991\n",
      "[65]\ttrain-mlogloss:2.39655\ttest-mlogloss:2.40939\n",
      "[66]\ttrain-mlogloss:2.3959\ttest-mlogloss:2.40888\n",
      "[67]\ttrain-mlogloss:2.39526\ttest-mlogloss:2.40841\n",
      "[68]\ttrain-mlogloss:2.39465\ttest-mlogloss:2.40797\n",
      "[69]\ttrain-mlogloss:2.39404\ttest-mlogloss:2.40753\n",
      "[70]\ttrain-mlogloss:2.39342\ttest-mlogloss:2.40707\n",
      "[71]\ttrain-mlogloss:2.39282\ttest-mlogloss:2.40663\n",
      "[72]\ttrain-mlogloss:2.39223\ttest-mlogloss:2.40619\n",
      "[73]\ttrain-mlogloss:2.39164\ttest-mlogloss:2.40579\n",
      "[74]\ttrain-mlogloss:2.39107\ttest-mlogloss:2.40541\n",
      "[75]\ttrain-mlogloss:2.39052\ttest-mlogloss:2.40499\n",
      "[76]\ttrain-mlogloss:2.38996\ttest-mlogloss:2.40462\n",
      "[77]\ttrain-mlogloss:2.38942\ttest-mlogloss:2.40426\n",
      "[78]\ttrain-mlogloss:2.38889\ttest-mlogloss:2.4039\n",
      "[79]\ttrain-mlogloss:2.38836\ttest-mlogloss:2.40352\n",
      "[80]\ttrain-mlogloss:2.38784\ttest-mlogloss:2.40318\n",
      "[81]\ttrain-mlogloss:2.38733\ttest-mlogloss:2.40282\n",
      "[82]\ttrain-mlogloss:2.38683\ttest-mlogloss:2.4025\n",
      "[83]\ttrain-mlogloss:2.38635\ttest-mlogloss:2.40217\n",
      "[84]\ttrain-mlogloss:2.38587\ttest-mlogloss:2.40184\n",
      "[85]\ttrain-mlogloss:2.3854\ttest-mlogloss:2.40156\n",
      "[86]\ttrain-mlogloss:2.38494\ttest-mlogloss:2.40124\n",
      "[87]\ttrain-mlogloss:2.38449\ttest-mlogloss:2.40095\n",
      "[88]\ttrain-mlogloss:2.38404\ttest-mlogloss:2.40068\n",
      "[89]\ttrain-mlogloss:2.38361\ttest-mlogloss:2.4004\n",
      "[90]\ttrain-mlogloss:2.38317\ttest-mlogloss:2.40012\n",
      "[91]\ttrain-mlogloss:2.38274\ttest-mlogloss:2.39987\n",
      "[92]\ttrain-mlogloss:2.38232\ttest-mlogloss:2.39962\n",
      "[93]\ttrain-mlogloss:2.38191\ttest-mlogloss:2.39935\n",
      "[94]\ttrain-mlogloss:2.38151\ttest-mlogloss:2.3991\n",
      "[95]\ttrain-mlogloss:2.38112\ttest-mlogloss:2.39886\n",
      "[96]\ttrain-mlogloss:2.38074\ttest-mlogloss:2.39861\n",
      "[97]\ttrain-mlogloss:2.38036\ttest-mlogloss:2.39839\n",
      "[98]\ttrain-mlogloss:2.38\ttest-mlogloss:2.39817\n",
      "[99]\ttrain-mlogloss:2.37963\ttest-mlogloss:2.39793\n",
      "[100]\ttrain-mlogloss:2.37927\ttest-mlogloss:2.39772\n",
      "[101]\ttrain-mlogloss:2.3789\ttest-mlogloss:2.3975\n",
      "[102]\ttrain-mlogloss:2.37856\ttest-mlogloss:2.39729\n",
      "[103]\ttrain-mlogloss:2.37821\ttest-mlogloss:2.39708\n",
      "[104]\ttrain-mlogloss:2.37787\ttest-mlogloss:2.39687\n",
      "[105]\ttrain-mlogloss:2.37753\ttest-mlogloss:2.39667\n",
      "[106]\ttrain-mlogloss:2.37721\ttest-mlogloss:2.3965\n",
      "[107]\ttrain-mlogloss:2.37687\ttest-mlogloss:2.39631\n",
      "[108]\ttrain-mlogloss:2.37656\ttest-mlogloss:2.39614\n",
      "[109]\ttrain-mlogloss:2.37624\ttest-mlogloss:2.39595\n",
      "[110]\ttrain-mlogloss:2.37594\ttest-mlogloss:2.39581\n",
      "[111]\ttrain-mlogloss:2.37563\ttest-mlogloss:2.39562\n",
      "[112]\ttrain-mlogloss:2.37534\ttest-mlogloss:2.39547\n",
      "[113]\ttrain-mlogloss:2.37505\ttest-mlogloss:2.3953\n",
      "[114]\ttrain-mlogloss:2.37474\ttest-mlogloss:2.39513\n",
      "[115]\ttrain-mlogloss:2.37446\ttest-mlogloss:2.39496\n",
      "[116]\ttrain-mlogloss:2.37417\ttest-mlogloss:2.39479\n",
      "[117]\ttrain-mlogloss:2.37389\ttest-mlogloss:2.39462\n",
      "[118]\ttrain-mlogloss:2.3736\ttest-mlogloss:2.39446\n",
      "[119]\ttrain-mlogloss:2.37333\ttest-mlogloss:2.3943\n",
      "[120]\ttrain-mlogloss:2.37306\ttest-mlogloss:2.39413\n",
      "[121]\ttrain-mlogloss:2.37279\ttest-mlogloss:2.39399\n",
      "[122]\ttrain-mlogloss:2.37252\ttest-mlogloss:2.39383\n",
      "[123]\ttrain-mlogloss:2.37226\ttest-mlogloss:2.39367\n",
      "[124]\ttrain-mlogloss:2.372\ttest-mlogloss:2.39353\n",
      "[125]\ttrain-mlogloss:2.37176\ttest-mlogloss:2.39338\n",
      "[126]\ttrain-mlogloss:2.3715\ttest-mlogloss:2.39324\n",
      "[127]\ttrain-mlogloss:2.37126\ttest-mlogloss:2.3931\n",
      "[128]\ttrain-mlogloss:2.37102\ttest-mlogloss:2.39297\n",
      "[129]\ttrain-mlogloss:2.37079\ttest-mlogloss:2.39286\n",
      "[130]\ttrain-mlogloss:2.37054\ttest-mlogloss:2.39274\n",
      "[131]\ttrain-mlogloss:2.37031\ttest-mlogloss:2.39261\n",
      "[132]\ttrain-mlogloss:2.3701\ttest-mlogloss:2.39248\n",
      "[133]\ttrain-mlogloss:2.36989\ttest-mlogloss:2.39239\n",
      "[134]\ttrain-mlogloss:2.36967\ttest-mlogloss:2.39226\n",
      "[135]\ttrain-mlogloss:2.36946\ttest-mlogloss:2.39215\n",
      "[136]\ttrain-mlogloss:2.36926\ttest-mlogloss:2.39205\n",
      "[137]\ttrain-mlogloss:2.36906\ttest-mlogloss:2.39194\n",
      "[138]\ttrain-mlogloss:2.36886\ttest-mlogloss:2.39182\n",
      "[139]\ttrain-mlogloss:2.36866\ttest-mlogloss:2.39168\n",
      "[140]\ttrain-mlogloss:2.36847\ttest-mlogloss:2.39155\n",
      "[141]\ttrain-mlogloss:2.36828\ttest-mlogloss:2.39145\n",
      "[142]\ttrain-mlogloss:2.3681\ttest-mlogloss:2.39134\n",
      "[143]\ttrain-mlogloss:2.36791\ttest-mlogloss:2.39124\n",
      "[144]\ttrain-mlogloss:2.36772\ttest-mlogloss:2.39113\n",
      "[145]\ttrain-mlogloss:2.36754\ttest-mlogloss:2.39101\n",
      "[146]\ttrain-mlogloss:2.36736\ttest-mlogloss:2.39093\n",
      "[147]\ttrain-mlogloss:2.36718\ttest-mlogloss:2.39084\n",
      "[148]\ttrain-mlogloss:2.367\ttest-mlogloss:2.39074\n",
      "[149]\ttrain-mlogloss:2.36683\ttest-mlogloss:2.39065\n",
      "[150]\ttrain-mlogloss:2.36666\ttest-mlogloss:2.39056\n",
      "[151]\ttrain-mlogloss:2.36649\ttest-mlogloss:2.39045\n",
      "[152]\ttrain-mlogloss:2.36632\ttest-mlogloss:2.39039\n",
      "[153]\ttrain-mlogloss:2.36615\ttest-mlogloss:2.39029\n",
      "[154]\ttrain-mlogloss:2.36598\ttest-mlogloss:2.39021\n",
      "[155]\ttrain-mlogloss:2.36582\ttest-mlogloss:2.39015\n",
      "[156]\ttrain-mlogloss:2.36566\ttest-mlogloss:2.39009\n",
      "[157]\ttrain-mlogloss:2.3655\ttest-mlogloss:2.39\n",
      "[158]\ttrain-mlogloss:2.36534\ttest-mlogloss:2.38993\n",
      "[159]\ttrain-mlogloss:2.36518\ttest-mlogloss:2.38987\n",
      "[160]\ttrain-mlogloss:2.36503\ttest-mlogloss:2.38981\n",
      "[161]\ttrain-mlogloss:2.36487\ttest-mlogloss:2.38974\n",
      "[162]\ttrain-mlogloss:2.36471\ttest-mlogloss:2.38968\n",
      "[163]\ttrain-mlogloss:2.36457\ttest-mlogloss:2.38962\n",
      "[164]\ttrain-mlogloss:2.36442\ttest-mlogloss:2.38954\n",
      "[165]\ttrain-mlogloss:2.36426\ttest-mlogloss:2.38949\n",
      "[166]\ttrain-mlogloss:2.36412\ttest-mlogloss:2.38944\n",
      "[167]\ttrain-mlogloss:2.36398\ttest-mlogloss:2.3894\n",
      "[168]\ttrain-mlogloss:2.36383\ttest-mlogloss:2.38936\n",
      "[169]\ttrain-mlogloss:2.36369\ttest-mlogloss:2.38931\n",
      "[170]\ttrain-mlogloss:2.36356\ttest-mlogloss:2.38929\n",
      "[171]\ttrain-mlogloss:2.36342\ttest-mlogloss:2.38924\n",
      "[172]\ttrain-mlogloss:2.36328\ttest-mlogloss:2.3892\n",
      "[173]\ttrain-mlogloss:2.36315\ttest-mlogloss:2.38917\n",
      "[174]\ttrain-mlogloss:2.36303\ttest-mlogloss:2.38915\n",
      "[175]\ttrain-mlogloss:2.3629\ttest-mlogloss:2.3891\n",
      "[176]\ttrain-mlogloss:2.36278\ttest-mlogloss:2.38906\n",
      "[177]\ttrain-mlogloss:2.36266\ttest-mlogloss:2.38902\n",
      "[178]\ttrain-mlogloss:2.36254\ttest-mlogloss:2.38897\n",
      "[179]\ttrain-mlogloss:2.36242\ttest-mlogloss:2.38894\n",
      "[180]\ttrain-mlogloss:2.36231\ttest-mlogloss:2.3889\n",
      "[181]\ttrain-mlogloss:2.36218\ttest-mlogloss:2.38884\n",
      "[182]\ttrain-mlogloss:2.36206\ttest-mlogloss:2.38882\n",
      "[183]\ttrain-mlogloss:2.36195\ttest-mlogloss:2.38877\n",
      "[184]\ttrain-mlogloss:2.36184\ttest-mlogloss:2.38873\n",
      "[185]\ttrain-mlogloss:2.36173\ttest-mlogloss:2.3887\n",
      "[186]\ttrain-mlogloss:2.36162\ttest-mlogloss:2.38868\n",
      "[187]\ttrain-mlogloss:2.36151\ttest-mlogloss:2.38866\n",
      "[188]\ttrain-mlogloss:2.36141\ttest-mlogloss:2.38863\n",
      "[189]\ttrain-mlogloss:2.3613\ttest-mlogloss:2.3886\n",
      "[190]\ttrain-mlogloss:2.3612\ttest-mlogloss:2.38857\n",
      "[191]\ttrain-mlogloss:2.36111\ttest-mlogloss:2.38857\n",
      "[192]\ttrain-mlogloss:2.361\ttest-mlogloss:2.38856\n",
      "[193]\ttrain-mlogloss:2.3609\ttest-mlogloss:2.38851\n",
      "[194]\ttrain-mlogloss:2.3608\ttest-mlogloss:2.38851\n",
      "[195]\ttrain-mlogloss:2.3607\ttest-mlogloss:2.38849\n",
      "[196]\ttrain-mlogloss:2.36061\ttest-mlogloss:2.38847\n",
      "[197]\ttrain-mlogloss:2.36051\ttest-mlogloss:2.38844\n",
      "[198]\ttrain-mlogloss:2.36041\ttest-mlogloss:2.38841\n",
      "[199]\ttrain-mlogloss:2.36032\ttest-mlogloss:2.38839\n",
      "[200]\ttrain-mlogloss:2.36023\ttest-mlogloss:2.38836\n",
      "[201]\ttrain-mlogloss:2.36014\ttest-mlogloss:2.38835\n",
      "[202]\ttrain-mlogloss:2.36004\ttest-mlogloss:2.38833\n",
      "[203]\ttrain-mlogloss:2.35996\ttest-mlogloss:2.38833\n",
      "[204]\ttrain-mlogloss:2.35987\ttest-mlogloss:2.38832\n",
      "[205]\ttrain-mlogloss:2.35978\ttest-mlogloss:2.3883\n",
      "[206]\ttrain-mlogloss:2.35969\ttest-mlogloss:2.3883\n",
      "[207]\ttrain-mlogloss:2.3596\ttest-mlogloss:2.38827\n",
      "[208]\ttrain-mlogloss:2.35952\ttest-mlogloss:2.38826\n",
      "[209]\ttrain-mlogloss:2.35943\ttest-mlogloss:2.38825\n",
      "[210]\ttrain-mlogloss:2.35935\ttest-mlogloss:2.38823\n",
      "[211]\ttrain-mlogloss:2.35927\ttest-mlogloss:2.38825\n",
      "[212]\ttrain-mlogloss:2.35918\ttest-mlogloss:2.38824\n",
      "[213]\ttrain-mlogloss:2.3591\ttest-mlogloss:2.38824\n",
      "[214]\ttrain-mlogloss:2.35902\ttest-mlogloss:2.38823\n",
      "[215]\ttrain-mlogloss:2.35894\ttest-mlogloss:2.38822\n",
      "[216]\ttrain-mlogloss:2.35886\ttest-mlogloss:2.38822\n",
      "[217]\ttrain-mlogloss:2.35878\ttest-mlogloss:2.38822\n",
      "[218]\ttrain-mlogloss:2.35871\ttest-mlogloss:2.3882\n",
      "[219]\ttrain-mlogloss:2.35864\ttest-mlogloss:2.3882\n",
      "[220]\ttrain-mlogloss:2.35856\ttest-mlogloss:2.38817\n",
      "[221]\ttrain-mlogloss:2.35849\ttest-mlogloss:2.38816\n",
      "[222]\ttrain-mlogloss:2.35842\ttest-mlogloss:2.38816\n",
      "[223]\ttrain-mlogloss:2.35835\ttest-mlogloss:2.38814\n",
      "[224]\ttrain-mlogloss:2.35828\ttest-mlogloss:2.38814\n",
      "[225]\ttrain-mlogloss:2.35821\ttest-mlogloss:2.38813\n",
      "[226]\ttrain-mlogloss:2.35814\ttest-mlogloss:2.38814\n",
      "[227]\ttrain-mlogloss:2.35807\ttest-mlogloss:2.38813\n",
      "[228]\ttrain-mlogloss:2.358\ttest-mlogloss:2.38813\n",
      "[229]\ttrain-mlogloss:2.35794\ttest-mlogloss:2.38812\n",
      "[230]\ttrain-mlogloss:2.35786\ttest-mlogloss:2.38812\n",
      "[231]\ttrain-mlogloss:2.3578\ttest-mlogloss:2.38811\n",
      "[232]\ttrain-mlogloss:2.35773\ttest-mlogloss:2.3881\n",
      "[233]\ttrain-mlogloss:2.35767\ttest-mlogloss:2.38809\n",
      "[234]\ttrain-mlogloss:2.3576\ttest-mlogloss:2.38808\n",
      "[235]\ttrain-mlogloss:2.35754\ttest-mlogloss:2.38808\n",
      "[236]\ttrain-mlogloss:2.35748\ttest-mlogloss:2.38806\n",
      "[237]\ttrain-mlogloss:2.35741\ttest-mlogloss:2.38804\n",
      "[238]\ttrain-mlogloss:2.35735\ttest-mlogloss:2.38804\n",
      "[239]\ttrain-mlogloss:2.3573\ttest-mlogloss:2.38806\n",
      "[240]\ttrain-mlogloss:2.35724\ttest-mlogloss:2.38804\n",
      "[241]\ttrain-mlogloss:2.35718\ttest-mlogloss:2.38804\n",
      "[242]\ttrain-mlogloss:2.35712\ttest-mlogloss:2.38806\n",
      "[243]\ttrain-mlogloss:2.35706\ttest-mlogloss:2.38806\n",
      "[244]\ttrain-mlogloss:2.357\ttest-mlogloss:2.38807\n",
      "[245]\ttrain-mlogloss:2.35695\ttest-mlogloss:2.38807\n",
      "[246]\ttrain-mlogloss:2.35689\ttest-mlogloss:2.38809\n",
      "[247]\ttrain-mlogloss:2.35684\ttest-mlogloss:2.38809\n",
      "[248]\ttrain-mlogloss:2.35678\ttest-mlogloss:2.38809\n",
      "[249]\ttrain-mlogloss:2.35673\ttest-mlogloss:2.38809\n",
      "[250]\ttrain-mlogloss:2.35668\ttest-mlogloss:2.38809\n",
      "[251]\ttrain-mlogloss:2.35662\ttest-mlogloss:2.38809\n",
      "[252]\ttrain-mlogloss:2.35656\ttest-mlogloss:2.38812\n",
      "[253]\ttrain-mlogloss:2.35651\ttest-mlogloss:2.38811\n",
      "[254]\ttrain-mlogloss:2.35645\ttest-mlogloss:2.3881\n",
      "[255]\ttrain-mlogloss:2.3564\ttest-mlogloss:2.38811\n",
      "[256]\ttrain-mlogloss:2.35635\ttest-mlogloss:2.38811\n",
      "[257]\ttrain-mlogloss:2.35629\ttest-mlogloss:2.38811\n",
      "[258]\ttrain-mlogloss:2.35623\ttest-mlogloss:2.38811\n",
      "[259]\ttrain-mlogloss:2.35618\ttest-mlogloss:2.38811\n",
      "[260]\ttrain-mlogloss:2.35613\ttest-mlogloss:2.38811\n",
      "[261]\ttrain-mlogloss:2.35608\ttest-mlogloss:2.38811\n",
      "[262]\ttrain-mlogloss:2.35603\ttest-mlogloss:2.3881\n",
      "[263]\ttrain-mlogloss:2.35598\ttest-mlogloss:2.38811\n",
      "[264]\ttrain-mlogloss:2.35593\ttest-mlogloss:2.38812\n",
      "[265]\ttrain-mlogloss:2.35588\ttest-mlogloss:2.38813\n",
      "[266]\ttrain-mlogloss:2.35582\ttest-mlogloss:2.38814\n",
      "[267]\ttrain-mlogloss:2.35577\ttest-mlogloss:2.38815\n",
      "[268]\ttrain-mlogloss:2.35573\ttest-mlogloss:2.38815\n",
      "[269]\ttrain-mlogloss:2.35568\ttest-mlogloss:2.38816\n",
      "[270]\ttrain-mlogloss:2.35563\ttest-mlogloss:2.38816\n",
      "[271]\ttrain-mlogloss:2.35559\ttest-mlogloss:2.38817\n",
      "[272]\ttrain-mlogloss:2.35554\ttest-mlogloss:2.38819\n",
      "[273]\ttrain-mlogloss:2.3555\ttest-mlogloss:2.38819\n",
      "[274]\ttrain-mlogloss:2.35545\ttest-mlogloss:2.3882\n",
      "[275]\ttrain-mlogloss:2.3554\ttest-mlogloss:2.38821\n",
      "[276]\ttrain-mlogloss:2.35535\ttest-mlogloss:2.38822\n",
      "[277]\ttrain-mlogloss:2.35531\ttest-mlogloss:2.38822\n",
      "[278]\ttrain-mlogloss:2.35527\ttest-mlogloss:2.38824\n",
      "[279]\ttrain-mlogloss:2.35523\ttest-mlogloss:2.38824\n",
      "[280]\ttrain-mlogloss:2.35518\ttest-mlogloss:2.38825\n",
      "[281]\ttrain-mlogloss:2.35514\ttest-mlogloss:2.38826\n",
      "[282]\ttrain-mlogloss:2.35509\ttest-mlogloss:2.38829\n",
      "[283]\ttrain-mlogloss:2.35505\ttest-mlogloss:2.3883\n",
      "[284]\ttrain-mlogloss:2.35501\ttest-mlogloss:2.3883\n",
      "[285]\ttrain-mlogloss:2.35496\ttest-mlogloss:2.38831\n",
      "[286]\ttrain-mlogloss:2.35493\ttest-mlogloss:2.38832\n",
      "[287]\ttrain-mlogloss:2.35489\ttest-mlogloss:2.38833\n",
      "[288]\ttrain-mlogloss:2.35485\ttest-mlogloss:2.38833\n",
      "[289]\ttrain-mlogloss:2.35481\ttest-mlogloss:2.38834\n",
      "[290]\ttrain-mlogloss:2.35477\ttest-mlogloss:2.38833\n",
      "[291]\ttrain-mlogloss:2.35474\ttest-mlogloss:2.38833\n",
      "[292]\ttrain-mlogloss:2.3547\ttest-mlogloss:2.38833\n",
      "[293]\ttrain-mlogloss:2.35467\ttest-mlogloss:2.38834\n",
      "[294]\ttrain-mlogloss:2.35463\ttest-mlogloss:2.38834\n",
      "[295]\ttrain-mlogloss:2.35459\ttest-mlogloss:2.38835\n",
      "[296]\ttrain-mlogloss:2.35456\ttest-mlogloss:2.38835\n",
      "[297]\ttrain-mlogloss:2.35453\ttest-mlogloss:2.38835\n",
      "[298]\ttrain-mlogloss:2.35449\ttest-mlogloss:2.38836\n",
      "[299]\ttrain-mlogloss:2.35446\ttest-mlogloss:2.38837\n",
      "logloss val 2.388368128214176\n"
     ]
    },
    {
     "data": {
      "text/plain": [
       "0"
      ]
     },
     "execution_count": 113,
     "metadata": {},
     "output_type": "execute_result"
    }
   ],
   "source": [
    "(X_train,X_val,y_train,y_val) = cv.train_test_split(X_train_total_without,y_train_total_without,test_size=0.02,\n",
    "                                                    stratify=y_train_total_without)\n",
    "xg_train = xgb.DMatrix(X_train,label = y_train)\n",
    "xg_test = xgb.DMatrix(X_val,label = y_val)\n",
    "param = {'max_depth':40,\n",
    "         'eta':0.02,\n",
    "         'silent':0,\n",
    "         'objective':'multi:softprob',\n",
    "         'nthread':2,\n",
    "         'num_class':12,\n",
    "         'eval_metric':'mlogloss',\n",
    "        'lambda':4,\n",
    "        'lambda_bias':0,\n",
    "        'alpha':2}\n",
    "num_round = 300\n",
    "watchlist = [(xg_train,'train'),(xg_test,'test')]\n",
    "bst = xgb.train(param,xg_train,num_round,watchlist)\n",
    "yprob = bst.predict(xg_test).reshape(y_val.shape[0],12)\n",
    "val_loss = log_loss(y_val, yprob)\n",
    "print('logloss val {}'.format(val_loss))\n",
    "del X_train,X_val,y_train,y_val\n",
    "os.system(\"printf '\\a'\")"
   ]
  },
  {
   "cell_type": "markdown",
   "metadata": {},
   "source": [
    "## training with all data"
   ]
  },
  {
   "cell_type": "code",
   "execution_count": 114,
   "metadata": {
    "collapsed": false
   },
   "outputs": [
    {
     "data": {
      "text/plain": [
       "0"
      ]
     },
     "execution_count": 114,
     "metadata": {},
     "output_type": "execute_result"
    }
   ],
   "source": [
    "xg_train = xgb.DMatrix(X_train_total_without,label = y_train_total_without)\n",
    "xg_test = xgb.DMatrix(X_test_total_without)\n",
    "bst = xgb.train(param,xg_train,num_round)\n",
    "yprob = bst.predict(xg_test).reshape(X_test_total_without.shape[0],12)\n",
    "pred_without_xgb = pd.DataFrame(yprob, \n",
    "                            index = gender_age_test_without.index, \n",
    "                            columns=targetencoder.classes_)\n",
    "pred_without_xgb.to_csv('xgb_without_result{}.csv'.format(val_loss))\n",
    "os.system(\"printf '\\a'\")"
   ]
  },
  {
   "cell_type": "markdown",
   "metadata": {},
   "source": [
    "# putting together and save into final file"
   ]
  },
  {
   "cell_type": "markdown",
   "metadata": {},
   "source": [
    "Final score based on the percentage of testing set"
   ]
  },
  {
   "cell_type": "code",
   "execution_count": 87,
   "metadata": {
    "collapsed": false
   },
   "outputs": [
    {
     "name": "stdout",
     "output_type": "stream",
     "text": [
      "with score:1.9392115926279074\n",
      "without score:2.3931157227003554\n",
      "final validation score:2.2505748160093315\n"
     ]
    }
   ],
   "source": [
    "#val_score_final = val_loss_ave_without*76877/112071+val_loss_ave_with*35194/112071\n",
    "val_score_final = (val_loss_ave_without*X_test_total_without.shape[0]+\n",
    "                   val_loss_ave_with*X_test_total_with.shape[0])/(X_test_total_without.shape[0]+X_test_total_with.shape[0])\n",
    "print('with score:{}'.format(val_loss_ave_with))\n",
    "print('without score:{}'.format(val_loss_ave_without))\n",
    "print('final validation score:{}'.format(val_score_final))"
   ]
  },
  {
   "cell_type": "code",
   "execution_count": 88,
   "metadata": {
    "collapsed": false
   },
   "outputs": [],
   "source": [
    "pred = pd.concat((pred_with,pred_without))\n",
    "pred.to_csv('doublemodel_v6.csv',index=True)"
   ]
  },
  {
   "cell_type": "code",
   "execution_count": null,
   "metadata": {
    "collapsed": true
   },
   "outputs": [],
   "source": []
  }
 ],
 "metadata": {
  "kernelspec": {
   "display_name": "Python 3",
   "language": "python",
   "name": "python3"
  },
  "language_info": {
   "codemirror_mode": {
    "name": "ipython",
    "version": 3
   },
   "file_extension": ".py",
   "mimetype": "text/x-python",
   "name": "python",
   "nbconvert_exporter": "python",
   "pygments_lexer": "ipython3",
   "version": "3.5.2"
  }
 },
 "nbformat": 4,
 "nbformat_minor": 0
}
