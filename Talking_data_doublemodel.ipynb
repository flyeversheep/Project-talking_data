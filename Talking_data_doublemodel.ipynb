{
 "cells": [
  {
   "cell_type": "code",
   "execution_count": 108,
   "metadata": {
    "collapsed": false
   },
   "outputs": [],
   "source": [
    "import pandas as pd\n",
    "import numpy as np\n",
    "from sklearn.preprocessing import LabelEncoder,StandardScaler\n",
    "from sklearn.ensemble import RandomForestClassifier as rfc\n",
    "from sklearn import cross_validation as cv\n",
    "from sklearn.linear_model import LogisticRegression\n",
    "from sklearn.metrics import log_loss,accuracy_score\n",
    "from scipy.sparse import csr_matrix,hstack\n",
    "import time\n",
    "from keras.models import Sequential\n",
    "from keras.layers import Dense, Dropout, Activation\n",
    "from keras.utils import np_utils\n",
    "from keras.optimizers import SGD\n",
    "from sklearn.feature_selection import SelectPercentile, f_classif, chi2, SelectKBest\n",
    "from sklearn.cross_validation import StratifiedKFold,KFold\n",
    "from sklearn.naive_bayes import MultinomialNB\n",
    "from sklearn.grid_search import GridSearchCV\n",
    "seed = 7\n",
    "np.random.seed(seed)"
   ]
  },
  {
   "cell_type": "code",
   "execution_count": 3,
   "metadata": {
    "collapsed": false
   },
   "outputs": [],
   "source": [
    "events = pd.read_csv('input/events.csv',index_col='event_id')\n",
    "label = pd.read_csv('input/label_categories.csv')\n",
    "app_event = pd.read_csv('input/app_events.csv')\n",
    "app_label = pd.read_csv('input/app_labels.csv')\n",
    "device = pd.read_csv('input/phone_brand_device_model.csv')\n",
    "device = device.drop_duplicates('device_id').set_index('device_id')\n",
    "gender_age_train = pd.read_csv('input/gender_age_train.csv',index_col = 'device_id')\n",
    "gender_age_test = pd.read_csv('input/gender_age_test.csv',index_col = 'device_id')"
   ]
  },
  {
   "cell_type": "markdown",
   "metadata": {},
   "source": [
    "For the convinience of creating sparse matrix, we create another integer index for the training and testing set."
   ]
  },
  {
   "cell_type": "code",
   "execution_count": 4,
   "metadata": {
    "collapsed": false
   },
   "outputs": [
    {
     "name": "stdout",
     "output_type": "stream",
     "text": [
      "gender_age_train\n",
      "                      gender  age   group\n",
      "device_id                               \n",
      "-8076087639492063270      M   35  M32-38\n",
      "\n",
      "gender_age_test\n",
      " Empty DataFrame\n",
      "Columns: []\n",
      "Index: [1002079943728939269]\n",
      "\n",
      "device\n",
      "                      phone_brand device_model\n",
      "device_id                                    \n",
      "-8890648629457979026          小米           红米\n",
      "\n",
      "events\n",
      "                   device_id            timestamp  longitude  latitude\n",
      "event_id                                                             \n",
      "1         29182687948017175  2016-05-01 00:55:25     121.38     31.24\n",
      "\n",
      "label\n",
      "    label_id category\n",
      "0         1      NaN\n",
      "\n",
      "app_event\n",
      "    event_id               app_id  is_installed  is_active\n",
      "0         2  5927333115845830913             1          1\n",
      "\n",
      "app_label\n",
      "                 app_id  label_id\n",
      "0  7324884708820027918       251\n"
     ]
    }
   ],
   "source": [
    "print('gender_age_train\\n',gender_age_train.head(1))\n",
    "print('\\ngender_age_test\\n',gender_age_test.head(1))\n",
    "print('\\ndevice\\n',device.head(1))\n",
    "print('\\nevents\\n',events.head(1))\n",
    "print('\\nlabel\\n',label.head(1))\n",
    "print('\\napp_event\\n',app_event.head(1))\n",
    "print('\\napp_label\\n',app_label.head(1))"
   ]
  },
  {
   "cell_type": "markdown",
   "metadata": {},
   "source": [
    "# Separation of two set of devices: with events and without events"
   ]
  },
  {
   "cell_type": "code",
   "execution_count": 5,
   "metadata": {
    "collapsed": false
   },
   "outputs": [
    {
     "name": "stdout",
     "output_type": "stream",
     "text": [
      "Size of training set without events:    51336\n",
      "Size of training set with events:       23309\n",
      "Total size of training set:             74645\n",
      "Size of testing set without events:     76877\n",
      "Size of training set with events:       35194\n",
      "Total size of training set:             112071\n"
     ]
    }
   ],
   "source": [
    "gender_age_train_with = gender_age_train.loc[gender_age_train.index.isin(events.device_id.unique())].copy()\n",
    "gender_age_train_without = gender_age_train.loc[~gender_age_train.index.isin(events.device_id.unique())].copy()\n",
    "gender_age_test_with = gender_age_test.loc[gender_age_test.index.isin(events.device_id.unique())].copy()\n",
    "gender_age_test_without = gender_age_test.loc[~gender_age_test.index.isin(events.device_id.unique())].copy()\n",
    "print('{0:<40.40}{1:5}'.format('Size of training set without events:',gender_age_train_without.shape[0]))\n",
    "print('{0:<40.40}{1:5}'.format('Size of training set with events:',gender_age_train_with.shape[0]))\n",
    "print('{0:<40.40}{1:5}'.format('Total size of training set:',gender_age_train.shape[0]))\n",
    "print('{0:<40.40}{1:5}'.format('Size of testing set without events:',gender_age_test_without.shape[0]))\n",
    "print('{0:<40.40}{1:5}'.format('Size of training set with events:',gender_age_test_with.shape[0]))\n",
    "print('{0:<40.40}{1:5}'.format('Total size of training set:',gender_age_test.shape[0]))"
   ]
  },
  {
   "cell_type": "code",
   "execution_count": 6,
   "metadata": {
    "collapsed": true
   },
   "outputs": [],
   "source": [
    "gender_age_train_with['int_index'] = np.arange(gender_age_train_with.shape[0])\n",
    "gender_age_test_with['int_index'] = np.arange(gender_age_test_with.shape[0])\n",
    "gender_age_train_without['int_index'] = np.arange(gender_age_train_without.shape[0])\n",
    "gender_age_test_without['int_index'] = np.arange(gender_age_test_without.shape[0])"
   ]
  },
  {
   "cell_type": "markdown",
   "metadata": {},
   "source": [
    "# Feature engineering I: phone brand"
   ]
  },
  {
   "cell_type": "markdown",
   "metadata": {},
   "source": [
    "Encoding the phone brand, and feed this as a feature into the training and testing test."
   ]
  },
  {
   "cell_type": "code",
   "execution_count": 7,
   "metadata": {
    "collapsed": false
   },
   "outputs": [],
   "source": [
    "encoder = LabelEncoder()\n",
    "encoder.fit(device.phone_brand)\n",
    "device['brand'] = encoder.transform(device.phone_brand)\n",
    "gender_age_train_with['brand'] = device['brand']\n",
    "gender_age_test_with['brand'] = device['brand']\n",
    "gender_age_train_without['brand'] = device['brand']\n",
    "gender_age_test_without['brand'] = device['brand']\n",
    "brandnumber = len(encoder.classes_)"
   ]
  },
  {
   "cell_type": "markdown",
   "metadata": {},
   "source": [
    "Create sparse matrix with each row representing one device and each column representing one brand"
   ]
  },
  {
   "cell_type": "code",
   "execution_count": 8,
   "metadata": {
    "collapsed": false
   },
   "outputs": [
    {
     "name": "stdout",
     "output_type": "stream",
     "text": [
      "X_train_brand_with shape: (23309, 131)\n",
      "X_test_brand_with shape: (35194, 131)\n",
      "X_train_brand_without shape: (51336, 131)\n",
      "X_test_brand_without shape: (76877, 131)\n"
     ]
    }
   ],
   "source": [
    "X_train_brand_with = csr_matrix((np.ones(gender_age_train_with.shape[0]),\n",
    "                            (gender_age_train_with.int_index,gender_age_train_with.brand)),\n",
    "                               shape = (gender_age_train_with.shape[0],brandnumber))\n",
    "X_test_brand_with = csr_matrix((np.ones(gender_age_test_with.shape[0]),\n",
    "                           (gender_age_test_with.int_index,gender_age_test_with.brand)),\n",
    "                              shape = (gender_age_test_with.shape[0],brandnumber))\n",
    "print('X_train_brand_with shape:',X_train_brand_with.shape)\n",
    "print('X_test_brand_with shape:',X_test_brand_with.shape)\n",
    "X_train_brand_without = csr_matrix((np.ones(gender_age_train_without.shape[0]),\n",
    "                            (gender_age_train_without.int_index,gender_age_train_without.brand)),\n",
    "                                  shape = (gender_age_train_without.shape[0],brandnumber))\n",
    "X_test_brand_without = csr_matrix((np.ones(gender_age_test_without.shape[0]),\n",
    "                           (gender_age_test_without.int_index,gender_age_test_without.brand)),\n",
    "                                 shape = (gender_age_test_without.shape[0],brandnumber))\n",
    "print('X_train_brand_without shape:',X_train_brand_without.shape)\n",
    "print('X_test_brand_without shape:',X_test_brand_without.shape)"
   ]
  },
  {
   "cell_type": "markdown",
   "metadata": {},
   "source": [
    "# Feature engineering II: phone device model"
   ]
  },
  {
   "cell_type": "code",
   "execution_count": 9,
   "metadata": {
    "collapsed": true
   },
   "outputs": [],
   "source": [
    "brand_model = device.phone_brand.str.cat(device.device_model)\n",
    "encoder3 = LabelEncoder()\n",
    "encoder3.fit(brand_model)\n",
    "device['model'] = encoder3.transform(brand_model)\n",
    "gender_age_train_with['model'] = device['model']\n",
    "gender_age_test_with['model'] = device['model']\n",
    "gender_age_train_without['model'] = device['model']\n",
    "gender_age_test_without['model'] = device['model']\n",
    "modelnumber = len(encoder3.classes_)"
   ]
  },
  {
   "cell_type": "code",
   "execution_count": 10,
   "metadata": {
    "collapsed": false
   },
   "outputs": [
    {
     "name": "stdout",
     "output_type": "stream",
     "text": [
      "X_train_brand_with shape: (23309, 1667)\n",
      "X_test_brand_with shape: (35194, 1667)\n",
      "X_train_brand_without shape: (51336, 1667)\n",
      "X_test_brand_without shape: (76877, 1667)\n"
     ]
    }
   ],
   "source": [
    "X_train_model_with = csr_matrix((np.ones(gender_age_train_with.shape[0]),\n",
    "                                 (gender_age_train_with.int_index,gender_age_train_with.model)),\n",
    "                               shape = (gender_age_train_with.shape[0],modelnumber))\n",
    "X_test_model_with = csr_matrix((np.ones(gender_age_test_with.shape[0]),\n",
    "                                (gender_age_test_with.int_index,gender_age_test_with.model)),\n",
    "                              shape = (gender_age_test_with.shape[0],modelnumber))\n",
    "X_train_model_without = csr_matrix((np.ones(gender_age_train_without.shape[0]),\n",
    "                                    (gender_age_train_without.int_index,gender_age_train_without.model)),\n",
    "                                  shape = (gender_age_train_without.shape[0],modelnumber))\n",
    "X_test_model_without = csr_matrix((np.ones(gender_age_test_without.shape[0]),\n",
    "                                   (gender_age_test_without.int_index,gender_age_test_without.model)),\n",
    "                                 shape = (gender_age_test_without.shape[0],modelnumber))\n",
    "\n",
    "print('X_train_brand_with shape:',X_train_model_with.shape)\n",
    "print('X_test_brand_with shape:',X_test_model_with.shape)\n",
    "print('X_train_brand_without shape:',X_train_model_without.shape)\n",
    "print('X_test_brand_without shape:',X_test_model_without.shape)"
   ]
  },
  {
   "cell_type": "markdown",
   "metadata": {},
   "source": [
    "# Feature engineering III: Installed app"
   ]
  },
  {
   "cell_type": "markdown",
   "metadata": {},
   "source": [
    "Encoding the app_id and store it into app column, and feed this as a feature into the training and testing test."
   ]
  },
  {
   "cell_type": "code",
   "execution_count": 11,
   "metadata": {
    "collapsed": true
   },
   "outputs": [],
   "source": [
    "encoder2 = LabelEncoder()\n",
    "encoder2.fit(app_event.app_id)\n",
    "app_event['app'] = encoder2.transform(app_event.app_id)"
   ]
  },
  {
   "cell_type": "code",
   "execution_count": 12,
   "metadata": {
    "collapsed": false
   },
   "outputs": [
    {
     "data": {
      "text/plain": [
       "array([    0,     1,     2, ..., 19234, 19235, 19236])"
      ]
     },
     "execution_count": 12,
     "metadata": {},
     "output_type": "execute_result"
    }
   ],
   "source": [
    "np.sort(app_event.app.unique())"
   ]
  },
  {
   "cell_type": "code",
   "execution_count": 13,
   "metadata": {
    "collapsed": false
   },
   "outputs": [
    {
     "name": "stdout",
     "output_type": "stream",
     "text": [
      "   event_id               app_id  is_installed  is_active    app\n",
      "0         2  5927333115845830913             1          1  15408\n",
      "                  device_id            timestamp  longitude  latitude\n",
      "event_id                                                             \n",
      "1         29182687948017175  2016-05-01 00:55:25     121.38     31.24\n"
     ]
    }
   ],
   "source": [
    "print(app_event.head(1))\n",
    "print(events.head(1))"
   ]
  },
  {
   "cell_type": "code",
   "execution_count": 14,
   "metadata": {
    "collapsed": false
   },
   "outputs": [
    {
     "name": "stdout",
     "output_type": "stream",
     "text": [
      "             device_id  event_id    app  is_installed\n",
      "0 -6401643145415154744         2  15408             1\n",
      "1 -6401643145415154744         2   3384             1\n",
      "2 -6401643145415154744         2   7620             1\n",
      "3 -6401643145415154744         2   8902             1\n",
      "4 -6401643145415154744         2  18686             1\n"
     ]
    }
   ],
   "source": [
    "installed_app = pd.merge(events[['device_id']],app_event[['event_id','app','is_installed']],\n",
    "                         how='right',right_on = 'event_id',left_index = True)\n",
    "print(installed_app.head())"
   ]
  },
  {
   "cell_type": "code",
   "execution_count": 15,
   "metadata": {
    "collapsed": false
   },
   "outputs": [
    {
     "name": "stdout",
     "output_type": "stream",
     "text": [
      "installed_app_grouped:\n",
      "                           size\n",
      "device_id            app       \n",
      "-9222956879900151005 548     18\n",
      "                     1096    18\n",
      "                     1248    26\n",
      "                     1545    12\n",
      "                     1664    18\n",
      "installed_app_train:\n",
      "                           size  int_index\n",
      "device_id            app                  \n",
      "-9222956879900151005 548     18       5145\n",
      "                     1096    18       5145\n",
      "                     1248    26       5145\n",
      "                     1545    12       5145\n",
      "                     1664    18       5145\n"
     ]
    }
   ],
   "source": [
    "installed_app_grouped = installed_app.groupby(['device_id','app'])['app'].agg(['size'])\n",
    "print('installed_app_grouped:')\n",
    "print(installed_app_grouped.head())\n",
    "installed_app_train_with = pd.merge(installed_app_grouped,gender_age_train_with[['int_index']],\n",
    "                               how = 'right',right_index=True,left_index=True)\n",
    "installed_app_test_with = pd.merge(installed_app_grouped,gender_age_test_with[['int_index']],\n",
    "                              how = 'right',right_index=True,left_index=True)\n",
    "print('installed_app_train:')\n",
    "print(installed_app_train_with.head())"
   ]
  },
  {
   "cell_type": "code",
   "execution_count": 16,
   "metadata": {
    "collapsed": false
   },
   "outputs": [
    {
     "name": "stdout",
     "output_type": "stream",
     "text": [
      "             device_id   app  size  int_index\n",
      "0 -9222956879900151005   548    18       5145\n",
      "1 -9222956879900151005  1096    18       5145\n",
      "2 -9222956879900151005  1248    26       5145\n",
      "3 -9222956879900151005  1545    12       5145\n",
      "4 -9222956879900151005  1664    18       5145\n",
      "             device_id    app  size  int_index\n",
      "0 -9222661944218806987   1867     3       2851\n",
      "1 -9222661944218806987   7519     8       2851\n",
      "2 -9222661944218806987   7843     1       2851\n",
      "3 -9222661944218806987   8704     4       2851\n",
      "4 -9222661944218806987  10000     1       2851\n"
     ]
    }
   ],
   "source": [
    "installed_app_train_with = installed_app_train_with.reset_index()\n",
    "installed_app_test_with = installed_app_test_with.reset_index()\n",
    "installed_app_train_with = installed_app_train_with.dropna(subset=['int_index'])\n",
    "installed_app_test_with = installed_app_test_with.dropna(subset=['int_index'])\n",
    "print(installed_app_train_with.head())\n",
    "print(installed_app_test_with.head())"
   ]
  },
  {
   "cell_type": "markdown",
   "metadata": {},
   "source": [
    "Calculate the number of unique app:"
   ]
  },
  {
   "cell_type": "code",
   "execution_count": 17,
   "metadata": {
    "collapsed": false
   },
   "outputs": [
    {
     "name": "stdout",
     "output_type": "stream",
     "text": [
      "35194\n",
      "915632\n"
     ]
    }
   ],
   "source": [
    "print(gender_age_test_with.shape[0])\n",
    "print(installed_app_train_with.shape[0])"
   ]
  },
  {
   "cell_type": "code",
   "execution_count": 18,
   "metadata": {
    "collapsed": false
   },
   "outputs": [
    {
     "name": "stdout",
     "output_type": "stream",
     "text": [
      "The number of unique apps:\n",
      "19237\n"
     ]
    }
   ],
   "source": [
    "print('The number of unique apps:')\n",
    "print(np.size(installed_app.app.unique()))\n",
    "appnumber = np.size(installed_app.app.unique())"
   ]
  },
  {
   "cell_type": "code",
   "execution_count": 19,
   "metadata": {
    "collapsed": false
   },
   "outputs": [
    {
     "name": "stdout",
     "output_type": "stream",
     "text": [
      "[    0     1     2 ..., 19234 19235 19236]\n",
      "1387337\n"
     ]
    }
   ],
   "source": [
    "print(np.sort(installed_app_train_with.app.unique()))\n",
    "print(installed_app_test_with.shape[0])"
   ]
  },
  {
   "cell_type": "code",
   "execution_count": 20,
   "metadata": {
    "collapsed": false
   },
   "outputs": [
    {
     "name": "stdout",
     "output_type": "stream",
     "text": [
      "X_train_installed shape: (23309, 19237)\n",
      "X_test_installed shape: (35194, 19237)\n"
     ]
    }
   ],
   "source": [
    "X_train_installed_with = csr_matrix((np.ones(installed_app_train_with.shape[0]),\n",
    "                                (installed_app_train_with.int_index,installed_app_train_with.app)), \n",
    "                               shape = (gender_age_train_with.shape[0],appnumber))\n",
    "X_test_installed_with = csr_matrix((np.ones(installed_app_test_with.shape[0]),\n",
    "                               (installed_app_test_with.int_index,installed_app_test_with.app)),\n",
    "                               shape = (gender_age_test_with.shape[0],appnumber))\n",
    "print('X_train_installed shape:',X_train_installed_with.shape)\n",
    "print('X_test_installed shape:',X_test_installed_with.shape)"
   ]
  },
  {
   "cell_type": "code",
   "execution_count": 21,
   "metadata": {
    "collapsed": false
   },
   "outputs": [
    {
     "data": {
      "text/plain": [
       "array([    0,     1,     2, ..., 35191, 35192, 35193])"
      ]
     },
     "execution_count": 21,
     "metadata": {},
     "output_type": "execute_result"
    }
   ],
   "source": [
    "np.sort(installed_app_test_with.int_index.unique())"
   ]
  },
  {
   "cell_type": "markdown",
   "metadata": {},
   "source": [
    "# Feature engineering IV: app label"
   ]
  },
  {
   "cell_type": "code",
   "execution_count": 22,
   "metadata": {
    "collapsed": false
   },
   "outputs": [
    {
     "name": "stdout",
     "output_type": "stream",
     "text": [
      "                app_id  event_id\n",
      "0  5927333115845830913         2\n",
      "                app_id  label_id\n",
      "0  7324884708820027918       251\n"
     ]
    }
   ],
   "source": [
    "print(app_event[['app_id','event_id']].head(1))\n",
    "print(app_label[['app_id','label_id']].head(1))"
   ]
  },
  {
   "cell_type": "code",
   "execution_count": 23,
   "metadata": {
    "collapsed": false
   },
   "outputs": [
    {
     "name": "stdout",
     "output_type": "stream",
     "text": [
      "app_label_new:\n",
      "                app_id  label_id    app  label\n",
      "0  7324884708820027918       251  17355    207\n",
      "1 -4494216993218550286       251   4618    207\n",
      "2  6058196446775239644       406  15548    247\n",
      "3  6058196446775239644       407  15548    248\n",
      "4  8694625920731541625       406  18689    247\n"
     ]
    }
   ],
   "source": [
    "app_label_new = app_label.loc[app_label.app_id.isin(app_event.app_id.unique())].copy()\n",
    "app_label_new['app'] = encoder2.transform(app_label_new.app_id)\n",
    "encoder4 = LabelEncoder().fit(app_label_new.label_id)\n",
    "app_label_new['label'] = encoder4.transform(app_label_new.label_id)\n",
    "labelnumber = len(encoder4.classes_)\n",
    "print('app_label_new:')\n",
    "print(app_label_new.head())"
   ]
  },
  {
   "cell_type": "code",
   "execution_count": 24,
   "metadata": {
    "collapsed": false
   },
   "outputs": [
    {
     "name": "stdout",
     "output_type": "stream",
     "text": [
      "919886\n",
      "129892268\n",
      "installed_app_grouped:\n",
      "                           size\n",
      "device_id            app       \n",
      "-9222956879900151005 548     18\n",
      "                     1096    18\n",
      "                     1248    26\n",
      "                     1545    12\n",
      "                     1664    18\n",
      "installed_label_grouped:\n",
      "             device_id  label  size\n",
      "0 -9222956879900151005    117     1\n",
      "1 -9222956879900151005    120     1\n",
      "2 -9222956879900151005    126     1\n",
      "3 -9222956879900151005    138     2\n",
      "4 -9222956879900151005    147     2\n"
     ]
    }
   ],
   "source": [
    "print(app_label.size)\n",
    "print(installed_app.size)\n",
    "print('installed_app_grouped:')\n",
    "print(installed_app_grouped.head())\n",
    "installed_label_grouped = (installed_app_grouped.reset_index()[['device_id','app']]\n",
    "                          .merge(app_label_new[['app','label']])\n",
    "                          .groupby(['device_id','label']))['app'].agg(['size']).reset_index()\n",
    "                          \n",
    "print('installed_label_grouped:')\n",
    "print(installed_label_grouped.head())"
   ]
  },
  {
   "cell_type": "code",
   "execution_count": 25,
   "metadata": {
    "collapsed": false
   },
   "outputs": [],
   "source": [
    "label_app_train_with = pd.merge(installed_label_grouped,gender_age_train_with[['int_index']],\n",
    "                               how = 'right',right_index=True,left_on='device_id')\n",
    "label_app_test_with = pd.merge(installed_label_grouped,gender_age_test_with[['int_index']],\n",
    "                              how = 'right',right_index=True,left_on ='device_id' )\n",
    "label_app_train_with = label_app_train_with.dropna(subset= ['int_index','label'])\n",
    "label_app_test_with = label_app_test_with.dropna(subset= ['int_index','label'])"
   ]
  },
  {
   "cell_type": "code",
   "execution_count": 26,
   "metadata": {
    "collapsed": false
   },
   "outputs": [
    {
     "name": "stdout",
     "output_type": "stream",
     "text": [
      "X_train_installed_with shape: (23309, 492)\n",
      "X_test_installed_with shape: (35194, 492)\n"
     ]
    }
   ],
   "source": [
    "X_train_label_with = csr_matrix((np.ones(label_app_train_with.shape[0]),\n",
    "                                 (label_app_train_with.int_index,label_app_train_with.label)),\n",
    "                              shape = (gender_age_train_with.shape[0],labelnumber))\n",
    "X_test_label_with = csr_matrix((np.ones(label_app_test_with.shape[0]),(label_app_test_with.int_index,label_app_test_with.label)),\n",
    "                              shape = (gender_age_test_with.shape[0],labelnumber))\n",
    "print('X_train_installed_with shape:',X_train_label_with.shape)\n",
    "print('X_test_installed_with shape:',X_test_label_with.shape)"
   ]
  },
  {
   "cell_type": "markdown",
   "metadata": {},
   "source": [
    "# Feature engineering V: active app"
   ]
  },
  {
   "cell_type": "code",
   "execution_count": 27,
   "metadata": {
    "collapsed": false
   },
   "outputs": [
    {
     "name": "stdout",
     "output_type": "stream",
     "text": [
      "             device_id  event_id    app  is_active\n",
      "0 -6401643145415154744         2  15408          1\n",
      "3 -6401643145415154744         2   8902          1\n",
      "4 -6401643145415154744         2  18686          1\n",
      "5 -6401643145415154744         2  14346          1\n",
      "9 -6401643145415154744         2  16908          1\n"
     ]
    }
   ],
   "source": [
    "active_app = pd.merge(events[['device_id']],app_event[['event_id','app','is_active']],\n",
    "                         how='right',right_on = 'event_id',left_index = True)\n",
    "active_app = active_app.loc[active_app.is_active==1]\n",
    "print(active_app.head())"
   ]
  },
  {
   "cell_type": "code",
   "execution_count": 28,
   "metadata": {
    "collapsed": false
   },
   "outputs": [
    {
     "name": "stdout",
     "output_type": "stream",
     "text": [
      "active_app_grouped:\n",
      "                           size\n",
      "device_id            app       \n",
      "-9222956879900151005 548      4\n",
      "                     1248    15\n",
      "                     1545     2\n",
      "                     1848    31\n",
      "                     2236    17\n"
     ]
    }
   ],
   "source": [
    "active_app_grouped = active_app.groupby(['device_id','app'])['app'].agg(['size'])\n",
    "print('active_app_grouped:')\n",
    "print(active_app_grouped.head())"
   ]
  },
  {
   "cell_type": "code",
   "execution_count": 29,
   "metadata": {
    "collapsed": false
   },
   "outputs": [
    {
     "name": "stdout",
     "output_type": "stream",
     "text": [
      "active_app_train_with:\n",
      "                           size  int_index\n",
      "device_id            app                  \n",
      "-9222956879900151005 548      4     5145.0\n",
      "                     1248    15     5145.0\n",
      "                     1545     2     5145.0\n",
      "                     1848    31     5145.0\n",
      "                     2236    17     5145.0\n"
     ]
    }
   ],
   "source": [
    "active_app_train_with = pd.merge(active_app_grouped,gender_age_train_with[['int_index']],\n",
    "                               how = 'left',right_index=True,left_index=True)\n",
    "active_app_test_with = pd.merge(active_app_grouped,gender_age_test_with[['int_index']],\n",
    "                              how = 'left',right_index=True,left_index=True)\n",
    "print('active_app_train_with:')\n",
    "print(active_app_train_with.head())"
   ]
  },
  {
   "cell_type": "code",
   "execution_count": 30,
   "metadata": {
    "collapsed": false
   },
   "outputs": [
    {
     "name": "stdout",
     "output_type": "stream",
     "text": [
      "             device_id   app  size  int_index\n",
      "0 -9222956879900151005   548     4     5145.0\n",
      "1 -9222956879900151005  1248    15     5145.0\n",
      "2 -9222956879900151005  1545     2     5145.0\n",
      "3 -9222956879900151005  1848    31     5145.0\n",
      "4 -9222956879900151005  2236    17     5145.0\n",
      "              device_id    app  size  int_index\n",
      "55 -9222661944218806987   1867     3     2851.0\n",
      "56 -9222661944218806987   7519     7     2851.0\n",
      "57 -9222661944218806987   7843     1     2851.0\n",
      "58 -9222661944218806987   8704     3     2851.0\n",
      "59 -9222661944218806987  10000     1     2851.0\n"
     ]
    }
   ],
   "source": [
    "active_app_train_with = active_app_train_with.reset_index()\n",
    "active_app_test_with = active_app_test_with.reset_index()\n",
    "active_app_train_with = active_app_train_with.dropna(subset=['int_index'])\n",
    "active_app_test_with = active_app_test_with.dropna(subset=['int_index'])\n",
    "print(active_app_train_with.head())\n",
    "print(active_app_test_with.head())"
   ]
  },
  {
   "cell_type": "code",
   "execution_count": 31,
   "metadata": {
    "collapsed": false
   },
   "outputs": [
    {
     "name": "stdout",
     "output_type": "stream",
     "text": [
      "[    0     5     6 ..., 19225 19228 19236]\n",
      "19237\n"
     ]
    }
   ],
   "source": [
    "print(np.sort(active_app_train_with.app.unique()))\n",
    "print(appnumber)"
   ]
  },
  {
   "cell_type": "code",
   "execution_count": 32,
   "metadata": {
    "collapsed": false
   },
   "outputs": [
    {
     "name": "stdout",
     "output_type": "stream",
     "text": [
      "X_train_active shape: (23309, 19237)\n",
      "X_test_active shape: (35194, 19237)\n"
     ]
    }
   ],
   "source": [
    "# binary active map\n",
    "#X_train_active_with = csr_matrix((np.ones(active_app_train_with.shape[0]),\n",
    "#                            (active_app_train_with.int_index,active_app_train_with.app)), \n",
    "#                            shape = (gender_age_train_with.shape[0],appnumber))\n",
    "#X_test_active = csr_matrix((np.ones(active_app_test_with.shape[0]),\n",
    "#                            (active_app_test.int_index,active_app_test_with.app)),\n",
    "#                            shape = (gender_age_test_with.shape[0],appnumber))\n",
    "# count the number of active app\n",
    "X_train_active_with = csr_matrix((np.log(np.log(active_app_train_with['size']+1)+1),\n",
    "                            (active_app_train_with.int_index,active_app_train_with.app)), \n",
    "                            shape = (gender_age_train_with.shape[0],appnumber))\n",
    "X_test_active_with = csr_matrix((np.log(np.log(active_app_test_with['size']+1)+1),\n",
    "                            (active_app_test_with.int_index,active_app_test_with.app)),\n",
    "                            shape = (gender_age_test_with.shape[0],appnumber))\n",
    "print('X_train_active shape:',X_train_active_with.shape)\n",
    "print('X_test_active shape:',X_test_active_with.shape)"
   ]
  },
  {
   "cell_type": "markdown",
   "metadata": {},
   "source": [
    "# Feature engineering VI: active time period"
   ]
  },
  {
   "cell_type": "code",
   "execution_count": 33,
   "metadata": {
    "collapsed": false
   },
   "outputs": [
    {
     "data": {
      "text/html": [
       "<div>\n",
       "<table border=\"1\" class=\"dataframe\">\n",
       "  <thead>\n",
       "    <tr style=\"text-align: right;\">\n",
       "      <th></th>\n",
       "      <th>device_id</th>\n",
       "      <th>timestamp</th>\n",
       "      <th>longitude</th>\n",
       "      <th>latitude</th>\n",
       "    </tr>\n",
       "    <tr>\n",
       "      <th>event_id</th>\n",
       "      <th></th>\n",
       "      <th></th>\n",
       "      <th></th>\n",
       "      <th></th>\n",
       "    </tr>\n",
       "  </thead>\n",
       "  <tbody>\n",
       "    <tr>\n",
       "      <th>1</th>\n",
       "      <td>29182687948017175</td>\n",
       "      <td>2016-05-01 00:55:25</td>\n",
       "      <td>121.38</td>\n",
       "      <td>31.24</td>\n",
       "    </tr>\n",
       "    <tr>\n",
       "      <th>2</th>\n",
       "      <td>-6401643145415154744</td>\n",
       "      <td>2016-05-01 00:54:12</td>\n",
       "      <td>103.65</td>\n",
       "      <td>30.97</td>\n",
       "    </tr>\n",
       "    <tr>\n",
       "      <th>3</th>\n",
       "      <td>-4833982096941402721</td>\n",
       "      <td>2016-05-01 00:08:05</td>\n",
       "      <td>106.60</td>\n",
       "      <td>29.70</td>\n",
       "    </tr>\n",
       "    <tr>\n",
       "      <th>4</th>\n",
       "      <td>-6815121365017318426</td>\n",
       "      <td>2016-05-01 00:06:40</td>\n",
       "      <td>104.27</td>\n",
       "      <td>23.28</td>\n",
       "    </tr>\n",
       "    <tr>\n",
       "      <th>5</th>\n",
       "      <td>-5373797595892518570</td>\n",
       "      <td>2016-05-01 00:07:18</td>\n",
       "      <td>115.88</td>\n",
       "      <td>28.66</td>\n",
       "    </tr>\n",
       "  </tbody>\n",
       "</table>\n",
       "</div>"
      ],
      "text/plain": [
       "                    device_id            timestamp  longitude  latitude\n",
       "event_id                                                               \n",
       "1           29182687948017175  2016-05-01 00:55:25     121.38     31.24\n",
       "2        -6401643145415154744  2016-05-01 00:54:12     103.65     30.97\n",
       "3        -4833982096941402721  2016-05-01 00:08:05     106.60     29.70\n",
       "4        -6815121365017318426  2016-05-01 00:06:40     104.27     23.28\n",
       "5        -5373797595892518570  2016-05-01 00:07:18     115.88     28.66"
      ]
     },
     "execution_count": 33,
     "metadata": {},
     "output_type": "execute_result"
    }
   ],
   "source": [
    "events.head()"
   ]
  },
  {
   "cell_type": "code",
   "execution_count": 34,
   "metadata": {
    "collapsed": false
   },
   "outputs": [
    {
     "name": "stdout",
     "output_type": "stream",
     "text": [
      "             device_id  time  times\n",
      "0 -9222956879900151005     7      2\n",
      "1 -9222956879900151005    11      7\n",
      "2 -9222956879900151005    12     13\n",
      "3 -9222956879900151005    13      3\n",
      "4 -9222956879900151005    14      5\n"
     ]
    }
   ],
   "source": [
    "events_time = events[['device_id','timestamp']].copy()\n",
    "events_time['time']  = events_time['timestamp'].str[11:13].astype(int)\n",
    "events_time.drop(['timestamp'],axis=1,inplace=True)\n",
    "events_time = events_time.groupby(['device_id','time'])['time'].agg({'times':'count'}).reset_index()\n",
    "print(events_time.head())\n",
    "timenumber= events_time.time.unique().shape[0]"
   ]
  },
  {
   "cell_type": "code",
   "execution_count": 35,
   "metadata": {
    "collapsed": false
   },
   "outputs": [
    {
     "name": "stdout",
     "output_type": "stream",
     "text": [
      "X_train_time_with shape: (23309, 24)\n",
      "X_test_time_with shape: (35194, 24)\n"
     ]
    }
   ],
   "source": [
    "time_train_with = pd.merge(events_time,gender_age_train_with[['int_index']],\n",
    "                               right_index=True,left_on='device_id')\n",
    "time_test_with = pd.merge(events_time,gender_age_test_with[['int_index']],\n",
    "                               right_index=True,left_on ='device_id' )\n",
    "#binary\n",
    "#X_train_time_with = csr_matrix((np.ones(time_train_with.shape[0]),\n",
    "#                            (time_train_with.int_index,time_train_with.time)), \n",
    "#                            shape = (gender_age_train_with.shape[0],timenumber))\n",
    "#X_test_time_with = csr_matrix((np.ones(time_test_with.shape[0]),\n",
    "#                            (time_test_with.int_index,time_test_with.time)),\n",
    "#                            shape = (gender_age_test_with.shape[0],timenumber))\n",
    "\n",
    "#number\n",
    "X_train_time_with = csr_matrix((np.log(np.log(time_train_with['times']+1)+1),\n",
    "                            (time_train_with.int_index,time_train_with.time)), \n",
    "                            shape = (gender_age_train_with.shape[0],timenumber))\n",
    "X_test_time_with = csr_matrix((np.log(np.log(time_test_with['times']+1)+1),\n",
    "                            (time_test_with.int_index,time_test_with.time)),\n",
    "                            shape = (gender_age_test_with.shape[0],timenumber))\n",
    "print('X_train_time_with shape:',X_train_time_with.shape)\n",
    "print('X_test_time_with shape:',X_test_time_with.shape)"
   ]
  },
  {
   "cell_type": "markdown",
   "metadata": {},
   "source": [
    "Normalization of the time period count."
   ]
  },
  {
   "cell_type": "code",
   "execution_count": 36,
   "metadata": {
    "collapsed": false
   },
   "outputs": [
    {
     "data": {
      "text/plain": [
       "'scaler = StandardScaler(with_mean=False)\\nX_train_time_with = scaler.fit_transform(X_train_time_with)\\nX_test_time_with = scaler.transform(X_test_time_with)'"
      ]
     },
     "execution_count": 36,
     "metadata": {},
     "output_type": "execute_result"
    }
   ],
   "source": [
    "'''scaler = StandardScaler(with_mean=False)\n",
    "X_train_time_with = scaler.fit_transform(X_train_time_with)\n",
    "X_test_time_with = scaler.transform(X_test_time_with)'''"
   ]
  },
  {
   "cell_type": "markdown",
   "metadata": {},
   "source": [
    "# feature join and selection"
   ]
  },
  {
   "cell_type": "markdown",
   "metadata": {},
   "source": [
    "## Device without events"
   ]
  },
  {
   "cell_type": "code",
   "execution_count": 37,
   "metadata": {
    "collapsed": false
   },
   "outputs": [
    {
     "name": "stdout",
     "output_type": "stream",
     "text": [
      "Training shape:\n",
      "(51336, 1798)\n",
      "Testing shape:\n",
      "(76877, 1798)\n"
     ]
    }
   ],
   "source": [
    "X_train_total_without = hstack((X_train_brand_without,X_train_model_without),format='csr')\n",
    "X_test_total_without = hstack((X_test_brand_without,X_test_model_without),format='csr')\n",
    "print('Training shape:')\n",
    "print(X_train_total_without.shape)\n",
    "print('Testing shape:')\n",
    "print(X_test_total_without.shape)"
   ]
  },
  {
   "cell_type": "markdown",
   "metadata": {},
   "source": [
    "## Device with events"
   ]
  },
  {
   "cell_type": "code",
   "execution_count": 38,
   "metadata": {
    "collapsed": false
   },
   "outputs": [
    {
     "name": "stdout",
     "output_type": "stream",
     "text": [
      "Training shape:\n",
      "(23309, 21527)\n",
      "Testing shape:\n",
      "(35194, 21527)\n"
     ]
    }
   ],
   "source": [
    "X_train_total_with = hstack((X_train_brand_with,X_train_model_with,\n",
    "                             X_train_installed_with,X_train_label_with),format='csr')\n",
    "X_test_total_with = hstack((X_test_brand_with,X_test_model_with,\n",
    "                           X_test_installed_with,X_test_label_with),format='csr')\n",
    "print('Training shape:')\n",
    "print(X_train_total_with.shape)\n",
    "print('Testing shape:')\n",
    "print(X_test_total_with.shape)"
   ]
  },
  {
   "cell_type": "code",
   "execution_count": 58,
   "metadata": {
    "collapsed": false
   },
   "outputs": [],
   "source": [
    "#percentile selction\n",
    "#selector = SelectPercentile(f_classif, percentile=80)\n",
    "#selector.fit(X_train_total, y_train_total)\n",
    "#X_train_total = selector.transform(X_train_total)\n",
    "#X_test_total = selector.transform(X_test_total)\n",
    "#X_val.shape\n",
    "\n",
    "# Selection using chi-square\n",
    "#selector = SelectKBest(chi2, k=15155).fit(X_train_total, y_train_total)\n",
    "#X_train_total = selector.transform(X_train_total)\n",
    "#X_test_total = selector.transform(X_test_total)\n",
    "#print('Training shape:')\n",
    "#print(X_train_total.shape)\n",
    "#print('Testing shape:')\n",
    "#print(X_test_total.shape)"
   ]
  },
  {
   "cell_type": "markdown",
   "metadata": {},
   "source": [
    "# Clear the memory before we do the learning"
   ]
  },
  {
   "cell_type": "code",
   "execution_count": 40,
   "metadata": {
    "collapsed": true
   },
   "outputs": [
    {
     "ename": "NameError",
     "evalue": "name 'events' is not defined",
     "output_type": "error",
     "traceback": [
      "\u001b[0;31m---------------------------------------------------------------------------\u001b[0m",
      "\u001b[0;31mNameError\u001b[0m                                 Traceback (most recent call last)",
      "\u001b[0;32m<ipython-input-40-dffa819e3f4b>\u001b[0m in \u001b[0;36m<module>\u001b[0;34m()\u001b[0m\n\u001b[0;32m----> 1\u001b[0;31m \u001b[0;32mdel\u001b[0m \u001b[0mevents\u001b[0m\u001b[0;34m,\u001b[0m\u001b[0mlabel\u001b[0m\u001b[0;34m,\u001b[0m\u001b[0mapp_event\u001b[0m\u001b[0;34m,\u001b[0m\u001b[0mapp_label\u001b[0m\u001b[0;34m,\u001b[0m\u001b[0mapp_label_new\u001b[0m\u001b[0;34m,\u001b[0m\u001b[0mdevice\u001b[0m\u001b[0;34m,\u001b[0m\u001b[0;34m\u001b[0m\u001b[0m\n\u001b[0m",
      "\u001b[0;31mNameError\u001b[0m: name 'events' is not defined"
     ]
    }
   ],
   "source": [
    "del events,label,app_event,app_label,app_label_new,device,brand_model"
   ]
  },
  {
   "cell_type": "code",
   "execution_count": 41,
   "metadata": {
    "collapsed": true
   },
   "outputs": [],
   "source": [
    "del gender_age_test,gender_age_train,installed_app,installed_app_grouped,active_app_grouped,active_app"
   ]
  },
  {
   "cell_type": "markdown",
   "metadata": {
    "collapsed": true
   },
   "source": [
    "# Start training model"
   ]
  },
  {
   "cell_type": "markdown",
   "metadata": {},
   "source": [
    "encode the target"
   ]
  },
  {
   "cell_type": "code",
   "execution_count": 133,
   "metadata": {
    "collapsed": true
   },
   "outputs": [],
   "source": [
    "targetencoder = LabelEncoder().fit(gender_age_train_with.group)\n",
    "nclasses = len(targetencoder.classes_)"
   ]
  },
  {
   "cell_type": "markdown",
   "metadata": {},
   "source": [
    "## Subset I: device with events"
   ]
  },
  {
   "cell_type": "markdown",
   "metadata": {},
   "source": [
    "Defining functions:"
   ]
  },
  {
   "cell_type": "code",
   "execution_count": 158,
   "metadata": {
    "collapsed": true
   },
   "outputs": [],
   "source": [
    "def batch_generator(X, y, batch_size, shuffle):\n",
    "    #chenglong code for fiting from generator \n",
    "    #(https://www.kaggle.com/c/talkingdata-mobile-user-demographics/forums/t/22567/neural-network-for-sparse-matrices)\n",
    "    number_of_batches = np.ceil(X.shape[0]/batch_size)\n",
    "    counter = 0\n",
    "    sample_index = np.arange(X.shape[0])\n",
    "    if shuffle:\n",
    "        np.random.shuffle(sample_index)\n",
    "    while True:\n",
    "        batch_index = sample_index[batch_size*counter:batch_size*(counter+1)]\n",
    "        X_batch = X[batch_index,:].toarray()\n",
    "        y_batch = y[batch_index]\n",
    "        counter += 1\n",
    "        yield X_batch, y_batch\n",
    "        if (counter == number_of_batches):\n",
    "            if shuffle:\n",
    "                np.random.shuffle(sample_index)\n",
    "            counter = 0\n",
    "def batch_generatorp(X, batch_size, shuffle):\n",
    "    number_of_batches = X.shape[0] / np.ceil(X.shape[0]/batch_size)\n",
    "    counter = 0\n",
    "    sample_index = np.arange(X.shape[0])\n",
    "    while True:\n",
    "        batch_index = sample_index[batch_size * counter:batch_size * (counter + 1)]\n",
    "        X_batch = X[batch_index, :].toarray()\n",
    "        counter += 1\n",
    "        yield X_batch\n",
    "        if (counter == number_of_batches):\n",
    "            counter = 0\n",
    "\n"
   ]
  },
  {
   "cell_type": "code",
   "execution_count": 159,
   "metadata": {
    "collapsed": false
   },
   "outputs": [
    {
     "name": "stdout",
     "output_type": "stream",
     "text": [
      "*****************************************************\n",
      "Epoch 1/10\n",
      "40s - loss: 2.3095 - acc: 0.1815 - val_loss: 2.2290 - val_acc: 0.2154\n",
      "Epoch 2/10\n",
      "42s - loss: 2.0825 - acc: 0.2685 - val_loss: 2.1312 - val_acc: 0.2561\n",
      "Epoch 3/10\n",
      "38s - loss: 1.9865 - acc: 0.3003 - val_loss: 2.1212 - val_acc: 0.2600\n",
      "Epoch 4/10\n",
      "38s - loss: 1.9342 - acc: 0.3212 - val_loss: 2.1136 - val_acc: 0.2617\n",
      "Epoch 5/10\n",
      "38s - loss: 1.8991 - acc: 0.3313 - val_loss: 2.1005 - val_acc: 0.2660\n",
      "Epoch 6/10\n",
      "38s - loss: 1.8639 - acc: 0.3446 - val_loss: 2.0930 - val_acc: 0.2707\n",
      "Epoch 7/10\n",
      "38s - loss: 1.8431 - acc: 0.3510 - val_loss: 2.0954 - val_acc: 0.2595\n",
      "Epoch 8/10\n",
      "38s - loss: 1.8166 - acc: 0.3627 - val_loss: 2.1010 - val_acc: 0.2587\n",
      "Epoch 9/10\n",
      "38s - loss: 1.7916 - acc: 0.3713 - val_loss: 2.1051 - val_acc: 0.2595\n",
      "Epoch 10/10\n",
      "38s - loss: 1.7742 - acc: 0.3762 - val_loss: 2.1027 - val_acc: 0.2578\n",
      "logloss val 2.1026927308649115\n",
      "*****************************************************\n",
      "Epoch 1/10\n",
      "40s - loss: 2.3146 - acc: 0.1763 - val_loss: 2.1534 - val_acc: 0.2656\n",
      "Epoch 2/10\n",
      "39s - loss: 2.0836 - acc: 0.2665 - val_loss: 2.0196 - val_acc: 0.3029\n",
      "Epoch 3/10\n",
      "38s - loss: 2.0030 - acc: 0.2918 - val_loss: 1.9899 - val_acc: 0.3063\n",
      "Epoch 4/10\n",
      "37s - loss: 1.9514 - acc: 0.3125 - val_loss: 1.9603 - val_acc: 0.3235\n",
      "Epoch 5/10\n",
      "38s - loss: 1.9161 - acc: 0.3235 - val_loss: 1.9458 - val_acc: 0.3256\n",
      "Epoch 6/10\n",
      "37s - loss: 1.8904 - acc: 0.3309 - val_loss: 1.9381 - val_acc: 0.3243\n",
      "Epoch 7/10\n",
      "38s - loss: 1.8597 - acc: 0.3439 - val_loss: 1.9350 - val_acc: 0.3290\n",
      "Epoch 8/10\n",
      "38s - loss: 1.8393 - acc: 0.3493 - val_loss: 1.9339 - val_acc: 0.3381\n",
      "Epoch 9/10\n",
      "38s - loss: 1.8140 - acc: 0.3564 - val_loss: 1.9329 - val_acc: 0.3222\n",
      "Epoch 10/10\n",
      "38s - loss: 1.7919 - acc: 0.3662 - val_loss: 1.9339 - val_acc: 0.3248\n",
      "logloss val 1.933891037923446\n",
      "*****************************************************\n",
      "Epoch 1/10\n",
      "42s - loss: 2.3216 - acc: 0.1752 - val_loss: 2.2051 - val_acc: 0.2295\n",
      "Epoch 2/10\n",
      "38s - loss: 2.0912 - acc: 0.2644 - val_loss: 2.0837 - val_acc: 0.2711\n",
      "Epoch 3/10\n",
      "38s - loss: 2.0013 - acc: 0.2939 - val_loss: 2.0484 - val_acc: 0.2857\n",
      "Epoch 4/10\n",
      "38s - loss: 1.9506 - acc: 0.3100 - val_loss: 2.0344 - val_acc: 0.2934\n",
      "Epoch 5/10\n",
      "38s - loss: 1.9158 - acc: 0.3257 - val_loss: 2.0299 - val_acc: 0.3012\n",
      "Epoch 6/10\n",
      "38s - loss: 1.8863 - acc: 0.3363 - val_loss: 2.0135 - val_acc: 0.3029\n",
      "Epoch 7/10\n",
      "38s - loss: 1.8560 - acc: 0.3448 - val_loss: 2.0112 - val_acc: 0.3089\n",
      "Epoch 8/10\n",
      "37s - loss: 1.8336 - acc: 0.3542 - val_loss: 2.0107 - val_acc: 0.3046\n",
      "Epoch 9/10\n",
      "37s - loss: 1.8117 - acc: 0.3582 - val_loss: 2.0119 - val_acc: 0.3089\n",
      "Epoch 10/10\n",
      "38s - loss: 1.7906 - acc: 0.3686 - val_loss: 2.0220 - val_acc: 0.3054\n",
      "logloss val 2.021998443243372\n",
      "*****************************************************\n",
      "Epoch 1/10\n",
      "47s - loss: 2.3274 - acc: 0.1762 - val_loss: 2.1725 - val_acc: 0.2325\n",
      "Epoch 2/10\n",
      "43s - loss: 2.0986 - acc: 0.2625 - val_loss: 2.0604 - val_acc: 0.2776\n",
      "Epoch 3/10\n",
      "42s - loss: 2.0066 - acc: 0.2948 - val_loss: 2.0252 - val_acc: 0.2840\n",
      "Epoch 4/10\n",
      "42s - loss: 1.9472 - acc: 0.3129 - val_loss: 2.0069 - val_acc: 0.2943\n",
      "Epoch 5/10\n",
      "42s - loss: 1.9110 - acc: 0.3280 - val_loss: 1.9991 - val_acc: 0.3016\n",
      "Epoch 6/10\n",
      "42s - loss: 1.8814 - acc: 0.3380 - val_loss: 1.9988 - val_acc: 0.3012\n",
      "Epoch 7/10\n",
      "43s - loss: 1.8578 - acc: 0.3461 - val_loss: 1.9993 - val_acc: 0.2964\n",
      "Epoch 8/10\n",
      "43s - loss: 1.8326 - acc: 0.3543 - val_loss: 1.9992 - val_acc: 0.3080\n",
      "Epoch 9/10\n",
      "42s - loss: 1.8073 - acc: 0.3618 - val_loss: 2.0018 - val_acc: 0.3059\n",
      "Epoch 10/10\n",
      "42s - loss: 1.7914 - acc: 0.3669 - val_loss: 2.0097 - val_acc: 0.3033\n",
      "logloss val 2.0097229172294377\n",
      "*****************************************************\n",
      "Epoch 1/10\n",
      "47s - loss: 2.3262 - acc: 0.1786 - val_loss: 2.1823 - val_acc: 0.2355\n",
      "Epoch 2/10\n",
      "42s - loss: 2.1031 - acc: 0.2626 - val_loss: 2.0394 - val_acc: 0.2754\n",
      "Epoch 3/10\n",
      "42s - loss: 2.0082 - acc: 0.2936 - val_loss: 1.9960 - val_acc: 0.2870\n",
      "Epoch 4/10\n",
      "43s - loss: 1.9548 - acc: 0.3134 - val_loss: 1.9866 - val_acc: 0.2947\n",
      "Epoch 5/10\n",
      "43s - loss: 1.9167 - acc: 0.3242 - val_loss: 1.9628 - val_acc: 0.2994\n",
      "Epoch 6/10\n",
      "42s - loss: 1.8857 - acc: 0.3362 - val_loss: 1.9547 - val_acc: 0.3037\n",
      "Epoch 7/10\n",
      "42s - loss: 1.8549 - acc: 0.3481 - val_loss: 1.9517 - val_acc: 0.3042\n",
      "Epoch 8/10\n",
      "42s - loss: 1.8321 - acc: 0.3582 - val_loss: 1.9567 - val_acc: 0.3072\n",
      "Epoch 9/10\n",
      "42s - loss: 1.8095 - acc: 0.3618 - val_loss: 1.9500 - val_acc: 0.3033\n",
      "Epoch 10/10\n",
      "42s - loss: 1.7861 - acc: 0.3724 - val_loss: 1.9570 - val_acc: 0.3080\n",
      "logloss val 1.9569923045021285\n",
      "*****************************************************\n",
      "Epoch 1/10\n",
      "46s - loss: 2.3218 - acc: 0.1837 - val_loss: 2.1542 - val_acc: 0.2420\n",
      "Epoch 2/10\n",
      "42s - loss: 2.1001 - acc: 0.2625 - val_loss: 2.0026 - val_acc: 0.2849\n",
      "Epoch 3/10\n",
      "42s - loss: 2.0087 - acc: 0.2946 - val_loss: 1.9490 - val_acc: 0.2994\n",
      "Epoch 4/10\n",
      "42s - loss: 1.9567 - acc: 0.3118 - val_loss: 1.9291 - val_acc: 0.3097\n",
      "Epoch 5/10\n",
      "42s - loss: 1.9215 - acc: 0.3262 - val_loss: 1.9172 - val_acc: 0.3127\n",
      "Epoch 6/10\n",
      "42s - loss: 1.8908 - acc: 0.3347 - val_loss: 1.9053 - val_acc: 0.3132\n",
      "Epoch 7/10\n",
      "43s - loss: 1.8622 - acc: 0.3443 - val_loss: 1.9073 - val_acc: 0.3218\n",
      "Epoch 8/10\n",
      "41s - loss: 1.8388 - acc: 0.3531 - val_loss: 1.9030 - val_acc: 0.3110\n",
      "Epoch 9/10\n",
      "42s - loss: 1.8152 - acc: 0.3597 - val_loss: 1.9037 - val_acc: 0.3132\n",
      "Epoch 10/10\n",
      "41s - loss: 1.7946 - acc: 0.3687 - val_loss: 1.9073 - val_acc: 0.3132\n",
      "logloss val 1.9072894531465476\n",
      "*****************************************************\n",
      "Epoch 1/10\n",
      "46s - loss: 2.3097 - acc: 0.1829 - val_loss: 2.0978 - val_acc: 0.2939\n",
      "Epoch 2/10\n",
      "42s - loss: 2.0999 - acc: 0.2602 - val_loss: 1.9369 - val_acc: 0.3346\n",
      "Epoch 3/10\n",
      "43s - loss: 2.0099 - acc: 0.2912 - val_loss: 1.8827 - val_acc: 0.3441\n",
      "Epoch 4/10\n",
      "42s - loss: 1.9613 - acc: 0.3082 - val_loss: 1.8636 - val_acc: 0.3535\n",
      "Epoch 5/10\n",
      "42s - loss: 1.9279 - acc: 0.3217 - val_loss: 1.8426 - val_acc: 0.3552\n",
      "Epoch 6/10\n",
      "42s - loss: 1.8970 - acc: 0.3302 - val_loss: 1.8287 - val_acc: 0.3604\n",
      "Epoch 7/10\n",
      "42s - loss: 1.8739 - acc: 0.3378 - val_loss: 1.8273 - val_acc: 0.3586\n",
      "Epoch 8/10\n",
      "42s - loss: 1.8424 - acc: 0.3494 - val_loss: 1.8233 - val_acc: 0.3655\n",
      "Epoch 9/10\n",
      "42s - loss: 1.8202 - acc: 0.3574 - val_loss: 1.8220 - val_acc: 0.3586\n",
      "Epoch 10/10\n",
      "42s - loss: 1.8001 - acc: 0.3624 - val_loss: 1.8276 - val_acc: 0.3616\n",
      "logloss val 1.8275546475391062\n",
      "*****************************************************\n",
      "Epoch 1/10\n",
      "46s - loss: 2.3212 - acc: 0.1783 - val_loss: 2.1232 - val_acc: 0.2565\n",
      "Epoch 2/10\n",
      "43s - loss: 2.1049 - acc: 0.2576 - val_loss: 1.9657 - val_acc: 0.3123\n",
      "Epoch 3/10\n",
      "42s - loss: 2.0154 - acc: 0.2921 - val_loss: 1.9194 - val_acc: 0.3256\n",
      "Epoch 4/10\n",
      "42s - loss: 1.9619 - acc: 0.3094 - val_loss: 1.8961 - val_acc: 0.3363\n",
      "Epoch 5/10\n",
      "42s - loss: 1.9251 - acc: 0.3236 - val_loss: 1.8767 - val_acc: 0.3385\n",
      "Epoch 6/10\n",
      "43s - loss: 1.8963 - acc: 0.3328 - val_loss: 1.8793 - val_acc: 0.3355\n",
      "Epoch 7/10\n",
      "42s - loss: 1.8673 - acc: 0.3421 - val_loss: 1.8652 - val_acc: 0.3419\n",
      "Epoch 8/10\n",
      "42s - loss: 1.8454 - acc: 0.3497 - val_loss: 1.8661 - val_acc: 0.3402\n",
      "Epoch 9/10\n",
      "43s - loss: 1.8212 - acc: 0.3603 - val_loss: 1.8650 - val_acc: 0.3445\n",
      "Epoch 10/10\n",
      "42s - loss: 1.8011 - acc: 0.3672 - val_loss: 1.8697 - val_acc: 0.3411\n",
      "logloss val 1.869653060448966\n",
      "*****************************************************\n",
      "Epoch 1/10\n",
      "46s - loss: 2.3326 - acc: 0.1734 - val_loss: 2.1140 - val_acc: 0.2613\n",
      "Epoch 2/10\n",
      "43s - loss: 2.1135 - acc: 0.2547 - val_loss: 1.9550 - val_acc: 0.3162\n",
      "Epoch 3/10\n",
      "42s - loss: 2.0162 - acc: 0.2899 - val_loss: 1.9127 - val_acc: 0.3187\n",
      "Epoch 4/10\n",
      "42s - loss: 1.9682 - acc: 0.3059 - val_loss: 1.8925 - val_acc: 0.3316\n",
      "Epoch 5/10\n",
      "42s - loss: 1.9307 - acc: 0.3197 - val_loss: 1.8737 - val_acc: 0.3338\n",
      "Epoch 6/10\n",
      "42s - loss: 1.9005 - acc: 0.3299 - val_loss: 1.8701 - val_acc: 0.3290\n",
      "Epoch 7/10\n",
      "42s - loss: 1.8704 - acc: 0.3415 - val_loss: 1.8596 - val_acc: 0.3350\n",
      "Epoch 8/10\n",
      "42s - loss: 1.8470 - acc: 0.3467 - val_loss: 1.8628 - val_acc: 0.3320\n",
      "Epoch 9/10\n",
      "42s - loss: 1.8244 - acc: 0.3575 - val_loss: 1.8604 - val_acc: 0.3376\n",
      "Epoch 10/10\n",
      "42s - loss: 1.8014 - acc: 0.3665 - val_loss: 1.8672 - val_acc: 0.3363\n",
      "logloss val 1.8672443848990476\n",
      "*****************************************************\n",
      "Epoch 1/10\n",
      "47s - loss: 2.3422 - acc: 0.1701 - val_loss: 2.1313 - val_acc: 0.2524\n",
      "Epoch 2/10\n",
      "42s - loss: 2.1125 - acc: 0.2620 - val_loss: 1.9738 - val_acc: 0.3017\n",
      "Epoch 3/10\n",
      "43s - loss: 2.0130 - acc: 0.2951 - val_loss: 1.9301 - val_acc: 0.3073\n",
      "Epoch 4/10\n",
      "43s - loss: 1.9604 - acc: 0.3094 - val_loss: 1.9089 - val_acc: 0.3142\n",
      "Epoch 5/10\n",
      "42s - loss: 1.9242 - acc: 0.3249 - val_loss: 1.8990 - val_acc: 0.3150\n",
      "Epoch 6/10\n",
      "42s - loss: 1.8948 - acc: 0.3349 - val_loss: 1.8932 - val_acc: 0.3223\n",
      "Epoch 7/10\n",
      "42s - loss: 1.8656 - acc: 0.3462 - val_loss: 1.8954 - val_acc: 0.3223\n",
      "Epoch 8/10\n",
      "42s - loss: 1.8379 - acc: 0.3531 - val_loss: 1.8889 - val_acc: 0.3232\n",
      "Epoch 9/10\n",
      "42s - loss: 1.8202 - acc: 0.3603 - val_loss: 1.9076 - val_acc: 0.3236\n",
      "Epoch 10/10\n",
      "42s - loss: 1.7938 - acc: 0.3700 - val_loss: 1.9132 - val_acc: 0.3232\n",
      "logloss val 1.9131678838269701\n",
      "average logloss val 1.9410206863623933\n"
     ]
    },
    {
     "name": "stderr",
     "output_type": "stream",
     "text": [
      "/Users/Yuyang/anaconda/lib/python3.5/site-packages/keras/engine/training.py:1403: UserWarning: Epoch comprised more than `samples_per_epoch` samples, which might affect learning results. Set `samples_per_epoch` correctly to avoid this warning.\n",
      "  warnings.warn('Epoch comprised more than '\n"
     ]
    }
   ],
   "source": [
    "def with_model(X_dim_input):\n",
    "    # create model\n",
    "    model = Sequential()\n",
    "    #model.add(Dense(10, input_dim=X_train_total.shape[1], init='normal', activation='relu'))\n",
    "    #model.add(Dropout(0.2))\n",
    "    model.add(Dense(150, input_dim=X_dim_input, init='normal', activation='tanh'))\n",
    "    model.add(Dropout(0.5))\n",
    "    model.add(Dense(100, input_dim=X_dim_input, init='normal', activation='relu'))\n",
    "    model.add(Dropout(0.4))\n",
    "    model.add(Dense(12, init='normal', activation='softmax'))\n",
    "    # Compile model\n",
    "    model.compile(loss='categorical_crossentropy', optimizer='adadelta', metrics=['accuracy'])  #logloss\n",
    "    return model\n",
    "\n",
    "y_train_total_with = targetencoder.transform(gender_age_train_with.group)\n",
    "dummy_y_with = np_utils.to_categorical(y_train_total_with)\n",
    "kf = KFold(len(y_with),n_folds = 10,random_state = 1)\n",
    "score_list_with=[]\n",
    "val_loss_list_with = []\n",
    "for train, test in kf:\n",
    "    X_train_with = X_train_total_with[train]\n",
    "    y_train_with = dummy_y_with[train]\n",
    "    X_val_with = X_train_total_with[test]\n",
    "    y_val_with = dummy_y_with[test]\n",
    "    #print(X_val.shape)\n",
    "    print('*****************************************************')\n",
    "    model=with_model(X_train_total_with.shape[1])\n",
    "    fit= model.fit_generator(generator=batch_generator(X_train_with, y_train_with, 400, True),\n",
    "                         nb_epoch=10,\n",
    "                         samples_per_epoch=50000,\n",
    "                         validation_data=(X_val_with.todense(), y_val_with), verbose=2\n",
    "                         )\n",
    "    scores_val_with = model.predict_generator(generator=batch_generatorp(X_val_with, 400, False), \n",
    "                                         val_samples=X_val_with.shape[0])\n",
    "    scores_with = model.predict_generator(generator=batch_generatorp(X_test_total_with, 400, False), \n",
    "                                     val_samples=X_test_total_with.shape[0])\n",
    "    score_list_with.append(scores_with)\n",
    "    val_loss = log_loss(y_val_with, scores_val_with)\n",
    "    val_loss_list_with.append(val_loss)\n",
    "    print('logloss val {}'.format(val_loss))\n",
    "\n",
    "for index,i in enumerate(val_loss_list_with):\n",
    "    if(index==0):\n",
    "        sumi = i\n",
    "    else:\n",
    "        sumi = i+sumi\n",
    "val_loss_ave_with = sumi/len(val_loss_list_with)\n",
    "print('average logloss val {}'.format(val_loss_ave_with))\n",
    "for index,i in enumerate(score_list_with):\n",
    "    if(index==0):\n",
    "        sumi = i\n",
    "    else:\n",
    "        sumi = i+sumi\n",
    "score_ave_with = sumi/len(score_list_with)\n",
    "pred_with = pd.DataFrame(score_ave_with, index = gender_age_test_with.index, columns=targetencoder.classes_)"
   ]
  },
  {
   "cell_type": "markdown",
   "metadata": {},
   "source": [
    "## Subset II: device without events (Naive Bayes, Logistic Regression)"
   ]
  },
  {
   "cell_type": "code",
   "execution_count": 119,
   "metadata": {
    "collapsed": false
   },
   "outputs": [],
   "source": [
    "y_train_total_without = targetencoder.transform(gender_age_train_without.group)\n",
    "(X_train,X_val,y_train,y_val) = cv.train_test_split(X_train_total_without,y_train_total_without,test_size=0.2)"
   ]
  },
  {
   "cell_type": "markdown",
   "metadata": {},
   "source": [
    "Grid search of parameters."
   ]
  },
  {
   "cell_type": "code",
   "execution_count": 99,
   "metadata": {
    "collapsed": false
   },
   "outputs": [
    {
     "name": "stdout",
     "output_type": "stream",
     "text": [
      "811.13083079\n",
      "2.42421993644\n"
     ]
    },
    {
     "name": "stderr",
     "output_type": "stream",
     "text": [
      "/Users/Yuyang/anaconda/lib/python3.5/site-packages/sklearn/grid_search.py:418: ChangedBehaviorWarning: The long-standing behavior to use the estimator's score function in GridSearchCV.score has changed. The scoring parameter is now used.\n",
      "  ChangedBehaviorWarning)\n"
     ]
    }
   ],
   "source": [
    "#NB grid search\n",
    "nbc = MultinomialNB()\n",
    "alpha_value = np.logspace(-3,10,100)\n",
    "clf = GridSearchCV(estimator=nbc,param_grid = dict(alpha=alpha_value),scoring='log_loss')\n",
    "clf.fit(X_train,y_train)\n",
    "print(clf.best_estimator_.alpha)\n",
    "print(-clf.score(X_val,y_val))"
   ]
  },
  {
   "cell_type": "code",
   "execution_count": 116,
   "metadata": {
    "collapsed": false
   },
   "outputs": [
    {
     "name": "stdout",
     "output_type": "stream",
     "text": [
      "0.0774263682681\n",
      "lbfgs\n",
      "2.39632157695\n"
     ]
    },
    {
     "name": "stderr",
     "output_type": "stream",
     "text": [
      "/Users/Yuyang/anaconda/lib/python3.5/site-packages/sklearn/grid_search.py:418: ChangedBehaviorWarning: The long-standing behavior to use the estimator's score function in GridSearchCV.score has changed. The scoring parameter is now used.\n",
      "  ChangedBehaviorWarning)\n"
     ]
    }
   ],
   "source": [
    "#lr grid search\n",
    "lr = LogisticRegression(multi_class='multinomial')\n",
    "solver_value = ['newton-cg','lbfgs']\n",
    "C_value = np.logspace(-2,0,10)\n",
    "clf = GridSearchCV(estimator=lr,param_grid = dict(C=C_value,solver=solver_value),scoring='log_loss')\n",
    "clf.fit(X_train,y_train)\n",
    "print(clf.best_estimator_.C)\n",
    "print(clf.best_estimator_.solver)\n",
    "print(-clf.score(X_val,y_val))"
   ]
  },
  {
   "cell_type": "markdown",
   "metadata": {},
   "source": [
    "Actual training"
   ]
  },
  {
   "cell_type": "code",
   "execution_count": 131,
   "metadata": {
    "collapsed": true
   },
   "outputs": [],
   "source": [
    "del X_train,X_val,y_train,y_val\n",
    "#lr = LogisticRegression(C=0.02,multi_class='multinomial',solver='newton-cg')\n",
    "lr = LogisticRegression(C=0.0774263682681,multi_class='multinomial',solver='lbfgs')\n",
    "lr.fit(X_train_total_without,y_train_total_without)\n",
    "pred_without = pd.DataFrame(lr.predict_proba(X_test_total_without), \n",
    "                            index = gender_age_test_without.index, \n",
    "                            columns=targetencoder.classes_)"
   ]
  },
  {
   "cell_type": "markdown",
   "metadata": {},
   "source": [
    "## device without events (Deep learning) "
   ]
  },
  {
   "cell_type": "code",
   "execution_count": 160,
   "metadata": {
    "collapsed": false
   },
   "outputs": [
    {
     "name": "stdout",
     "output_type": "stream",
     "text": [
      "*****************************************************\n",
      "Epoch 1/20\n",
      "10s - loss: 2.4425 - acc: 0.1321 - val_loss: 2.4778 - val_acc: 0.1124\n",
      "Epoch 2/20\n",
      "7s - loss: 2.4156 - acc: 0.1443 - val_loss: 2.4707 - val_acc: 0.1128\n",
      "Epoch 3/20\n",
      "7s - loss: 2.4089 - acc: 0.1450 - val_loss: 2.4622 - val_acc: 0.1130\n",
      "Epoch 4/20\n",
      "7s - loss: 2.4029 - acc: 0.1477 - val_loss: 2.4664 - val_acc: 0.1114\n",
      "Epoch 5/20\n",
      "7s - loss: 2.3988 - acc: 0.1486 - val_loss: 2.4662 - val_acc: 0.1163\n",
      "Epoch 6/20\n",
      "7s - loss: 2.3975 - acc: 0.1495 - val_loss: 2.4658 - val_acc: 0.1169\n",
      "Epoch 7/20\n",
      "7s - loss: 2.3946 - acc: 0.1530 - val_loss: 2.4629 - val_acc: 0.1186\n",
      "Epoch 8/20\n",
      "7s - loss: 2.3936 - acc: 0.1518 - val_loss: 2.4651 - val_acc: 0.1212\n",
      "Epoch 9/20\n",
      "7s - loss: 2.3912 - acc: 0.1528 - val_loss: 2.4634 - val_acc: 0.1241\n",
      "Epoch 10/20\n",
      "7s - loss: 2.3897 - acc: 0.1550 - val_loss: 2.4679 - val_acc: 0.1254\n",
      "Epoch 11/20\n",
      "7s - loss: 2.3878 - acc: 0.1565 - val_loss: 2.4650 - val_acc: 0.1243\n",
      "Epoch 12/20\n",
      "7s - loss: 2.3864 - acc: 0.1588 - val_loss: 2.4649 - val_acc: 0.1239\n",
      "Epoch 13/20\n",
      "7s - loss: 2.3838 - acc: 0.1583 - val_loss: 2.4687 - val_acc: 0.1235\n",
      "Epoch 14/20\n",
      "7s - loss: 2.3820 - acc: 0.1590 - val_loss: 2.4687 - val_acc: 0.1266\n",
      "Epoch 15/20\n",
      "7s - loss: 2.3802 - acc: 0.1612 - val_loss: 2.4657 - val_acc: 0.1284\n",
      "Epoch 16/20\n",
      "7s - loss: 2.3784 - acc: 0.1628 - val_loss: 2.4688 - val_acc: 0.1289\n",
      "Epoch 17/20\n",
      "7s - loss: 2.3759 - acc: 0.1638 - val_loss: 2.4705 - val_acc: 0.1297\n",
      "Epoch 18/20\n",
      "7s - loss: 2.3759 - acc: 0.1639 - val_loss: 2.4667 - val_acc: 0.1303\n",
      "Epoch 19/20\n",
      "7s - loss: 2.3724 - acc: 0.1672 - val_loss: 2.4671 - val_acc: 0.1307\n",
      "Epoch 20/20\n",
      "7s - loss: 2.3718 - acc: 0.1666 - val_loss: 2.4711 - val_acc: 0.1289\n",
      "logloss val 2.4711431357985463\n",
      "*****************************************************\n",
      "Epoch 1/20\n",
      "10s - loss: 2.4484 - acc: 0.1318 - val_loss: 2.4150 - val_acc: 0.1233\n",
      "Epoch 2/20\n",
      "7s - loss: 2.4215 - acc: 0.1397 - val_loss: 2.4051 - val_acc: 0.1404\n",
      "Epoch 3/20\n",
      "7s - loss: 2.4128 - acc: 0.1428 - val_loss: 2.4009 - val_acc: 0.1445\n",
      "Epoch 4/20\n",
      "7s - loss: 2.4092 - acc: 0.1427 - val_loss: 2.3977 - val_acc: 0.1457\n",
      "Epoch 5/20\n",
      "7s - loss: 2.4071 - acc: 0.1436 - val_loss: 2.3957 - val_acc: 0.1523\n",
      "Epoch 6/20\n",
      "7s - loss: 2.4024 - acc: 0.1486 - val_loss: 2.3947 - val_acc: 0.1504\n",
      "Epoch 7/20\n",
      "7s - loss: 2.4028 - acc: 0.1470 - val_loss: 2.3940 - val_acc: 0.1484\n",
      "Epoch 8/20\n",
      "7s - loss: 2.4002 - acc: 0.1513 - val_loss: 2.3936 - val_acc: 0.1480\n",
      "Epoch 9/20\n",
      "7s - loss: 2.3984 - acc: 0.1519 - val_loss: 2.3920 - val_acc: 0.1502\n",
      "Epoch 10/20\n",
      "7s - loss: 2.3971 - acc: 0.1540 - val_loss: 2.3927 - val_acc: 0.1467\n",
      "Epoch 11/20\n",
      "7s - loss: 2.3932 - acc: 0.1546 - val_loss: 2.3922 - val_acc: 0.1457\n",
      "Epoch 12/20\n",
      "7s - loss: 2.3914 - acc: 0.1566 - val_loss: 2.3909 - val_acc: 0.1463\n",
      "Epoch 13/20\n",
      "7s - loss: 2.3920 - acc: 0.1585 - val_loss: 2.3912 - val_acc: 0.1484\n",
      "Epoch 14/20\n",
      "7s - loss: 2.3877 - acc: 0.1571 - val_loss: 2.3917 - val_acc: 0.1488\n",
      "Epoch 15/20\n",
      "7s - loss: 2.3866 - acc: 0.1601 - val_loss: 2.3908 - val_acc: 0.1510\n",
      "Epoch 16/20\n",
      "7s - loss: 2.3850 - acc: 0.1613 - val_loss: 2.3908 - val_acc: 0.1515\n",
      "Epoch 17/20\n",
      "7s - loss: 2.3836 - acc: 0.1622 - val_loss: 2.3910 - val_acc: 0.1508\n",
      "Epoch 18/20\n",
      "7s - loss: 2.3811 - acc: 0.1629 - val_loss: 2.3917 - val_acc: 0.1494\n",
      "Epoch 19/20\n",
      "7s - loss: 2.3796 - acc: 0.1631 - val_loss: 2.3922 - val_acc: 0.1504\n",
      "Epoch 20/20\n",
      "7s - loss: 2.3793 - acc: 0.1648 - val_loss: 2.3926 - val_acc: 0.1510\n",
      "logloss val 2.392561206759416\n",
      "*****************************************************\n",
      "Epoch 1/20\n",
      "10s - loss: 2.4457 - acc: 0.1271 - val_loss: 2.4361 - val_acc: 0.1239\n",
      "Epoch 2/20\n",
      "7s - loss: 2.4187 - acc: 0.1404 - val_loss: 2.4265 - val_acc: 0.1270\n",
      "Epoch 3/20\n",
      "7s - loss: 2.4116 - acc: 0.1430 - val_loss: 2.4221 - val_acc: 0.1262\n",
      "Epoch 4/20\n",
      "7s - loss: 2.4069 - acc: 0.1442 - val_loss: 2.4198 - val_acc: 0.1332\n",
      "Epoch 5/20\n",
      "7s - loss: 2.4035 - acc: 0.1474 - val_loss: 2.4185 - val_acc: 0.1352\n",
      "Epoch 6/20\n",
      "7s - loss: 2.4034 - acc: 0.1479 - val_loss: 2.4176 - val_acc: 0.1365\n",
      "Epoch 7/20\n",
      "7s - loss: 2.3995 - acc: 0.1493 - val_loss: 2.4172 - val_acc: 0.1369\n",
      "Epoch 8/20\n",
      "7s - loss: 2.3991 - acc: 0.1505 - val_loss: 2.4163 - val_acc: 0.1367\n",
      "Epoch 9/20\n",
      "7s - loss: 2.3958 - acc: 0.1537 - val_loss: 2.4156 - val_acc: 0.1391\n",
      "Epoch 10/20\n",
      "7s - loss: 2.3938 - acc: 0.1537 - val_loss: 2.4162 - val_acc: 0.1369\n",
      "Epoch 11/20\n",
      "7s - loss: 2.3930 - acc: 0.1540 - val_loss: 2.4154 - val_acc: 0.1387\n",
      "Epoch 12/20\n",
      "7s - loss: 2.3905 - acc: 0.1563 - val_loss: 2.4161 - val_acc: 0.1426\n",
      "Epoch 13/20\n",
      "7s - loss: 2.3883 - acc: 0.1570 - val_loss: 2.4161 - val_acc: 0.1418\n",
      "Epoch 14/20\n",
      "7s - loss: 2.3861 - acc: 0.1584 - val_loss: 2.4158 - val_acc: 0.1406\n",
      "Epoch 15/20\n",
      "7s - loss: 2.3847 - acc: 0.1583 - val_loss: 2.4167 - val_acc: 0.1441\n",
      "Epoch 16/20\n",
      "7s - loss: 2.3818 - acc: 0.1621 - val_loss: 2.4166 - val_acc: 0.1453\n",
      "Epoch 17/20\n",
      "7s - loss: 2.3804 - acc: 0.1627 - val_loss: 2.4168 - val_acc: 0.1457\n",
      "Epoch 18/20\n",
      "7s - loss: 2.3801 - acc: 0.1624 - val_loss: 2.4172 - val_acc: 0.1467\n",
      "Epoch 19/20\n",
      "7s - loss: 2.3774 - acc: 0.1621 - val_loss: 2.4177 - val_acc: 0.1473\n",
      "Epoch 20/20\n",
      "7s - loss: 2.3759 - acc: 0.1644 - val_loss: 2.4176 - val_acc: 0.1484\n",
      "logloss val 2.4175883485781404\n",
      "*****************************************************\n",
      "Epoch 1/20\n",
      "11s - loss: 2.4466 - acc: 0.1273 - val_loss: 2.4309 - val_acc: 0.1432\n",
      "Epoch 2/20\n",
      "7s - loss: 2.4187 - acc: 0.1408 - val_loss: 2.4226 - val_acc: 0.1469\n",
      "Epoch 3/20\n",
      "7s - loss: 2.4133 - acc: 0.1412 - val_loss: 2.4175 - val_acc: 0.1443\n",
      "Epoch 4/20\n",
      "7s - loss: 2.4086 - acc: 0.1435 - val_loss: 2.4146 - val_acc: 0.1488\n",
      "Epoch 5/20\n",
      "7s - loss: 2.4049 - acc: 0.1469 - val_loss: 2.4126 - val_acc: 0.1504\n",
      "Epoch 6/20\n",
      "8s - loss: 2.4037 - acc: 0.1469 - val_loss: 2.4103 - val_acc: 0.1506\n",
      "Epoch 7/20\n",
      "7s - loss: 2.3999 - acc: 0.1493 - val_loss: 2.4090 - val_acc: 0.1496\n",
      "Epoch 8/20\n",
      "7s - loss: 2.3991 - acc: 0.1499 - val_loss: 2.4079 - val_acc: 0.1510\n",
      "Epoch 9/20\n",
      "7s - loss: 2.3958 - acc: 0.1518 - val_loss: 2.4067 - val_acc: 0.1531\n",
      "Epoch 10/20\n",
      "7s - loss: 2.3946 - acc: 0.1510 - val_loss: 2.4061 - val_acc: 0.1510\n",
      "Epoch 11/20\n",
      "7s - loss: 2.3928 - acc: 0.1524 - val_loss: 2.4050 - val_acc: 0.1500\n",
      "Epoch 12/20\n",
      "7s - loss: 2.3914 - acc: 0.1549 - val_loss: 2.4046 - val_acc: 0.1474\n",
      "Epoch 13/20\n",
      "7s - loss: 2.3881 - acc: 0.1560 - val_loss: 2.4047 - val_acc: 0.1502\n",
      "Epoch 14/20\n",
      "7s - loss: 2.3870 - acc: 0.1577 - val_loss: 2.4046 - val_acc: 0.1500\n",
      "Epoch 15/20\n",
      "7s - loss: 2.3857 - acc: 0.1587 - val_loss: 2.4040 - val_acc: 0.1533\n",
      "Epoch 16/20\n",
      "7s - loss: 2.3831 - acc: 0.1604 - val_loss: 2.4037 - val_acc: 0.1547\n",
      "Epoch 17/20\n",
      "7s - loss: 2.3810 - acc: 0.1621 - val_loss: 2.4030 - val_acc: 0.1537\n",
      "Epoch 18/20\n",
      "7s - loss: 2.3803 - acc: 0.1628 - val_loss: 2.4039 - val_acc: 0.1500\n",
      "Epoch 19/20\n",
      "7s - loss: 2.3785 - acc: 0.1637 - val_loss: 2.4036 - val_acc: 0.1533\n",
      "Epoch 20/20\n",
      "7s - loss: 2.3771 - acc: 0.1646 - val_loss: 2.4040 - val_acc: 0.1496\n",
      "logloss val 2.404027332608702\n",
      "*****************************************************\n",
      "Epoch 1/20\n",
      "10s - loss: 2.4449 - acc: 0.1321 - val_loss: 2.4486 - val_acc: 0.1231\n",
      "Epoch 2/20\n",
      "7s - loss: 2.4153 - acc: 0.1421 - val_loss: 2.4424 - val_acc: 0.1243\n",
      "Epoch 3/20\n",
      "7s - loss: 2.4089 - acc: 0.1430 - val_loss: 2.4381 - val_acc: 0.1252\n",
      "Epoch 4/20\n",
      "7s - loss: 2.4046 - acc: 0.1460 - val_loss: 2.4372 - val_acc: 0.1289\n",
      "Epoch 5/20\n",
      "7s - loss: 2.4014 - acc: 0.1463 - val_loss: 2.4367 - val_acc: 0.1272\n",
      "Epoch 6/20\n",
      "7s - loss: 2.3994 - acc: 0.1495 - val_loss: 2.4340 - val_acc: 0.1340\n",
      "Epoch 7/20\n",
      "7s - loss: 2.3956 - acc: 0.1508 - val_loss: 2.4338 - val_acc: 0.1328\n",
      "Epoch 8/20\n",
      "7s - loss: 2.3950 - acc: 0.1512 - val_loss: 2.4356 - val_acc: 0.1315\n",
      "Epoch 9/20\n",
      "7s - loss: 2.3939 - acc: 0.1536 - val_loss: 2.4319 - val_acc: 0.1348\n",
      "Epoch 10/20\n",
      "7s - loss: 2.3897 - acc: 0.1544 - val_loss: 2.4331 - val_acc: 0.1358\n",
      "Epoch 11/20\n",
      "7s - loss: 2.3888 - acc: 0.1562 - val_loss: 2.4332 - val_acc: 0.1340\n",
      "Epoch 12/20\n",
      "7s - loss: 2.3867 - acc: 0.1573 - val_loss: 2.4309 - val_acc: 0.1383\n",
      "Epoch 13/20\n",
      "7s - loss: 2.3853 - acc: 0.1590 - val_loss: 2.4309 - val_acc: 0.1365\n",
      "Epoch 14/20\n",
      "7s - loss: 2.3839 - acc: 0.1571 - val_loss: 2.4307 - val_acc: 0.1363\n",
      "Epoch 15/20\n",
      "7s - loss: 2.3815 - acc: 0.1613 - val_loss: 2.4304 - val_acc: 0.1330\n",
      "Epoch 16/20\n",
      "7s - loss: 2.3806 - acc: 0.1621 - val_loss: 2.4307 - val_acc: 0.1375\n",
      "Epoch 17/20\n",
      "7s - loss: 2.3772 - acc: 0.1628 - val_loss: 2.4315 - val_acc: 0.1404\n",
      "Epoch 18/20\n",
      "7s - loss: 2.3764 - acc: 0.1641 - val_loss: 2.4322 - val_acc: 0.1404\n",
      "Epoch 19/20\n",
      "7s - loss: 2.3745 - acc: 0.1658 - val_loss: 2.4311 - val_acc: 0.1400\n",
      "Epoch 20/20\n",
      "7s - loss: 2.3725 - acc: 0.1661 - val_loss: 2.4302 - val_acc: 0.1358\n",
      "logloss val 2.4301876044777946\n",
      "*****************************************************\n",
      "Epoch 1/20\n",
      "10s - loss: 2.4463 - acc: 0.1276 - val_loss: 2.4279 - val_acc: 0.1453\n",
      "Epoch 2/20\n",
      "7s - loss: 2.4202 - acc: 0.1396 - val_loss: 2.4212 - val_acc: 0.1443\n",
      "Epoch 3/20\n",
      "7s - loss: 2.4118 - acc: 0.1426 - val_loss: 2.4176 - val_acc: 0.1344\n",
      "Epoch 4/20\n",
      "7s - loss: 2.4079 - acc: 0.1428 - val_loss: 2.4157 - val_acc: 0.1385\n",
      "Epoch 5/20\n",
      "7s - loss: 2.4037 - acc: 0.1477 - val_loss: 2.4147 - val_acc: 0.1387\n",
      "Epoch 6/20\n",
      "7s - loss: 2.4008 - acc: 0.1494 - val_loss: 2.4141 - val_acc: 0.1418\n",
      "Epoch 7/20\n",
      "7s - loss: 2.4002 - acc: 0.1503 - val_loss: 2.4135 - val_acc: 0.1439\n",
      "Epoch 8/20\n",
      "7s - loss: 2.3973 - acc: 0.1537 - val_loss: 2.4126 - val_acc: 0.1455\n",
      "Epoch 9/20\n",
      "7s - loss: 2.3941 - acc: 0.1541 - val_loss: 2.4136 - val_acc: 0.1397\n",
      "Epoch 10/20\n",
      "7s - loss: 2.3935 - acc: 0.1566 - val_loss: 2.4120 - val_acc: 0.1459\n",
      "Epoch 11/20\n",
      "7s - loss: 2.3892 - acc: 0.1576 - val_loss: 2.4129 - val_acc: 0.1418\n",
      "Epoch 12/20\n",
      "7s - loss: 2.3903 - acc: 0.1573 - val_loss: 2.4131 - val_acc: 0.1439\n",
      "Epoch 13/20\n",
      "7s - loss: 2.3855 - acc: 0.1594 - val_loss: 2.4137 - val_acc: 0.1420\n",
      "Epoch 14/20\n",
      "7s - loss: 2.3866 - acc: 0.1592 - val_loss: 2.4126 - val_acc: 0.1437\n",
      "Epoch 15/20\n",
      "7s - loss: 2.3835 - acc: 0.1602 - val_loss: 2.4128 - val_acc: 0.1469\n",
      "Epoch 16/20\n",
      "7s - loss: 2.3813 - acc: 0.1628 - val_loss: 2.4138 - val_acc: 0.1414\n",
      "Epoch 17/20\n",
      "7s - loss: 2.3808 - acc: 0.1625 - val_loss: 2.4142 - val_acc: 0.1469\n",
      "Epoch 18/20\n",
      "7s - loss: 2.3780 - acc: 0.1634 - val_loss: 2.4141 - val_acc: 0.1416\n",
      "Epoch 19/20\n",
      "7s - loss: 2.3762 - acc: 0.1656 - val_loss: 2.4153 - val_acc: 0.1490\n",
      "Epoch 20/20\n",
      "7s - loss: 2.3750 - acc: 0.1651 - val_loss: 2.4147 - val_acc: 0.1492\n",
      "logloss val 2.414748806931714\n",
      "*****************************************************\n",
      "Epoch 1/20\n",
      "10s - loss: 2.4473 - acc: 0.1299 - val_loss: 2.4154 - val_acc: 0.1512\n",
      "Epoch 2/20\n",
      "7s - loss: 2.4208 - acc: 0.1390 - val_loss: 2.4059 - val_acc: 0.1516\n",
      "Epoch 3/20\n",
      "7s - loss: 2.4129 - acc: 0.1396 - val_loss: 2.4014 - val_acc: 0.1525\n",
      "Epoch 4/20\n",
      "7s - loss: 2.4088 - acc: 0.1421 - val_loss: 2.3992 - val_acc: 0.1496\n",
      "Epoch 5/20\n",
      "7s - loss: 2.4057 - acc: 0.1452 - val_loss: 2.3979 - val_acc: 0.1510\n",
      "Epoch 6/20\n",
      "7s - loss: 2.4030 - acc: 0.1459 - val_loss: 2.3971 - val_acc: 0.1481\n",
      "Epoch 7/20\n",
      "7s - loss: 2.4008 - acc: 0.1495 - val_loss: 2.3969 - val_acc: 0.1467\n",
      "Epoch 8/20\n",
      "7s - loss: 2.3985 - acc: 0.1514 - val_loss: 2.3960 - val_acc: 0.1529\n",
      "Epoch 9/20\n",
      "7s - loss: 2.3976 - acc: 0.1512 - val_loss: 2.3951 - val_acc: 0.1483\n",
      "Epoch 10/20\n",
      "7s - loss: 2.3946 - acc: 0.1535 - val_loss: 2.3940 - val_acc: 0.1463\n",
      "Epoch 11/20\n",
      "7s - loss: 2.3951 - acc: 0.1543 - val_loss: 2.3943 - val_acc: 0.1488\n",
      "Epoch 12/20\n",
      "7s - loss: 2.3907 - acc: 0.1570 - val_loss: 2.3941 - val_acc: 0.1463\n",
      "Epoch 13/20\n",
      "7s - loss: 2.3902 - acc: 0.1563 - val_loss: 2.3934 - val_acc: 0.1457\n",
      "Epoch 14/20\n",
      "7s - loss: 2.3872 - acc: 0.1578 - val_loss: 2.3929 - val_acc: 0.1471\n",
      "Epoch 15/20\n",
      "7s - loss: 2.3867 - acc: 0.1594 - val_loss: 2.3933 - val_acc: 0.1477\n",
      "Epoch 16/20\n",
      "7s - loss: 2.3844 - acc: 0.1605 - val_loss: 2.3938 - val_acc: 0.1485\n",
      "Epoch 17/20\n",
      "7s - loss: 2.3824 - acc: 0.1622 - val_loss: 2.3936 - val_acc: 0.1485\n",
      "Epoch 18/20\n",
      "7s - loss: 2.3798 - acc: 0.1617 - val_loss: 2.3944 - val_acc: 0.1469\n",
      "Epoch 19/20\n",
      "7s - loss: 2.3785 - acc: 0.1633 - val_loss: 2.3936 - val_acc: 0.1471\n",
      "Epoch 20/20\n",
      "7s - loss: 2.3775 - acc: 0.1630 - val_loss: 2.3942 - val_acc: 0.1486\n",
      "logloss val 2.394198970264608\n",
      "*****************************************************\n",
      "Epoch 1/20\n",
      "10s - loss: 2.4485 - acc: 0.1262 - val_loss: 2.4354 - val_acc: 0.1284\n",
      "Epoch 2/20\n",
      "7s - loss: 2.4199 - acc: 0.1399 - val_loss: 2.4208 - val_acc: 0.1294\n",
      "Epoch 3/20\n",
      "7s - loss: 2.4115 - acc: 0.1421 - val_loss: 2.4135 - val_acc: 0.1292\n",
      "Epoch 4/20\n",
      "7s - loss: 2.4096 - acc: 0.1436 - val_loss: 2.4096 - val_acc: 0.1354\n",
      "Epoch 5/20\n",
      "7s - loss: 2.4055 - acc: 0.1449 - val_loss: 2.4078 - val_acc: 0.1414\n",
      "Epoch 6/20\n",
      "7s - loss: 2.4025 - acc: 0.1470 - val_loss: 2.4051 - val_acc: 0.1430\n",
      "Epoch 7/20\n",
      "7s - loss: 2.4017 - acc: 0.1479 - val_loss: 2.4057 - val_acc: 0.1430\n",
      "Epoch 8/20\n",
      "7s - loss: 2.3976 - acc: 0.1513 - val_loss: 2.4035 - val_acc: 0.1459\n",
      "Epoch 9/20\n",
      "7s - loss: 2.3965 - acc: 0.1513 - val_loss: 2.4042 - val_acc: 0.1447\n",
      "Epoch 10/20\n",
      "7s - loss: 2.3954 - acc: 0.1542 - val_loss: 2.4033 - val_acc: 0.1477\n",
      "Epoch 11/20\n",
      "7s - loss: 2.3915 - acc: 0.1559 - val_loss: 2.4021 - val_acc: 0.1492\n",
      "Epoch 12/20\n",
      "7s - loss: 2.3905 - acc: 0.1559 - val_loss: 2.4028 - val_acc: 0.1504\n",
      "Epoch 13/20\n",
      "7s - loss: 2.3896 - acc: 0.1573 - val_loss: 2.4010 - val_acc: 0.1508\n",
      "Epoch 14/20\n",
      "7s - loss: 2.3859 - acc: 0.1590 - val_loss: 2.4034 - val_acc: 0.1492\n",
      "Epoch 15/20\n",
      "7s - loss: 2.3858 - acc: 0.1598 - val_loss: 2.4031 - val_acc: 0.1514\n",
      "Epoch 16/20\n",
      "7s - loss: 2.3833 - acc: 0.1600 - val_loss: 2.4026 - val_acc: 0.1481\n",
      "Epoch 17/20\n",
      "7s - loss: 2.3816 - acc: 0.1615 - val_loss: 2.4018 - val_acc: 0.1494\n",
      "Epoch 18/20\n",
      "7s - loss: 2.3819 - acc: 0.1612 - val_loss: 2.4021 - val_acc: 0.1490\n",
      "Epoch 19/20\n",
      "7s - loss: 2.3771 - acc: 0.1645 - val_loss: 2.4049 - val_acc: 0.1481\n",
      "Epoch 20/20\n",
      "7s - loss: 2.3763 - acc: 0.1645 - val_loss: 2.4042 - val_acc: 0.1522\n",
      "logloss val 2.4042276570021337\n",
      "*****************************************************\n",
      "Epoch 1/20\n",
      "10s - loss: 2.4471 - acc: 0.1289 - val_loss: 2.4184 - val_acc: 0.1309\n",
      "Epoch 2/20\n",
      "7s - loss: 2.4231 - acc: 0.1385 - val_loss: 2.4093 - val_acc: 0.1354\n",
      "Epoch 3/20\n",
      "7s - loss: 2.4145 - acc: 0.1425 - val_loss: 2.4023 - val_acc: 0.1412\n",
      "Epoch 4/20\n",
      "7s - loss: 2.4096 - acc: 0.1464 - val_loss: 2.3986 - val_acc: 0.1447\n",
      "Epoch 5/20\n",
      "7s - loss: 2.4079 - acc: 0.1439 - val_loss: 2.3967 - val_acc: 0.1467\n",
      "Epoch 6/20\n",
      "7s - loss: 2.4047 - acc: 0.1470 - val_loss: 2.3958 - val_acc: 0.1434\n",
      "Epoch 7/20\n",
      "7s - loss: 2.4026 - acc: 0.1489 - val_loss: 2.3943 - val_acc: 0.1485\n",
      "Epoch 8/20\n",
      "7s - loss: 2.3998 - acc: 0.1514 - val_loss: 2.3930 - val_acc: 0.1490\n",
      "Epoch 9/20\n",
      "7s - loss: 2.3981 - acc: 0.1538 - val_loss: 2.3918 - val_acc: 0.1459\n",
      "Epoch 10/20\n",
      "7s - loss: 2.3954 - acc: 0.1534 - val_loss: 2.3924 - val_acc: 0.1453\n",
      "Epoch 11/20\n",
      "7s - loss: 2.3946 - acc: 0.1544 - val_loss: 2.3909 - val_acc: 0.1485\n",
      "Epoch 12/20\n",
      "7s - loss: 2.3942 - acc: 0.1556 - val_loss: 2.3903 - val_acc: 0.1514\n",
      "Epoch 13/20\n",
      "7s - loss: 2.3896 - acc: 0.1579 - val_loss: 2.3899 - val_acc: 0.1502\n",
      "Epoch 14/20\n",
      "7s - loss: 2.3896 - acc: 0.1585 - val_loss: 2.3901 - val_acc: 0.1500\n",
      "Epoch 15/20\n",
      "7s - loss: 2.3878 - acc: 0.1583 - val_loss: 2.3897 - val_acc: 0.1514\n",
      "Epoch 16/20\n",
      "7s - loss: 2.3841 - acc: 0.1614 - val_loss: 2.3901 - val_acc: 0.1522\n",
      "Epoch 17/20\n",
      "7s - loss: 2.3832 - acc: 0.1612 - val_loss: 2.3891 - val_acc: 0.1508\n",
      "Epoch 18/20\n",
      "8s - loss: 2.3813 - acc: 0.1635 - val_loss: 2.3898 - val_acc: 0.1553\n",
      "Epoch 19/20\n",
      "7s - loss: 2.3794 - acc: 0.1639 - val_loss: 2.3903 - val_acc: 0.1560\n",
      "Epoch 20/20\n",
      "7s - loss: 2.3777 - acc: 0.1640 - val_loss: 2.3908 - val_acc: 0.1562\n",
      "logloss val 2.3908149141042387\n",
      "*****************************************************\n",
      "Epoch 1/20\n",
      "10s - loss: 2.4516 - acc: 0.1191 - val_loss: 2.3796 - val_acc: 0.1876\n",
      "Epoch 2/20\n",
      "7s - loss: 2.4265 - acc: 0.1353 - val_loss: 2.3698 - val_acc: 0.1777\n",
      "Epoch 3/20\n",
      "7s - loss: 2.4180 - acc: 0.1382 - val_loss: 2.3658 - val_acc: 0.1681\n",
      "Epoch 4/20\n",
      "7s - loss: 2.4133 - acc: 0.1404 - val_loss: 2.3640 - val_acc: 0.1672\n",
      "Epoch 5/20\n",
      "7s - loss: 2.4098 - acc: 0.1420 - val_loss: 2.3608 - val_acc: 0.1701\n",
      "Epoch 6/20\n",
      "7s - loss: 2.4076 - acc: 0.1449 - val_loss: 2.3631 - val_acc: 0.1695\n",
      "Epoch 7/20\n",
      "7s - loss: 2.4051 - acc: 0.1463 - val_loss: 2.3626 - val_acc: 0.1670\n",
      "Epoch 8/20\n",
      "7s - loss: 2.4033 - acc: 0.1495 - val_loss: 2.3607 - val_acc: 0.1658\n",
      "Epoch 9/20\n",
      "7s - loss: 2.4007 - acc: 0.1507 - val_loss: 2.3607 - val_acc: 0.1621\n",
      "Epoch 10/20\n",
      "7s - loss: 2.4001 - acc: 0.1523 - val_loss: 2.3605 - val_acc: 0.1623\n",
      "Epoch 11/20\n",
      "7s - loss: 2.3970 - acc: 0.1521 - val_loss: 2.3605 - val_acc: 0.1559\n",
      "Epoch 12/20\n",
      "7s - loss: 2.3947 - acc: 0.1567 - val_loss: 2.3640 - val_acc: 0.1574\n",
      "Epoch 13/20\n",
      "7s - loss: 2.3938 - acc: 0.1554 - val_loss: 2.3613 - val_acc: 0.1623\n",
      "Epoch 14/20\n",
      "7s - loss: 2.3913 - acc: 0.1572 - val_loss: 2.3612 - val_acc: 0.1590\n",
      "Epoch 15/20\n",
      "7s - loss: 2.3898 - acc: 0.1586 - val_loss: 2.3622 - val_acc: 0.1627\n",
      "Epoch 16/20\n",
      "7s - loss: 2.3869 - acc: 0.1609 - val_loss: 2.3628 - val_acc: 0.1576\n",
      "Epoch 17/20\n",
      "7s - loss: 2.3867 - acc: 0.1596 - val_loss: 2.3645 - val_acc: 0.1613\n",
      "Epoch 18/20\n",
      "7s - loss: 2.3840 - acc: 0.1615 - val_loss: 2.3590 - val_acc: 0.1650\n",
      "Epoch 19/20\n",
      "7s - loss: 2.3822 - acc: 0.1630 - val_loss: 2.3658 - val_acc: 0.1560\n",
      "Epoch 20/20\n",
      "7s - loss: 2.3819 - acc: 0.1637 - val_loss: 2.3663 - val_acc: 0.1574\n",
      "logloss val 2.3662681398618157\n",
      "average logloss val 2.4085766116387113\n"
     ]
    },
    {
     "name": "stderr",
     "output_type": "stream",
     "text": [
      "/Users/Yuyang/anaconda/lib/python3.5/site-packages/keras/engine/training.py:1403: UserWarning: Epoch comprised more than `samples_per_epoch` samples, which might affect learning results. Set `samples_per_epoch` correctly to avoid this warning.\n",
      "  warnings.warn('Epoch comprised more than '\n"
     ]
    }
   ],
   "source": [
    "# define baseline model\n",
    "def without_model(X_dim_input):\n",
    "    # create model\n",
    "    model = Sequential()\n",
    "    #model.add(Dense(10, input_dim=X_train_total.shape[1], init='normal', activation='relu'))\n",
    "    #model.add(Dropout(0.2))\n",
    "    model.add(Dense(150, input_dim=X_dim_input, init='normal', activation='tanh'))\n",
    "    model.add(Dropout(0.4))\n",
    "    model.add(Dense(100, input_dim=X_dim_input, init='normal', activation='relu'))\n",
    "    model.add(Dropout(0.3))\n",
    "    model.add(Dense(12, init='normal', activation='softmax'))\n",
    "    # Compile model\n",
    "    model.compile(loss='categorical_crossentropy', optimizer='adadelta', metrics=['accuracy'])  #logloss\n",
    "    return model\n",
    "\n",
    "dummy_y_without = np_utils.to_categorical(y_train_total_without)\n",
    "kf = KFold(len(y_train_total_without),n_folds = 10,random_state = 1)\n",
    "score_list_without=[]\n",
    "val_loss_list_without = []\n",
    "for train, test in kf:\n",
    "    X_train_without = X_train_total_without[train]\n",
    "    y_train_without = dummy_y_without[train]\n",
    "    X_val_without = X_train_total_without[test]\n",
    "    y_val_without = dummy_y_without[test]\n",
    "    #print(X_val.shape)\n",
    "    print('*****************************************************')\n",
    "    model=without_model(X_train_total_without.shape[1])\n",
    "    fit= model.fit_generator(generator=batch_generator(X_train_without, y_train_without, 600, True),\n",
    "                         nb_epoch=20,\n",
    "                         samples_per_epoch=80000,\n",
    "                         validation_data=(X_val_without.todense(), y_val_without), verbose=2\n",
    "                         )\n",
    "    scores_val_without = model.predict_generator(generator=batch_generatorp(X_val_without, 600, False), \n",
    "                                         val_samples=X_val_without.shape[0])\n",
    "    scores_without = model.predict_generator(generator=batch_generatorp(X_test_total_without, 600, False), \n",
    "                                     val_samples=X_test_total_without.shape[0])\n",
    "    score_list_without.append(scores_without)\n",
    "    \n",
    "    val_loss = log_loss(y_val_without, scores_val_without)\n",
    "    val_loss_list_without.append(val_loss)\n",
    "    print('logloss val {}'.format(val_loss))\n",
    "\n",
    "for index,i in enumerate(val_loss_list_without):\n",
    "    if(index==0):\n",
    "        sumi = i\n",
    "    else:\n",
    "        sumi = i+sumi\n",
    "val_loss_ave_without = sumi/len(score_list_without)\n",
    "print('average logloss val {}'.format(val_loss_ave_without))\n",
    "for index,i in enumerate(score_list_without):\n",
    "    if(index==0):\n",
    "        sumi = i\n",
    "    else:\n",
    "        sumi = i+sumi\n",
    "score_ave_without = sumi/len(score_list_without)\n",
    "pred_without = pd.DataFrame(score_ave_without, index = gender_age_test_without.index, columns=targetencoder.classes_)"
   ]
  },
  {
   "cell_type": "markdown",
   "metadata": {},
   "source": [
    "# putting together and save into final file"
   ]
  },
  {
   "cell_type": "code",
   "execution_count": 161,
   "metadata": {
    "collapsed": false
   },
   "outputs": [],
   "source": [
    "pred = pd.concat((pred_with,pred_without))\n",
    "pred.to_csv('doublemodel_v2.csv',index=True)"
   ]
  },
  {
   "cell_type": "code",
   "execution_count": null,
   "metadata": {
    "collapsed": true
   },
   "outputs": [],
   "source": []
  }
 ],
 "metadata": {
  "kernelspec": {
   "display_name": "Python 3",
   "language": "python",
   "name": "python3"
  },
  "language_info": {
   "codemirror_mode": {
    "name": "ipython",
    "version": 3
   },
   "file_extension": ".py",
   "mimetype": "text/x-python",
   "name": "python",
   "nbconvert_exporter": "python",
   "pygments_lexer": "ipython3",
   "version": "3.5.2"
  }
 },
 "nbformat": 4,
 "nbformat_minor": 0
}
