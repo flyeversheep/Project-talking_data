{
 "cells": [
  {
   "cell_type": "code",
   "execution_count": 1,
   "metadata": {
    "collapsed": false
   },
   "outputs": [
    {
     "name": "stderr",
     "output_type": "stream",
     "text": [
      "/Users/Yuyang/anaconda/lib/python3.5/site-packages/pandas/computation/__init__.py:19: UserWarning: The installed version of numexpr 2.4.4 is not supported in pandas and will be not be used\n",
      "\n",
      "  UserWarning)\n",
      "Using TensorFlow backend.\n"
     ]
    }
   ],
   "source": [
    "import pandas as pd\n",
    "import numpy as np\n",
    "from sklearn.preprocessing import LabelEncoder,StandardScaler\n",
    "from sklearn.ensemble import RandomForestClassifier as rfc\n",
    "from sklearn.svm import LinearSVC\n",
    "from sklearn import cross_validation as cv\n",
    "from sklearn.linear_model import LogisticRegression\n",
    "from sklearn.metrics import log_loss,accuracy_score\n",
    "from scipy.sparse import csr_matrix,hstack\n",
    "import time\n",
    "from keras.models import Sequential\n",
    "from keras.layers import Dense, Dropout, Activation\n",
    "from keras.utils import np_utils\n",
    "from keras.optimizers import SGD\n",
    "\n",
    "seed = 7\n",
    "np.random.seed(seed)"
   ]
  },
  {
   "cell_type": "code",
   "execution_count": 2,
   "metadata": {
    "collapsed": false
   },
   "outputs": [],
   "source": [
    "events = pd.read_csv('input/events.csv',index_col='event_id')\n",
    "label = pd.read_csv('input/label_categories.csv')\n",
    "app_event = pd.read_csv('input/app_events.csv')\n",
    "app_label = pd.read_csv('input/app_labels.csv')\n",
    "device = pd.read_csv('input/phone_brand_device_model.csv')\n",
    "device = device.drop_duplicates('device_id').set_index('device_id')\n",
    "gender_age_train = pd.read_csv('input/gender_age_train.csv',index_col = 'device_id')\n",
    "gender_age_test = pd.read_csv('input/gender_age_test.csv',index_col = 'device_id')"
   ]
  },
  {
   "cell_type": "markdown",
   "metadata": {},
   "source": [
    "For the convinience of creating sparse matrix, we create another integer index for the training and testing set."
   ]
  },
  {
   "cell_type": "code",
   "execution_count": 3,
   "metadata": {
    "collapsed": false
   },
   "outputs": [],
   "source": [
    "gender_age_train['int_index'] = np.arange(gender_age_train.shape[0])\n",
    "gender_age_test['int_index'] = np.arange(gender_age_test.shape[0])"
   ]
  },
  {
   "cell_type": "code",
   "execution_count": 4,
   "metadata": {
    "collapsed": false
   },
   "outputs": [
    {
     "name": "stdout",
     "output_type": "stream",
     "text": [
      "gender_age_train\n",
      "                      gender  age   group  int_index\n",
      "device_id                                          \n",
      "-8076087639492063270      M   35  M32-38          0\n",
      "\n",
      "gender_age_test\n",
      "                      int_index\n",
      "device_id                     \n",
      "1002079943728939269          0\n",
      "\n",
      "device\n",
      "                      phone_brand device_model\n",
      "device_id                                    \n",
      "-8890648629457979026          小米           红米\n",
      "\n",
      "events\n",
      "                   device_id            timestamp  longitude  latitude\n",
      "event_id                                                             \n",
      "1         29182687948017175  2016-05-01 00:55:25     121.38     31.24\n",
      "\n",
      "label\n",
      "    label_id category\n",
      "0         1      NaN\n",
      "\n",
      "app_event\n",
      "    event_id               app_id  is_installed  is_active\n",
      "0         2  5927333115845830913             1          1\n",
      "\n",
      "app_label\n",
      "                 app_id  label_id\n",
      "0  7324884708820027918       251\n"
     ]
    }
   ],
   "source": [
    "print('gender_age_train\\n',gender_age_train.head(1))\n",
    "print('\\ngender_age_test\\n',gender_age_test.head(1))\n",
    "print('\\ndevice\\n',device.head(1))\n",
    "print('\\nevents\\n',events.head(1))\n",
    "print('\\nlabel\\n',label.head(1))\n",
    "print('\\napp_event\\n',app_event.head(1))\n",
    "print('\\napp_label\\n',app_label.head(1))"
   ]
  },
  {
   "cell_type": "markdown",
   "metadata": {},
   "source": [
    "# Feature engineering I: phone brand"
   ]
  },
  {
   "cell_type": "markdown",
   "metadata": {},
   "source": [
    "Encoding the phone brand, and feed this as a feature into the training and testing test."
   ]
  },
  {
   "cell_type": "code",
   "execution_count": 5,
   "metadata": {
    "collapsed": false
   },
   "outputs": [],
   "source": [
    "encoder = LabelEncoder()\n",
    "encoder.fit(device.phone_brand)\n",
    "device['brand'] = encoder.transform(device.phone_brand)\n",
    "gender_age_train['brand'] = device['brand']\n",
    "gender_age_test['brand'] = device['brand']"
   ]
  },
  {
   "cell_type": "markdown",
   "metadata": {},
   "source": [
    "Create sparse matrix with each row representing one device and each column representing one brand"
   ]
  },
  {
   "cell_type": "code",
   "execution_count": 6,
   "metadata": {
    "collapsed": false
   },
   "outputs": [
    {
     "name": "stdout",
     "output_type": "stream",
     "text": [
      "X_train_brand shape: (74645, 131)\n",
      "X_test_brand shape: (112071, 131)\n"
     ]
    }
   ],
   "source": [
    "X_train_brand = csr_matrix((np.ones(gender_age_train.shape[0]),\n",
    "                            (gender_age_train.int_index,gender_age_train.brand)))\n",
    "X_test_brand = csr_matrix((np.ones(gender_age_test.shape[0]),\n",
    "                           (gender_age_test.int_index,gender_age_test.brand)))\n",
    "print('X_train_brand shape:',X_train_brand.shape)\n",
    "print('X_test_brand shape:',X_test_brand.shape)"
   ]
  },
  {
   "cell_type": "markdown",
   "metadata": {},
   "source": [
    "# Feature engineering II: Installed app"
   ]
  },
  {
   "cell_type": "markdown",
   "metadata": {},
   "source": [
    "Encoding the app_id and store it into app column, and feed this as a feature into the training and testing test."
   ]
  },
  {
   "cell_type": "code",
   "execution_count": 7,
   "metadata": {
    "collapsed": true
   },
   "outputs": [],
   "source": [
    "encoder2 = LabelEncoder()\n",
    "encoder2.fit(app_event.app_id)\n",
    "app_event['app'] = encoder2.transform(app_event.app_id)"
   ]
  },
  {
   "cell_type": "code",
   "execution_count": 8,
   "metadata": {
    "collapsed": false
   },
   "outputs": [
    {
     "data": {
      "text/plain": [
       "array([    0,     1,     2, ..., 19234, 19235, 19236])"
      ]
     },
     "execution_count": 8,
     "metadata": {},
     "output_type": "execute_result"
    }
   ],
   "source": [
    "np.sort(app_event.app.unique())"
   ]
  },
  {
   "cell_type": "code",
   "execution_count": 9,
   "metadata": {
    "collapsed": false
   },
   "outputs": [
    {
     "name": "stdout",
     "output_type": "stream",
     "text": [
      "   event_id               app_id  is_installed  is_active    app\n",
      "0         2  5927333115845830913             1          1  15408\n",
      "                  device_id            timestamp  longitude  latitude\n",
      "event_id                                                             \n",
      "1         29182687948017175  2016-05-01 00:55:25     121.38     31.24\n"
     ]
    }
   ],
   "source": [
    "print(app_event.head(1))\n",
    "print(events.head(1))"
   ]
  },
  {
   "cell_type": "code",
   "execution_count": 10,
   "metadata": {
    "collapsed": false
   },
   "outputs": [
    {
     "name": "stdout",
     "output_type": "stream",
     "text": [
      "             device_id  event_id    app  is_installed\n",
      "0 -6401643145415154744         2  15408             1\n",
      "1 -6401643145415154744         2   3384             1\n",
      "2 -6401643145415154744         2   7620             1\n",
      "3 -6401643145415154744         2   8902             1\n",
      "4 -6401643145415154744         2  18686             1\n"
     ]
    }
   ],
   "source": [
    "installed_app = pd.merge(events[['device_id']],app_event[['event_id','app','is_installed']],\n",
    "                         how='right',right_on = 'event_id',left_index = True)\n",
    "print(installed_app.head())"
   ]
  },
  {
   "cell_type": "code",
   "execution_count": 11,
   "metadata": {
    "collapsed": false
   },
   "outputs": [
    {
     "name": "stdout",
     "output_type": "stream",
     "text": [
      "installed_app_grouped:\n",
      "                           size\n",
      "device_id            app       \n",
      "-9222956879900151005 548     18\n",
      "                     1096    18\n",
      "                     1248    26\n",
      "                     1545    12\n",
      "                     1664    18\n",
      "installed_app_train:\n",
      "                           size  int_index\n",
      "device_id            app                  \n",
      "-9222956879900151005 548     18      21594\n",
      "                     1096    18      21594\n",
      "                     1248    26      21594\n",
      "                     1545    12      21594\n",
      "                     1664    18      21594\n"
     ]
    }
   ],
   "source": [
    "installed_app_grouped = installed_app.groupby(['device_id','app'])['app'].agg(['size'])\n",
    "print('installed_app_grouped:')\n",
    "print(installed_app_grouped.head())\n",
    "installed_app_train = pd.merge(installed_app_grouped,gender_age_train[['int_index']],\n",
    "                               how = 'right',right_index=True,left_index=True)\n",
    "installed_app_test = pd.merge(installed_app_grouped,gender_age_test[['int_index']],\n",
    "                              how = 'right',right_index=True,left_index=True)\n",
    "print('installed_app_train:')\n",
    "print(installed_app_train.head())"
   ]
  },
  {
   "cell_type": "code",
   "execution_count": 12,
   "metadata": {
    "collapsed": false
   },
   "outputs": [
    {
     "name": "stdout",
     "output_type": "stream",
     "text": [
      "             device_id   app  size  int_index\n",
      "0 -9222956879900151005   548    18      21594\n",
      "1 -9222956879900151005  1096    18      21594\n",
      "2 -9222956879900151005  1248    26      21594\n",
      "3 -9222956879900151005  1545    12      21594\n",
      "4 -9222956879900151005  1664    18      21594\n",
      "             device_id    app  size  int_index\n",
      "0 -9222661944218806987   1867     3      13612\n",
      "1 -9222661944218806987   7519     8      13612\n",
      "2 -9222661944218806987   7843     1      13612\n",
      "3 -9222661944218806987   8704     4      13612\n",
      "4 -9222661944218806987  10000     1      13612\n"
     ]
    }
   ],
   "source": [
    "installed_app_train = installed_app_train.reset_index()\n",
    "installed_app_test = installed_app_test.reset_index()\n",
    "installed_app_train = installed_app_train.dropna(subset=['int_index'])\n",
    "installed_app_test = installed_app_test.dropna(subset=['int_index'])\n",
    "print(installed_app_train.head())\n",
    "print(installed_app_test.head())"
   ]
  },
  {
   "cell_type": "markdown",
   "metadata": {},
   "source": [
    "Calculate the number of unique app:"
   ]
  },
  {
   "cell_type": "code",
   "execution_count": 13,
   "metadata": {
    "collapsed": false
   },
   "outputs": [
    {
     "name": "stdout",
     "output_type": "stream",
     "text": [
      "112071\n",
      "915632\n"
     ]
    }
   ],
   "source": [
    "print(gender_age_test.shape[0])\n",
    "print(installed_app_train.shape[0])"
   ]
  },
  {
   "cell_type": "code",
   "execution_count": 14,
   "metadata": {
    "collapsed": false
   },
   "outputs": [
    {
     "name": "stdout",
     "output_type": "stream",
     "text": [
      "The number of unique apps:\n",
      "19237\n"
     ]
    }
   ],
   "source": [
    "print('The number of unique apps:')\n",
    "print(np.size(installed_app.app.unique()))\n",
    "appnumber = np.size(installed_app.app.unique())"
   ]
  },
  {
   "cell_type": "code",
   "execution_count": 15,
   "metadata": {
    "collapsed": false
   },
   "outputs": [
    {
     "name": "stdout",
     "output_type": "stream",
     "text": [
      "[    0     1     2 ..., 19234 19235 19236]\n",
      "1387337\n"
     ]
    }
   ],
   "source": [
    "print(np.sort(installed_app_train.app.unique()))\n",
    "print(installed_app_test.shape[0])"
   ]
  },
  {
   "cell_type": "code",
   "execution_count": 16,
   "metadata": {
    "collapsed": false
   },
   "outputs": [
    {
     "name": "stdout",
     "output_type": "stream",
     "text": [
      "X_train_installed shape: (74645, 19237)\n",
      "X_test_installed shape: (112071, 19237)\n"
     ]
    }
   ],
   "source": [
    "X_train_installed = csr_matrix((np.ones(installed_app_train.shape[0]),\n",
    "                                (installed_app_train.int_index,installed_app_train.app)), \n",
    "                               shape = (gender_age_train.shape[0],appnumber))\n",
    "X_test_installed = csr_matrix((np.ones(installed_app_test.shape[0]),\n",
    "                               (installed_app_test.int_index,installed_app_test.app)),\n",
    "                               shape = (gender_age_test.shape[0],appnumber))\n",
    "print('X_train_installed shape:',X_train_installed.shape)\n",
    "print('X_test_installed shape:',X_test_installed.shape)"
   ]
  },
  {
   "cell_type": "code",
   "execution_count": 17,
   "metadata": {
    "collapsed": false
   },
   "outputs": [
    {
     "data": {
      "text/plain": [
       "array([     0,      1,      2, ..., 112059, 112060, 112063])"
      ]
     },
     "execution_count": 17,
     "metadata": {},
     "output_type": "execute_result"
    }
   ],
   "source": [
    "np.sort(installed_app_test.int_index.unique())"
   ]
  },
  {
   "cell_type": "markdown",
   "metadata": {},
   "source": [
    "# Feature engineering III: phone device model"
   ]
  },
  {
   "cell_type": "code",
   "execution_count": 18,
   "metadata": {
    "collapsed": true
   },
   "outputs": [],
   "source": [
    "brand_model = device.phone_brand.str.cat(device.device_model)\n",
    "encoder3 = LabelEncoder()\n",
    "encoder3.fit(brand_model)\n",
    "device['model'] = encoder3.transform(brand_model)\n",
    "gender_age_train['model'] = device['model']\n",
    "gender_age_test['model'] = device['model']"
   ]
  },
  {
   "cell_type": "code",
   "execution_count": 19,
   "metadata": {
    "collapsed": false
   },
   "outputs": [
    {
     "name": "stdout",
     "output_type": "stream",
     "text": [
      "X_train_brand shape: (74645, 1667)\n",
      "X_test_brand shape: (112071, 1667)\n"
     ]
    }
   ],
   "source": [
    "X_train_model = csr_matrix((np.ones(gender_age_train.shape[0]),(gender_age_train.int_index,gender_age_train.model)))\n",
    "X_test_model = csr_matrix((np.ones(gender_age_test.shape[0]),(gender_age_test.int_index,gender_age_test.model)))\n",
    "print('X_train_brand shape:',X_train_model.shape)\n",
    "print('X_test_brand shape:',X_test_model.shape)"
   ]
  },
  {
   "cell_type": "markdown",
   "metadata": {},
   "source": [
    "# Feature engineering IV: app label"
   ]
  },
  {
   "cell_type": "code",
   "execution_count": 20,
   "metadata": {
    "collapsed": false
   },
   "outputs": [
    {
     "name": "stdout",
     "output_type": "stream",
     "text": [
      "                app_id  event_id\n",
      "0  5927333115845830913         2\n",
      "                app_id  label_id\n",
      "0  7324884708820027918       251\n"
     ]
    }
   ],
   "source": [
    "print(app_event[['app_id','event_id']].head(1))\n",
    "print(app_label[['app_id','label_id']].head(1))"
   ]
  },
  {
   "cell_type": "code",
   "execution_count": 21,
   "metadata": {
    "collapsed": false
   },
   "outputs": [
    {
     "name": "stdout",
     "output_type": "stream",
     "text": [
      "app_label_new:\n",
      "                app_id  label_id    app  label\n",
      "0  7324884708820027918       251  17355    207\n",
      "1 -4494216993218550286       251   4618    207\n",
      "2  6058196446775239644       406  15548    247\n",
      "3  6058196446775239644       407  15548    248\n",
      "4  8694625920731541625       406  18689    247\n"
     ]
    }
   ],
   "source": [
    "app_label_new = app_label.loc[app_label.app_id.isin(app_event.app_id.unique())].copy()\n",
    "app_label_new['app'] = encoder2.transform(app_label_new.app_id)\n",
    "encoder4 = LabelEncoder().fit(app_label_new.label_id)\n",
    "app_label_new['label'] = encoder4.transform(app_label_new.label_id)\n",
    "labelnumber = len(encoder4.classes_)\n",
    "print('app_label_new:')\n",
    "print(app_label_new.head())"
   ]
  },
  {
   "cell_type": "code",
   "execution_count": 22,
   "metadata": {
    "collapsed": false
   },
   "outputs": [
    {
     "name": "stdout",
     "output_type": "stream",
     "text": [
      "919886\n",
      "129892268\n",
      "installed_app_grouped:\n",
      "                           size\n",
      "device_id            app       \n",
      "-9222956879900151005 548     18\n",
      "                     1096    18\n",
      "                     1248    26\n",
      "                     1545    12\n",
      "                     1664    18\n",
      "installed_label_grouped:\n",
      "             device_id  label  size\n",
      "0 -9222956879900151005    117     1\n",
      "1 -9222956879900151005    120     1\n",
      "2 -9222956879900151005    126     1\n",
      "3 -9222956879900151005    138     2\n",
      "4 -9222956879900151005    147     2\n"
     ]
    }
   ],
   "source": [
    "print(app_label.size)\n",
    "print(installed_app.size)\n",
    "print('installed_app_grouped:')\n",
    "print(installed_app_grouped.head())\n",
    "installed_label_grouped = (installed_app_grouped.reset_index()[['device_id','app']]\n",
    "                          .merge(app_label_new[['app','label']])\n",
    "                          .groupby(['device_id','label']))['app'].agg(['size']).reset_index()\n",
    "                          \n",
    "print('installed_label_grouped:')\n",
    "print(installed_label_grouped.head())"
   ]
  },
  {
   "cell_type": "code",
   "execution_count": 23,
   "metadata": {
    "collapsed": false
   },
   "outputs": [],
   "source": [
    "label_app_train = pd.merge(installed_label_grouped,gender_age_train[['int_index']],\n",
    "                               how = 'right',right_index=True,left_on='device_id')\n",
    "label_app_test = pd.merge(installed_label_grouped,gender_age_test[['int_index']],\n",
    "                              how = 'right',right_index=True,left_on ='device_id' )\n",
    "label_app_train = label_app_train.dropna(subset= ['int_index','label'])\n",
    "label_app_test = label_app_test.dropna(subset= ['int_index','label'])"
   ]
  },
  {
   "cell_type": "code",
   "execution_count": 24,
   "metadata": {
    "collapsed": false
   },
   "outputs": [
    {
     "name": "stdout",
     "output_type": "stream",
     "text": [
      "X_train_installed shape: (74645, 492)\n",
      "X_test_installed shape: (112071, 492)\n"
     ]
    }
   ],
   "source": [
    "X_train_label = csr_matrix((np.ones(label_app_train.shape[0]),(label_app_train.int_index,label_app_train.label)),\n",
    "                              shape = (gender_age_train.shape[0],labelnumber))\n",
    "X_test_label = csr_matrix((np.ones(label_app_test.shape[0]),(label_app_test.int_index,label_app_test.label)),\n",
    "                              shape = (gender_age_test.shape[0],labelnumber))\n",
    "print('X_train_installed shape:',X_train_label.shape)\n",
    "print('X_test_installed shape:',X_test_label.shape)"
   ]
  },
  {
   "cell_type": "markdown",
   "metadata": {},
   "source": [
    "# Feature engineering V: active app"
   ]
  },
  {
   "cell_type": "code",
   "execution_count": 25,
   "metadata": {
    "collapsed": false
   },
   "outputs": [
    {
     "name": "stdout",
     "output_type": "stream",
     "text": [
      "             device_id  event_id    app  is_active\n",
      "0 -6401643145415154744         2  15408          1\n",
      "3 -6401643145415154744         2   8902          1\n",
      "4 -6401643145415154744         2  18686          1\n",
      "5 -6401643145415154744         2  14346          1\n",
      "9 -6401643145415154744         2  16908          1\n"
     ]
    }
   ],
   "source": [
    "active_app = pd.merge(events[['device_id']],app_event[['event_id','app','is_active']],\n",
    "                         how='right',right_on = 'event_id',left_index = True)\n",
    "active_app = active_app.loc[active_app.is_active==1]\n",
    "print(active_app.head())"
   ]
  },
  {
   "cell_type": "code",
   "execution_count": 26,
   "metadata": {
    "collapsed": false
   },
   "outputs": [
    {
     "name": "stdout",
     "output_type": "stream",
     "text": [
      "active_app_grouped:\n",
      "                           size\n",
      "device_id            app       \n",
      "-9222956879900151005 548      4\n",
      "                     1248    15\n",
      "                     1545     2\n",
      "                     1848    31\n",
      "                     2236    17\n"
     ]
    }
   ],
   "source": [
    "active_app_grouped = active_app.groupby(['device_id','app'])['app'].agg(['size'])\n",
    "print('active_app_grouped:')\n",
    "print(active_app_grouped.head())"
   ]
  },
  {
   "cell_type": "code",
   "execution_count": 27,
   "metadata": {
    "collapsed": false
   },
   "outputs": [
    {
     "name": "stdout",
     "output_type": "stream",
     "text": [
      "active_app_train:\n",
      "                           size  int_index\n",
      "device_id            app                  \n",
      "-9222956879900151005 548      4    21594.0\n",
      "                     1248    15    21594.0\n",
      "                     1545     2    21594.0\n",
      "                     1848    31    21594.0\n",
      "                     2236    17    21594.0\n"
     ]
    }
   ],
   "source": [
    "active_app_train = pd.merge(active_app_grouped,gender_age_train[['int_index']],\n",
    "                               how = 'left',right_index=True,left_index=True)\n",
    "active_app_test = pd.merge(active_app_grouped,gender_age_test[['int_index']],\n",
    "                              how = 'left',right_index=True,left_index=True)\n",
    "print('active_app_train:')\n",
    "print(active_app_train.head())"
   ]
  },
  {
   "cell_type": "code",
   "execution_count": 28,
   "metadata": {
    "collapsed": false
   },
   "outputs": [
    {
     "name": "stdout",
     "output_type": "stream",
     "text": [
      "             device_id   app  size  int_index\n",
      "0 -9222956879900151005   548     4    21594.0\n",
      "1 -9222956879900151005  1248    15    21594.0\n",
      "2 -9222956879900151005  1545     2    21594.0\n",
      "3 -9222956879900151005  1848    31    21594.0\n",
      "4 -9222956879900151005  2236    17    21594.0\n",
      "              device_id    app  size  int_index\n",
      "55 -9222661944218806987   1867     3    13612.0\n",
      "56 -9222661944218806987   7519     7    13612.0\n",
      "57 -9222661944218806987   7843     1    13612.0\n",
      "58 -9222661944218806987   8704     3    13612.0\n",
      "59 -9222661944218806987  10000     1    13612.0\n"
     ]
    }
   ],
   "source": [
    "active_app_train = active_app_train.reset_index()\n",
    "active_app_test = active_app_test.reset_index()\n",
    "active_app_train = active_app_train.dropna(subset=['int_index'])\n",
    "active_app_test = active_app_test.dropna(subset=['int_index'])\n",
    "print(active_app_train.head())\n",
    "print(active_app_test.head())"
   ]
  },
  {
   "cell_type": "code",
   "execution_count": 29,
   "metadata": {
    "collapsed": false
   },
   "outputs": [
    {
     "name": "stdout",
     "output_type": "stream",
     "text": [
      "[    0     5     6 ..., 19225 19228 19236]\n",
      "19237\n"
     ]
    }
   ],
   "source": [
    "print(np.sort(active_app_train.app.unique()))\n",
    "print(appnumber)"
   ]
  },
  {
   "cell_type": "code",
   "execution_count": 30,
   "metadata": {
    "collapsed": false
   },
   "outputs": [
    {
     "name": "stdout",
     "output_type": "stream",
     "text": [
      "X_train_active shape: (74645, 19237)\n",
      "X_test_active shape: (112071, 19237)\n"
     ]
    }
   ],
   "source": [
    "appnumber = np.size(installed_app.app.unique())\n",
    "# binary active map\n",
    "#X_train_active = csr_matrix((np.ones(active_app_train.shape[0]),\n",
    "#                            (active_app_train.int_index,active_app_train.app)), \n",
    "#                            shape = (gender_age_train.shape[0],appnumber))\n",
    "#X_test_active = csr_matrix((np.ones(active_app_test.shape[0]),\n",
    "#                            (active_app_test.int_index,active_app_test.app)),\n",
    "#                            shape = (gender_age_test.shape[0],appnumber))\n",
    "# count the number of active app\n",
    "X_train_active = csr_matrix((np.log(np.log(active_app_train['size']+1)+1),\n",
    "                            (active_app_train.int_index,active_app_train.app)), \n",
    "                            shape = (gender_age_train.shape[0],appnumber))\n",
    "X_test_active = csr_matrix((np.log(np.log(active_app_test['size']+1)+1),\n",
    "                            (active_app_test.int_index,active_app_test.app)),\n",
    "                            shape = (gender_age_test.shape[0],appnumber))\n",
    "print('X_train_active shape:',X_train_active.shape)\n",
    "print('X_test_active shape:',X_test_active.shape)"
   ]
  },
  {
   "cell_type": "markdown",
   "metadata": {},
   "source": [
    "# Feature engineering VI: active time period"
   ]
  },
  {
   "cell_type": "code",
   "execution_count": 31,
   "metadata": {
    "collapsed": false
   },
   "outputs": [
    {
     "data": {
      "text/html": [
       "<div>\n",
       "<table border=\"1\" class=\"dataframe\">\n",
       "  <thead>\n",
       "    <tr style=\"text-align: right;\">\n",
       "      <th></th>\n",
       "      <th>device_id</th>\n",
       "      <th>timestamp</th>\n",
       "      <th>longitude</th>\n",
       "      <th>latitude</th>\n",
       "    </tr>\n",
       "    <tr>\n",
       "      <th>event_id</th>\n",
       "      <th></th>\n",
       "      <th></th>\n",
       "      <th></th>\n",
       "      <th></th>\n",
       "    </tr>\n",
       "  </thead>\n",
       "  <tbody>\n",
       "    <tr>\n",
       "      <th>1</th>\n",
       "      <td>29182687948017175</td>\n",
       "      <td>2016-05-01 00:55:25</td>\n",
       "      <td>121.38</td>\n",
       "      <td>31.24</td>\n",
       "    </tr>\n",
       "    <tr>\n",
       "      <th>2</th>\n",
       "      <td>-6401643145415154744</td>\n",
       "      <td>2016-05-01 00:54:12</td>\n",
       "      <td>103.65</td>\n",
       "      <td>30.97</td>\n",
       "    </tr>\n",
       "    <tr>\n",
       "      <th>3</th>\n",
       "      <td>-4833982096941402721</td>\n",
       "      <td>2016-05-01 00:08:05</td>\n",
       "      <td>106.60</td>\n",
       "      <td>29.70</td>\n",
       "    </tr>\n",
       "    <tr>\n",
       "      <th>4</th>\n",
       "      <td>-6815121365017318426</td>\n",
       "      <td>2016-05-01 00:06:40</td>\n",
       "      <td>104.27</td>\n",
       "      <td>23.28</td>\n",
       "    </tr>\n",
       "    <tr>\n",
       "      <th>5</th>\n",
       "      <td>-5373797595892518570</td>\n",
       "      <td>2016-05-01 00:07:18</td>\n",
       "      <td>115.88</td>\n",
       "      <td>28.66</td>\n",
       "    </tr>\n",
       "  </tbody>\n",
       "</table>\n",
       "</div>"
      ],
      "text/plain": [
       "                    device_id            timestamp  longitude  latitude\n",
       "event_id                                                               \n",
       "1           29182687948017175  2016-05-01 00:55:25     121.38     31.24\n",
       "2        -6401643145415154744  2016-05-01 00:54:12     103.65     30.97\n",
       "3        -4833982096941402721  2016-05-01 00:08:05     106.60     29.70\n",
       "4        -6815121365017318426  2016-05-01 00:06:40     104.27     23.28\n",
       "5        -5373797595892518570  2016-05-01 00:07:18     115.88     28.66"
      ]
     },
     "execution_count": 31,
     "metadata": {},
     "output_type": "execute_result"
    }
   ],
   "source": [
    "events.head()"
   ]
  },
  {
   "cell_type": "code",
   "execution_count": 32,
   "metadata": {
    "collapsed": false
   },
   "outputs": [
    {
     "name": "stdout",
     "output_type": "stream",
     "text": [
      "             device_id  time  times\n",
      "0 -9222956879900151005     7      2\n",
      "1 -9222956879900151005    11      7\n",
      "2 -9222956879900151005    12     13\n",
      "3 -9222956879900151005    13      3\n",
      "4 -9222956879900151005    14      5\n"
     ]
    }
   ],
   "source": [
    "events_time = events[['device_id','timestamp']].copy()\n",
    "events_time['time']  = events_time['timestamp'].str[11:13].astype(int)\n",
    "events_time.drop(['timestamp'],axis=1,inplace=True)\n",
    "events_time = events_time.groupby(['device_id','time'])['time'].agg({'times':'count'}).reset_index()\n",
    "print(events_time.head())\n",
    "timenumber= events_time.time.unique().shape[0]"
   ]
  },
  {
   "cell_type": "code",
   "execution_count": 33,
   "metadata": {
    "collapsed": false
   },
   "outputs": [
    {
     "name": "stdout",
     "output_type": "stream",
     "text": [
      "X_train_time shape: (74645, 24)\n",
      "X_test_time shape: (112071, 24)\n"
     ]
    }
   ],
   "source": [
    "time_train = pd.merge(events_time,gender_age_train[['int_index']],\n",
    "                               right_index=True,left_on='device_id')\n",
    "time_test = pd.merge(events_time,gender_age_test[['int_index']],\n",
    "                               right_index=True,left_on ='device_id' )\n",
    "#binary\n",
    "#X_train_time = csr_matrix((np.ones(time_train.shape[0]),\n",
    "#                            (time_train.int_index,time_train.time)), \n",
    "#                            shape = (gender_age_train.shape[0],timenumber))\n",
    "#X_test_time = csr_matrix((np.ones(time_test.shape[0]),\n",
    "#                            (time_test.int_index,time_test.time)),\n",
    "#                            shape = (gender_age_test.shape[0],timenumber))\n",
    "\n",
    "#number\n",
    "X_train_time = csr_matrix((np.log(np.log(time_train['times']+1)+1),\n",
    "                            (time_train.int_index,time_train.time)), \n",
    "                            shape = (gender_age_train.shape[0],timenumber))\n",
    "X_test_time = csr_matrix((np.log(np.log(time_test['times']+1)+1),\n",
    "                            (time_test.int_index,time_test.time)),\n",
    "                            shape = (gender_age_test.shape[0],timenumber))\n",
    "print('X_train_time shape:',X_train_time.shape)\n",
    "print('X_test_time shape:',X_test_time.shape)"
   ]
  },
  {
   "cell_type": "markdown",
   "metadata": {},
   "source": [
    "Normalization of the time period count."
   ]
  },
  {
   "cell_type": "code",
   "execution_count": 34,
   "metadata": {
    "collapsed": false
   },
   "outputs": [],
   "source": [
    "scaler = StandardScaler(with_mean=False)\n",
    "X_train_time = scaler.fit_transform(X_train_time)\n",
    "X_test_time = scaler.transform(X_test_time)"
   ]
  },
  {
   "cell_type": "markdown",
   "metadata": {},
   "source": [
    "# Model training and fitting: Logistic Regression"
   ]
  },
  {
   "cell_type": "code",
   "execution_count": 35,
   "metadata": {
    "collapsed": false
   },
   "outputs": [
    {
     "name": "stdout",
     "output_type": "stream",
     "text": [
      "Training shape:\n",
      "(74645, 21527)\n",
      "Testing shape:\n",
      "(112071, 21527)\n"
     ]
    }
   ],
   "source": [
    "X_train_total = hstack((X_train_brand,X_train_model,X_train_installed,X_train_label),format='csr')\n",
    "X_test_total = hstack((X_test_brand,X_test_model,X_test_installed,X_test_label),format='csr')\n",
    "print('Training shape:')\n",
    "print(X_train_total.shape)\n",
    "print('Testing shape:')\n",
    "print(X_test_total.shape)"
   ]
  },
  {
   "cell_type": "code",
   "execution_count": 36,
   "metadata": {
    "collapsed": false
   },
   "outputs": [
    {
     "name": "stdout",
     "output_type": "stream",
     "text": [
      "12\n"
     ]
    }
   ],
   "source": [
    "targetencoder = LabelEncoder()\n",
    "targetencoder.fit(gender_age_train.group)\n",
    "y_train_total = targetencoder.transform(gender_age_train.group)\n",
    "target_len = len(targetencoder.classes_)\n",
    "print(target_len)"
   ]
  },
  {
   "cell_type": "code",
   "execution_count": 347,
   "metadata": {
    "collapsed": false
   },
   "outputs": [],
   "source": [
    "X_train,X_test,y_train,y_test = cv.train_test_split(X_train_total,y_train_total,test_size=0.005, random_state=42)"
   ]
  },
  {
   "cell_type": "code",
   "execution_count": 348,
   "metadata": {
    "collapsed": false
   },
   "outputs": [
    {
     "data": {
      "text/plain": [
       "LogisticRegression(C=0.02, class_weight=None, dual=False, fit_intercept=True,\n",
       "          intercept_scaling=1, max_iter=100, multi_class='multinomial',\n",
       "          n_jobs=1, penalty='l2', random_state=None, solver='newton-cg',\n",
       "          tol=0.0001, verbose=0, warm_start=False)"
      ]
     },
     "execution_count": 348,
     "metadata": {},
     "output_type": "execute_result"
    }
   ],
   "source": [
    "model = LogisticRegression(C=0.02,multi_class='multinomial',solver='newton-cg')\n",
    "model.fit(X_train,y_train)"
   ]
  },
  {
   "cell_type": "code",
   "execution_count": 349,
   "metadata": {
    "collapsed": false
   },
   "outputs": [],
   "source": [
    "y_pred = model.predict_proba(X_test)"
   ]
  },
  {
   "cell_type": "code",
   "execution_count": 350,
   "metadata": {
    "collapsed": false
   },
   "outputs": [
    {
     "data": {
      "text/plain": [
       "2.2749612582739513"
      ]
     },
     "execution_count": 350,
     "metadata": {},
     "output_type": "execute_result"
    }
   ],
   "source": [
    "log_loss(y_test,y_pred)"
   ]
  },
  {
   "cell_type": "code",
   "execution_count": 351,
   "metadata": {
    "collapsed": false
   },
   "outputs": [
    {
     "data": {
      "text/plain": [
       "0.19901403922409175"
      ]
     },
     "execution_count": 351,
     "metadata": {},
     "output_type": "execute_result"
    }
   ],
   "source": [
    "model.score(X_test,y_test)"
   ]
  },
  {
   "cell_type": "code",
   "execution_count": 352,
   "metadata": {
    "collapsed": false
   },
   "outputs": [
    {
     "data": {
      "text/html": [
       "<div>\n",
       "<table border=\"1\" class=\"dataframe\">\n",
       "  <thead>\n",
       "    <tr style=\"text-align: right;\">\n",
       "      <th></th>\n",
       "      <th>F23-</th>\n",
       "      <th>F24-26</th>\n",
       "      <th>F27-28</th>\n",
       "      <th>F29-32</th>\n",
       "      <th>F33-42</th>\n",
       "      <th>F43+</th>\n",
       "      <th>M22-</th>\n",
       "      <th>M23-26</th>\n",
       "      <th>M27-28</th>\n",
       "      <th>M29-31</th>\n",
       "      <th>M32-38</th>\n",
       "      <th>M39+</th>\n",
       "    </tr>\n",
       "    <tr>\n",
       "      <th>device_id</th>\n",
       "      <th></th>\n",
       "      <th></th>\n",
       "      <th></th>\n",
       "      <th></th>\n",
       "      <th></th>\n",
       "      <th></th>\n",
       "      <th></th>\n",
       "      <th></th>\n",
       "      <th></th>\n",
       "      <th></th>\n",
       "      <th></th>\n",
       "      <th></th>\n",
       "    </tr>\n",
       "  </thead>\n",
       "  <tbody>\n",
       "    <tr>\n",
       "      <th>1002079943728939269</th>\n",
       "      <td>0.001320</td>\n",
       "      <td>0.006996</td>\n",
       "      <td>0.013956</td>\n",
       "      <td>0.011760</td>\n",
       "      <td>0.033186</td>\n",
       "      <td>0.051509</td>\n",
       "      <td>0.010501</td>\n",
       "      <td>0.031108</td>\n",
       "      <td>0.069016</td>\n",
       "      <td>0.108805</td>\n",
       "      <td>0.245644</td>\n",
       "      <td>0.416199</td>\n",
       "    </tr>\n",
       "    <tr>\n",
       "      <th>-1547860181818787117</th>\n",
       "      <td>0.009032</td>\n",
       "      <td>0.014880</td>\n",
       "      <td>0.029417</td>\n",
       "      <td>0.061730</td>\n",
       "      <td>0.070525</td>\n",
       "      <td>0.148762</td>\n",
       "      <td>0.006344</td>\n",
       "      <td>0.118501</td>\n",
       "      <td>0.055331</td>\n",
       "      <td>0.067424</td>\n",
       "      <td>0.240890</td>\n",
       "      <td>0.177163</td>\n",
       "    </tr>\n",
       "    <tr>\n",
       "      <th>7374582448058474277</th>\n",
       "      <td>0.022811</td>\n",
       "      <td>0.042062</td>\n",
       "      <td>0.040158</td>\n",
       "      <td>0.136054</td>\n",
       "      <td>0.174151</td>\n",
       "      <td>0.077040</td>\n",
       "      <td>0.011671</td>\n",
       "      <td>0.024363</td>\n",
       "      <td>0.039140</td>\n",
       "      <td>0.101672</td>\n",
       "      <td>0.183772</td>\n",
       "      <td>0.147106</td>\n",
       "    </tr>\n",
       "    <tr>\n",
       "      <th>-6220210354783429585</th>\n",
       "      <td>0.003416</td>\n",
       "      <td>0.029785</td>\n",
       "      <td>0.009868</td>\n",
       "      <td>0.012436</td>\n",
       "      <td>0.046435</td>\n",
       "      <td>0.144354</td>\n",
       "      <td>0.065789</td>\n",
       "      <td>0.174171</td>\n",
       "      <td>0.068642</td>\n",
       "      <td>0.121052</td>\n",
       "      <td>0.169799</td>\n",
       "      <td>0.154253</td>\n",
       "    </tr>\n",
       "    <tr>\n",
       "      <th>-5893464122623104785</th>\n",
       "      <td>0.047394</td>\n",
       "      <td>0.065124</td>\n",
       "      <td>0.042721</td>\n",
       "      <td>0.062585</td>\n",
       "      <td>0.056626</td>\n",
       "      <td>0.043316</td>\n",
       "      <td>0.092342</td>\n",
       "      <td>0.164602</td>\n",
       "      <td>0.097607</td>\n",
       "      <td>0.102084</td>\n",
       "      <td>0.132622</td>\n",
       "      <td>0.092977</td>\n",
       "    </tr>\n",
       "  </tbody>\n",
       "</table>\n",
       "</div>"
      ],
      "text/plain": [
       "                          F23-    F24-26    F27-28    F29-32    F33-42  \\\n",
       "device_id                                                                \n",
       " 1002079943728939269  0.001320  0.006996  0.013956  0.011760  0.033186   \n",
       "-1547860181818787117  0.009032  0.014880  0.029417  0.061730  0.070525   \n",
       " 7374582448058474277  0.022811  0.042062  0.040158  0.136054  0.174151   \n",
       "-6220210354783429585  0.003416  0.029785  0.009868  0.012436  0.046435   \n",
       "-5893464122623104785  0.047394  0.065124  0.042721  0.062585  0.056626   \n",
       "\n",
       "                          F43+      M22-    M23-26    M27-28    M29-31  \\\n",
       "device_id                                                                \n",
       " 1002079943728939269  0.051509  0.010501  0.031108  0.069016  0.108805   \n",
       "-1547860181818787117  0.148762  0.006344  0.118501  0.055331  0.067424   \n",
       " 7374582448058474277  0.077040  0.011671  0.024363  0.039140  0.101672   \n",
       "-6220210354783429585  0.144354  0.065789  0.174171  0.068642  0.121052   \n",
       "-5893464122623104785  0.043316  0.092342  0.164602  0.097607  0.102084   \n",
       "\n",
       "                        M32-38      M39+  \n",
       "device_id                                 \n",
       " 1002079943728939269  0.245644  0.416199  \n",
       "-1547860181818787117  0.240890  0.177163  \n",
       " 7374582448058474277  0.183772  0.147106  \n",
       "-6220210354783429585  0.169799  0.154253  \n",
       "-5893464122623104785  0.132622  0.092977  "
      ]
     },
     "execution_count": 352,
     "metadata": {},
     "output_type": "execute_result"
    }
   ],
   "source": [
    "result = model.fit(X_train_total,y_train_total)\n",
    "pred = pd.DataFrame(model.predict_proba(X_test_total), index = gender_age_test.index, columns=targetencoder.classes_)\n",
    "pred.head()"
   ]
  },
  {
   "cell_type": "code",
   "execution_count": 353,
   "metadata": {
    "collapsed": true
   },
   "outputs": [],
   "source": [
    "pred.to_csv('logreg_submission.csv',index=True)"
   ]
  },
  {
   "cell_type": "markdown",
   "metadata": {},
   "source": [
    "# Model fitting :RF"
   ]
  },
  {
   "cell_type": "code",
   "execution_count": 234,
   "metadata": {
    "collapsed": false
   },
   "outputs": [
    {
     "name": "stderr",
     "output_type": "stream",
     "text": [
      "[Parallel(n_jobs=-1)]: Done  34 tasks      | elapsed:   53.4s\n",
      "[Parallel(n_jobs=-1)]: Done 184 tasks      | elapsed:  4.2min\n",
      "[Parallel(n_jobs=-1)]: Done 300 out of 300 | elapsed:  6.8min finished\n"
     ]
    },
    {
     "data": {
      "text/plain": [
       "RandomForestClassifier(bootstrap=True, class_weight=None, criterion='gini',\n",
       "            max_depth=None, max_features='auto', max_leaf_nodes=None,\n",
       "            min_samples_leaf=1, min_samples_split=2,\n",
       "            min_weight_fraction_leaf=0.0, n_estimators=300, n_jobs=-1,\n",
       "            oob_score=False, random_state=None, verbose=1,\n",
       "            warm_start=False)"
      ]
     },
     "execution_count": 234,
     "metadata": {},
     "output_type": "execute_result"
    }
   ],
   "source": [
    "model2 = rfc(n_estimators=300,verbose=1,n_jobs=-1)\n",
    "model2.fit(X_train,y_train)"
   ]
  },
  {
   "cell_type": "code",
   "execution_count": 236,
   "metadata": {
    "collapsed": false
   },
   "outputs": [
    {
     "name": "stderr",
     "output_type": "stream",
     "text": [
      "[Parallel(n_jobs=8)]: Done  34 tasks      | elapsed:    0.0s\n",
      "[Parallel(n_jobs=8)]: Done 184 tasks      | elapsed:    0.3s\n",
      "[Parallel(n_jobs=8)]: Done 300 out of 300 | elapsed:    0.6s finished\n"
     ]
    }
   ],
   "source": [
    "y_pred2 = model2.predict_proba(X_test)"
   ]
  },
  {
   "cell_type": "code",
   "execution_count": 237,
   "metadata": {
    "collapsed": false
   },
   "outputs": [
    {
     "data": {
      "text/plain": [
       "3.2819344751732902"
      ]
     },
     "execution_count": 237,
     "metadata": {},
     "output_type": "execute_result"
    }
   ],
   "source": [
    "log_loss(y_test,y_pred2)"
   ]
  },
  {
   "cell_type": "markdown",
   "metadata": {
    "collapsed": true
   },
   "source": [
    "# Deep learning model"
   ]
  },
  {
   "cell_type": "code",
   "execution_count": 37,
   "metadata": {
    "collapsed": false
   },
   "outputs": [],
   "source": [
    "targetencoder = LabelEncoder().fit(gender_age_train.group)\n",
    "y = targetencoder.transform(gender_age_train.group)\n",
    "nclasses = len(targetencoder.classes_)\n",
    "dummy_y = np_utils.to_categorical(y)"
   ]
  },
  {
   "cell_type": "markdown",
   "metadata": {},
   "source": [
    "Defining functions:"
   ]
  },
  {
   "cell_type": "code",
   "execution_count": 45,
   "metadata": {
    "collapsed": true
   },
   "outputs": [],
   "source": [
    "def batch_generator(X, y, batch_size, shuffle):\n",
    "    #chenglong code for fiting from generator \n",
    "    #(https://www.kaggle.com/c/talkingdata-mobile-user-demographics/forums/t/22567/neural-network-for-sparse-matrices)\n",
    "    number_of_batches = np.ceil(X.shape[0]/batch_size)\n",
    "    counter = 0\n",
    "    sample_index = np.arange(X.shape[0])\n",
    "    if shuffle:\n",
    "        np.random.shuffle(sample_index)\n",
    "    while True:\n",
    "        batch_index = sample_index[batch_size*counter:batch_size*(counter+1)]\n",
    "        X_batch = X[batch_index,:].toarray()\n",
    "        y_batch = y[batch_index]\n",
    "        counter += 1\n",
    "        yield X_batch, y_batch\n",
    "        if (counter == number_of_batches):\n",
    "            if shuffle:\n",
    "                np.random.shuffle(sample_index)\n",
    "            counter = 0\n",
    "def batch_generatorp(X, batch_size, shuffle):\n",
    "    number_of_batches = X.shape[0] / np.ceil(X.shape[0]/batch_size)\n",
    "    counter = 0\n",
    "    sample_index = np.arange(X.shape[0])\n",
    "    while True:\n",
    "        batch_index = sample_index[batch_size * counter:batch_size * (counter + 1)]\n",
    "        X_batch = X[batch_index, :].toarray()\n",
    "        counter += 1\n",
    "        yield X_batch\n",
    "        if (counter == number_of_batches):\n",
    "            counter = 0\n",
    "\n",
    "# define baseline model\n",
    "def baseline_model():\n",
    "    # create model\n",
    "    model = Sequential()\n",
    "    #model.add(Dense(10, input_dim=X_train_total.shape[1], init='normal', activation='relu'))\n",
    "    #model.add(Dropout(0.2))\n",
    "    model.add(Dense(150, input_dim=X_train_total.shape[1], init='normal', activation='tanh'))\n",
    "    model.add(Dropout(0.4))\n",
    "    model.add(Dense(50, input_dim=X_train_total.shape[1], init='normal', activation='relu'))\n",
    "    model.add(Dropout(0.3))\n",
    "    model.add(Dense(12, init='normal', activation='sigmoid'))\n",
    "    # Compile model\n",
    "    model.compile(loss='categorical_crossentropy', optimizer='adadelta', metrics=['accuracy'])  #logloss\n",
    "    return model"
   ]
  },
  {
   "cell_type": "code",
   "execution_count": 47,
   "metadata": {
    "collapsed": false
   },
   "outputs": [
    {
     "name": "stdout",
     "output_type": "stream",
     "text": [
      "Epoch 1/20\n",
      "70000/69984 [==============================] - 55s - loss: 2.4422 - acc: 0.1238 - val_loss: 2.4130 - val_acc: 0.1417\n",
      "Epoch 2/20\n",
      "70271/69984 [==============================] - 56s - loss: 2.3729 - acc: 0.1526 - val_loss: 2.3764 - val_acc: 0.1551\n",
      "Epoch 3/20\n",
      "70271/69984 [==============================] - 55s - loss: 2.3294 - acc: 0.1703 - val_loss: 2.3474 - val_acc: 0.1578\n",
      "Epoch 4/20\n",
      "70271/69984 [==============================] - 57s - loss: 2.3088 - acc: 0.1777 - val_loss: 2.3405 - val_acc: 0.1524\n",
      "Epoch 5/20\n",
      "70271/69984 [==============================] - 55s - loss: 2.2966 - acc: 0.1822 - val_loss: 2.3349 - val_acc: 0.1711\n",
      "Epoch 6/20\n",
      "70271/69984 [==============================] - 53s - loss: 2.2839 - acc: 0.1876 - val_loss: 2.3334 - val_acc: 0.1738\n",
      "Epoch 7/20\n",
      "70271/69984 [==============================] - 58s - loss: 2.2756 - acc: 0.1913 - val_loss: 2.3231 - val_acc: 0.1631\n",
      "Epoch 8/20\n",
      "70271/69984 [==============================] - 58s - loss: 2.2697 - acc: 0.1949 - val_loss: 2.3188 - val_acc: 0.1711\n",
      "Epoch 9/20\n",
      "70271/69984 [==============================] - 57s - loss: 2.2599 - acc: 0.1994 - val_loss: 2.3144 - val_acc: 0.1684\n",
      "Epoch 10/20\n",
      "70271/69984 [==============================] - 55s - loss: 2.2574 - acc: 0.1982 - val_loss: 2.3156 - val_acc: 0.1658\n",
      "Epoch 11/20\n",
      "70271/69984 [==============================] - 56s - loss: 2.2494 - acc: 0.2012 - val_loss: 2.3160 - val_acc: 0.1738\n",
      "Epoch 12/20\n",
      "70271/69984 [==============================] - 55s - loss: 2.2459 - acc: 0.2038 - val_loss: 2.3110 - val_acc: 0.1818\n",
      "Epoch 13/20\n",
      "70271/69984 [==============================] - 57s - loss: 2.2387 - acc: 0.2052 - val_loss: 2.3099 - val_acc: 0.1791\n",
      "Epoch 14/20\n",
      "70271/69984 [==============================] - 53s - loss: 2.2362 - acc: 0.2068 - val_loss: 2.3118 - val_acc: 0.1738\n",
      "Epoch 15/20\n",
      "70271/69984 [==============================] - 56s - loss: 2.2320 - acc: 0.2095 - val_loss: 2.3138 - val_acc: 0.1925\n",
      "Epoch 16/20\n",
      "70271/69984 [==============================] - 56s - loss: 2.2247 - acc: 0.2111 - val_loss: 2.3100 - val_acc: 0.1845\n",
      "Epoch 17/20\n",
      "70271/69984 [==============================] - 56s - loss: 2.2238 - acc: 0.2108 - val_loss: 2.3120 - val_acc: 0.1898\n",
      "Epoch 18/20\n",
      "70271/69984 [==============================] - 54s - loss: 2.2192 - acc: 0.2150 - val_loss: 2.3144 - val_acc: 0.1818\n",
      "Epoch 19/20\n",
      "70000/69984 [==============================] - 54s - loss: 2.2164 - acc: 0.2135 - val_loss: 2.3108 - val_acc: 0.1845\n",
      "Epoch 20/20\n",
      "70271/69984 [==============================] - 54s - loss: 2.2133 - acc: 0.2125 - val_loss: 2.3121 - val_acc: 0.1898\n",
      "logloss val 2.3121002945027005\n"
     ]
    },
    {
     "name": "stderr",
     "output_type": "stream",
     "text": [
      "/Users/Yuyang/anaconda/lib/python3.5/site-packages/keras/engine/training.py:1403: UserWarning: Epoch comprised more than `samples_per_epoch` samples, which might affect learning results. Set `samples_per_epoch` correctly to avoid this warning.\n",
      "  warnings.warn('Epoch comprised more than '\n"
     ]
    }
   ],
   "source": [
    "model=baseline_model()\n",
    "\n",
    "X_train, X_val, y_train, y_val = cv.train_test_split(X_train_total, dummy_y, test_size=0.005, random_state=42)\n",
    "\n",
    "fit= model.fit_generator(generator=batch_generator(X_train, y_train, 400, True),\n",
    "                         nb_epoch=20,\n",
    "                         samples_per_epoch=69984,\n",
    "                         validation_data=(X_val.todense(), y_val), verbose=1\n",
    "                         )\n",
    "\n",
    "# evaluate the model\n",
    "scores_val = model.predict_generator(generator=batch_generatorp(X_val, 32, False), val_samples=X_val.shape[0])\n",
    "scores = model.predict_generator(generator=batch_generatorp(X_test_total, 32, False), val_samples=X_test_total.shape[0])\n",
    "\n",
    "print('logloss val {}'.format(log_loss(y_val, scores_val)))\n",
    "\n",
    "#Scaling to 1-0 probs\n",
    "#for i in xrange(Xtest.shape[0]):\n",
    "#    scores2[i,]=scores[i,]/sum(scores[i,])\n",
    "\n",
    "pred = pd.DataFrame(scores, index = gender_age_test.index, columns=targetencoder.classes_)\n",
    "#pred.head()\n",
    "\n",
    "\n",
    "pred.to_csv('keras_v11.csv',index=True)\n"
   ]
  },
  {
   "cell_type": "code",
   "execution_count": null,
   "metadata": {
    "collapsed": true
   },
   "outputs": [],
   "source": []
  }
 ],
 "metadata": {
  "kernelspec": {
   "display_name": "Python 3",
   "language": "python",
   "name": "python3"
  },
  "language_info": {
   "codemirror_mode": {
    "name": "ipython",
    "version": 3
   },
   "file_extension": ".py",
   "mimetype": "text/x-python",
   "name": "python",
   "nbconvert_exporter": "python",
   "pygments_lexer": "ipython3",
   "version": "3.5.2"
  }
 },
 "nbformat": 4,
 "nbformat_minor": 0
}
