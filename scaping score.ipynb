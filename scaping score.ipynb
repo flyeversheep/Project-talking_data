{
 "cells": [
  {
   "cell_type": "code",
   "execution_count": 49,
   "metadata": {
    "collapsed": true
   },
   "outputs": [],
   "source": [
    "%matplotlib inline\n",
    "from bs4 import BeautifulSoup\n",
    "import requests\n",
    "import matplotlib.pyplot as plt\n",
    "import numpy as np"
   ]
  },
  {
   "cell_type": "code",
   "execution_count": 8,
   "metadata": {
    "collapsed": false
   },
   "outputs": [],
   "source": [
    "html = 'https://www.kaggle.com/c/talkingdata-mobile-user-demographics/leaderboard'\n",
    "req = requests.get(html)\n",
    "html_doc = req.content\n",
    "soup = BeautifulSoup(html_doc, 'html.parser')"
   ]
  },
  {
   "cell_type": "code",
   "execution_count": 13,
   "metadata": {
    "collapsed": false
   },
   "outputs": [
    {
     "name": "stdout",
     "output_type": "stream",
     "text": [
      "<!DOCTYPE html>\n",
      "<!--[if lt IE 7 ]><html class=\"ie ie6 lte7 lte8 lte9\"><![endif]-->\n",
      "<!--[if IE 7 ]><html clas\n"
     ]
    }
   ],
   "source": [
    "print(soup.prettify()[:108])"
   ]
  },
  {
   "cell_type": "code",
   "execution_count": 23,
   "metadata": {
    "collapsed": false
   },
   "outputs": [],
   "source": [
    "score = soup.find_all('abbr',attrs = {'class':'score'})"
   ]
  },
  {
   "cell_type": "code",
   "execution_count": 38,
   "metadata": {
    "collapsed": false
   },
   "outputs": [],
   "source": [
    "scorearray = [float(i.string) for i in score]"
   ]
  },
  {
   "cell_type": "code",
   "execution_count": 47,
   "metadata": {
    "collapsed": false
   },
   "outputs": [
    {
     "data": {
      "text/plain": [
       "(array([   0.,    0.,    0.,    0.,    0.,    0.,    0.,    0.,    0.,\n",
       "           0.,    0.,    1.,    0.,    0.,    0.,    0.,    0.,    0.,\n",
       "           1.,    2.,    1.,    0.,    0.,    2.,    0.,    1.,    1.,\n",
       "           0.,    0.,    1.,    1.,    1.,    0.,    2.,    1.,    0.,\n",
       "           2.,    3.,    1.,    1.,    1.,    3.,    0.,    3.,    4.,\n",
       "           1.,    4.,    3.,    0.,    3.,    0.,    4.,    6.,    2.,\n",
       "           3.,    0.,    2.,    4.,    4.,    3.,    4.,    3.,   10.,\n",
       "           6.,    2.,    9.,    5.,    5.,    6.,    4.,    3.,    4.,\n",
       "           5.,    4.,   10.,    4.,    6.,    1.,    9.,    2.,    1.,\n",
       "           2.,    4.,    2.,    3.,   10.,  127.,   15.,    8.,    7.,\n",
       "           5.,    3.,    8.,   16.,    1.,    2.,    0.,    0.,    1.,\n",
       "           1.,    2.,   15.,   11.,    3.,    2.,    3.,    1.,    1.,\n",
       "           0.,    0.,    2.,    1.,    1.,    1.,    1.,    1.,    2.,\n",
       "           2.,    6.,    1.,    5.,    1.,    0.,    1.,    6.,    2.,\n",
       "           1.,    0.,    1.,    1.,    1.,    0.,    0.,    0.,    2.,\n",
       "           0.,    1.,    1.,    1.,    0.,    2.,    2.,    0.,    1.,\n",
       "           0.,    0.,    3.,    5.,    5.,   18.,   63.,    4.,    4.,\n",
       "           3.,    3.,    1.,    3.,    1.,    2.,    2.,    2.,   11.,\n",
       "           2.,    2.,    3.,    2.,    1.,    1.,    2.,    2.,    4.,\n",
       "           3.,    4.,   83.,    7.,    1.,    6.,   16.,    4.,   45.,\n",
       "          14.,    2.,    0.,    2.,    1.,    2.,    0.,    2.,    0.,\n",
       "           3.,    0.,    2.,    0.,    4.,    0.,    0.,    1.,    3.,\n",
       "           2.,    0.]),\n",
       " array([ 2.22  ,  2.2203,  2.2206,  2.2209,  2.2212,  2.2215,  2.2218,\n",
       "         2.2221,  2.2224,  2.2227,  2.223 ,  2.2233,  2.2236,  2.2239,\n",
       "         2.2242,  2.2245,  2.2248,  2.2251,  2.2254,  2.2257,  2.226 ,\n",
       "         2.2263,  2.2266,  2.2269,  2.2272,  2.2275,  2.2278,  2.2281,\n",
       "         2.2284,  2.2287,  2.229 ,  2.2293,  2.2296,  2.2299,  2.2302,\n",
       "         2.2305,  2.2308,  2.2311,  2.2314,  2.2317,  2.232 ,  2.2323,\n",
       "         2.2326,  2.2329,  2.2332,  2.2335,  2.2338,  2.2341,  2.2344,\n",
       "         2.2347,  2.235 ,  2.2353,  2.2356,  2.2359,  2.2362,  2.2365,\n",
       "         2.2368,  2.2371,  2.2374,  2.2377,  2.238 ,  2.2383,  2.2386,\n",
       "         2.2389,  2.2392,  2.2395,  2.2398,  2.2401,  2.2404,  2.2407,\n",
       "         2.241 ,  2.2413,  2.2416,  2.2419,  2.2422,  2.2425,  2.2428,\n",
       "         2.2431,  2.2434,  2.2437,  2.244 ,  2.2443,  2.2446,  2.2449,\n",
       "         2.2452,  2.2455,  2.2458,  2.2461,  2.2464,  2.2467,  2.247 ,\n",
       "         2.2473,  2.2476,  2.2479,  2.2482,  2.2485,  2.2488,  2.2491,\n",
       "         2.2494,  2.2497,  2.25  ,  2.2503,  2.2506,  2.2509,  2.2512,\n",
       "         2.2515,  2.2518,  2.2521,  2.2524,  2.2527,  2.253 ,  2.2533,\n",
       "         2.2536,  2.2539,  2.2542,  2.2545,  2.2548,  2.2551,  2.2554,\n",
       "         2.2557,  2.256 ,  2.2563,  2.2566,  2.2569,  2.2572,  2.2575,\n",
       "         2.2578,  2.2581,  2.2584,  2.2587,  2.259 ,  2.2593,  2.2596,\n",
       "         2.2599,  2.2602,  2.2605,  2.2608,  2.2611,  2.2614,  2.2617,\n",
       "         2.262 ,  2.2623,  2.2626,  2.2629,  2.2632,  2.2635,  2.2638,\n",
       "         2.2641,  2.2644,  2.2647,  2.265 ,  2.2653,  2.2656,  2.2659,\n",
       "         2.2662,  2.2665,  2.2668,  2.2671,  2.2674,  2.2677,  2.268 ,\n",
       "         2.2683,  2.2686,  2.2689,  2.2692,  2.2695,  2.2698,  2.2701,\n",
       "         2.2704,  2.2707,  2.271 ,  2.2713,  2.2716,  2.2719,  2.2722,\n",
       "         2.2725,  2.2728,  2.2731,  2.2734,  2.2737,  2.274 ,  2.2743,\n",
       "         2.2746,  2.2749,  2.2752,  2.2755,  2.2758,  2.2761,  2.2764,\n",
       "         2.2767,  2.277 ,  2.2773,  2.2776,  2.2779,  2.2782,  2.2785,\n",
       "         2.2788,  2.2791,  2.2794,  2.2797,  2.28  ]),\n",
       " <a list of 200 Patch objects>)"
      ]
     },
     "execution_count": 47,
     "metadata": {},
     "output_type": "execute_result"
    },
    {
     "data": {
      "image/png": "[encoded data removed]",
      "text/plain": [
       "<matplotlib.figure.Figure at 0x10d9b1668>"
      ]
     },
     "metadata": {},
     "output_type": "display_data"
    }
   ],
   "source": [
    "plt.hist(scorearray,bins=200,range = (2.22,2.28))"
   ]
  },
  {
   "cell_type": "code",
   "execution_count": 50,
   "metadata": {
    "collapsed": false
   },
   "outputs": [],
   "source": [
    "scorearray_sort = np.sort(scorearray)"
   ]
  },
  {
   "cell_type": "code",
   "execution_count": 54,
   "metadata": {
    "collapsed": false
   },
   "outputs": [
    {
     "data": {
      "text/plain": [
       "[<matplotlib.lines.Line2D at 0x117a32438>]"
      ]
     },
     "execution_count": 54,
     "metadata": {},
     "output_type": "execute_result"
    },
    {
     "data": {
      "image/png": "[encoded data removed]",
      "text/plain": [
       "<matplotlib.figure.Figure at 0x11797cb00>"
      ]
     },
     "metadata": {},
     "output_type": "display_data"
    }
   ],
   "source": [
    "plt.figure(figsize=(20,10))\n",
    "plt.plot(scorearray_sort[0:200])"
   ]
  },
  {
   "cell_type": "code",
   "execution_count": null,
   "metadata": {
    "collapsed": true
   },
   "outputs": [],
   "source": []
  }
 ],
 "metadata": {
  "kernelspec": {
   "display_name": "Python 3",
   "language": "python",
   "name": "python3"
  },
  "language_info": {
   "codemirror_mode": {
    "name": "ipython",
    "version": 3
   },
   "file_extension": ".py",
   "mimetype": "text/x-python",
   "name": "python",
   "nbconvert_exporter": "python",
   "pygments_lexer": "ipython3",
   "version": "3.5.2"
  }
 },
 "nbformat": 4,
 "nbformat_minor": 0
}
