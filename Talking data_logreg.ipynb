{
 "cells": [
  {
   "cell_type": "code",
   "execution_count": 1,
   "metadata": {
    "collapsed": false
   },
   "outputs": [
    {
     "name": "stderr",
     "output_type": "stream",
     "text": [
      "/Users/Yuyang/anaconda/lib/python3.5/site-packages/pandas/computation/__init__.py:19: UserWarning: The installed version of numexpr 2.4.4 is not supported in pandas and will be not be used\n",
      "\n",
      "  UserWarning)\n"
     ]
    }
   ],
   "source": [
    "import pandas as pd\n",
    "import numpy as np\n",
    "from sklearn.preprocessing import LabelEncoder\n",
    "from sklearn.ensemble import RandomForestClassifier as rfc\n",
    "from sklearn import cross_validation as cv\n",
    "from sklearn.linear_model import LogisticRegression\n",
    "from sklearn.metrics import log_loss,accuracy_score\n",
    "from scipy.sparse import csr_matrix,hstack"
   ]
  },
  {
   "cell_type": "code",
   "execution_count": 2,
   "metadata": {
    "collapsed": false
   },
   "outputs": [],
   "source": [
    "events = pd.read_csv('input/events.csv',index_col='event_id')\n",
    "label = pd.read_csv('input/label_categories.csv')\n",
    "app_event = pd.read_csv('input/app_events.csv')\n",
    "app_label = pd.read_csv('input/app_labels.csv')\n",
    "device = pd.read_csv('input/phone_brand_device_model.csv')\n",
    "device = device.drop_duplicates('device_id').set_index('device_id')\n",
    "gender_age_train = pd.read_csv('input/gender_age_train.csv',index_col = 'device_id')\n",
    "gender_age_test = pd.read_csv('input/gender_age_test.csv',index_col = 'device_id')"
   ]
  },
  {
   "cell_type": "markdown",
   "metadata": {},
   "source": [
    "For the convinience of creating sparse matrix, we create another integer index for the training and testing set."
   ]
  },
  {
   "cell_type": "code",
   "execution_count": 3,
   "metadata": {
    "collapsed": false
   },
   "outputs": [],
   "source": [
    "gender_age_train['int_index'] = np.arange(gender_age_train.shape[0])\n",
    "gender_age_test['int_index'] = np.arange(gender_age_test.shape[0])"
   ]
  },
  {
   "cell_type": "code",
   "execution_count": 4,
   "metadata": {
    "collapsed": false
   },
   "outputs": [
    {
     "name": "stdout",
     "output_type": "stream",
     "text": [
      "gender_age_train\n",
      "                      gender  age   group  int_index\n",
      "device_id                                          \n",
      "-8076087639492063270      M   35  M32-38          0\n",
      "\n",
      "gender_age_test\n",
      "                      int_index\n",
      "device_id                     \n",
      "1002079943728939269          0\n",
      "\n",
      "device\n",
      "                      phone_brand device_model\n",
      "device_id                                    \n",
      "-8890648629457979026          小米           红米\n",
      "\n",
      "events\n",
      "                   device_id            timestamp  longitude  latitude\n",
      "event_id                                                             \n",
      "1         29182687948017175  2016-05-01 00:55:25     121.38     31.24\n",
      "\n",
      "label\n",
      "    label_id category\n",
      "0         1      NaN\n",
      "\n",
      "app_event\n",
      "    event_id               app_id  is_installed  is_active\n",
      "0         2  5927333115845830913             1          1\n",
      "\n",
      "app_label\n",
      "                 app_id  label_id\n",
      "0  7324884708820027918       251\n"
     ]
    }
   ],
   "source": [
    "print('gender_age_train\\n',gender_age_train.head(1))\n",
    "print('\\ngender_age_test\\n',gender_age_test.head(1))\n",
    "print('\\ndevice\\n',device.head(1))\n",
    "print('\\nevents\\n',events.head(1))\n",
    "print('\\nlabel\\n',label.head(1))\n",
    "print('\\napp_event\\n',app_event.head(1))\n",
    "print('\\napp_label\\n',app_label.head(1))"
   ]
  },
  {
   "cell_type": "markdown",
   "metadata": {},
   "source": [
    "# Feature engineering I: phone brand"
   ]
  },
  {
   "cell_type": "markdown",
   "metadata": {},
   "source": [
    "Encoding the phone brand, and feed this as a feature into the training and testing test."
   ]
  },
  {
   "cell_type": "code",
   "execution_count": 5,
   "metadata": {
    "collapsed": false
   },
   "outputs": [],
   "source": [
    "encoder = LabelEncoder()\n",
    "encoder.fit(device.phone_brand)\n",
    "device['brand'] = encoder.transform(device.phone_brand)\n",
    "gender_age_train['brand'] = device['brand']\n",
    "gender_age_test['brand'] = device['brand']"
   ]
  },
  {
   "cell_type": "markdown",
   "metadata": {},
   "source": [
    "Create sparse matrix with each row representing one device and each column representing one brand"
   ]
  },
  {
   "cell_type": "code",
   "execution_count": 6,
   "metadata": {
    "collapsed": false
   },
   "outputs": [
    {
     "name": "stdout",
     "output_type": "stream",
     "text": [
      "X_train_brand shape: (74645, 131)\n",
      "X_test_brand shape: (112071, 131)\n"
     ]
    }
   ],
   "source": [
    "X_train_brand = csr_matrix((np.ones(gender_age_train.shape[0]),\n",
    "                            (gender_age_train.int_index,gender_age_train.brand)))\n",
    "X_test_brand = csr_matrix((np.ones(gender_age_test.shape[0]),\n",
    "                           (gender_age_test.int_index,gender_age_test.brand)))\n",
    "print('X_train_brand shape:',X_train_brand.shape)\n",
    "print('X_test_brand shape:',X_test_brand.shape)"
   ]
  },
  {
   "cell_type": "markdown",
   "metadata": {},
   "source": [
    "# Feature engineering II: Installed app"
   ]
  },
  {
   "cell_type": "markdown",
   "metadata": {},
   "source": [
    "Encoding the app_id and store it into app column, and feed this as a feature into the training and testing test."
   ]
  },
  {
   "cell_type": "code",
   "execution_count": 7,
   "metadata": {
    "collapsed": true
   },
   "outputs": [],
   "source": [
    "encoder2 = LabelEncoder()\n",
    "encoder2.fit(app_event.app_id)\n",
    "app_event['app'] = encoder2.transform(app_event.app_id)"
   ]
  },
  {
   "cell_type": "code",
   "execution_count": 8,
   "metadata": {
    "collapsed": false
   },
   "outputs": [
    {
     "data": {
      "text/plain": [
       "array([    0,     1,     2, ..., 19234, 19235, 19236])"
      ]
     },
     "execution_count": 8,
     "metadata": {},
     "output_type": "execute_result"
    }
   ],
   "source": [
    "np.sort(app_event.app.unique())"
   ]
  },
  {
   "cell_type": "code",
   "execution_count": 9,
   "metadata": {
    "collapsed": false
   },
   "outputs": [
    {
     "name": "stdout",
     "output_type": "stream",
     "text": [
      "   event_id               app_id  is_installed  is_active    app\n",
      "0         2  5927333115845830913             1          1  15408\n",
      "                  device_id            timestamp  longitude  latitude\n",
      "event_id                                                             \n",
      "1         29182687948017175  2016-05-01 00:55:25     121.38     31.24\n"
     ]
    }
   ],
   "source": [
    "print(app_event.head(1))\n",
    "print(events.head(1))"
   ]
  },
  {
   "cell_type": "code",
   "execution_count": 10,
   "metadata": {
    "collapsed": false
   },
   "outputs": [
    {
     "name": "stdout",
     "output_type": "stream",
     "text": [
      "             device_id  event_id    app  is_installed\n",
      "0 -6401643145415154744         2  15408             1\n",
      "1 -6401643145415154744         2   3384             1\n",
      "2 -6401643145415154744         2   7620             1\n",
      "3 -6401643145415154744         2   8902             1\n",
      "4 -6401643145415154744         2  18686             1\n"
     ]
    }
   ],
   "source": [
    "installed_app = pd.merge(events[['device_id']],app_event[['event_id','app','is_installed']],\n",
    "                         how='right',right_on = 'event_id',left_index = True)\n",
    "print(installed_app.head())"
   ]
  },
  {
   "cell_type": "code",
   "execution_count": 11,
   "metadata": {
    "collapsed": false
   },
   "outputs": [
    {
     "name": "stdout",
     "output_type": "stream",
     "text": [
      "installed_app_grouped:\n",
      "                           size\n",
      "device_id            app       \n",
      "-9222956879900151005 548     18\n",
      "                     1096    18\n",
      "                     1248    26\n",
      "                     1545    12\n",
      "                     1664    18\n",
      "installed_app_train:\n",
      "                           size  int_index\n",
      "device_id            app                  \n",
      "-9222956879900151005 548     18      21594\n",
      "                     1096    18      21594\n",
      "                     1248    26      21594\n",
      "                     1545    12      21594\n",
      "                     1664    18      21594\n"
     ]
    }
   ],
   "source": [
    "installed_app_grouped = installed_app.groupby(['device_id','app'])['app'].agg(['size'])\n",
    "print('installed_app_grouped:')\n",
    "print(installed_app_grouped.head())\n",
    "installed_app_train = pd.merge(installed_app_grouped,gender_age_train[['int_index']],\n",
    "                               how = 'right',right_index=True,left_index=True)\n",
    "installed_app_test = pd.merge(installed_app_grouped,gender_age_test[['int_index']],\n",
    "                              how = 'right',right_index=True,left_index=True)\n",
    "print('installed_app_train:')\n",
    "print(installed_app_train.head())"
   ]
  },
  {
   "cell_type": "code",
   "execution_count": 12,
   "metadata": {
    "collapsed": false
   },
   "outputs": [
    {
     "name": "stdout",
     "output_type": "stream",
     "text": [
      "             device_id   app  size  int_index\n",
      "0 -9222956879900151005   548    18      21594\n",
      "1 -9222956879900151005  1096    18      21594\n",
      "2 -9222956879900151005  1248    26      21594\n",
      "3 -9222956879900151005  1545    12      21594\n",
      "4 -9222956879900151005  1664    18      21594\n",
      "             device_id    app  size  int_index\n",
      "0 -9222661944218806987   1867     3      13612\n",
      "1 -9222661944218806987   7519     8      13612\n",
      "2 -9222661944218806987   7843     1      13612\n",
      "3 -9222661944218806987   8704     4      13612\n",
      "4 -9222661944218806987  10000     1      13612\n"
     ]
    }
   ],
   "source": [
    "installed_app_train = installed_app_train.reset_index()\n",
    "installed_app_test = installed_app_test.reset_index()\n",
    "installed_app_train = installed_app_train.dropna(subset=['int_index'])\n",
    "installed_app_test = installed_app_test.dropna(subset=['int_index'])\n",
    "print(installed_app_train.head())\n",
    "print(installed_app_test.head())"
   ]
  },
  {
   "cell_type": "markdown",
   "metadata": {},
   "source": [
    "Calculate the number of unique app:"
   ]
  },
  {
   "cell_type": "code",
   "execution_count": 13,
   "metadata": {
    "collapsed": false
   },
   "outputs": [
    {
     "name": "stdout",
     "output_type": "stream",
     "text": [
      "The number of unique apps:\n",
      "19237\n"
     ]
    }
   ],
   "source": [
    "print('The number of unique apps:')\n",
    "print(np.size(installed_app.app.unique()))\n",
    "appnumber = np.size(installed_app.app.unique())"
   ]
  },
  {
   "cell_type": "code",
   "execution_count": 14,
   "metadata": {
    "collapsed": false
   },
   "outputs": [
    {
     "name": "stdout",
     "output_type": "stream",
     "text": [
      "112071\n",
      "915632\n"
     ]
    }
   ],
   "source": [
    "print(gender_age_test.shape[0])\n",
    "print(installed_app_train.shape[0])"
   ]
  },
  {
   "cell_type": "code",
   "execution_count": 15,
   "metadata": {
    "collapsed": false
   },
   "outputs": [
    {
     "name": "stdout",
     "output_type": "stream",
     "text": [
      "[    0     1     2 ..., 19234 19235 19236]\n",
      "1387337\n"
     ]
    }
   ],
   "source": [
    "print(np.sort(installed_app_train.app.unique()))\n",
    "print(installed_app_test.shape[0])"
   ]
  },
  {
   "cell_type": "code",
   "execution_count": 16,
   "metadata": {
    "collapsed": false
   },
   "outputs": [
    {
     "name": "stdout",
     "output_type": "stream",
     "text": [
      "X_train_installed shape: (74645, 19237)\n",
      "X_test_installed shape: (112071, 19237)\n"
     ]
    }
   ],
   "source": [
    "X_train_installed = csr_matrix((np.ones(installed_app_train.shape[0]),\n",
    "                                (installed_app_train.int_index,installed_app_train.app)), \n",
    "                               shape = (gender_age_train.shape[0],appnumber))\n",
    "X_test_installed = csr_matrix((np.ones(installed_app_test.shape[0]),\n",
    "                               (installed_app_test.int_index,installed_app_test.app)),\n",
    "                               shape = (gender_age_test.shape[0],appnumber))\n",
    "print('X_train_installed shape:',X_train_installed.shape)\n",
    "print('X_test_installed shape:',X_test_installed.shape)"
   ]
  },
  {
   "cell_type": "code",
   "execution_count": 17,
   "metadata": {
    "collapsed": false
   },
   "outputs": [
    {
     "data": {
      "text/plain": [
       "array([     0,      1,      2, ..., 112059, 112060, 112063])"
      ]
     },
     "execution_count": 17,
     "metadata": {},
     "output_type": "execute_result"
    }
   ],
   "source": [
    "np.sort(installed_app_test.int_index.unique())"
   ]
  },
  {
   "cell_type": "markdown",
   "metadata": {},
   "source": [
    "# Feature engineering III: phone device model"
   ]
  },
  {
   "cell_type": "code",
   "execution_count": 18,
   "metadata": {
    "collapsed": true
   },
   "outputs": [],
   "source": [
    "brand_model = device.phone_brand.str.cat(device.device_model)\n",
    "encoder3 = LabelEncoder()\n",
    "encoder3.fit(brand_model)\n",
    "device['model'] = encoder3.transform(brand_model)\n",
    "gender_age_train['model'] = device['model']\n",
    "gender_age_test['model'] = device['model']"
   ]
  },
  {
   "cell_type": "code",
   "execution_count": 19,
   "metadata": {
    "collapsed": false
   },
   "outputs": [
    {
     "name": "stdout",
     "output_type": "stream",
     "text": [
      "X_train_brand shape: (74645, 1667)\n",
      "X_test_brand shape: (112071, 1667)\n"
     ]
    }
   ],
   "source": [
    "X_train_model = csr_matrix((np.ones(gender_age_train.shape[0]),(gender_age_train.int_index,gender_age_train.model)))\n",
    "X_test_model = csr_matrix((np.ones(gender_age_test.shape[0]),(gender_age_test.int_index,gender_age_test.model)))\n",
    "print('X_train_brand shape:',X_train_model.shape)\n",
    "print('X_test_brand shape:',X_test_model.shape)"
   ]
  },
  {
   "cell_type": "markdown",
   "metadata": {},
   "source": [
    "# Feature engineering IV: app label"
   ]
  },
  {
   "cell_type": "code",
   "execution_count": 20,
   "metadata": {
    "collapsed": false
   },
   "outputs": [
    {
     "name": "stdout",
     "output_type": "stream",
     "text": [
      "                app_id  event_id\n",
      "0  5927333115845830913         2\n",
      "                app_id  label_id\n",
      "0  7324884708820027918       251\n"
     ]
    }
   ],
   "source": [
    "print(app_event[['app_id','event_id']].head(1))\n",
    "print(app_label[['app_id','label_id']].head(1))"
   ]
  },
  {
   "cell_type": "code",
   "execution_count": 21,
   "metadata": {
    "collapsed": false
   },
   "outputs": [
    {
     "name": "stdout",
     "output_type": "stream",
     "text": [
      "app_label_new:\n",
      "                app_id  label_id    app  label\n",
      "0  7324884708820027918       251  17355    207\n",
      "1 -4494216993218550286       251   4618    207\n",
      "2  6058196446775239644       406  15548    247\n",
      "3  6058196446775239644       407  15548    248\n",
      "4  8694625920731541625       406  18689    247\n"
     ]
    }
   ],
   "source": [
    "app_label_new = app_label.loc[app_label.app_id.isin(app_event.app_id.unique())].copy()\n",
    "app_label_new['app'] = encoder2.transform(app_label_new.app_id)\n",
    "encoder4 = LabelEncoder().fit(app_label_new.label_id)\n",
    "app_label_new['label'] = encoder4.transform(app_label_new.label_id)\n",
    "labelnumber = len(encoder4.classes_)\n",
    "print('app_label_new:')\n",
    "print(app_label_new.head())"
   ]
  },
  {
   "cell_type": "code",
   "execution_count": 22,
   "metadata": {
    "collapsed": false
   },
   "outputs": [
    {
     "name": "stdout",
     "output_type": "stream",
     "text": [
      "919886\n",
      "129892268\n",
      "installed_app_grouped:\n",
      "                           size\n",
      "device_id            app       \n",
      "-9222956879900151005 548     18\n",
      "                     1096    18\n",
      "                     1248    26\n",
      "                     1545    12\n",
      "                     1664    18\n",
      "installed_label_grouped:\n",
      "             device_id  label  size\n",
      "0 -9222956879900151005    117     1\n",
      "1 -9222956879900151005    120     1\n",
      "2 -9222956879900151005    126     1\n",
      "3 -9222956879900151005    138     2\n",
      "4 -9222956879900151005    147     2\n"
     ]
    }
   ],
   "source": [
    "print(app_label.size)\n",
    "print(installed_app.size)\n",
    "print('installed_app_grouped:')\n",
    "print(installed_app_grouped.head())\n",
    "installed_label_grouped = (installed_app_grouped.reset_index()[['device_id','app']]\n",
    "                          .merge(app_label_new[['app','label']])\n",
    "                          .groupby(['device_id','label']))['app'].agg(['size']).reset_index()\n",
    "                          \n",
    "print('installed_label_grouped:')\n",
    "print(installed_label_grouped.head())"
   ]
  },
  {
   "cell_type": "code",
   "execution_count": 28,
   "metadata": {
    "collapsed": false
   },
   "outputs": [],
   "source": [
    "label_app_train = pd.merge(installed_label_grouped,gender_age_train[['int_index']],\n",
    "                               how = 'right',right_index=True,left_on='device_id')\n",
    "label_app_test = pd.merge(installed_label_grouped,gender_age_test[['int_index']],\n",
    "                              how = 'right',right_index=True,left_on ='device_id' )\n",
    "label_app_train = label_app_train.dropna(subset= ['int_index','label'])\n",
    "label_app_test = label_app_test.dropna(subset= ['int_index','label'])"
   ]
  },
  {
   "cell_type": "code",
   "execution_count": 29,
   "metadata": {
    "collapsed": false
   },
   "outputs": [
    {
     "name": "stdout",
     "output_type": "stream",
     "text": [
      "X_train_installed shape: (74645, 492)\n",
      "X_test_installed shape: (112071, 492)\n"
     ]
    }
   ],
   "source": [
    "X_train_label = csr_matrix((np.ones(label_app_train.shape[0]),(label_app_train.int_index,label_app_train.label)),\n",
    "                              shape = (gender_age_train.shape[0],labelnumber))\n",
    "X_test_label = csr_matrix((np.ones(label_app_test.shape[0]),(label_app_test.int_index,label_app_test.label)),\n",
    "                              shape = (gender_age_test.shape[0],labelnumber))\n",
    "print('X_train_installed shape:',X_train_label.shape)\n",
    "print('X_test_installed shape:',X_test_label.shape)"
   ]
  },
  {
   "cell_type": "markdown",
   "metadata": {},
   "source": [
    "# Feature engineering V: active app"
   ]
  },
  {
   "cell_type": "code",
   "execution_count": 40,
   "metadata": {
    "collapsed": false
   },
   "outputs": [
    {
     "name": "stdout",
     "output_type": "stream",
     "text": [
      "             device_id  event_id    app  is_active\n",
      "0 -6401643145415154744         2  15408          1\n",
      "3 -6401643145415154744         2   8902          1\n",
      "4 -6401643145415154744         2  18686          1\n",
      "5 -6401643145415154744         2  14346          1\n",
      "9 -6401643145415154744         2  16908          1\n"
     ]
    }
   ],
   "source": [
    "active_app = pd.merge(events[['device_id']],app_event[['event_id','app','is_active']],\n",
    "                         how='right',right_on = 'event_id',left_index = True)\n",
    "active_app = active_app.loc[active_app.is_active==1]\n",
    "print(active_app.head())"
   ]
  },
  {
   "cell_type": "code",
   "execution_count": 41,
   "metadata": {
    "collapsed": false
   },
   "outputs": [
    {
     "name": "stdout",
     "output_type": "stream",
     "text": [
      "active_app_grouped:\n",
      "                           size\n",
      "device_id            app       \n",
      "-9222956879900151005 548      4\n",
      "                     1248    15\n",
      "                     1545     2\n",
      "                     1848    31\n",
      "                     2236    17\n"
     ]
    }
   ],
   "source": [
    "active_app_grouped = active_app.groupby(['device_id','app'])['app'].agg(['size'])\n",
    "print('active_app_grouped:')\n",
    "print(active_app_grouped.head())\n",
    "active_app_train = pd.merge(active_app_grouped,gender_age_train[['int_index']],\n",
    "                               how = 'right',right_index=True,left_index=True)\n",
    "active_app_test = pd.merge(active_app_grouped,gender_age_test[['int_index']],\n",
    "                              how = 'right',right_index=True,left_index=True)"
   ]
  },
  {
   "cell_type": "code",
   "execution_count": 42,
   "metadata": {
    "collapsed": false
   },
   "outputs": [
    {
     "name": "stdout",
     "output_type": "stream",
     "text": [
      "             device_id   app  size  int_index\n",
      "0 -9222956879900151005   548     4      21594\n",
      "1 -9222956879900151005  1248    15      21594\n",
      "2 -9222956879900151005  1545     2      21594\n",
      "3 -9222956879900151005  1848    31      21594\n",
      "4 -9222956879900151005  2236    17      21594\n",
      "             device_id    app  size  int_index\n",
      "0 -9222661944218806987   1867     3      13612\n",
      "1 -9222661944218806987   7519     7      13612\n",
      "2 -9222661944218806987   7843     1      13612\n",
      "3 -9222661944218806987   8704     3      13612\n",
      "4 -9222661944218806987  10000     1      13612\n"
     ]
    }
   ],
   "source": [
    "active_app_train = active_app_train.reset_index()\n",
    "active_app_test = active_app_test.reset_index()\n",
    "active_app_train = active_app_train.dropna(subset=['int_index'])\n",
    "active_app_test = active_app_test.dropna(subset=['int_index'])\n",
    "print(active_app_train.head())\n",
    "print(active_app_test.head())"
   ]
  },
  {
   "cell_type": "code",
   "execution_count": 49,
   "metadata": {
    "collapsed": false
   },
   "outputs": [
    {
     "name": "stdout",
     "output_type": "stream",
     "text": [
      "[    0     5     6 ..., 19225 19228 19236]\n",
      "10582\n"
     ]
    }
   ],
   "source": [
    "print(np.sort(active_app_train.app.unique()))\n",
    "print(appnumber)"
   ]
  },
  {
   "cell_type": "code",
   "execution_count": 161,
   "metadata": {
    "collapsed": false
   },
   "outputs": [
    {
     "name": "stdout",
     "output_type": "stream",
     "text": [
      "X_train_active shape: (74645, 19237)\n",
      "X_test_active shape: (112071, 19237)\n"
     ]
    }
   ],
   "source": [
    "appnumber = np.size(installed_app.app.unique())\n",
    "# binary active map\n",
    "#X_train_active = csr_matrix((np.ones(active_app_train.shape[0]),\n",
    "#                            (active_app_train.int_index,active_app_train.app)), \n",
    "#                            shape = (gender_age_train.shape[0],appnumber))\n",
    "#X_test_active = csr_matrix((np.ones(active_app_test.shape[0]),\n",
    "#                            (active_app_test.int_index,active_app_test.app)),\n",
    "#                            shape = (gender_age_test.shape[0],appnumber))\n",
    "# count the number of active app\n",
    "X_train_active = csr_matrix((np.log(np.log(active_app_train['size']+1)+1),\n",
    "                            (active_app_train.int_index,active_app_train.app)), \n",
    "                            shape = (gender_age_train.shape[0],appnumber))\n",
    "X_test_active = csr_matrix((np.log(np.log(active_app_test['size']+1)+1),\n",
    "                            (active_app_test.int_index,active_app_test.app)),\n",
    "                            shape = (gender_age_test.shape[0],appnumber))\n",
    "print('X_train_active shape:',X_train_active.shape)\n",
    "print('X_test_active shape:',X_test_active.shape)"
   ]
  },
  {
   "cell_type": "markdown",
   "metadata": {},
   "source": [
    "# Model training and fitting"
   ]
  },
  {
   "cell_type": "code",
   "execution_count": 162,
   "metadata": {
    "collapsed": false
   },
   "outputs": [
    {
     "name": "stdout",
     "output_type": "stream",
     "text": [
      "Training shape:\n",
      "(74645, 40764)\n",
      "Testing shape:\n",
      "(112071, 40764)\n"
     ]
    }
   ],
   "source": [
    "X_train_total = hstack((X_train_brand,X_train_model,X_train_active,X_train_installed,X_train_label),format='csr')\n",
    "X_test_total = hstack((X_test_brand,X_test_model,X_test_active,X_test_installed,X_test_label),format='csr')\n",
    "print('Training shape:')\n",
    "print(X_train_total.shape)\n",
    "print('Testing shape:')\n",
    "print(X_test_total.shape)"
   ]
  },
  {
   "cell_type": "code",
   "execution_count": 163,
   "metadata": {
    "collapsed": false
   },
   "outputs": [
    {
     "name": "stdout",
     "output_type": "stream",
     "text": [
      "12\n"
     ]
    }
   ],
   "source": [
    "targetencoder = LabelEncoder()\n",
    "targetencoder.fit(gender_age_train.group)\n",
    "y_train_total = targetencoder.transform(gender_age_train.group)\n",
    "target_len = len(targetencoder.classes_)\n",
    "print(target_len)"
   ]
  },
  {
   "cell_type": "code",
   "execution_count": 164,
   "metadata": {
    "collapsed": false
   },
   "outputs": [],
   "source": [
    "X_train,X_test,y_train,y_test = cv.train_test_split(X_train_total,y_train_total)"
   ]
  },
  {
   "cell_type": "code",
   "execution_count": 165,
   "metadata": {
    "collapsed": false
   },
   "outputs": [
    {
     "data": {
      "text/plain": [
       "LogisticRegression(C=0.02, class_weight=None, dual=False, fit_intercept=True,\n",
       "          intercept_scaling=1, max_iter=100, multi_class='multinomial',\n",
       "          n_jobs=1, penalty='l2', random_state=None, solver='lbfgs',\n",
       "          tol=0.0001, verbose=0, warm_start=False)"
      ]
     },
     "execution_count": 165,
     "metadata": {},
     "output_type": "execute_result"
    }
   ],
   "source": [
    "model = LogisticRegression(C=0.02,multi_class='multinomial',solver='lbfgs')\n",
    "model.fit(X_train,y_train)"
   ]
  },
  {
   "cell_type": "code",
   "execution_count": 166,
   "metadata": {
    "collapsed": false
   },
   "outputs": [],
   "source": [
    "y_pred = model.predict_proba(X_test)"
   ]
  },
  {
   "cell_type": "code",
   "execution_count": 167,
   "metadata": {
    "collapsed": false
   },
   "outputs": [
    {
     "data": {
      "text/plain": [
       "2.2748239851227718"
      ]
     },
     "execution_count": 167,
     "metadata": {},
     "output_type": "execute_result"
    }
   ],
   "source": [
    "log_loss(y_test,y_pred)"
   ]
  },
  {
   "cell_type": "code",
   "execution_count": 168,
   "metadata": {
    "collapsed": false
   },
   "outputs": [
    {
     "data": {
      "text/plain": [
       "0.19799592755331691"
      ]
     },
     "execution_count": 168,
     "metadata": {},
     "output_type": "execute_result"
    }
   ],
   "source": [
    "model.score(X_test,y_test)"
   ]
  },
  {
   "cell_type": "code",
   "execution_count": 169,
   "metadata": {
    "collapsed": false
   },
   "outputs": [
    {
     "data": {
      "text/html": [
       "<div>\n",
       "<table border=\"1\" class=\"dataframe\">\n",
       "  <thead>\n",
       "    <tr style=\"text-align: right;\">\n",
       "      <th></th>\n",
       "      <th>F23-</th>\n",
       "      <th>F24-26</th>\n",
       "      <th>F27-28</th>\n",
       "      <th>F29-32</th>\n",
       "      <th>F33-42</th>\n",
       "      <th>F43+</th>\n",
       "      <th>M22-</th>\n",
       "      <th>M23-26</th>\n",
       "      <th>M27-28</th>\n",
       "      <th>M29-31</th>\n",
       "      <th>M32-38</th>\n",
       "      <th>M39+</th>\n",
       "    </tr>\n",
       "    <tr>\n",
       "      <th>device_id</th>\n",
       "      <th></th>\n",
       "      <th></th>\n",
       "      <th></th>\n",
       "      <th></th>\n",
       "      <th></th>\n",
       "      <th></th>\n",
       "      <th></th>\n",
       "      <th></th>\n",
       "      <th></th>\n",
       "      <th></th>\n",
       "      <th></th>\n",
       "      <th></th>\n",
       "    </tr>\n",
       "  </thead>\n",
       "  <tbody>\n",
       "    <tr>\n",
       "      <th>1002079943728939269</th>\n",
       "      <td>0.001402</td>\n",
       "      <td>0.006371</td>\n",
       "      <td>0.011369</td>\n",
       "      <td>0.013290</td>\n",
       "      <td>0.025903</td>\n",
       "      <td>0.045496</td>\n",
       "      <td>0.012665</td>\n",
       "      <td>0.029355</td>\n",
       "      <td>0.070589</td>\n",
       "      <td>0.119021</td>\n",
       "      <td>0.281575</td>\n",
       "      <td>0.382964</td>\n",
       "    </tr>\n",
       "    <tr>\n",
       "      <th>-1547860181818787117</th>\n",
       "      <td>0.005939</td>\n",
       "      <td>0.011314</td>\n",
       "      <td>0.026862</td>\n",
       "      <td>0.061278</td>\n",
       "      <td>0.070699</td>\n",
       "      <td>0.151770</td>\n",
       "      <td>0.004477</td>\n",
       "      <td>0.078844</td>\n",
       "      <td>0.058420</td>\n",
       "      <td>0.070251</td>\n",
       "      <td>0.265802</td>\n",
       "      <td>0.194345</td>\n",
       "    </tr>\n",
       "    <tr>\n",
       "      <th>7374582448058474277</th>\n",
       "      <td>0.021657</td>\n",
       "      <td>0.040077</td>\n",
       "      <td>0.036192</td>\n",
       "      <td>0.171789</td>\n",
       "      <td>0.175527</td>\n",
       "      <td>0.064608</td>\n",
       "      <td>0.013006</td>\n",
       "      <td>0.028874</td>\n",
       "      <td>0.038650</td>\n",
       "      <td>0.105743</td>\n",
       "      <td>0.175734</td>\n",
       "      <td>0.128145</td>\n",
       "    </tr>\n",
       "    <tr>\n",
       "      <th>-6220210354783429585</th>\n",
       "      <td>0.002787</td>\n",
       "      <td>0.027103</td>\n",
       "      <td>0.006781</td>\n",
       "      <td>0.011161</td>\n",
       "      <td>0.052703</td>\n",
       "      <td>0.153890</td>\n",
       "      <td>0.049567</td>\n",
       "      <td>0.129915</td>\n",
       "      <td>0.098586</td>\n",
       "      <td>0.105512</td>\n",
       "      <td>0.177047</td>\n",
       "      <td>0.184949</td>\n",
       "    </tr>\n",
       "    <tr>\n",
       "      <th>-5893464122623104785</th>\n",
       "      <td>0.046724</td>\n",
       "      <td>0.065761</td>\n",
       "      <td>0.042758</td>\n",
       "      <td>0.062431</td>\n",
       "      <td>0.056630</td>\n",
       "      <td>0.043228</td>\n",
       "      <td>0.090365</td>\n",
       "      <td>0.163639</td>\n",
       "      <td>0.098731</td>\n",
       "      <td>0.102505</td>\n",
       "      <td>0.133893</td>\n",
       "      <td>0.093334</td>\n",
       "    </tr>\n",
       "  </tbody>\n",
       "</table>\n",
       "</div>"
      ],
      "text/plain": [
       "                          F23-    F24-26    F27-28    F29-32    F33-42  \\\n",
       "device_id                                                                \n",
       " 1002079943728939269  0.001402  0.006371  0.011369  0.013290  0.025903   \n",
       "-1547860181818787117  0.005939  0.011314  0.026862  0.061278  0.070699   \n",
       " 7374582448058474277  0.021657  0.040077  0.036192  0.171789  0.175527   \n",
       "-6220210354783429585  0.002787  0.027103  0.006781  0.011161  0.052703   \n",
       "-5893464122623104785  0.046724  0.065761  0.042758  0.062431  0.056630   \n",
       "\n",
       "                          F43+      M22-    M23-26    M27-28    M29-31  \\\n",
       "device_id                                                                \n",
       " 1002079943728939269  0.045496  0.012665  0.029355  0.070589  0.119021   \n",
       "-1547860181818787117  0.151770  0.004477  0.078844  0.058420  0.070251   \n",
       " 7374582448058474277  0.064608  0.013006  0.028874  0.038650  0.105743   \n",
       "-6220210354783429585  0.153890  0.049567  0.129915  0.098586  0.105512   \n",
       "-5893464122623104785  0.043228  0.090365  0.163639  0.098731  0.102505   \n",
       "\n",
       "                        M32-38      M39+  \n",
       "device_id                                 \n",
       " 1002079943728939269  0.281575  0.382964  \n",
       "-1547860181818787117  0.265802  0.194345  \n",
       " 7374582448058474277  0.175734  0.128145  \n",
       "-6220210354783429585  0.177047  0.184949  \n",
       "-5893464122623104785  0.133893  0.093334  "
      ]
     },
     "execution_count": 169,
     "metadata": {},
     "output_type": "execute_result"
    }
   ],
   "source": [
    "model.fit(X_train_total,y_train_total)\n",
    "pred = pd.DataFrame(model.predict_proba(X_test_total), index = gender_age_test.index, columns=targetencoder.classes_)\n",
    "pred.head()"
   ]
  },
  {
   "cell_type": "code",
   "execution_count": null,
   "metadata": {
    "collapsed": true
   },
   "outputs": [],
   "source": []
  },
  {
   "cell_type": "code",
   "execution_count": 170,
   "metadata": {
    "collapsed": true
   },
   "outputs": [],
   "source": [
    "pred.to_csv('logreg_submission.csv',index=True)"
   ]
  }
 ],
 "metadata": {
  "kernelspec": {
   "display_name": "Python 3",
   "language": "python",
   "name": "python3"
  },
  "language_info": {
   "codemirror_mode": {
    "name": "ipython",
    "version": 3
   },
   "file_extension": ".py",
   "mimetype": "text/x-python",
   "name": "python",
   "nbconvert_exporter": "python",
   "pygments_lexer": "ipython3",
   "version": "3.5.2"
  }
 },
 "nbformat": 4,
 "nbformat_minor": 0
}
