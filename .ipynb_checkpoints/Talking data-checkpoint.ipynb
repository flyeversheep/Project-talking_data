{
 "cells": [
  {
   "cell_type": "code",
   "execution_count": 1,
   "metadata": {
    "collapsed": false
   },
   "outputs": [],
   "source": [
    "import pandas as pd\n",
    "import numpy as np\n",
    "from sklearn.preprocessing import LabelEncoder\n",
    "from sklearn.ensemble import RandomForestClassifier as rfc\n",
    "from sklearn.svm import LinearSVC\n",
    "from sklearn import cross_validation as cv\n",
    "from sklearn.linear_model import LogisticRegression\n",
    "from sklearn.metrics import log_loss,accuracy_score\n",
    "from scipy.sparse import csr_matrix,hstack\n",
    "import time\n",
    "from sklearn.feature_selection import SelectKBest\n",
    "from sklearn.feature_selection import chi2\n"
   ]
  },
  {
   "cell_type": "code",
   "execution_count": 2,
   "metadata": {
    "collapsed": false
   },
   "outputs": [],
   "source": [
    "events = pd.read_csv('C:/Users/sxl/Study/Kaggle_project/Talking_data_project/input/events.csv',index_col='event_id')\n",
    "label = pd.read_csv('C:/Users/sxl/Study/Kaggle_project/Talking_data_project/input/label_categories.csv')\n",
    "app_event = pd.read_csv('C:/Users/sxl/Study/Kaggle_project/Talking_data_project/input/app_events.csv')\n",
    "app_label = pd.read_csv('C:/Users/sxl/Study/Kaggle_project/Talking_data_project/input/app_labels.csv')\n",
    "device = pd.read_csv('C:/Users/sxl/Study/Kaggle_project/Talking_data_project/input/phone_brand_device_model.csv')\n",
    "device = device.drop_duplicates('device_id').set_index('device_id')\n",
    "gender_age_train = pd.read_csv('C:/Users/sxl/Study/Kaggle_project/Talking_data_project/input/gender_age_train.csv',index_col = 'device_id')\n",
    "gender_age_test = pd.read_csv('C:/Users/sxl/Study/Kaggle_project/Talking_data_project/input/gender_age_test.csv',index_col = 'device_id')"
   ]
  },
  {
   "cell_type": "markdown",
   "metadata": {},
   "source": [
    "For the convinience of creating sparse matrix, we create another integer index for the training and testing set."
   ]
  },
  {
   "cell_type": "code",
   "execution_count": 3,
   "metadata": {
    "collapsed": false
   },
   "outputs": [],
   "source": [
    "gender_age_train['int_index'] = np.arange(gender_age_train.shape[0])\n",
    "gender_age_test['int_index'] = np.arange(gender_age_test.shape[0])"
   ]
  },
  {
   "cell_type": "code",
   "execution_count": 4,
   "metadata": {
    "collapsed": false
   },
   "outputs": [
    {
     "name": "stdout",
     "output_type": "stream",
     "text": [
      "gender_age_train\n",
      "                      gender  age   group  int_index\n",
      "device_id                                          \n",
      "-8076087639492063270      M   35  M32-38          0\n",
      "\n",
      "gender_age_test\n",
      "                      int_index\n",
      "device_id                     \n",
      "1002079943728939269          0\n",
      "\n",
      "device\n",
      "                      phone_brand device_model\n",
      "device_id                                    \n",
      "-8890648629457979026          小米           红米\n",
      "\n",
      "events\n",
      "                   device_id            timestamp  longitude  latitude\n",
      "event_id                                                             \n",
      "1         29182687948017175  2016-05-01 00:55:25     121.38     31.24\n",
      "\n",
      "label\n",
      "    label_id category\n",
      "0         1      NaN\n",
      "\n",
      "app_event\n",
      "    event_id               app_id  is_installed  is_active\n",
      "0         2  5927333115845830913             1          1\n",
      "\n",
      "app_label\n",
      "                 app_id  label_id\n",
      "0  7324884708820027918       251\n"
     ]
    }
   ],
   "source": [
    "print('gender_age_train\\n',gender_age_train.head(1))\n",
    "print('\\ngender_age_test\\n',gender_age_test.head(1))\n",
    "print('\\ndevice\\n',device.head(1))\n",
    "print('\\nevents\\n',events.head(1))\n",
    "print('\\nlabel\\n',label.head(1))\n",
    "print('\\napp_event\\n',app_event.head(1))\n",
    "print('\\napp_label\\n',app_label.head(1))"
   ]
  },
  {
   "cell_type": "markdown",
   "metadata": {},
   "source": [
    "# Feature engineering I: phone brand"
   ]
  },
  {
   "cell_type": "markdown",
   "metadata": {},
   "source": [
    "Encoding the phone brand, and feed this as a feature into the training and testing test."
   ]
  },
  {
   "cell_type": "code",
   "execution_count": 5,
   "metadata": {
    "collapsed": false
   },
   "outputs": [],
   "source": [
    "encoder = LabelEncoder()\n",
    "encoder.fit(device.phone_brand)\n",
    "device['brand'] = encoder.transform(device.phone_brand)\n",
    "gender_age_train['brand'] = device['brand']\n",
    "gender_age_test['brand'] = device['brand']"
   ]
  },
  {
   "cell_type": "markdown",
   "metadata": {},
   "source": [
    "Create sparse matrix with each row representing one device and each column representing one brand"
   ]
  },
  {
   "cell_type": "code",
   "execution_count": 6,
   "metadata": {
    "collapsed": false
   },
   "outputs": [
    {
     "name": "stdout",
     "output_type": "stream",
     "text": [
      "X_train_brand shape: (74645, 131)\n",
      "X_test_brand shape: (112071, 131)\n"
     ]
    }
   ],
   "source": [
    "X_train_brand = csr_matrix((np.ones(gender_age_train.shape[0]),\n",
    "                            (gender_age_train.int_index,gender_age_train.brand)))\n",
    "X_test_brand = csr_matrix((np.ones(gender_age_test.shape[0]),\n",
    "                           (gender_age_test.int_index,gender_age_test.brand)))\n",
    "print('X_train_brand shape:',X_train_brand.shape)\n",
    "print('X_test_brand shape:',X_test_brand.shape)"
   ]
  },
  {
   "cell_type": "markdown",
   "metadata": {},
   "source": [
    "# Feature engineering II: Installed app"
   ]
  },
  {
   "cell_type": "markdown",
   "metadata": {},
   "source": [
    "Encoding the app_id and store it into app column, and feed this as a feature into the training and testing test."
   ]
  },
  {
   "cell_type": "code",
   "execution_count": 7,
   "metadata": {
    "collapsed": true
   },
   "outputs": [],
   "source": [
    "encoder2 = LabelEncoder()\n",
    "encoder2.fit(app_event.app_id)\n",
    "app_event['app'] = encoder2.transform(app_event.app_id)"
   ]
  },
  {
   "cell_type": "code",
   "execution_count": 8,
   "metadata": {
    "collapsed": false
   },
   "outputs": [
    {
     "data": {
      "text/plain": [
       "array([    0,     1,     2, ..., 19234, 19235, 19236], dtype=int64)"
      ]
     },
     "execution_count": 8,
     "metadata": {},
     "output_type": "execute_result"
    }
   ],
   "source": [
    "np.sort(app_event.app.unique())"
   ]
  },
  {
   "cell_type": "code",
   "execution_count": 9,
   "metadata": {
    "collapsed": false
   },
   "outputs": [
    {
     "name": "stdout",
     "output_type": "stream",
     "text": [
      "   event_id               app_id  is_installed  is_active    app\n",
      "0         2  5927333115845830913             1          1  15408\n",
      "                  device_id            timestamp  longitude  latitude\n",
      "event_id                                                             \n",
      "1         29182687948017175  2016-05-01 00:55:25     121.38     31.24\n"
     ]
    }
   ],
   "source": [
    "print(app_event.head(1))\n",
    "print(events.head(1))"
   ]
  },
  {
   "cell_type": "code",
   "execution_count": 10,
   "metadata": {
    "collapsed": false
   },
   "outputs": [
    {
     "name": "stdout",
     "output_type": "stream",
     "text": [
      "             device_id  event_id    app  is_installed\n",
      "0 -6401643145415154744         2  15408             1\n",
      "1 -6401643145415154744         2   3384             1\n",
      "2 -6401643145415154744         2   7620             1\n",
      "3 -6401643145415154744         2   8902             1\n",
      "4 -6401643145415154744         2  18686             1\n"
     ]
    }
   ],
   "source": [
    "installed_app = pd.merge(events[['device_id']],app_event[['event_id','app','is_installed']],\n",
    "                         how='right',right_on = 'event_id',left_index = True)\n",
    "print(installed_app.head())"
   ]
  },
  {
   "cell_type": "code",
   "execution_count": 11,
   "metadata": {
    "collapsed": false
   },
   "outputs": [
    {
     "name": "stdout",
     "output_type": "stream",
     "text": [
      "installed_app_grouped:\n",
      "                           size\n",
      "device_id            app       \n",
      "-9222956879900151005 548     18\n",
      "                     1096    18\n",
      "                     1248    26\n",
      "                     1545    12\n",
      "                     1664    18\n",
      "installed_app_train:\n",
      "                           size  int_index\n",
      "device_id            app                  \n",
      "-9222956879900151005 548     18      21594\n",
      "                     1096    18      21594\n",
      "                     1248    26      21594\n",
      "                     1545    12      21594\n",
      "                     1664    18      21594\n"
     ]
    }
   ],
   "source": [
    "installed_app_grouped = installed_app.groupby(['device_id','app'])['app'].agg(['size'])\n",
    "print('installed_app_grouped:')\n",
    "print(installed_app_grouped.head())\n",
    "installed_app_train = pd.merge(installed_app_grouped,gender_age_train[['int_index']],\n",
    "                               how = 'right',right_index=True,left_index=True)\n",
    "installed_app_test = pd.merge(installed_app_grouped,gender_age_test[['int_index']],\n",
    "                              how = 'right',right_index=True,left_index=True)\n",
    "print('installed_app_train:')\n",
    "print(installed_app_train.head())"
   ]
  },
  {
   "cell_type": "code",
   "execution_count": 12,
   "metadata": {
    "collapsed": false
   },
   "outputs": [
    {
     "name": "stdout",
     "output_type": "stream",
     "text": [
      "             device_id   app  size  int_index\n",
      "0 -9222956879900151005   548    18      21594\n",
      "1 -9222956879900151005  1096    18      21594\n",
      "2 -9222956879900151005  1248    26      21594\n",
      "3 -9222956879900151005  1545    12      21594\n",
      "4 -9222956879900151005  1664    18      21594\n",
      "             device_id    app  size  int_index\n",
      "0 -9222661944218806987   1867     3      13612\n",
      "1 -9222661944218806987   7519     8      13612\n",
      "2 -9222661944218806987   7843     1      13612\n",
      "3 -9222661944218806987   8704     4      13612\n",
      "4 -9222661944218806987  10000     1      13612\n"
     ]
    }
   ],
   "source": [
    "installed_app_train = installed_app_train.reset_index()\n",
    "installed_app_test = installed_app_test.reset_index()\n",
    "installed_app_train = installed_app_train.dropna(subset=['int_index'])\n",
    "installed_app_test = installed_app_test.dropna(subset=['int_index'])\n",
    "print(installed_app_train.head())\n",
    "print(installed_app_test.head())"
   ]
  },
  {
   "cell_type": "markdown",
   "metadata": {},
   "source": [
    "Calculate the number of unique app:"
   ]
  },
  {
   "cell_type": "code",
   "execution_count": 13,
   "metadata": {
    "collapsed": false
   },
   "outputs": [
    {
     "name": "stdout",
     "output_type": "stream",
     "text": [
      "The number of unique apps:\n",
      "19237\n"
     ]
    }
   ],
   "source": [
    "print('The number of unique apps:')\n",
    "print(np.size(installed_app.app.unique()))\n",
    "appnumber = np.size(installed_app.app.unique())"
   ]
  },
  {
   "cell_type": "code",
   "execution_count": 14,
   "metadata": {
    "collapsed": false
   },
   "outputs": [
    {
     "name": "stdout",
     "output_type": "stream",
     "text": [
      "112071\n",
      "915632\n"
     ]
    }
   ],
   "source": [
    "print(gender_age_test.shape[0])\n",
    "print(installed_app_train.shape[0])"
   ]
  },
  {
   "cell_type": "code",
   "execution_count": 15,
   "metadata": {
    "collapsed": false
   },
   "outputs": [
    {
     "name": "stdout",
     "output_type": "stream",
     "text": [
      "[    0     1     2 ..., 19234 19235 19236]\n",
      "1387337\n"
     ]
    }
   ],
   "source": [
    "print(np.sort(installed_app_train.app.unique()))\n",
    "print(installed_app_test.shape[0])"
   ]
  },
  {
   "cell_type": "code",
   "execution_count": 16,
   "metadata": {
    "collapsed": false
   },
   "outputs": [
    {
     "name": "stdout",
     "output_type": "stream",
     "text": [
      "X_train_installed shape: (74645, 19237)\n",
      "X_test_installed shape: (112071, 19237)\n"
     ]
    }
   ],
   "source": [
    "X_train_installed = csr_matrix((np.ones(installed_app_train.shape[0]),\n",
    "                                (installed_app_train.int_index,installed_app_train.app)), \n",
    "                               shape = (gender_age_train.shape[0],appnumber))\n",
    "X_test_installed = csr_matrix((np.ones(installed_app_test.shape[0]),\n",
    "                               (installed_app_test.int_index,installed_app_test.app)),\n",
    "                               shape = (gender_age_test.shape[0],appnumber))\n",
    "print('X_train_installed shape:',X_train_installed.shape)\n",
    "print('X_test_installed shape:',X_test_installed.shape)"
   ]
  },
  {
   "cell_type": "code",
   "execution_count": 17,
   "metadata": {
    "collapsed": false
   },
   "outputs": [
    {
     "data": {
      "text/plain": [
       "array([     0,      1,      2, ..., 112059, 112060, 112063], dtype=int64)"
      ]
     },
     "execution_count": 17,
     "metadata": {},
     "output_type": "execute_result"
    }
   ],
   "source": [
    "np.sort(installed_app_test.int_index.unique())"
   ]
  },
  {
   "cell_type": "markdown",
   "metadata": {},
   "source": [
    "# Feature engineering III: phone device model"
   ]
  },
  {
   "cell_type": "code",
   "execution_count": 18,
   "metadata": {
    "collapsed": true
   },
   "outputs": [],
   "source": [
    "brand_model = device.phone_brand.str.cat(device.device_model)\n",
    "encoder3 = LabelEncoder()\n",
    "encoder3.fit(brand_model)\n",
    "device['model'] = encoder3.transform(brand_model)\n",
    "gender_age_train['model'] = device['model']\n",
    "gender_age_test['model'] = device['model']"
   ]
  },
  {
   "cell_type": "code",
   "execution_count": 19,
   "metadata": {
    "collapsed": false
   },
   "outputs": [
    {
     "name": "stdout",
     "output_type": "stream",
     "text": [
      "X_train_brand shape: (74645, 1667)\n",
      "X_test_brand shape: (112071, 1667)\n"
     ]
    }
   ],
   "source": [
    "X_train_model = csr_matrix((np.ones(gender_age_train.shape[0]),(gender_age_train.int_index,gender_age_train.model)))\n",
    "X_test_model = csr_matrix((np.ones(gender_age_test.shape[0]),(gender_age_test.int_index,gender_age_test.model)))\n",
    "print('X_train_brand shape:',X_train_model.shape)\n",
    "print('X_test_brand shape:',X_test_model.shape)"
   ]
  },
  {
   "cell_type": "markdown",
   "metadata": {},
   "source": [
    "# Feature engineering IV: app label"
   ]
  },
  {
   "cell_type": "code",
   "execution_count": 20,
   "metadata": {
    "collapsed": false
   },
   "outputs": [
    {
     "name": "stdout",
     "output_type": "stream",
     "text": [
      "                app_id  event_id\n",
      "0  5927333115845830913         2\n",
      "                app_id  label_id\n",
      "0  7324884708820027918       251\n"
     ]
    }
   ],
   "source": [
    "print(app_event[['app_id','event_id']].head(1))\n",
    "print(app_label[['app_id','label_id']].head(1))"
   ]
  },
  {
   "cell_type": "code",
   "execution_count": 21,
   "metadata": {
    "collapsed": false
   },
   "outputs": [
    {
     "name": "stdout",
     "output_type": "stream",
     "text": [
      "app_label_new:\n",
      "                app_id  label_id    app  label\n",
      "0  7324884708820027918       251  17355    207\n",
      "1 -4494216993218550286       251   4618    207\n",
      "2  6058196446775239644       406  15548    247\n",
      "3  6058196446775239644       407  15548    248\n",
      "4  8694625920731541625       406  18689    247\n"
     ]
    }
   ],
   "source": [
    "app_label_new = app_label.loc[app_label.app_id.isin(app_event.app_id.unique())].copy()\n",
    "app_label_new['app'] = encoder2.transform(app_label_new.app_id)\n",
    "encoder4 = LabelEncoder().fit(app_label_new.label_id)\n",
    "app_label_new['label'] = encoder4.transform(app_label_new.label_id)\n",
    "labelnumber = len(encoder4.classes_)\n",
    "print('app_label_new:')\n",
    "print(app_label_new.head())"
   ]
  },
  {
   "cell_type": "code",
   "execution_count": 22,
   "metadata": {
    "collapsed": false
   },
   "outputs": [
    {
     "name": "stdout",
     "output_type": "stream",
     "text": [
      "919886\n",
      "129892268\n",
      "installed_app_grouped:\n",
      "                           size\n",
      "device_id            app       \n",
      "-9222956879900151005 548     18\n",
      "                     1096    18\n",
      "                     1248    26\n",
      "                     1545    12\n",
      "                     1664    18\n",
      "installed_label_grouped:\n",
      "             device_id  label  size\n",
      "0 -9222956879900151005    117     1\n",
      "1 -9222956879900151005    120     1\n",
      "2 -9222956879900151005    126     1\n",
      "3 -9222956879900151005    138     2\n",
      "4 -9222956879900151005    147     2\n"
     ]
    }
   ],
   "source": [
    "print(app_label.size)\n",
    "print(installed_app.size)\n",
    "print('installed_app_grouped:')\n",
    "print(installed_app_grouped.head())\n",
    "installed_label_grouped = (installed_app_grouped.reset_index()[['device_id','app']]\n",
    "                          .merge(app_label_new[['app','label']])\n",
    "                          .groupby(['device_id','label']))['app'].agg(['size']).reset_index()\n",
    "                          \n",
    "print('installed_label_grouped:')\n",
    "print(installed_label_grouped.head())"
   ]
  },
  {
   "cell_type": "code",
   "execution_count": 23,
   "metadata": {
    "collapsed": false
   },
   "outputs": [],
   "source": [
    "label_app_train = pd.merge(installed_label_grouped,gender_age_train[['int_index']],\n",
    "                               how = 'right',right_index=True,left_on='device_id')\n",
    "label_app_test = pd.merge(installed_label_grouped,gender_age_test[['int_index']],\n",
    "                              how = 'right',right_index=True,left_on ='device_id' )\n",
    "label_app_train = label_app_train.dropna(subset= ['int_index','label'])\n",
    "label_app_test = label_app_test.dropna(subset= ['int_index','label'])"
   ]
  },
  {
   "cell_type": "code",
   "execution_count": 24,
   "metadata": {
    "collapsed": false
   },
   "outputs": [
    {
     "name": "stdout",
     "output_type": "stream",
     "text": [
      "X_train_installed shape: (74645, 492)\n",
      "X_test_installed shape: (112071, 492)\n"
     ]
    }
   ],
   "source": [
    "X_train_label = csr_matrix((np.ones(label_app_train.shape[0]),(label_app_train.int_index,label_app_train.label)),\n",
    "                              shape = (gender_age_train.shape[0],labelnumber))\n",
    "X_test_label = csr_matrix((np.ones(label_app_test.shape[0]),(label_app_test.int_index,label_app_test.label)),\n",
    "                              shape = (gender_age_test.shape[0],labelnumber))\n",
    "print('X_train_installed shape:',X_train_label.shape)\n",
    "print('X_test_installed shape:',X_test_label.shape)"
   ]
  },
  {
   "cell_type": "markdown",
   "metadata": {},
   "source": [
    "# Feature engineering V: active app"
   ]
  },
  {
   "cell_type": "code",
   "execution_count": 25,
   "metadata": {
    "collapsed": false
   },
   "outputs": [
    {
     "name": "stdout",
     "output_type": "stream",
     "text": [
      "             device_id  event_id    app  is_active\n",
      "0 -6401643145415154744         2  15408          1\n",
      "3 -6401643145415154744         2   8902          1\n",
      "4 -6401643145415154744         2  18686          1\n",
      "5 -6401643145415154744         2  14346          1\n",
      "9 -6401643145415154744         2  16908          1\n"
     ]
    }
   ],
   "source": [
    "active_app = pd.merge(events[['device_id']],app_event[['event_id','app','is_active']],\n",
    "                         how='right',right_on = 'event_id',left_index = True)\n",
    "active_app = active_app.loc[active_app.is_active==1]\n",
    "print(active_app.head())"
   ]
  },
  {
   "cell_type": "code",
   "execution_count": 26,
   "metadata": {
    "collapsed": false
   },
   "outputs": [
    {
     "name": "stdout",
     "output_type": "stream",
     "text": [
      "active_app_grouped:\n",
      "             device_id   app  size\n",
      "0 -9222956879900151005   548     4\n",
      "1 -9222956879900151005  1248    15\n",
      "2 -9222956879900151005  1545     2\n",
      "3 -9222956879900151005  1848    31\n",
      "4 -9222956879900151005  2236    17\n"
     ]
    }
   ],
   "source": [
    "active_app_grouped = active_app.groupby(['device_id','app'])['app'].agg(['size']).reset_index()\n",
    "print('active_app_grouped:')\n",
    "print(active_app_grouped.head())\n",
    "# active_app_grouped = pd.merge(active_app_grouped,active_app_count[['app']]).set_index('device_id')\n",
    "# print('active_app_grouped:')\n",
    "# print(active_app_grouped.head())"
   ]
  },
  {
   "cell_type": "code",
   "execution_count": 27,
   "metadata": {
    "collapsed": false
   },
   "outputs": [
    {
     "name": "stdout",
     "output_type": "stream",
     "text": [
      "active_app_train:\n",
      "             device_id   app  size  int_index\n",
      "0 -9222956879900151005   548     4    21594.0\n",
      "1 -9222956879900151005  1248    15    21594.0\n",
      "2 -9222956879900151005  1545     2    21594.0\n",
      "3 -9222956879900151005  1848    31    21594.0\n",
      "4 -9222956879900151005  2236    17    21594.0\n"
     ]
    }
   ],
   "source": [
    "active_app_train = pd.merge(active_app_grouped,gender_age_train[['int_index']],\n",
    "                               how = 'left', left_on = 'device_id', right_index = True)\n",
    "active_app_test = pd.merge(active_app_grouped,gender_age_test[['int_index']],\n",
    "                              how = 'left',left_on = 'device_id',right_index=True)\n",
    "print('active_app_train:')\n",
    "print(active_app_train.head())"
   ]
  },
  {
   "cell_type": "code",
   "execution_count": 28,
   "metadata": {
    "collapsed": false
   },
   "outputs": [
    {
     "name": "stdout",
     "output_type": "stream",
     "text": [
      "   index            device_id   app  size  int_index\n",
      "0      0 -9222956879900151005   548     4    21594.0\n",
      "1      1 -9222956879900151005  1248    15    21594.0\n",
      "2      2 -9222956879900151005  1545     2    21594.0\n",
      "3      3 -9222956879900151005  1848    31    21594.0\n",
      "4      4 -9222956879900151005  2236    17    21594.0\n",
      "    index            device_id    app  size  int_index\n",
      "55     55 -9222661944218806987   1867     3    13612.0\n",
      "56     56 -9222661944218806987   7519     7    13612.0\n",
      "57     57 -9222661944218806987   7843     1    13612.0\n",
      "58     58 -9222661944218806987   8704     3    13612.0\n",
      "59     59 -9222661944218806987  10000     1    13612.0\n"
     ]
    }
   ],
   "source": [
    "active_app_train = active_app_train.reset_index()\n",
    "active_app_test = active_app_test.reset_index()\n",
    "active_app_train = active_app_train.dropna(subset=['int_index'])\n",
    "active_app_test = active_app_test.dropna(subset=['int_index'])\n",
    "print(active_app_train.head())\n",
    "print(active_app_test.head())"
   ]
  },
  {
   "cell_type": "code",
   "execution_count": 29,
   "metadata": {
    "collapsed": false
   },
   "outputs": [
    {
     "name": "stdout",
     "output_type": "stream",
     "text": [
      "[    0     5     6 ..., 19225 19228 19236]\n",
      "19237\n"
     ]
    }
   ],
   "source": [
    "print(np.sort(active_app_train.app.unique()))\n",
    "print(appnumber)"
   ]
  },
  {
   "cell_type": "code",
   "execution_count": 30,
   "metadata": {
    "collapsed": false
   },
   "outputs": [
    {
     "name": "stdout",
     "output_type": "stream",
     "text": [
      "X_train_active shape: (74645, 19237)\n",
      "X_test_active shape: (112071, 19237)\n"
     ]
    }
   ],
   "source": [
    "appnumber = np.size(installed_app.app.unique())\n",
    "# binary active map\n",
    "X_train_active = csr_matrix((np.ones(active_app_train.shape[0]),\n",
    "                            (active_app_train.int_index,active_app_train.app)), \n",
    "                            shape = (gender_age_train.shape[0],appnumber))\n",
    "X_test_active = csr_matrix((np.ones(active_app_test.shape[0]),\n",
    "                            (active_app_test.int_index,active_app_test.app)),\n",
    "                            shape = (gender_age_test.shape[0],appnumber))\n",
    "# count the number of active app\n",
    "#X_train_active = csr_matrix((np.log(np.log(active_app_train['size']+1)+1),\n",
    "#                            (active_app_train.int_index,active_app_train.app)), \n",
    "#                            shape = (gender_age_train.shape[0],appnumber))\n",
    "#X_test_active = csr_matrix((np.log(np.log(active_app_test['size']+1)+1),\n",
    "#                            (active_app_test.int_index,active_app_test.app)),\n",
    "#                            shape = (gender_age_test.shape[0],appnumber))\n",
    "print('X_train_active shape:',X_train_active.shape)\n",
    "print('X_test_active shape:',X_test_active.shape)"
   ]
  },
  {
   "cell_type": "markdown",
   "metadata": {},
   "source": [
    "# Feature engineering VI: active time period"
   ]
  },
  {
   "cell_type": "code",
   "execution_count": 31,
   "metadata": {
    "collapsed": false
   },
   "outputs": [
    {
     "data": {
      "text/html": [
       "<div>\n",
       "<table border=\"1\" class=\"dataframe\">\n",
       "  <thead>\n",
       "    <tr style=\"text-align: right;\">\n",
       "      <th></th>\n",
       "      <th>device_id</th>\n",
       "      <th>timestamp</th>\n",
       "      <th>longitude</th>\n",
       "      <th>latitude</th>\n",
       "    </tr>\n",
       "    <tr>\n",
       "      <th>event_id</th>\n",
       "      <th></th>\n",
       "      <th></th>\n",
       "      <th></th>\n",
       "      <th></th>\n",
       "    </tr>\n",
       "  </thead>\n",
       "  <tbody>\n",
       "    <tr>\n",
       "      <th>1</th>\n",
       "      <td>29182687948017175</td>\n",
       "      <td>2016-05-01 00:55:25</td>\n",
       "      <td>121.38</td>\n",
       "      <td>31.24</td>\n",
       "    </tr>\n",
       "    <tr>\n",
       "      <th>2</th>\n",
       "      <td>-6401643145415154744</td>\n",
       "      <td>2016-05-01 00:54:12</td>\n",
       "      <td>103.65</td>\n",
       "      <td>30.97</td>\n",
       "    </tr>\n",
       "    <tr>\n",
       "      <th>3</th>\n",
       "      <td>-4833982096941402721</td>\n",
       "      <td>2016-05-01 00:08:05</td>\n",
       "      <td>106.60</td>\n",
       "      <td>29.70</td>\n",
       "    </tr>\n",
       "    <tr>\n",
       "      <th>4</th>\n",
       "      <td>-6815121365017318426</td>\n",
       "      <td>2016-05-01 00:06:40</td>\n",
       "      <td>104.27</td>\n",
       "      <td>23.28</td>\n",
       "    </tr>\n",
       "    <tr>\n",
       "      <th>5</th>\n",
       "      <td>-5373797595892518570</td>\n",
       "      <td>2016-05-01 00:07:18</td>\n",
       "      <td>115.88</td>\n",
       "      <td>28.66</td>\n",
       "    </tr>\n",
       "  </tbody>\n",
       "</table>\n",
       "</div>"
      ],
      "text/plain": [
       "                    device_id            timestamp  longitude  latitude\n",
       "event_id                                                               \n",
       "1           29182687948017175  2016-05-01 00:55:25     121.38     31.24\n",
       "2        -6401643145415154744  2016-05-01 00:54:12     103.65     30.97\n",
       "3        -4833982096941402721  2016-05-01 00:08:05     106.60     29.70\n",
       "4        -6815121365017318426  2016-05-01 00:06:40     104.27     23.28\n",
       "5        -5373797595892518570  2016-05-01 00:07:18     115.88     28.66"
      ]
     },
     "execution_count": 31,
     "metadata": {},
     "output_type": "execute_result"
    }
   ],
   "source": [
    "events.head()"
   ]
  },
  {
   "cell_type": "code",
   "execution_count": 32,
   "metadata": {
    "collapsed": false
   },
   "outputs": [
    {
     "name": "stdout",
     "output_type": "stream",
     "text": [
      "             device_id  time  times\n",
      "0 -9222956879900151005     7      2\n",
      "1 -9222956879900151005    11      7\n",
      "2 -9222956879900151005    12     13\n",
      "3 -9222956879900151005    13      3\n",
      "4 -9222956879900151005    14      5\n"
     ]
    }
   ],
   "source": [
    "events_time = events[['device_id','timestamp']].copy()\n",
    "events_time['time']  = events_time['timestamp'].str[11:13].astype(int)\n",
    "events_time.drop(['timestamp'],axis=1,inplace=True)\n",
    "events_time = events_time.groupby(['device_id','time'])['time'].agg({'times':'count'}).reset_index()\n",
    "print(events_time.head())\n",
    "timenumber= events_time.time.unique().shape[0]"
   ]
  },
  {
   "cell_type": "code",
   "execution_count": 33,
   "metadata": {
    "collapsed": false
   },
   "outputs": [
    {
     "name": "stdout",
     "output_type": "stream",
     "text": [
      "X_train_time shape: (74645, 24)\n",
      "X_test_time shape: (112071, 24)\n"
     ]
    }
   ],
   "source": [
    "time_train = pd.merge(events_time,gender_age_train[['int_index']],\n",
    "                               right_index=True,left_on='device_id')\n",
    "time_test = pd.merge(events_time,gender_age_test[['int_index']],\n",
    "                               right_index=True,left_on ='device_id' )\n",
    "#binary\n",
    "X_train_time = csr_matrix((np.ones(time_train.shape[0]),\n",
    "                            (time_train.int_index,time_train.time)), \n",
    "                            shape = (gender_age_train.shape[0],timenumber))\n",
    "X_test_time = csr_matrix((np.ones(time_test.shape[0]),\n",
    "                            (time_test.int_index,time_test.time)),\n",
    "                            shape = (gender_age_test.shape[0],timenumber))\n",
    "\n",
    "#number\n",
    "#X_train_time = csr_matrix((np.log(np.log(time_train['times']+1)+1),\n",
    "#                            (time_train.int_index,time_train.time)), \n",
    "#                            shape = (gender_age_train.shape[0],timenumber))\n",
    "#X_test_time = csr_matrix((np.log(np.log(time_test['times']+1)+1),\n",
    "#                            (time_test.int_index,time_test.time)),\n",
    "#                            shape = (gender_age_test.shape[0],timenumber))\n",
    "print('X_train_time shape:',X_train_time.shape)\n",
    "print('X_test_time shape:',X_test_time.shape)"
   ]
  },
  {
   "cell_type": "markdown",
   "metadata": {},
   "source": [
    "Feature Selection"
   ]
  },
  {
   "cell_type": "code",
   "execution_count": 34,
   "metadata": {
    "collapsed": false
   },
   "outputs": [],
   "source": [
    "X_train_total = hstack((X_train_brand, X_train_model, X_train_installed, X_train_active, X_train_label, X_train_time), format = 'csr')\n",
    "X_test_total = hstack((X_test_brand, X_test_model, X_test_installed, X_test_active, X_test_label, X_test_time), format = 'csr')\n",
    "\n",
    "targetencoder = LabelEncoder()\n",
    "targetencoder.fit(gender_age_train.group)\n",
    "y_train_total = targetencoder.transform(gender_age_train.group)\n",
    "target_len = len(targetencoder.classes_)"
   ]
  },
  {
   "cell_type": "code",
   "execution_count": 35,
   "metadata": {
    "collapsed": false
   },
   "outputs": [
    {
     "name": "stdout",
     "output_type": "stream",
     "text": [
      "number of features, cost and score 200 2.32045806034 0.178598220984\n"
     ]
    }
   ],
   "source": [
    "for i in np.arange(200, 300, 100):\n",
    "\n",
    "    X_train_sel = SelectKBest(chi2, k=i).fit_transform(X_train_total, y_train_total)\n",
    "    X_train,X_test,y_train,y_test = cv.train_test_split(X_train_sel,y_train_total)\n",
    "    model = LogisticRegression(C=0.02,multi_class='multinomial',solver='newton-cg')\n",
    "    model.fit(X_train,y_train)\n",
    "    y_pred = model.predict_proba(X_test)\n",
    "    cost = log_loss(y_test,y_pred)\n",
    "    score = model.score(X_test,y_test)\n",
    "    print('number of features, cost and score', i, cost, score)\n"
   ]
  },
  {
   "cell_type": "markdown",
   "metadata": {},
   "source": [
    "# Model training and fitting: Logistic Regression"
   ]
  },
  {
   "cell_type": "code",
   "execution_count": 36,
   "metadata": {
    "collapsed": false
   },
   "outputs": [
    {
     "name": "stdout",
     "output_type": "stream",
     "text": [
      "Training shape:\n",
      "(74645, 19392)\n",
      "Testing shape:\n",
      "(112071, 19392)\n"
     ]
    }
   ],
   "source": [
    "X_train_total = hstack((X_train_brand,X_train_active,X_train_time),format='csr')\n",
    "X_test_total = hstack((X_test_brand,X_test_active,X_test_time),format='csr')\n",
    "print('Training shape:')\n",
    "print(X_train_total.shape)\n",
    "print('Testing shape:')\n",
    "print(X_test_total.shape)"
   ]
  },
  {
   "cell_type": "code",
   "execution_count": 37,
   "metadata": {
    "collapsed": false
   },
   "outputs": [
    {
     "data": {
      "text/plain": [
       "1667"
      ]
     },
     "execution_count": 37,
     "metadata": {},
     "output_type": "execute_result"
    }
   ],
   "source": [
    "X_train_model.shape[1]"
   ]
  },
  {
   "cell_type": "code",
   "execution_count": 38,
   "metadata": {
    "collapsed": false
   },
   "outputs": [
    {
     "name": "stdout",
     "output_type": "stream",
     "text": [
      "12\n"
     ]
    }
   ],
   "source": [
    "targetencoder = LabelEncoder()\n",
    "targetencoder.fit(gender_age_train.group)\n",
    "y_train_total = targetencoder.transform(gender_age_train.group)\n",
    "target_len = len(targetencoder.classes_)\n",
    "print(target_len)"
   ]
  },
  {
   "cell_type": "code",
   "execution_count": 39,
   "metadata": {
    "collapsed": false
   },
   "outputs": [],
   "source": [
    "X_train,X_test,y_train,y_test = cv.train_test_split(X_train_sel,y_train_total)"
   ]
  },
  {
   "cell_type": "code",
   "execution_count": 40,
   "metadata": {
    "collapsed": false
   },
   "outputs": [
    {
     "data": {
      "text/plain": [
       "LogisticRegression(C=0.02, class_weight=None, dual=False, fit_intercept=True,\n",
       "          intercept_scaling=1, max_iter=100, multi_class='multinomial',\n",
       "          n_jobs=1, penalty='l2', random_state=None, solver='newton-cg',\n",
       "          tol=0.0001, verbose=0, warm_start=False)"
      ]
     },
     "execution_count": 40,
     "metadata": {},
     "output_type": "execute_result"
    }
   ],
   "source": [
    "model = LogisticRegression(C=0.02,multi_class='multinomial',solver='newton-cg')\n",
    "model.fit(X_train,y_train)"
   ]
  },
  {
   "cell_type": "code",
   "execution_count": 41,
   "metadata": {
    "collapsed": false
   },
   "outputs": [],
   "source": [
    "y_pred = model.predict_proba(X_test)"
   ]
  },
  {
   "cell_type": "code",
   "execution_count": 42,
   "metadata": {
    "collapsed": false
   },
   "outputs": [
    {
     "data": {
      "text/plain": [
       "2.3141623514268459"
      ]
     },
     "execution_count": 42,
     "metadata": {},
     "output_type": "execute_result"
    }
   ],
   "source": [
    "log_loss(y_test,y_pred)"
   ]
  },
  {
   "cell_type": "code",
   "execution_count": 43,
   "metadata": {
    "collapsed": false
   },
   "outputs": [
    {
     "data": {
      "text/plain": [
       "0.18068802915014467"
      ]
     },
     "execution_count": 43,
     "metadata": {},
     "output_type": "execute_result"
    }
   ],
   "source": [
    "model.score(X_test,y_test)"
   ]
  },
  {
   "cell_type": "code",
   "execution_count": 44,
   "metadata": {
    "collapsed": false
   },
   "outputs": [
    {
     "data": {
      "text/html": [
       "<div>\n",
       "<table border=\"1\" class=\"dataframe\">\n",
       "  <thead>\n",
       "    <tr style=\"text-align: right;\">\n",
       "      <th></th>\n",
       "      <th>F23-</th>\n",
       "      <th>F24-26</th>\n",
       "      <th>F27-28</th>\n",
       "      <th>F29-32</th>\n",
       "      <th>F33-42</th>\n",
       "      <th>F43+</th>\n",
       "      <th>M22-</th>\n",
       "      <th>M23-26</th>\n",
       "      <th>M27-28</th>\n",
       "      <th>M29-31</th>\n",
       "      <th>M32-38</th>\n",
       "      <th>M39+</th>\n",
       "    </tr>\n",
       "    <tr>\n",
       "      <th>device_id</th>\n",
       "      <th></th>\n",
       "      <th></th>\n",
       "      <th></th>\n",
       "      <th></th>\n",
       "      <th></th>\n",
       "      <th></th>\n",
       "      <th></th>\n",
       "      <th></th>\n",
       "      <th></th>\n",
       "      <th></th>\n",
       "      <th></th>\n",
       "      <th></th>\n",
       "    </tr>\n",
       "  </thead>\n",
       "  <tbody>\n",
       "    <tr>\n",
       "      <th>1002079943728939269</th>\n",
       "      <td>0.035388</td>\n",
       "      <td>0.047032</td>\n",
       "      <td>0.039529</td>\n",
       "      <td>0.050952</td>\n",
       "      <td>0.078769</td>\n",
       "      <td>0.069661</td>\n",
       "      <td>0.071671</td>\n",
       "      <td>0.107903</td>\n",
       "      <td>0.071642</td>\n",
       "      <td>0.100387</td>\n",
       "      <td>0.169435</td>\n",
       "      <td>0.157631</td>\n",
       "    </tr>\n",
       "    <tr>\n",
       "      <th>-1547860181818787117</th>\n",
       "      <td>0.020799</td>\n",
       "      <td>0.039336</td>\n",
       "      <td>0.033960</td>\n",
       "      <td>0.070880</td>\n",
       "      <td>0.087704</td>\n",
       "      <td>0.087793</td>\n",
       "      <td>0.034579</td>\n",
       "      <td>0.118753</td>\n",
       "      <td>0.120879</td>\n",
       "      <td>0.085591</td>\n",
       "      <td>0.199289</td>\n",
       "      <td>0.100438</td>\n",
       "    </tr>\n",
       "    <tr>\n",
       "      <th>7374582448058474277</th>\n",
       "      <td>0.044346</td>\n",
       "      <td>0.056017</td>\n",
       "      <td>0.045979</td>\n",
       "      <td>0.079115</td>\n",
       "      <td>0.138317</td>\n",
       "      <td>0.052719</td>\n",
       "      <td>0.040940</td>\n",
       "      <td>0.094286</td>\n",
       "      <td>0.056253</td>\n",
       "      <td>0.106847</td>\n",
       "      <td>0.141936</td>\n",
       "      <td>0.143244</td>\n",
       "    </tr>\n",
       "    <tr>\n",
       "      <th>-6220210354783429585</th>\n",
       "      <td>0.014332</td>\n",
       "      <td>0.031069</td>\n",
       "      <td>0.014213</td>\n",
       "      <td>0.028614</td>\n",
       "      <td>0.045357</td>\n",
       "      <td>0.049677</td>\n",
       "      <td>0.059665</td>\n",
       "      <td>0.117228</td>\n",
       "      <td>0.086981</td>\n",
       "      <td>0.179114</td>\n",
       "      <td>0.197897</td>\n",
       "      <td>0.175855</td>\n",
       "    </tr>\n",
       "    <tr>\n",
       "      <th>-5893464122623104785</th>\n",
       "      <td>0.057547</td>\n",
       "      <td>0.059611</td>\n",
       "      <td>0.045369</td>\n",
       "      <td>0.063594</td>\n",
       "      <td>0.065790</td>\n",
       "      <td>0.049493</td>\n",
       "      <td>0.123285</td>\n",
       "      <td>0.147503</td>\n",
       "      <td>0.082012</td>\n",
       "      <td>0.098812</td>\n",
       "      <td>0.114898</td>\n",
       "      <td>0.092087</td>\n",
       "    </tr>\n",
       "  </tbody>\n",
       "</table>\n",
       "</div>"
      ],
      "text/plain": [
       "                          F23-    F24-26    F27-28    F29-32    F33-42  \\\n",
       "device_id                                                                \n",
       " 1002079943728939269  0.035388  0.047032  0.039529  0.050952  0.078769   \n",
       "-1547860181818787117  0.020799  0.039336  0.033960  0.070880  0.087704   \n",
       " 7374582448058474277  0.044346  0.056017  0.045979  0.079115  0.138317   \n",
       "-6220210354783429585  0.014332  0.031069  0.014213  0.028614  0.045357   \n",
       "-5893464122623104785  0.057547  0.059611  0.045369  0.063594  0.065790   \n",
       "\n",
       "                          F43+      M22-    M23-26    M27-28    M29-31  \\\n",
       "device_id                                                                \n",
       " 1002079943728939269  0.069661  0.071671  0.107903  0.071642  0.100387   \n",
       "-1547860181818787117  0.087793  0.034579  0.118753  0.120879  0.085591   \n",
       " 7374582448058474277  0.052719  0.040940  0.094286  0.056253  0.106847   \n",
       "-6220210354783429585  0.049677  0.059665  0.117228  0.086981  0.179114   \n",
       "-5893464122623104785  0.049493  0.123285  0.147503  0.082012  0.098812   \n",
       "\n",
       "                        M32-38      M39+  \n",
       "device_id                                 \n",
       " 1002079943728939269  0.169435  0.157631  \n",
       "-1547860181818787117  0.199289  0.100438  \n",
       " 7374582448058474277  0.141936  0.143244  \n",
       "-6220210354783429585  0.197897  0.175855  \n",
       "-5893464122623104785  0.114898  0.092087  "
      ]
     },
     "execution_count": 44,
     "metadata": {},
     "output_type": "execute_result"
    }
   ],
   "source": [
    "result = model.fit(X_train_total,y_train_total)\n",
    "pred = pd.DataFrame(model.predict_proba(X_test_total), index = gender_age_test.index, columns=targetencoder.classes_)\n",
    "pred.head()"
   ]
  },
  {
   "cell_type": "code",
   "execution_count": null,
   "metadata": {
    "collapsed": true
   },
   "outputs": [],
   "source": [
    "pred.to_csv('logreg_submission.csv',index=True)"
   ]
  },
  {
   "cell_type": "markdown",
   "metadata": {},
   "source": [
    "# Model fitting :RF"
   ]
  },
  {
   "cell_type": "code",
   "execution_count": null,
   "metadata": {
    "collapsed": false
   },
   "outputs": [],
   "source": [
    "model2 = rfc(n_estimators=300,verbose=1,n_jobs=-1)\n",
    "model2.fit(X_train,y_train)"
   ]
  },
  {
   "cell_type": "code",
   "execution_count": null,
   "metadata": {
    "collapsed": false
   },
   "outputs": [],
   "source": [
    "y_pred2 = model2.predict_proba(X_test)"
   ]
  },
  {
   "cell_type": "code",
   "execution_count": null,
   "metadata": {
    "collapsed": false
   },
   "outputs": [],
   "source": [
    "log_loss(y_test,y_pred2)"
   ]
  },
  {
   "cell_type": "markdown",
   "metadata": {
    "collapsed": true
   },
   "source": [
    "Feature Selection"
   ]
  },
  {
   "cell_type": "code",
   "execution_count": null,
   "metadata": {
    "collapsed": true
   },
   "outputs": [],
   "source": [
    "X_train_total = hstack((X_train_brand, X_train_model, X_train_installed, X_train_active, X_train_label, X_train_time), format = 'csr')\n",
    "X_test_total = hstack((X_test_brand, X_test_model, X_test_installed, X_test_active, X_test_label, X_test_time), format = 'csr')\n",
    "\n",
    "targetencoder = LabelEncoder()\n",
    "targetencoder.fit(gender_age_train.group)\n",
    "y_train_total = targetencoder.transform(gender_age_train.group)\n",
    "target_len = len(targetencoder.classes_)"
   ]
  },
  {
   "cell_type": "code",
   "execution_count": null,
   "metadata": {
    "collapsed": true
   },
   "outputs": [],
   "source": [
    "for i in np.arange(200, 300, 100):\n",
    "\n",
    "    X_train_sel = SelectKBest(chi2, k=i).fit_transform(X_train_total, y_train_total)\n",
    "    X_train,X_test,y_train,y_test = cv.train_test_split(X_train_sel,y_train_total, test_size = 0.2)\n",
    "    model = LogisticRegression(C=0.02,multi_class='multinomial',solver='newton-cg')\n",
    "    model.fit(X_train,y_train)\n",
    "    y_pred = model.predict_proba(X_test)\n",
    "    cost = log_loss(y_test,y_pred)\n",
    "    score = model.score(X_test,y_test)\n",
    "    print('number of features is {}, cost is {} and score is {}\\n'.format(i, cost, score))"
   ]
  }
 ],
 "metadata": {
  "kernelspec": {
   "display_name": "Python 3",
   "language": "python",
   "name": "python3"
  },
  "language_info": {
   "codemirror_mode": {
    "name": "ipython",
    "version": 3
   },
   "file_extension": ".py",
   "mimetype": "text/x-python",
   "name": "python",
   "nbconvert_exporter": "python",
   "pygments_lexer": "ipython3",
   "version": "3.5.1"
  }
 },
 "nbformat": 4,
 "nbformat_minor": 0
}
