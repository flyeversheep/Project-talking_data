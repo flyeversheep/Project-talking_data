{
 "cells": [
  {
   "cell_type": "code",
   "execution_count": 1,
   "metadata": {
    "collapsed": true
   },
   "outputs": [],
   "source": [
    "import numpy as np\n",
    "import pandas as pd"
   ]
  },
  {
   "cell_type": "markdown",
   "metadata": {},
   "source": [
    "# Merge with score"
   ]
  },
  {
   "cell_type": "code",
   "execution_count": 11,
   "metadata": {
    "collapsed": false
   },
   "outputs": [],
   "source": [
    "filelist = ['nnet_with_result1.9392115926279074.csv',\n",
    "           'nnet_with_result1.9392115926279074.csv',\n",
    "           'nnet_with_result1.9392115926279074.csv',\n",
    "            'nnet_with_result1.9392115926279074.csv',\n",
    "           'nnet_with_result1.9395637583642305.csv',\n",
    "            'nnet_with_200relu150relusoftmax1.950919911797799.csv',\n",
    "            'nnet_with_4feature_label_count_50tanh_150tanh_100relu_softmax1.9809138015402468.csv']\n",
    "data_with = []\n",
    "for file in filelist:\n",
    "    data_with.append(pd.read_csv(file))\n",
    "with_panel = pd.Panel({n: df for n, df in enumerate(data_with)})\n",
    "with_average = with_panel.mean(axis=0)"
   ]
  },
  {
   "cell_type": "markdown",
   "metadata": {},
   "source": [
    "# Merge without score"
   ]
  },
  {
   "cell_type": "code",
   "execution_count": 12,
   "metadata": {
    "collapsed": true
   },
   "outputs": [],
   "source": [
    "filelist = ['lr_without_result2.389773416521886.csv',\n",
    "           'lr_without_result2.389773416521886.csv',\n",
    "           'lr_without_result2.389773416521886.csv',\n",
    "            'lr_without_result2.389773416521886.csv',\n",
    "           'lr_without_result2.390199288950813.csv',\n",
    "            'nnt_without_result2.3968802908348534.csv',\n",
    "            ]\n",
    "data_without = []\n",
    "for file in filelist:\n",
    "    data_without.append(pd.read_csv(file))\n",
    "without_panel = pd.Panel({n: df for n, df in enumerate(data_without)})\n",
    "without_average = without_panel.mean(axis=0)"
   ]
  },
  {
   "cell_type": "markdown",
   "metadata": {},
   "source": [
    "# put together and output"
   ]
  },
  {
   "cell_type": "code",
   "execution_count": 13,
   "metadata": {
    "collapsed": false
   },
   "outputs": [],
   "source": [
    "pred = pd.concat((with_average,without_average))\n",
    "pred.to_csv('ensemble_v6.csv',index=True)"
   ]
  },
  {
   "cell_type": "code",
   "execution_count": null,
   "metadata": {
    "collapsed": true
   },
   "outputs": [],
   "source": []
  }
 ],
 "metadata": {
  "kernelspec": {
   "display_name": "Python 3",
   "language": "python",
   "name": "python3"
  },
  "language_info": {
   "codemirror_mode": {
    "name": "ipython",
    "version": 3
   },
   "file_extension": ".py",
   "mimetype": "text/x-python",
   "name": "python",
   "nbconvert_exporter": "python",
   "pygments_lexer": "ipython3",
   "version": "3.5.2"
  }
 },
 "nbformat": 4,
 "nbformat_minor": 0
}
