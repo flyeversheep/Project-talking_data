{
 "cells": [
  {
   "cell_type": "code",
   "execution_count": 1,
   "metadata": {
    "collapsed": false
   },
   "outputs": [
    {
     "name": "stderr",
     "output_type": "stream",
     "text": [
      "/Users/Yuyang/anaconda/lib/python3.5/site-packages/pandas/computation/__init__.py:19: UserWarning: The installed version of numexpr 2.4.4 is not supported in pandas and will be not be used\n",
      "\n",
      "  UserWarning)\n"
     ]
    }
   ],
   "source": [
    "import numpy as np\n",
    "import pandas as pd"
   ]
  },
  {
   "cell_type": "markdown",
   "metadata": {},
   "source": [
    "# Merge with score"
   ]
  },
  {
   "cell_type": "code",
   "execution_count": 13,
   "metadata": {
    "collapsed": false
   },
   "outputs": [],
   "source": [
    "filelist = ['best_with_result1.9392115926279074.csv',\n",
    "            'best_with_result1.9392115926279074.csv',\n",
    "           'best_with_result1.9555779902728534.csv',\n",
    "           'xgb_with_result2.047430712538652.csv',\n",
    "            'lr_with_result1.984245996352715.csv'\n",
    "           ]\n",
    "data_with = []\n",
    "for file in filelist:\n",
    "    data_with.append(pd.read_csv(file,index_col='device_id'))\n",
    "with_panel = pd.Panel({n: df for n, df in enumerate(data_with)})\n",
    "with_average = with_panel.mean(axis=0)"
   ]
  },
  {
   "cell_type": "markdown",
   "metadata": {},
   "source": [
    "# Merge without score"
   ]
  },
  {
   "cell_type": "code",
   "execution_count": 14,
   "metadata": {
    "collapsed": true
   },
   "outputs": [],
   "source": [
    "filelist = ['xgb_without_result_withleak2.358068341391792.csv',\n",
    "            'xgb_without_result_withleak2.358068341391792.csv',\n",
    "            #'xgb_without_result_withleak2.358068341391792.csv',\n",
    "            'nnt_without_100_relu2.396894222096117.csv',\n",
    "            'lr_without_result_leak2.386633026689955.csv',\n",
    "            'lr_without_result_leak2.3854197550880474.csv'\n",
    "            ]\n",
    "data_without = []\n",
    "for file in filelist:\n",
    "    data_without.append(pd.read_csv(file,index_col='device_id'))\n",
    "without_panel = pd.Panel({n: df for n, df in enumerate(data_without)})\n",
    "without_average = without_panel.mean(axis=0)"
   ]
  },
  {
   "cell_type": "markdown",
   "metadata": {},
   "source": [
    "# put together and output"
   ]
  },
  {
   "cell_type": "code",
   "execution_count": 15,
   "metadata": {
    "collapsed": false
   },
   "outputs": [],
   "source": [
    "pred = pd.concat((with_average,without_average))\n",
    "pred.to_csv('ensemble_leak_v2.csv',index=True)"
   ]
  },
  {
   "cell_type": "code",
   "execution_count": null,
   "metadata": {
    "collapsed": true
   },
   "outputs": [],
   "source": []
  }
 ],
 "metadata": {
  "kernelspec": {
   "display_name": "Python 3",
   "language": "python",
   "name": "python3"
  },
  "language_info": {
   "codemirror_mode": {
    "name": "ipython",
    "version": 3
   },
   "file_extension": ".py",
   "mimetype": "text/x-python",
   "name": "python",
   "nbconvert_exporter": "python",
   "pygments_lexer": "ipython3",
   "version": "3.5.2"
  }
 },
 "nbformat": 4,
 "nbformat_minor": 0
}
